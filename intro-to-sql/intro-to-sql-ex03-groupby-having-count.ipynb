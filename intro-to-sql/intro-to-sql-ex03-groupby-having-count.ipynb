{
 "cells": [
  {
   "cell_type": "markdown",
   "id": "interim-consideration",
   "metadata": {
    "papermill": {
     "duration": 0.012376,
     "end_time": "2021-04-20T15:04:04.431401",
     "exception": false,
     "start_time": "2021-04-20T15:04:04.419025",
     "status": "completed"
    },
    "tags": []
   },
   "source": [
    "### Intro to SQL Ex03: Group By, Having & Count"
   ]
  },
  {
   "cell_type": "markdown",
   "id": "compliant-australian",
   "metadata": {
    "papermill": {
     "duration": 0.010737,
     "end_time": "2021-04-20T15:04:04.453394",
     "exception": false,
     "start_time": "2021-04-20T15:04:04.442657",
     "status": "completed"
    },
    "tags": []
   },
   "source": [
    "**This notebook is an exercise in the [SQL](https://www.kaggle.com/learn/intro-to-sql \"SQL\") course.  You can reference the tutorial at [this link](https://www.kaggle.com/dansbecker/group-by-having-count \"Tutorial - Group By, Having & Count\").**\n",
    "\n",
    "> **This notebook is the third exercise in the  [SQL](https://www.kaggle.com/learn/intro-to-sql \"SQL\") course. <span style = \"padding: 10px\"> It is the exercise of the third lesson, aka [Group By, Having & Count](https://www.kaggle.com/dansbecker/group-by-having-count \"Tutorial - Group By, Having & Count\").**\n"
   ]
  },
  {
   "cell_type": "markdown",
   "id": "tired-explorer",
   "metadata": {
    "papermill": {
     "duration": 0.010788,
     "end_time": "2021-04-20T15:04:04.475249",
     "exception": false,
     "start_time": "2021-04-20T15:04:04.464461",
     "status": "completed"
    },
    "tags": []
   },
   "source": [
    "# Introduction\n",
    "\n",
    "Queries with **GROUP BY** can be powerful. There are many small things that can trip you up (like the order of the clauses), but it will start to feel natural once you've done it a few times. Here, you'll write queries using **GROUP BY** to answer questions from the Hacker News dataset.\n",
    "\n",
    "Before you get started, run the following cell to set everything up:"
   ]
  },
  {
   "cell_type": "code",
   "execution_count": 1,
   "id": "convenient-warrior",
   "metadata": {
    "execution": {
     "iopub.execute_input": "2021-04-20T15:04:04.503154Z",
     "iopub.status.busy": "2021-04-20T15:04:04.502488Z",
     "iopub.status.idle": "2021-04-20T15:04:32.004504Z",
     "shell.execute_reply": "2021-04-20T15:04:32.003793Z"
    },
    "papermill": {
     "duration": 27.518318,
     "end_time": "2021-04-20T15:04:32.004680",
     "exception": false,
     "start_time": "2021-04-20T15:04:04.486362",
     "status": "completed"
    },
    "tags": []
   },
   "outputs": [
    {
     "name": "stdout",
     "output_type": "stream",
     "text": [
      "Requirement already satisfied: pyarrow==3.0.0 in /opt/conda/lib/python3.7/site-packages (3.0.0)\r\n",
      "Requirement already satisfied: numpy>=1.16.6 in /opt/conda/lib/python3.7/site-packages (from pyarrow==3.0.0) (1.19.5)\r\n"
     ]
    }
   ],
   "source": [
    "!pip install pyarrow==3.0.0"
   ]
  },
  {
   "cell_type": "code",
   "execution_count": 2,
   "id": "outside-tracy",
   "metadata": {
    "execution": {
     "iopub.execute_input": "2021-04-20T15:04:32.034225Z",
     "iopub.status.busy": "2021-04-20T15:04:32.033366Z",
     "iopub.status.idle": "2021-04-20T15:04:34.590835Z",
     "shell.execute_reply": "2021-04-20T15:04:34.591357Z"
    },
    "papermill": {
     "duration": 2.574558,
     "end_time": "2021-04-20T15:04:34.591540",
     "exception": false,
     "start_time": "2021-04-20T15:04:32.016982",
     "status": "completed"
    },
    "tags": []
   },
   "outputs": [
    {
     "name": "stdout",
     "output_type": "stream",
     "text": [
      "Using Kaggle's public dataset BigQuery integration.\n"
     ]
    },
    {
     "name": "stderr",
     "output_type": "stream",
     "text": [
      "/opt/conda/lib/python3.7/site-packages/google/cloud/bigquery/client.py:440: UserWarning: Cannot create BigQuery Storage client, the dependency google-cloud-bigquery-storage is not installed.\n",
      "  \"Cannot create BigQuery Storage client, the dependency \"\n"
     ]
    },
    {
     "name": "stdout",
     "output_type": "stream",
     "text": [
      "Setup Complete\n"
     ]
    }
   ],
   "source": [
    "# Set up feedback system\n",
    "from learntools.core import binder\n",
    "binder.bind(globals())\n",
    "from learntools.sql.ex3 import *\n",
    "print(\"Setup Complete\")"
   ]
  },
  {
   "cell_type": "markdown",
   "id": "quantitative-chicago",
   "metadata": {
    "papermill": {
     "duration": 0.012419,
     "end_time": "2021-04-20T15:04:34.616895",
     "exception": false,
     "start_time": "2021-04-20T15:04:34.604476",
     "status": "completed"
    },
    "tags": []
   },
   "source": [
    "The code cell below fetches the `comments` table from the `hacker_news` dataset.  We also preview the first five rows of the table."
   ]
  },
  {
   "cell_type": "code",
   "execution_count": 3,
   "id": "assumed-width",
   "metadata": {
    "execution": {
     "iopub.execute_input": "2021-04-20T15:04:34.651254Z",
     "iopub.status.busy": "2021-04-20T15:04:34.650584Z",
     "iopub.status.idle": "2021-04-20T15:04:35.845911Z",
     "shell.execute_reply": "2021-04-20T15:04:35.845278Z"
    },
    "papermill": {
     "duration": 1.216528,
     "end_time": "2021-04-20T15:04:35.846047",
     "exception": false,
     "start_time": "2021-04-20T15:04:34.629519",
     "status": "completed"
    },
    "tags": []
   },
   "outputs": [
    {
     "name": "stdout",
     "output_type": "stream",
     "text": [
      "Using Kaggle's public dataset BigQuery integration.\n"
     ]
    },
    {
     "name": "stderr",
     "output_type": "stream",
     "text": [
      "/opt/conda/lib/python3.7/site-packages/ipykernel_launcher.py:19: UserWarning: Cannot use bqstorage_client if max_results is set, reverting to fetching data with the tabledata.list endpoint.\n"
     ]
    },
    {
     "data": {
      "text/html": [
       "<div>\n",
       "<style scoped>\n",
       "    .dataframe tbody tr th:only-of-type {\n",
       "        vertical-align: middle;\n",
       "    }\n",
       "\n",
       "    .dataframe tbody tr th {\n",
       "        vertical-align: top;\n",
       "    }\n",
       "\n",
       "    .dataframe thead th {\n",
       "        text-align: right;\n",
       "    }\n",
       "</style>\n",
       "<table border=\"1\" class=\"dataframe\">\n",
       "  <thead>\n",
       "    <tr style=\"text-align: right;\">\n",
       "      <th></th>\n",
       "      <th>id</th>\n",
       "      <th>by</th>\n",
       "      <th>author</th>\n",
       "      <th>time</th>\n",
       "      <th>time_ts</th>\n",
       "      <th>text</th>\n",
       "      <th>parent</th>\n",
       "      <th>deleted</th>\n",
       "      <th>dead</th>\n",
       "      <th>ranking</th>\n",
       "    </tr>\n",
       "  </thead>\n",
       "  <tbody>\n",
       "    <tr>\n",
       "      <th>0</th>\n",
       "      <td>2701393</td>\n",
       "      <td>5l</td>\n",
       "      <td>5l</td>\n",
       "      <td>1309184881</td>\n",
       "      <td>2011-06-27 14:28:01+00:00</td>\n",
       "      <td>And the glazier who fixed all the broken windo...</td>\n",
       "      <td>2701243</td>\n",
       "      <td>None</td>\n",
       "      <td>None</td>\n",
       "      <td>0</td>\n",
       "    </tr>\n",
       "    <tr>\n",
       "      <th>1</th>\n",
       "      <td>5811403</td>\n",
       "      <td>99</td>\n",
       "      <td>99</td>\n",
       "      <td>1370234048</td>\n",
       "      <td>2013-06-03 04:34:08+00:00</td>\n",
       "      <td>Does canada have the equivalent of H1B/Green c...</td>\n",
       "      <td>5804452</td>\n",
       "      <td>None</td>\n",
       "      <td>None</td>\n",
       "      <td>0</td>\n",
       "    </tr>\n",
       "    <tr>\n",
       "      <th>2</th>\n",
       "      <td>21623</td>\n",
       "      <td>AF</td>\n",
       "      <td>AF</td>\n",
       "      <td>1178992400</td>\n",
       "      <td>2007-05-12 17:53:20+00:00</td>\n",
       "      <td>Speaking of Rails, there are other options in ...</td>\n",
       "      <td>21611</td>\n",
       "      <td>None</td>\n",
       "      <td>None</td>\n",
       "      <td>0</td>\n",
       "    </tr>\n",
       "    <tr>\n",
       "      <th>3</th>\n",
       "      <td>10159727</td>\n",
       "      <td>EA</td>\n",
       "      <td>EA</td>\n",
       "      <td>1441206574</td>\n",
       "      <td>2015-09-02 15:09:34+00:00</td>\n",
       "      <td>Humans and large livestock (and maybe even pet...</td>\n",
       "      <td>10159396</td>\n",
       "      <td>None</td>\n",
       "      <td>None</td>\n",
       "      <td>0</td>\n",
       "    </tr>\n",
       "    <tr>\n",
       "      <th>4</th>\n",
       "      <td>2988424</td>\n",
       "      <td>Iv</td>\n",
       "      <td>Iv</td>\n",
       "      <td>1315853580</td>\n",
       "      <td>2011-09-12 18:53:00+00:00</td>\n",
       "      <td>I must say I reacted in the same way when I re...</td>\n",
       "      <td>2988179</td>\n",
       "      <td>None</td>\n",
       "      <td>None</td>\n",
       "      <td>0</td>\n",
       "    </tr>\n",
       "  </tbody>\n",
       "</table>\n",
       "</div>"
      ],
      "text/plain": [
       "         id  by author        time                   time_ts  \\\n",
       "0   2701393  5l     5l  1309184881 2011-06-27 14:28:01+00:00   \n",
       "1   5811403  99     99  1370234048 2013-06-03 04:34:08+00:00   \n",
       "2     21623  AF     AF  1178992400 2007-05-12 17:53:20+00:00   \n",
       "3  10159727  EA     EA  1441206574 2015-09-02 15:09:34+00:00   \n",
       "4   2988424  Iv     Iv  1315853580 2011-09-12 18:53:00+00:00   \n",
       "\n",
       "                                                text    parent deleted  dead  \\\n",
       "0  And the glazier who fixed all the broken windo...   2701243    None  None   \n",
       "1  Does canada have the equivalent of H1B/Green c...   5804452    None  None   \n",
       "2  Speaking of Rails, there are other options in ...     21611    None  None   \n",
       "3  Humans and large livestock (and maybe even pet...  10159396    None  None   \n",
       "4  I must say I reacted in the same way when I re...   2988179    None  None   \n",
       "\n",
       "   ranking  \n",
       "0        0  \n",
       "1        0  \n",
       "2        0  \n",
       "3        0  \n",
       "4        0  "
      ]
     },
     "execution_count": 3,
     "metadata": {},
     "output_type": "execute_result"
    }
   ],
   "source": [
    "from google.cloud import bigquery\n",
    "\n",
    "# Create a \"Client\" object\n",
    "client = bigquery.Client()\n",
    "\n",
    "# Construct a reference to the \"hacker_news\" dataset\n",
    "dataset_ref = client.dataset(\"hacker_news\", project=\"bigquery-public-data\")\n",
    "\n",
    "# API request - fetch the dataset\n",
    "dataset = client.get_dataset(dataset_ref)\n",
    "\n",
    "# Construct a reference to the \"comments\" table\n",
    "table_ref = dataset_ref.table(\"comments\")\n",
    "\n",
    "# API request - fetch the table\n",
    "table = client.get_table(table_ref)\n",
    "\n",
    "# Preview the first five lines of the \"comments\" table\n",
    "client.list_rows(table, max_results=5).to_dataframe()"
   ]
  },
  {
   "cell_type": "markdown",
   "id": "incredible-theorem",
   "metadata": {
    "papermill": {
     "duration": 0.015392,
     "end_time": "2021-04-20T15:04:35.875791",
     "exception": false,
     "start_time": "2021-04-20T15:04:35.860399",
     "status": "completed"
    },
    "tags": []
   },
   "source": [
    "# Exercises\n",
    "\n",
    "### 1) Prolific commenters\n",
    "\n",
    "Hacker News would like to send awards to everyone who has written more than 10,000 posts. Write a query that returns all authors with more than 10,000 posts as well as their post counts. Call the column with post counts `NumPosts`.\n",
    "\n",
    "In case sample query is helpful, here is a query you saw in the tutorial to answer a similar question:\n",
    "```\n",
    "query = \"\"\"\n",
    "        SELECT parent, COUNT(1) AS NumPosts\n",
    "        FROM `bigquery-public-data.hacker_news.comments`\n",
    "        GROUP BY parent\n",
    "        HAVING COUNT(1) > 10\n",
    "        \"\"\"\n",
    "```"
   ]
  },
  {
   "cell_type": "code",
   "execution_count": 4,
   "id": "tired-nirvana",
   "metadata": {
    "execution": {
     "iopub.execute_input": "2021-04-20T15:04:35.912725Z",
     "iopub.status.busy": "2021-04-20T15:04:35.912070Z",
     "iopub.status.idle": "2021-04-20T15:04:36.894799Z",
     "shell.execute_reply": "2021-04-20T15:04:36.894195Z"
    },
    "papermill": {
     "duration": 1.005072,
     "end_time": "2021-04-20T15:04:36.894936",
     "exception": false,
     "start_time": "2021-04-20T15:04:35.889864",
     "status": "completed"
    },
    "tags": []
   },
   "outputs": [
    {
     "name": "stderr",
     "output_type": "stream",
     "text": [
      "/opt/conda/lib/python3.7/site-packages/google/cloud/bigquery/client.py:440: UserWarning: Cannot create BigQuery Storage client, the dependency google-cloud-bigquery-storage is not installed.\n",
      "  \"Cannot create BigQuery Storage client, the dependency \"\n"
     ]
    },
    {
     "name": "stdout",
     "output_type": "stream",
     "text": [
      "         author  NumPosts\n",
      "0           eru     10448\n",
      "1       rbanffy     10557\n",
      "2  dragonwriter     10723\n",
      "3          None    227736\n",
      "4         DanBC     12902\n"
     ]
    },
    {
     "data": {
      "application/javascript": [
       "parent.postMessage({\"jupyterEvent\": \"custom.exercise_interaction\", \"data\": {\"outcomeType\": 1, \"valueTowardsCompletion\": 0.5, \"interactionType\": 1, \"questionType\": 2, \"questionId\": \"1_ProlificCommenters\", \"learnToolsVersion\": \"0.3.4\", \"failureMessage\": \"\", \"exceptionClass\": \"\", \"trace\": \"\"}}, \"*\")"
      ],
      "text/plain": [
       "<IPython.core.display.Javascript object>"
      ]
     },
     "metadata": {},
     "output_type": "display_data"
    },
    {
     "data": {
      "text/markdown": [
       "<span style=\"color:#33cc33\">Correct</span>"
      ],
      "text/plain": [
       "Correct"
      ]
     },
     "metadata": {},
     "output_type": "display_data"
    }
   ],
   "source": [
    "# Query to select prolific commenters and post counts\n",
    "prolific_commenters_query = \"\"\"\n",
    "                            SELECT author, COUNT(1) AS NumPosts\n",
    "                            FROM `bigquery-public-data.hacker_news.comments`\n",
    "                            GROUP BY author\n",
    "                            HAVING COUNT(1) > 10000\n",
    "                            \"\"\"\n",
    "\n",
    "# Set up the query (cancel the query if it would use too much of \n",
    "# your quota, with the limit set to 1 GB)\n",
    "safe_config = bigquery.QueryJobConfig(maximum_bytes_billed=10**10)\n",
    "query_job = client.query(prolific_commenters_query, job_config=safe_config)\n",
    "\n",
    "# API request - run the query, and return a pandas DataFrame\n",
    "prolific_commenters = query_job.to_dataframe()\n",
    "\n",
    "# View top few rows of results\n",
    "print(prolific_commenters.head())\n",
    "\n",
    "# Check your answer\n",
    "q_1.check()"
   ]
  },
  {
   "cell_type": "markdown",
   "id": "smoking-exemption",
   "metadata": {
    "papermill": {
     "duration": 0.015198,
     "end_time": "2021-04-20T15:04:36.926080",
     "exception": false,
     "start_time": "2021-04-20T15:04:36.910882",
     "status": "completed"
    },
    "tags": []
   },
   "source": [
    "For the solution, uncomment the line below."
   ]
  },
  {
   "cell_type": "code",
   "execution_count": 5,
   "id": "mobile-clone",
   "metadata": {
    "execution": {
     "iopub.execute_input": "2021-04-20T15:04:36.961953Z",
     "iopub.status.busy": "2021-04-20T15:04:36.960967Z",
     "iopub.status.idle": "2021-04-20T15:04:36.963777Z",
     "shell.execute_reply": "2021-04-20T15:04:36.963102Z"
    },
    "papermill": {
     "duration": 0.02236,
     "end_time": "2021-04-20T15:04:36.963909",
     "exception": false,
     "start_time": "2021-04-20T15:04:36.941549",
     "status": "completed"
    },
    "tags": []
   },
   "outputs": [],
   "source": [
    "#q_1.solution()"
   ]
  },
  {
   "cell_type": "markdown",
   "id": "filled-sight",
   "metadata": {
    "papermill": {
     "duration": 0.015354,
     "end_time": "2021-04-20T15:04:36.994987",
     "exception": false,
     "start_time": "2021-04-20T15:04:36.979633",
     "status": "completed"
    },
    "tags": []
   },
   "source": [
    "### 2) Deleted comments\n",
    "\n",
    "How many comments have been deleted? (If a comment was deleted, the `deleted` column in the comments table will have the value `True`.)"
   ]
  },
  {
   "cell_type": "code",
   "execution_count": 6,
   "id": "treated-cooper",
   "metadata": {
    "execution": {
     "iopub.execute_input": "2021-04-20T15:04:37.029744Z",
     "iopub.status.busy": "2021-04-20T15:04:37.029055Z",
     "iopub.status.idle": "2021-04-20T15:04:37.972036Z",
     "shell.execute_reply": "2021-04-20T15:04:37.972544Z"
    },
    "papermill": {
     "duration": 0.962098,
     "end_time": "2021-04-20T15:04:37.972731",
     "exception": false,
     "start_time": "2021-04-20T15:04:37.010633",
     "status": "completed"
    },
    "tags": []
   },
   "outputs": [
    {
     "name": "stderr",
     "output_type": "stream",
     "text": [
      "/opt/conda/lib/python3.7/site-packages/google/cloud/bigquery/client.py:440: UserWarning: Cannot create BigQuery Storage client, the dependency google-cloud-bigquery-storage is not installed.\n",
      "  \"Cannot create BigQuery Storage client, the dependency \"\n"
     ]
    }
   ],
   "source": [
    "# Creating the query to determine how many posts were deleted\n",
    "deleted_posts_query = \"\"\"\n",
    "                      SELECT COUNT(1) AS DeletedComments\n",
    "                      FROM `bigquery-public-data.hacker_news.comments`\n",
    "                      WHERE deleted = True\n",
    "                      \"\"\"\n",
    "# Setting up the query\n",
    "query_job = client.query(deleted_posts_query)\n",
    "\n",
    "# API request - run the query, and return a pandas DataFrame\n",
    "deleted_posts = query_job.to_dataframe()"
   ]
  },
  {
   "cell_type": "code",
   "execution_count": 7,
   "id": "certified-cholesterol",
   "metadata": {
    "execution": {
     "iopub.execute_input": "2021-04-20T15:04:38.008498Z",
     "iopub.status.busy": "2021-04-20T15:04:38.007893Z",
     "iopub.status.idle": "2021-04-20T15:04:38.018186Z",
     "shell.execute_reply": "2021-04-20T15:04:38.018766Z"
    },
    "papermill": {
     "duration": 0.029925,
     "end_time": "2021-04-20T15:04:38.018937",
     "exception": false,
     "start_time": "2021-04-20T15:04:37.989012",
     "status": "completed"
    },
    "tags": []
   },
   "outputs": [
    {
     "name": "stdout",
     "output_type": "stream",
     "text": [
      "num_deleted_posts: 227736\n"
     ]
    },
    {
     "data": {
      "application/javascript": [
       "parent.postMessage({\"jupyterEvent\": \"custom.exercise_interaction\", \"data\": {\"outcomeType\": 1, \"valueTowardsCompletion\": 0.5, \"interactionType\": 1, \"questionType\": 1, \"questionId\": \"2_NumDeletedPosts\", \"learnToolsVersion\": \"0.3.4\", \"failureMessage\": \"\", \"exceptionClass\": \"\", \"trace\": \"\"}}, \"*\")"
      ],
      "text/plain": [
       "<IPython.core.display.Javascript object>"
      ]
     },
     "metadata": {},
     "output_type": "display_data"
    },
    {
     "data": {
      "text/markdown": [
       "<span style=\"color:#33cc33\">Correct</span>"
      ],
      "text/plain": [
       "Correct"
      ]
     },
     "metadata": {},
     "output_type": "display_data"
    }
   ],
   "source": [
    "num_deleted_posts = deleted_posts.loc[0 , 'DeletedComments']\n",
    "\n",
    "print('num_deleted_posts:', num_deleted_posts)\n",
    "\n",
    "# Check your answer\n",
    "q_2.check()"
   ]
  },
  {
   "cell_type": "markdown",
   "id": "hazardous-translator",
   "metadata": {
    "papermill": {
     "duration": 0.017463,
     "end_time": "2021-04-20T15:04:38.054494",
     "exception": false,
     "start_time": "2021-04-20T15:04:38.037031",
     "status": "completed"
    },
    "tags": []
   },
   "source": [
    "For the solution, uncomment the line below."
   ]
  },
  {
   "cell_type": "code",
   "execution_count": 8,
   "id": "acoustic-crisis",
   "metadata": {
    "execution": {
     "iopub.execute_input": "2021-04-20T15:04:38.093646Z",
     "iopub.status.busy": "2021-04-20T15:04:38.093029Z",
     "iopub.status.idle": "2021-04-20T15:04:38.096936Z",
     "shell.execute_reply": "2021-04-20T15:04:38.096435Z"
    },
    "papermill": {
     "duration": 0.024231,
     "end_time": "2021-04-20T15:04:38.097070",
     "exception": false,
     "start_time": "2021-04-20T15:04:38.072839",
     "status": "completed"
    },
    "tags": []
   },
   "outputs": [],
   "source": [
    "#q_2.solution()"
   ]
  },
  {
   "cell_type": "markdown",
   "id": "collected-brooklyn",
   "metadata": {
    "papermill": {
     "duration": 0.01747,
     "end_time": "2021-04-20T15:04:38.132466",
     "exception": false,
     "start_time": "2021-04-20T15:04:38.114996",
     "status": "completed"
    },
    "tags": []
   },
   "source": [
    "# Keep Going\n",
    "**[Click here](https://www.kaggle.com/dansbecker/order-by)** to move on and learn about the **ORDER BY** clause."
   ]
  },
  {
   "cell_type": "markdown",
   "id": "unlike-economics",
   "metadata": {
    "papermill": {
     "duration": 0.017611,
     "end_time": "2021-04-20T15:04:38.167952",
     "exception": false,
     "start_time": "2021-04-20T15:04:38.150341",
     "status": "completed"
    },
    "tags": []
   },
   "source": [
    "---\n",
    "\n",
    "\n",
    "\n",
    "\n",
    "*Have questions or comments? Visit the [Learn Discussion forum](https://www.kaggle.com/learn-forum/161314) to chat with other Learners.*"
   ]
  }
 ],
 "metadata": {
  "kernelspec": {
   "display_name": "Python 3",
   "language": "python",
   "name": "python3"
  },
  "language_info": {
   "codemirror_mode": {
    "name": "ipython",
    "version": 3
   },
   "file_extension": ".py",
   "mimetype": "text/x-python",
   "name": "python",
   "nbconvert_exporter": "python",
   "pygments_lexer": "ipython3",
   "version": "3.7.9"
  },
  "papermill": {
   "default_parameters": {},
   "duration": 40.218463,
   "end_time": "2021-04-20T15:04:38.794656",
   "environment_variables": {},
   "exception": null,
   "input_path": "__notebook__.ipynb",
   "output_path": "__notebook__.ipynb",
   "parameters": {},
   "start_time": "2021-04-20T15:03:58.576193",
   "version": "2.3.2"
  }
 },
 "nbformat": 4,
 "nbformat_minor": 5
}
