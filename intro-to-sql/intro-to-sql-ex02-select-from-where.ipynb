{
 "cells": [
  {
   "cell_type": "markdown",
   "id": "central-upset",
   "metadata": {
    "papermill": {
     "duration": 0.015303,
     "end_time": "2021-04-20T14:16:12.096610",
     "exception": false,
     "start_time": "2021-04-20T14:16:12.081307",
     "status": "completed"
    },
    "tags": []
   },
   "source": [
    "### Intro to SQL Ex02: Select, From & Where"
   ]
  },
  {
   "cell_type": "markdown",
   "id": "cathedral-czech",
   "metadata": {
    "papermill": {
     "duration": 0.010868,
     "end_time": "2021-04-20T14:16:12.120650",
     "exception": false,
     "start_time": "2021-04-20T14:16:12.109782",
     "status": "completed"
    },
    "tags": []
   },
   "source": [
    "**This notebook is an exercise in the [SQL](https://www.kaggle.com/learn/intro-to-sql \"SQL\") course.  You can reference the tutorial at [this link](https://www.kaggle.com/dansbecker/select-from-where \"Tutorial - Select, From & Where\").**\n",
    "\n",
    "> **This notebook is the second exercise in the  [SQL](https://www.kaggle.com/learn/intro-to-sql \"SQL\") course. <span style = \"padding: 10px\"> It is the exercise of the second lesson, aka [Select, From & Where](https://www.kaggle.com/dansbecker/select-from-where \"Tutorial - Select, From & Where\").**\n"
   ]
  },
  {
   "cell_type": "markdown",
   "id": "drawn-platinum",
   "metadata": {
    "papermill": {
     "duration": 0.010776,
     "end_time": "2021-04-20T14:16:12.142613",
     "exception": false,
     "start_time": "2021-04-20T14:16:12.131837",
     "status": "completed"
    },
    "tags": []
   },
   "source": [
    "# Introduction\n",
    "\n",
    "Try writing some **SELECT** statements of your own to explore a large dataset of air pollution measurements.\n",
    "\n",
    "Run the cell below to set up the feedback system."
   ]
  },
  {
   "cell_type": "code",
   "execution_count": 1,
   "id": "miniature-specification",
   "metadata": {
    "execution": {
     "iopub.execute_input": "2021-04-20T14:16:12.188616Z",
     "iopub.status.busy": "2021-04-20T14:16:12.172721Z",
     "iopub.status.idle": "2021-04-20T14:16:41.049830Z",
     "shell.execute_reply": "2021-04-20T14:16:41.049043Z"
    },
    "papermill": {
     "duration": 28.896107,
     "end_time": "2021-04-20T14:16:41.050030",
     "exception": false,
     "start_time": "2021-04-20T14:16:12.153923",
     "status": "completed"
    },
    "tags": []
   },
   "outputs": [
    {
     "name": "stdout",
     "output_type": "stream",
     "text": [
      "Requirement already satisfied: pyarrow==3.0.0 in /opt/conda/lib/python3.7/site-packages (3.0.0)\r\n",
      "Requirement already satisfied: numpy>=1.16.6 in /opt/conda/lib/python3.7/site-packages (from pyarrow==3.0.0) (1.19.5)\r\n"
     ]
    }
   ],
   "source": [
    "!pip install pyarrow==3.0.0"
   ]
  },
  {
   "cell_type": "code",
   "execution_count": 2,
   "id": "polar-belarus",
   "metadata": {
    "execution": {
     "iopub.execute_input": "2021-04-20T14:16:41.081291Z",
     "iopub.status.busy": "2021-04-20T14:16:41.080555Z",
     "iopub.status.idle": "2021-04-20T14:16:43.939977Z",
     "shell.execute_reply": "2021-04-20T14:16:43.939142Z"
    },
    "papermill": {
     "duration": 2.877747,
     "end_time": "2021-04-20T14:16:43.940238",
     "exception": false,
     "start_time": "2021-04-20T14:16:41.062491",
     "status": "completed"
    },
    "tags": []
   },
   "outputs": [
    {
     "name": "stdout",
     "output_type": "stream",
     "text": [
      "Using Kaggle's public dataset BigQuery integration.\n"
     ]
    },
    {
     "name": "stderr",
     "output_type": "stream",
     "text": [
      "/opt/conda/lib/python3.7/site-packages/google/cloud/bigquery/client.py:440: UserWarning: Cannot create BigQuery Storage client, the dependency google-cloud-bigquery-storage is not installed.\n",
      "  \"Cannot create BigQuery Storage client, the dependency \"\n"
     ]
    },
    {
     "name": "stdout",
     "output_type": "stream",
     "text": [
      "Setup Complete\n"
     ]
    }
   ],
   "source": [
    "# Set up feedback system\n",
    "from learntools.core import binder\n",
    "binder.bind(globals())\n",
    "from learntools.sql.ex2 import *\n",
    "print(\"Setup Complete\")"
   ]
  },
  {
   "cell_type": "markdown",
   "id": "southeast-interstate",
   "metadata": {
    "papermill": {
     "duration": 0.013353,
     "end_time": "2021-04-20T14:16:43.967665",
     "exception": false,
     "start_time": "2021-04-20T14:16:43.954312",
     "status": "completed"
    },
    "tags": []
   },
   "source": [
    "The code cell below fetches the `global_air_quality` table from the `openaq` dataset.  We also preview the first five rows of the table."
   ]
  },
  {
   "cell_type": "code",
   "execution_count": 3,
   "id": "covered-problem",
   "metadata": {
    "execution": {
     "iopub.execute_input": "2021-04-20T14:16:44.005165Z",
     "iopub.status.busy": "2021-04-20T14:16:44.003446Z",
     "iopub.status.idle": "2021-04-20T14:16:45.102536Z",
     "shell.execute_reply": "2021-04-20T14:16:45.101785Z"
    },
    "papermill": {
     "duration": 1.122102,
     "end_time": "2021-04-20T14:16:45.102702",
     "exception": false,
     "start_time": "2021-04-20T14:16:43.980600",
     "status": "completed"
    },
    "tags": []
   },
   "outputs": [
    {
     "name": "stdout",
     "output_type": "stream",
     "text": [
      "Using Kaggle's public dataset BigQuery integration.\n"
     ]
    },
    {
     "name": "stderr",
     "output_type": "stream",
     "text": [
      "/opt/conda/lib/python3.7/site-packages/ipykernel_launcher.py:19: UserWarning: Cannot use bqstorage_client if max_results is set, reverting to fetching data with the tabledata.list endpoint.\n"
     ]
    },
    {
     "data": {
      "text/html": [
       "<div>\n",
       "<style scoped>\n",
       "    .dataframe tbody tr th:only-of-type {\n",
       "        vertical-align: middle;\n",
       "    }\n",
       "\n",
       "    .dataframe tbody tr th {\n",
       "        vertical-align: top;\n",
       "    }\n",
       "\n",
       "    .dataframe thead th {\n",
       "        text-align: right;\n",
       "    }\n",
       "</style>\n",
       "<table border=\"1\" class=\"dataframe\">\n",
       "  <thead>\n",
       "    <tr style=\"text-align: right;\">\n",
       "      <th></th>\n",
       "      <th>location</th>\n",
       "      <th>city</th>\n",
       "      <th>country</th>\n",
       "      <th>pollutant</th>\n",
       "      <th>value</th>\n",
       "      <th>timestamp</th>\n",
       "      <th>unit</th>\n",
       "      <th>source_name</th>\n",
       "      <th>latitude</th>\n",
       "      <th>longitude</th>\n",
       "      <th>averaged_over_in_hours</th>\n",
       "    </tr>\n",
       "  </thead>\n",
       "  <tbody>\n",
       "    <tr>\n",
       "      <th>0</th>\n",
       "      <td>BTM Layout, Bengaluru - KSPCB</td>\n",
       "      <td>Bengaluru</td>\n",
       "      <td>IN</td>\n",
       "      <td>co</td>\n",
       "      <td>910.00</td>\n",
       "      <td>2018-02-22 03:00:00+00:00</td>\n",
       "      <td>µg/m³</td>\n",
       "      <td>CPCB</td>\n",
       "      <td>12.912811</td>\n",
       "      <td>77.60922</td>\n",
       "      <td>0.25</td>\n",
       "    </tr>\n",
       "    <tr>\n",
       "      <th>1</th>\n",
       "      <td>BTM Layout, Bengaluru - KSPCB</td>\n",
       "      <td>Bengaluru</td>\n",
       "      <td>IN</td>\n",
       "      <td>no2</td>\n",
       "      <td>131.87</td>\n",
       "      <td>2018-02-22 03:00:00+00:00</td>\n",
       "      <td>µg/m³</td>\n",
       "      <td>CPCB</td>\n",
       "      <td>12.912811</td>\n",
       "      <td>77.60922</td>\n",
       "      <td>0.25</td>\n",
       "    </tr>\n",
       "    <tr>\n",
       "      <th>2</th>\n",
       "      <td>BTM Layout, Bengaluru - KSPCB</td>\n",
       "      <td>Bengaluru</td>\n",
       "      <td>IN</td>\n",
       "      <td>o3</td>\n",
       "      <td>15.57</td>\n",
       "      <td>2018-02-22 03:00:00+00:00</td>\n",
       "      <td>µg/m³</td>\n",
       "      <td>CPCB</td>\n",
       "      <td>12.912811</td>\n",
       "      <td>77.60922</td>\n",
       "      <td>0.25</td>\n",
       "    </tr>\n",
       "    <tr>\n",
       "      <th>3</th>\n",
       "      <td>BTM Layout, Bengaluru - KSPCB</td>\n",
       "      <td>Bengaluru</td>\n",
       "      <td>IN</td>\n",
       "      <td>pm25</td>\n",
       "      <td>45.62</td>\n",
       "      <td>2018-02-22 03:00:00+00:00</td>\n",
       "      <td>µg/m³</td>\n",
       "      <td>CPCB</td>\n",
       "      <td>12.912811</td>\n",
       "      <td>77.60922</td>\n",
       "      <td>0.25</td>\n",
       "    </tr>\n",
       "    <tr>\n",
       "      <th>4</th>\n",
       "      <td>BTM Layout, Bengaluru - KSPCB</td>\n",
       "      <td>Bengaluru</td>\n",
       "      <td>IN</td>\n",
       "      <td>so2</td>\n",
       "      <td>4.49</td>\n",
       "      <td>2018-02-22 03:00:00+00:00</td>\n",
       "      <td>µg/m³</td>\n",
       "      <td>CPCB</td>\n",
       "      <td>12.912811</td>\n",
       "      <td>77.60922</td>\n",
       "      <td>0.25</td>\n",
       "    </tr>\n",
       "  </tbody>\n",
       "</table>\n",
       "</div>"
      ],
      "text/plain": [
       "                        location       city country pollutant   value  \\\n",
       "0  BTM Layout, Bengaluru - KSPCB  Bengaluru      IN        co  910.00   \n",
       "1  BTM Layout, Bengaluru - KSPCB  Bengaluru      IN       no2  131.87   \n",
       "2  BTM Layout, Bengaluru - KSPCB  Bengaluru      IN        o3   15.57   \n",
       "3  BTM Layout, Bengaluru - KSPCB  Bengaluru      IN      pm25   45.62   \n",
       "4  BTM Layout, Bengaluru - KSPCB  Bengaluru      IN       so2    4.49   \n",
       "\n",
       "                  timestamp   unit source_name   latitude  longitude  \\\n",
       "0 2018-02-22 03:00:00+00:00  µg/m³        CPCB  12.912811   77.60922   \n",
       "1 2018-02-22 03:00:00+00:00  µg/m³        CPCB  12.912811   77.60922   \n",
       "2 2018-02-22 03:00:00+00:00  µg/m³        CPCB  12.912811   77.60922   \n",
       "3 2018-02-22 03:00:00+00:00  µg/m³        CPCB  12.912811   77.60922   \n",
       "4 2018-02-22 03:00:00+00:00  µg/m³        CPCB  12.912811   77.60922   \n",
       "\n",
       "   averaged_over_in_hours  \n",
       "0                    0.25  \n",
       "1                    0.25  \n",
       "2                    0.25  \n",
       "3                    0.25  \n",
       "4                    0.25  "
      ]
     },
     "execution_count": 3,
     "metadata": {},
     "output_type": "execute_result"
    }
   ],
   "source": [
    "from google.cloud import bigquery\n",
    "\n",
    "# Create a \"Client\" object\n",
    "client = bigquery.Client()\n",
    "\n",
    "# Construct a reference to the \"openaq\" dataset\n",
    "dataset_ref = client.dataset(\"openaq\", project=\"bigquery-public-data\")\n",
    "\n",
    "# API request - fetch the dataset\n",
    "dataset = client.get_dataset(dataset_ref)\n",
    "\n",
    "# Construct a reference to the \"global_air_quality\" table\n",
    "table_ref = dataset_ref.table(\"global_air_quality\")\n",
    "\n",
    "# API request - fetch the table\n",
    "table = client.get_table(table_ref)\n",
    "\n",
    "# Preview the first five lines of the \"global_air_quality\" table\n",
    "client.list_rows(table, max_results=5).to_dataframe()"
   ]
  },
  {
   "cell_type": "markdown",
   "id": "synthetic-price",
   "metadata": {
    "papermill": {
     "duration": 0.016348,
     "end_time": "2021-04-20T14:16:45.134588",
     "exception": false,
     "start_time": "2021-04-20T14:16:45.118240",
     "status": "completed"
    },
    "tags": []
   },
   "source": [
    "# Exercises\n",
    "\n",
    "### 1) Units of measurement\n",
    "\n",
    "Which countries have reported pollution levels in units of \"ppm\"?  In the code cell below, set `first_query` to an SQL query that pulls the appropriate entries from the `country` column.\n",
    "\n",
    "In case it's useful to see an example query, here's some code from the tutorial:\n",
    "\n",
    "```\n",
    "query = \"\"\"\n",
    "        SELECT city\n",
    "        FROM `bigquery-public-data.openaq.global_air_quality`\n",
    "        WHERE country = 'US'\n",
    "        \"\"\"\n",
    "```"
   ]
  },
  {
   "cell_type": "code",
   "execution_count": 4,
   "id": "occasional-difference",
   "metadata": {
    "execution": {
     "iopub.execute_input": "2021-04-20T14:16:45.180987Z",
     "iopub.status.busy": "2021-04-20T14:16:45.180307Z",
     "iopub.status.idle": "2021-04-20T14:16:46.191118Z",
     "shell.execute_reply": "2021-04-20T14:16:46.190411Z"
    },
    "papermill": {
     "duration": 1.036776,
     "end_time": "2021-04-20T14:16:46.191294",
     "exception": false,
     "start_time": "2021-04-20T14:16:45.154518",
     "status": "completed"
    },
    "tags": []
   },
   "outputs": [
    {
     "name": "stderr",
     "output_type": "stream",
     "text": [
      "/opt/conda/lib/python3.7/site-packages/google/cloud/bigquery/client.py:440: UserWarning: Cannot create BigQuery Storage client, the dependency google-cloud-bigquery-storage is not installed.\n",
      "  \"Cannot create BigQuery Storage client, the dependency \"\n"
     ]
    },
    {
     "name": "stdout",
     "output_type": "stream",
     "text": [
      "  country\n",
      "0      US\n",
      "1      CL\n",
      "2      AU\n",
      "3      BM\n",
      "4      MX\n"
     ]
    },
    {
     "data": {
      "application/javascript": [
       "parent.postMessage({\"jupyterEvent\": \"custom.exercise_interaction\", \"data\": {\"outcomeType\": 1, \"valueTowardsCompletion\": 0.5, \"interactionType\": 1, \"questionType\": 2, \"questionId\": \"1_WhichCountries\", \"learnToolsVersion\": \"0.3.4\", \"failureMessage\": \"\", \"exceptionClass\": \"\", \"trace\": \"\"}}, \"*\")"
      ],
      "text/plain": [
       "<IPython.core.display.Javascript object>"
      ]
     },
     "metadata": {},
     "output_type": "display_data"
    },
    {
     "data": {
      "text/markdown": [
       "<span style=\"color:#33cc33\">Correct</span>"
      ],
      "text/plain": [
       "Correct"
      ]
     },
     "metadata": {},
     "output_type": "display_data"
    }
   ],
   "source": [
    "# Query to select countries with units of \"ppm\"\n",
    "first_query = \"\"\"\n",
    "                SELECT DISTINCT country\n",
    "                FROM `bigquery-public-data.openaq.global_air_quality`\n",
    "                WHERE unit = 'ppm'\n",
    "            \"\"\"\n",
    "\n",
    "# Set up the query (cancel the query if it would use too much of \n",
    "# your quota, with the limit set to 10 GB)\n",
    "safe_config = bigquery.QueryJobConfig(maximum_bytes_billed=10**10)\n",
    "first_query_job = client.query(first_query, job_config=safe_config)\n",
    "\n",
    "# API request - run the query, and return a pandas DataFrame\n",
    "first_results = first_query_job.to_dataframe()\n",
    "\n",
    "# View top few rows of results\n",
    "print(first_results.head())\n",
    "\n",
    "# Check your answer\n",
    "q_1.check()"
   ]
  },
  {
   "cell_type": "markdown",
   "id": "fitted-milan",
   "metadata": {
    "papermill": {
     "duration": 0.016433,
     "end_time": "2021-04-20T14:16:46.224091",
     "exception": false,
     "start_time": "2021-04-20T14:16:46.207658",
     "status": "completed"
    },
    "tags": []
   },
   "source": [
    "For the solution, uncomment the line below."
   ]
  },
  {
   "cell_type": "code",
   "execution_count": 5,
   "id": "desirable-sewing",
   "metadata": {
    "execution": {
     "iopub.execute_input": "2021-04-20T14:16:46.265691Z",
     "iopub.status.busy": "2021-04-20T14:16:46.264915Z",
     "iopub.status.idle": "2021-04-20T14:16:46.269246Z",
     "shell.execute_reply": "2021-04-20T14:16:46.269913Z"
    },
    "papermill": {
     "duration": 0.029919,
     "end_time": "2021-04-20T14:16:46.270177",
     "exception": false,
     "start_time": "2021-04-20T14:16:46.240258",
     "status": "completed"
    },
    "tags": []
   },
   "outputs": [],
   "source": [
    "#q_1.solution()"
   ]
  },
  {
   "cell_type": "markdown",
   "id": "external-latino",
   "metadata": {
    "papermill": {
     "duration": 0.02471,
     "end_time": "2021-04-20T14:16:46.316225",
     "exception": false,
     "start_time": "2021-04-20T14:16:46.291515",
     "status": "completed"
    },
    "tags": []
   },
   "source": [
    "### 2) High air quality\n",
    "\n",
    "Which pollution levels were reported to be exactly 0?  \n",
    "- Set `zero_pollution_query` to select **all columns** of the rows where the `value` column is 0.\n",
    "- Set `zero_pollution_results` to a pandas DataFrame containing the query results."
   ]
  },
  {
   "cell_type": "code",
   "execution_count": 6,
   "id": "conscious-craft",
   "metadata": {
    "execution": {
     "iopub.execute_input": "2021-04-20T14:16:46.373176Z",
     "iopub.status.busy": "2021-04-20T14:16:46.372393Z",
     "iopub.status.idle": "2021-04-20T14:16:47.753822Z",
     "shell.execute_reply": "2021-04-20T14:16:47.753093Z"
    },
    "papermill": {
     "duration": 1.412922,
     "end_time": "2021-04-20T14:16:47.754011",
     "exception": false,
     "start_time": "2021-04-20T14:16:46.341089",
     "status": "completed"
    },
    "tags": []
   },
   "outputs": [
    {
     "name": "stderr",
     "output_type": "stream",
     "text": [
      "/opt/conda/lib/python3.7/site-packages/google/cloud/bigquery/client.py:440: UserWarning: Cannot create BigQuery Storage client, the dependency google-cloud-bigquery-storage is not installed.\n",
      "  \"Cannot create BigQuery Storage client, the dependency \"\n"
     ]
    },
    {
     "name": "stdout",
     "output_type": "stream",
     "text": [
      "                                        location     city country pollutant  \\\n",
      "0                     Victoria Memorial - WBSPCB  Kolkata      IN      pm25   \n",
      "1  Rabindra Bharati University, Kolkata - WBSPCB  Kolkata      IN       so2   \n",
      "2                   Zamość ul. Hrubieszowska 69A   Zamość      PL       no2   \n",
      "3                               Końskie, MOBILNA  Końskie      PL      pm10   \n",
      "4                               Końskie, MOBILNA  Końskie      PL      pm25   \n",
      "\n",
      "   value                 timestamp   unit source_name   latitude  longitude  \\\n",
      "0    0.0 2017-10-16 20:45:00+00:00  µg/m³        CPCB  22.572645  88.363890   \n",
      "1    0.0 2017-10-28 14:30:00+00:00  µg/m³        CPCB  22.627874  88.380400   \n",
      "2    0.0 2020-05-19 05:00:00+00:00  µg/m³        GIOS  50.716630  23.290247   \n",
      "3    0.0 2018-12-21 13:00:00+00:00  µg/m³        GIOS  51.189526  20.408892   \n",
      "4    0.0 2018-12-21 13:00:00+00:00  µg/m³        GIOS  51.189526  20.408892   \n",
      "\n",
      "   averaged_over_in_hours  \n",
      "0                    0.25  \n",
      "1                    0.25  \n",
      "2                     NaN  \n",
      "3                     NaN  \n",
      "4                     NaN  \n"
     ]
    },
    {
     "data": {
      "application/javascript": [
       "parent.postMessage({\"jupyterEvent\": \"custom.exercise_interaction\", \"data\": {\"outcomeType\": 1, \"valueTowardsCompletion\": 0.5, \"interactionType\": 1, \"questionType\": 2, \"questionId\": \"2_ZeroPollution\", \"learnToolsVersion\": \"0.3.4\", \"failureMessage\": \"\", \"exceptionClass\": \"\", \"trace\": \"\"}}, \"*\")"
      ],
      "text/plain": [
       "<IPython.core.display.Javascript object>"
      ]
     },
     "metadata": {},
     "output_type": "display_data"
    },
    {
     "data": {
      "text/markdown": [
       "<span style=\"color:#33cc33\">Correct</span>"
      ],
      "text/plain": [
       "Correct"
      ]
     },
     "metadata": {},
     "output_type": "display_data"
    }
   ],
   "source": [
    "# Query to select all columns where pollution levels are exactly 0\n",
    "zero_pollution_query = \"\"\"\n",
    "                        SELECT *\n",
    "                        FROM `bigquery-public-data.openaq.global_air_quality`\n",
    "                        WHERE value = 0\n",
    "                        \"\"\"\n",
    "\n",
    "# Set up the query\n",
    "safe_config = bigquery.QueryJobConfig(maximum_bytes_billed=10**10)\n",
    "query_job = client.query(zero_pollution_query, job_config=safe_config)\n",
    "\n",
    "# API request - run the query and return a pandas DataFrame\n",
    "zero_pollution_results = query_job.to_dataframe() # Your code goes here\n",
    "\n",
    "print(zero_pollution_results.head())\n",
    "\n",
    "# Check your answer\n",
    "q_2.check()"
   ]
  },
  {
   "cell_type": "markdown",
   "id": "protecting-listing",
   "metadata": {
    "papermill": {
     "duration": 0.018272,
     "end_time": "2021-04-20T14:16:47.792333",
     "exception": false,
     "start_time": "2021-04-20T14:16:47.774061",
     "status": "completed"
    },
    "tags": []
   },
   "source": [
    "For the solution, uncomment the line below."
   ]
  },
  {
   "cell_type": "code",
   "execution_count": 7,
   "id": "roman-pound",
   "metadata": {
    "execution": {
     "iopub.execute_input": "2021-04-20T14:16:47.835054Z",
     "iopub.status.busy": "2021-04-20T14:16:47.834108Z",
     "iopub.status.idle": "2021-04-20T14:16:47.837663Z",
     "shell.execute_reply": "2021-04-20T14:16:47.836947Z"
    },
    "papermill": {
     "duration": 0.026919,
     "end_time": "2021-04-20T14:16:47.837837",
     "exception": false,
     "start_time": "2021-04-20T14:16:47.810918",
     "status": "completed"
    },
    "tags": []
   },
   "outputs": [],
   "source": [
    "#q_2.solution()"
   ]
  },
  {
   "cell_type": "markdown",
   "id": "impaired-millennium",
   "metadata": {
    "papermill": {
     "duration": 0.018749,
     "end_time": "2021-04-20T14:16:47.875532",
     "exception": false,
     "start_time": "2021-04-20T14:16:47.856783",
     "status": "completed"
    },
    "tags": []
   },
   "source": [
    "That query wasn't too complicated, and it got the data you want. But these **SELECT** queries don't organizing data in a way that answers the most interesting questions. For that, we'll need the **GROUP BY** command. \n",
    "\n",
    "If you know how to use [`groupby()`](https://pandas.pydata.org/pandas-docs/stable/reference/api/pandas.DataFrame.groupby.html) in pandas, this is similar. But BigQuery works quickly with far larger datasets.\n",
    "\n",
    "Fortunately, that's next."
   ]
  },
  {
   "cell_type": "markdown",
   "id": "monetary-portuguese",
   "metadata": {
    "papermill": {
     "duration": 0.019216,
     "end_time": "2021-04-20T14:16:47.915455",
     "exception": false,
     "start_time": "2021-04-20T14:16:47.896239",
     "status": "completed"
    },
    "tags": []
   },
   "source": [
    "# Keep going\n",
    "**[GROUP BY](https://www.kaggle.com/dansbecker/group-by-having-count)** clauses and their extensions give you the power to pull interesting statistics out of data, rather than receiving it in just its raw format."
   ]
  },
  {
   "cell_type": "markdown",
   "id": "saving-membership",
   "metadata": {
    "papermill": {
     "duration": 0.019509,
     "end_time": "2021-04-20T14:16:47.954387",
     "exception": false,
     "start_time": "2021-04-20T14:16:47.934878",
     "status": "completed"
    },
    "tags": []
   },
   "source": [
    "---\n",
    "\n",
    "\n",
    "\n",
    "\n",
    "*Have questions or comments? Visit the [Learn Discussion forum](https://www.kaggle.com/learn-forum/161314) to chat with other Learners.*"
   ]
  }
 ],
 "metadata": {
  "kernelspec": {
   "display_name": "Python 3",
   "language": "python",
   "name": "python3"
  },
  "language_info": {
   "codemirror_mode": {
    "name": "ipython",
    "version": 3
   },
   "file_extension": ".py",
   "mimetype": "text/x-python",
   "name": "python",
   "nbconvert_exporter": "python",
   "pygments_lexer": "ipython3",
   "version": "3.7.9"
  },
  "papermill": {
   "default_parameters": {},
   "duration": 44.414032,
   "end_time": "2021-04-20T14:16:48.786100",
   "environment_variables": {},
   "exception": null,
   "input_path": "__notebook__.ipynb",
   "output_path": "__notebook__.ipynb",
   "parameters": {},
   "start_time": "2021-04-20T14:16:04.372068",
   "version": "2.3.2"
  }
 },
 "nbformat": 4,
 "nbformat_minor": 5
}
