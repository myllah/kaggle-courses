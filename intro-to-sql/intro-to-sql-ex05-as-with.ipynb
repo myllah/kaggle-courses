{
 "cells": [
  {
   "cell_type": "markdown",
   "id": "weekly-daisy",
   "metadata": {
    "papermill": {
     "duration": 0.015541,
     "end_time": "2021-04-22T01:52:28.521126",
     "exception": false,
     "start_time": "2021-04-22T01:52:28.505585",
     "status": "completed"
    },
    "tags": []
   },
   "source": [
    "### Intro to SQL Ex05: As & With"
   ]
  },
  {
   "cell_type": "markdown",
   "id": "amazing-railway",
   "metadata": {
    "papermill": {
     "duration": 0.013215,
     "end_time": "2021-04-22T01:52:28.548083",
     "exception": false,
     "start_time": "2021-04-22T01:52:28.534868",
     "status": "completed"
    },
    "tags": []
   },
   "source": [
    "**This notebook is an exercise in the [SQL](https://www.kaggle.com/learn/intro-to-sql \"SQL\") course.  You can reference the tutorial at [this link](https://www.kaggle.com/dansbecker/as-with \"Tutorial - As & With\").**\n",
    "\n",
    "> **This notebook is the fifth exercise in the  [SQL](https://www.kaggle.com/learn/intro-to-sql \"SQL\") course. <span style = \"padding: 10px\"> It is the exercise of the fifth lesson, aka [As & With](https://www.kaggle.com/dansbecker/order-by \"Tutorial - As & With\").**"
   ]
  },
  {
   "cell_type": "markdown",
   "id": "cloudy-functionality",
   "metadata": {
    "papermill": {
     "duration": 0.013276,
     "end_time": "2021-04-22T01:52:28.574988",
     "exception": false,
     "start_time": "2021-04-22T01:52:28.561712",
     "status": "completed"
    },
    "tags": []
   },
   "source": [
    "# Introduction\n",
    "\n",
    "You are getting to the point where you can own an analysis from beginning to end. So you'll do more data exploration in this exercise than you've done before.  Before you get started, run the following set-up code as usual. "
   ]
  },
  {
   "cell_type": "code",
   "execution_count": 1,
   "id": "expressed-worthy",
   "metadata": {
    "execution": {
     "iopub.execute_input": "2021-04-22T01:52:28.612620Z",
     "iopub.status.busy": "2021-04-22T01:52:28.610746Z",
     "iopub.status.idle": "2021-04-22T01:52:55.478620Z",
     "shell.execute_reply": "2021-04-22T01:52:55.477997Z"
    },
    "papermill": {
     "duration": 26.890317,
     "end_time": "2021-04-22T01:52:55.478804",
     "exception": false,
     "start_time": "2021-04-22T01:52:28.588487",
     "status": "completed"
    },
    "tags": []
   },
   "outputs": [
    {
     "name": "stdout",
     "output_type": "stream",
     "text": [
      "Requirement already satisfied: pyarrow==3.0.0 in /opt/conda/lib/python3.7/site-packages (3.0.0)\r\n",
      "Requirement already satisfied: numpy>=1.16.6 in /opt/conda/lib/python3.7/site-packages (from pyarrow==3.0.0) (1.19.5)\r\n"
     ]
    }
   ],
   "source": [
    "!pip install pyarrow==3.0.0"
   ]
  },
  {
   "cell_type": "code",
   "execution_count": 2,
   "id": "magnetic-hierarchy",
   "metadata": {
    "execution": {
     "iopub.execute_input": "2021-04-22T01:52:55.515247Z",
     "iopub.status.busy": "2021-04-22T01:52:55.514557Z",
     "iopub.status.idle": "2021-04-22T01:53:01.557202Z",
     "shell.execute_reply": "2021-04-22T01:53:01.556503Z"
    },
    "papermill": {
     "duration": 6.062905,
     "end_time": "2021-04-22T01:53:01.557360",
     "exception": false,
     "start_time": "2021-04-22T01:52:55.494455",
     "status": "completed"
    },
    "tags": []
   },
   "outputs": [
    {
     "name": "stdout",
     "output_type": "stream",
     "text": [
      "Using Kaggle's public dataset BigQuery integration.\n"
     ]
    },
    {
     "name": "stderr",
     "output_type": "stream",
     "text": [
      "/opt/conda/lib/python3.7/site-packages/google/cloud/bigquery/client.py:440: UserWarning: Cannot create BigQuery Storage client, the dependency google-cloud-bigquery-storage is not installed.\n",
      "  \"Cannot create BigQuery Storage client, the dependency \"\n"
     ]
    },
    {
     "name": "stdout",
     "output_type": "stream",
     "text": [
      "Setup Complete\n"
     ]
    }
   ],
   "source": [
    "# Set up feedback system\n",
    "from learntools.core import binder\n",
    "binder.bind(globals())\n",
    "from learntools.sql.ex5 import *\n",
    "print(\"Setup Complete\")"
   ]
  },
  {
   "cell_type": "markdown",
   "id": "comprehensive-gabriel",
   "metadata": {
    "papermill": {
     "duration": 0.014558,
     "end_time": "2021-04-22T01:53:01.586982",
     "exception": false,
     "start_time": "2021-04-22T01:53:01.572424",
     "status": "completed"
    },
    "tags": []
   },
   "source": [
    "You'll work with a dataset about taxi trips in the city of Chicago. Run the cell below to fetch the `chicago_taxi_trips` dataset."
   ]
  },
  {
   "cell_type": "code",
   "execution_count": 3,
   "id": "double-attitude",
   "metadata": {
    "execution": {
     "iopub.execute_input": "2021-04-22T01:53:01.624001Z",
     "iopub.status.busy": "2021-04-22T01:53:01.623380Z",
     "iopub.status.idle": "2021-04-22T01:53:02.932596Z",
     "shell.execute_reply": "2021-04-22T01:53:02.932038Z"
    },
    "papermill": {
     "duration": 1.330909,
     "end_time": "2021-04-22T01:53:02.932759",
     "exception": false,
     "start_time": "2021-04-22T01:53:01.601850",
     "status": "completed"
    },
    "tags": []
   },
   "outputs": [
    {
     "name": "stdout",
     "output_type": "stream",
     "text": [
      "Using Kaggle's public dataset BigQuery integration.\n"
     ]
    }
   ],
   "source": [
    "from google.cloud import bigquery\n",
    "\n",
    "# Create a \"Client\" object\n",
    "client = bigquery.Client()\n",
    "\n",
    "# Construct a reference to the \"chicago_taxi_trips\" dataset\n",
    "dataset_ref = client.dataset(\"chicago_taxi_trips\", project=\"bigquery-public-data\")\n",
    "\n",
    "# API request - fetch the dataset\n",
    "dataset = client.get_dataset(dataset_ref)"
   ]
  },
  {
   "cell_type": "markdown",
   "id": "marked-humanitarian",
   "metadata": {
    "papermill": {
     "duration": 0.01503,
     "end_time": "2021-04-22T01:53:02.963908",
     "exception": false,
     "start_time": "2021-04-22T01:53:02.948878",
     "status": "completed"
    },
    "tags": []
   },
   "source": [
    "# Exercises\n",
    "\n",
    "You are curious how much slower traffic moves when traffic volume is high. This involves a few steps.\n",
    "\n",
    "### 1) Find the data\n",
    "Before you can access the data, you need to find the table name with the data.\n",
    "\n",
    "*Hint*: Tab completion is helpful whenever you can't remember a command. Type `client.` and then hit the tab key. Don't forget the period before hitting tab."
   ]
  },
  {
   "cell_type": "code",
   "execution_count": 4,
   "id": "supported-monitor",
   "metadata": {
    "execution": {
     "iopub.execute_input": "2021-04-22T01:53:03.000760Z",
     "iopub.status.busy": "2021-04-22T01:53:03.000152Z",
     "iopub.status.idle": "2021-04-22T01:53:03.339426Z",
     "shell.execute_reply": "2021-04-22T01:53:03.338684Z"
    },
    "papermill": {
     "duration": 0.360397,
     "end_time": "2021-04-22T01:53:03.339620",
     "exception": false,
     "start_time": "2021-04-22T01:53:02.979223",
     "status": "completed"
    },
    "tags": []
   },
   "outputs": [
    {
     "name": "stdout",
     "output_type": "stream",
     "text": [
      "taxi_trips\n"
     ]
    }
   ],
   "source": [
    "tables = client.list_tables(dataset)\n",
    "\n",
    "for table in tables:  \n",
    "    print(table.table_id)"
   ]
  },
  {
   "cell_type": "code",
   "execution_count": 5,
   "id": "suspected-architect",
   "metadata": {
    "execution": {
     "iopub.execute_input": "2021-04-22T01:53:03.379224Z",
     "iopub.status.busy": "2021-04-22T01:53:03.378467Z",
     "iopub.status.idle": "2021-04-22T01:53:03.382453Z",
     "shell.execute_reply": "2021-04-22T01:53:03.382900Z"
    },
    "papermill": {
     "duration": 0.026928,
     "end_time": "2021-04-22T01:53:03.383058",
     "exception": false,
     "start_time": "2021-04-22T01:53:03.356130",
     "status": "completed"
    },
    "tags": []
   },
   "outputs": [
    {
     "data": {
      "application/javascript": [
       "parent.postMessage({\"jupyterEvent\": \"custom.exercise_interaction\", \"data\": {\"outcomeType\": 1, \"valueTowardsCompletion\": 0.16666666666666666, \"interactionType\": 1, \"questionType\": 1, \"questionId\": \"1_GetTableName\", \"learnToolsVersion\": \"0.3.4\", \"failureMessage\": \"\", \"exceptionClass\": \"\", \"trace\": \"\"}}, \"*\")"
      ],
      "text/plain": [
       "<IPython.core.display.Javascript object>"
      ]
     },
     "metadata": {},
     "output_type": "display_data"
    },
    {
     "data": {
      "text/markdown": [
       "<span style=\"color:#33cc33\">Correct</span>"
      ],
      "text/plain": [
       "Correct"
      ]
     },
     "metadata": {},
     "output_type": "display_data"
    }
   ],
   "source": [
    "# Write the table name as a string below\n",
    "table_name = 'taxi_trips'\n",
    "\n",
    "# Check your answer\n",
    "q_1.check()"
   ]
  },
  {
   "cell_type": "markdown",
   "id": "european-duplicate",
   "metadata": {
    "papermill": {
     "duration": 0.016011,
     "end_time": "2021-04-22T01:53:03.415553",
     "exception": false,
     "start_time": "2021-04-22T01:53:03.399542",
     "status": "completed"
    },
    "tags": []
   },
   "source": [
    "For the solution, uncomment the line below."
   ]
  },
  {
   "cell_type": "code",
   "execution_count": 6,
   "id": "retired-coffee",
   "metadata": {
    "execution": {
     "iopub.execute_input": "2021-04-22T01:53:03.451443Z",
     "iopub.status.busy": "2021-04-22T01:53:03.450871Z",
     "iopub.status.idle": "2021-04-22T01:53:03.454033Z",
     "shell.execute_reply": "2021-04-22T01:53:03.454557Z"
    },
    "papermill": {
     "duration": 0.022744,
     "end_time": "2021-04-22T01:53:03.454751",
     "exception": false,
     "start_time": "2021-04-22T01:53:03.432007",
     "status": "completed"
    },
    "tags": []
   },
   "outputs": [],
   "source": [
    "#q_1.solution()"
   ]
  },
  {
   "cell_type": "markdown",
   "id": "legendary-calculation",
   "metadata": {
    "papermill": {
     "duration": 0.016352,
     "end_time": "2021-04-22T01:53:03.488068",
     "exception": false,
     "start_time": "2021-04-22T01:53:03.471716",
     "status": "completed"
    },
    "tags": []
   },
   "source": [
    "### 2) Peek at the data\n",
    "\n",
    "Use the next code cell to peek at the top few rows of the data. Inspect the data and see if any issues with data quality are immediately obvious. "
   ]
  },
  {
   "cell_type": "code",
   "execution_count": 7,
   "id": "owned-electronics",
   "metadata": {
    "execution": {
     "iopub.execute_input": "2021-04-22T01:53:03.524941Z",
     "iopub.status.busy": "2021-04-22T01:53:03.524358Z",
     "iopub.status.idle": "2021-04-22T01:53:04.745925Z",
     "shell.execute_reply": "2021-04-22T01:53:04.745281Z"
    },
    "papermill": {
     "duration": 1.241163,
     "end_time": "2021-04-22T01:53:04.746068",
     "exception": false,
     "start_time": "2021-04-22T01:53:03.504905",
     "status": "completed"
    },
    "tags": []
   },
   "outputs": [
    {
     "name": "stderr",
     "output_type": "stream",
     "text": [
      "/opt/conda/lib/python3.7/site-packages/ipykernel_launcher.py:4: UserWarning: Cannot use bqstorage_client if max_results is set, reverting to fetching data with the tabledata.list endpoint.\n",
      "  after removing the cwd from sys.path.\n"
     ]
    },
    {
     "data": {
      "text/html": [
       "<div>\n",
       "<style scoped>\n",
       "    .dataframe tbody tr th:only-of-type {\n",
       "        vertical-align: middle;\n",
       "    }\n",
       "\n",
       "    .dataframe tbody tr th {\n",
       "        vertical-align: top;\n",
       "    }\n",
       "\n",
       "    .dataframe thead th {\n",
       "        text-align: right;\n",
       "    }\n",
       "</style>\n",
       "<table border=\"1\" class=\"dataframe\">\n",
       "  <thead>\n",
       "    <tr style=\"text-align: right;\">\n",
       "      <th></th>\n",
       "      <th>unique_key</th>\n",
       "      <th>taxi_id</th>\n",
       "      <th>trip_start_timestamp</th>\n",
       "      <th>trip_end_timestamp</th>\n",
       "      <th>trip_seconds</th>\n",
       "      <th>trip_miles</th>\n",
       "      <th>pickup_census_tract</th>\n",
       "      <th>dropoff_census_tract</th>\n",
       "      <th>pickup_community_area</th>\n",
       "      <th>dropoff_community_area</th>\n",
       "      <th>...</th>\n",
       "      <th>extras</th>\n",
       "      <th>trip_total</th>\n",
       "      <th>payment_type</th>\n",
       "      <th>company</th>\n",
       "      <th>pickup_latitude</th>\n",
       "      <th>pickup_longitude</th>\n",
       "      <th>pickup_location</th>\n",
       "      <th>dropoff_latitude</th>\n",
       "      <th>dropoff_longitude</th>\n",
       "      <th>dropoff_location</th>\n",
       "    </tr>\n",
       "  </thead>\n",
       "  <tbody>\n",
       "    <tr>\n",
       "      <th>0</th>\n",
       "      <td>2b7543383dcf4eb2d88165f6366bfb162a80c80b</td>\n",
       "      <td>998375e02a53225a78f127e12aef428a79aa7f33ce9212...</td>\n",
       "      <td>2013-12-25 21:15:00+00:00</td>\n",
       "      <td>2013-12-25 21:15:00+00:00</td>\n",
       "      <td>120</td>\n",
       "      <td>0.0</td>\n",
       "      <td>NaN</td>\n",
       "      <td>NaN</td>\n",
       "      <td>NaN</td>\n",
       "      <td>NaN</td>\n",
       "      <td>...</td>\n",
       "      <td>5.0</td>\n",
       "      <td>9.05</td>\n",
       "      <td>Cash</td>\n",
       "      <td>Taxi Affiliation Services</td>\n",
       "      <td>NaN</td>\n",
       "      <td>NaN</td>\n",
       "      <td>None</td>\n",
       "      <td>NaN</td>\n",
       "      <td>NaN</td>\n",
       "      <td>None</td>\n",
       "    </tr>\n",
       "    <tr>\n",
       "      <th>1</th>\n",
       "      <td>6cd77ee8a16f8cec93e325fef7b03da4f969106d</td>\n",
       "      <td>8c508a77909d4e965c01698b799c7b25ab31d609051979...</td>\n",
       "      <td>2019-10-06 11:00:00+00:00</td>\n",
       "      <td>2019-10-06 11:00:00+00:00</td>\n",
       "      <td>240</td>\n",
       "      <td>0.9</td>\n",
       "      <td>NaN</td>\n",
       "      <td>NaN</td>\n",
       "      <td>NaN</td>\n",
       "      <td>NaN</td>\n",
       "      <td>...</td>\n",
       "      <td>0.0</td>\n",
       "      <td>7.50</td>\n",
       "      <td>Credit Card</td>\n",
       "      <td>Chicago Independents</td>\n",
       "      <td>NaN</td>\n",
       "      <td>NaN</td>\n",
       "      <td>None</td>\n",
       "      <td>NaN</td>\n",
       "      <td>NaN</td>\n",
       "      <td>None</td>\n",
       "    </tr>\n",
       "    <tr>\n",
       "      <th>2</th>\n",
       "      <td>6c670f5aa7c9e1a49f33690a12615d3c232e796b</td>\n",
       "      <td>a8078f80a679e11f94f21e3bc8e205025db5e17d1f204c...</td>\n",
       "      <td>2019-10-08 13:00:00+00:00</td>\n",
       "      <td>2019-10-08 13:15:00+00:00</td>\n",
       "      <td>300</td>\n",
       "      <td>1.2</td>\n",
       "      <td>NaN</td>\n",
       "      <td>NaN</td>\n",
       "      <td>NaN</td>\n",
       "      <td>NaN</td>\n",
       "      <td>...</td>\n",
       "      <td>0.0</td>\n",
       "      <td>7.25</td>\n",
       "      <td>Credit Card</td>\n",
       "      <td>Taxicab Insurance Agency, LLC</td>\n",
       "      <td>NaN</td>\n",
       "      <td>NaN</td>\n",
       "      <td>None</td>\n",
       "      <td>NaN</td>\n",
       "      <td>NaN</td>\n",
       "      <td>None</td>\n",
       "    </tr>\n",
       "    <tr>\n",
       "      <th>3</th>\n",
       "      <td>6dec402bbc4010d8725bf53b0fe18bb319289a82</td>\n",
       "      <td>eb108801cfdcab102a686aa0772cbd99b03447a26b8907...</td>\n",
       "      <td>2019-10-09 15:45:00+00:00</td>\n",
       "      <td>2019-10-09 15:45:00+00:00</td>\n",
       "      <td>0</td>\n",
       "      <td>0.0</td>\n",
       "      <td>NaN</td>\n",
       "      <td>NaN</td>\n",
       "      <td>NaN</td>\n",
       "      <td>NaN</td>\n",
       "      <td>...</td>\n",
       "      <td>0.0</td>\n",
       "      <td>2.00</td>\n",
       "      <td>Cash</td>\n",
       "      <td>Taxi Affiliation Services</td>\n",
       "      <td>NaN</td>\n",
       "      <td>NaN</td>\n",
       "      <td>None</td>\n",
       "      <td>NaN</td>\n",
       "      <td>NaN</td>\n",
       "      <td>None</td>\n",
       "    </tr>\n",
       "    <tr>\n",
       "      <th>4</th>\n",
       "      <td>6c00353e69c88989b77a4eabfa9f1004b6a05a33</td>\n",
       "      <td>d95b99518116b5f943d75828e78c02e668ec6add7d28ba...</td>\n",
       "      <td>2019-10-19 06:30:00+00:00</td>\n",
       "      <td>2019-10-19 07:00:00+00:00</td>\n",
       "      <td>1860</td>\n",
       "      <td>14.4</td>\n",
       "      <td>NaN</td>\n",
       "      <td>NaN</td>\n",
       "      <td>NaN</td>\n",
       "      <td>NaN</td>\n",
       "      <td>...</td>\n",
       "      <td>0.0</td>\n",
       "      <td>48.25</td>\n",
       "      <td>Credit Card</td>\n",
       "      <td>Choice Taxi Association</td>\n",
       "      <td>NaN</td>\n",
       "      <td>NaN</td>\n",
       "      <td>None</td>\n",
       "      <td>NaN</td>\n",
       "      <td>NaN</td>\n",
       "      <td>None</td>\n",
       "    </tr>\n",
       "  </tbody>\n",
       "</table>\n",
       "<p>5 rows × 23 columns</p>\n",
       "</div>"
      ],
      "text/plain": [
       "                                 unique_key  \\\n",
       "0  2b7543383dcf4eb2d88165f6366bfb162a80c80b   \n",
       "1  6cd77ee8a16f8cec93e325fef7b03da4f969106d   \n",
       "2  6c670f5aa7c9e1a49f33690a12615d3c232e796b   \n",
       "3  6dec402bbc4010d8725bf53b0fe18bb319289a82   \n",
       "4  6c00353e69c88989b77a4eabfa9f1004b6a05a33   \n",
       "\n",
       "                                             taxi_id  \\\n",
       "0  998375e02a53225a78f127e12aef428a79aa7f33ce9212...   \n",
       "1  8c508a77909d4e965c01698b799c7b25ab31d609051979...   \n",
       "2  a8078f80a679e11f94f21e3bc8e205025db5e17d1f204c...   \n",
       "3  eb108801cfdcab102a686aa0772cbd99b03447a26b8907...   \n",
       "4  d95b99518116b5f943d75828e78c02e668ec6add7d28ba...   \n",
       "\n",
       "       trip_start_timestamp        trip_end_timestamp  trip_seconds  \\\n",
       "0 2013-12-25 21:15:00+00:00 2013-12-25 21:15:00+00:00           120   \n",
       "1 2019-10-06 11:00:00+00:00 2019-10-06 11:00:00+00:00           240   \n",
       "2 2019-10-08 13:00:00+00:00 2019-10-08 13:15:00+00:00           300   \n",
       "3 2019-10-09 15:45:00+00:00 2019-10-09 15:45:00+00:00             0   \n",
       "4 2019-10-19 06:30:00+00:00 2019-10-19 07:00:00+00:00          1860   \n",
       "\n",
       "   trip_miles  pickup_census_tract  dropoff_census_tract  \\\n",
       "0         0.0                  NaN                   NaN   \n",
       "1         0.9                  NaN                   NaN   \n",
       "2         1.2                  NaN                   NaN   \n",
       "3         0.0                  NaN                   NaN   \n",
       "4        14.4                  NaN                   NaN   \n",
       "\n",
       "   pickup_community_area  dropoff_community_area  ...  extras  trip_total  \\\n",
       "0                    NaN                     NaN  ...     5.0        9.05   \n",
       "1                    NaN                     NaN  ...     0.0        7.50   \n",
       "2                    NaN                     NaN  ...     0.0        7.25   \n",
       "3                    NaN                     NaN  ...     0.0        2.00   \n",
       "4                    NaN                     NaN  ...     0.0       48.25   \n",
       "\n",
       "   payment_type                        company  pickup_latitude  \\\n",
       "0          Cash      Taxi Affiliation Services              NaN   \n",
       "1   Credit Card           Chicago Independents              NaN   \n",
       "2   Credit Card  Taxicab Insurance Agency, LLC              NaN   \n",
       "3          Cash      Taxi Affiliation Services              NaN   \n",
       "4   Credit Card        Choice Taxi Association              NaN   \n",
       "\n",
       "  pickup_longitude pickup_location  dropoff_latitude  dropoff_longitude  \\\n",
       "0              NaN            None               NaN                NaN   \n",
       "1              NaN            None               NaN                NaN   \n",
       "2              NaN            None               NaN                NaN   \n",
       "3              NaN            None               NaN                NaN   \n",
       "4              NaN            None               NaN                NaN   \n",
       "\n",
       "  dropoff_location  \n",
       "0             None  \n",
       "1             None  \n",
       "2             None  \n",
       "3             None  \n",
       "4             None  \n",
       "\n",
       "[5 rows x 23 columns]"
      ]
     },
     "execution_count": 7,
     "metadata": {},
     "output_type": "execute_result"
    }
   ],
   "source": [
    "table_ref = dataset_ref.table(\"taxi_trips\")\n",
    "table = client.get_table(table_ref)\n",
    "\n",
    "client.list_rows(table, max_results=5).to_dataframe()"
   ]
  },
  {
   "cell_type": "markdown",
   "id": "japanese-bicycle",
   "metadata": {
    "papermill": {
     "duration": 0.018356,
     "end_time": "2021-04-22T01:53:04.786440",
     "exception": false,
     "start_time": "2021-04-22T01:53:04.768084",
     "status": "completed"
    },
    "tags": []
   },
   "source": [
    "After deciding whether you see any important issues, run the code cell below."
   ]
  },
  {
   "cell_type": "code",
   "execution_count": 8,
   "id": "enabling-conclusion",
   "metadata": {
    "execution": {
     "iopub.execute_input": "2021-04-22T01:53:04.828243Z",
     "iopub.status.busy": "2021-04-22T01:53:04.827540Z",
     "iopub.status.idle": "2021-04-22T01:53:04.832704Z",
     "shell.execute_reply": "2021-04-22T01:53:04.833414Z"
    },
    "papermill": {
     "duration": 0.02881,
     "end_time": "2021-04-22T01:53:04.833625",
     "exception": false,
     "start_time": "2021-04-22T01:53:04.804815",
     "status": "completed"
    },
    "tags": []
   },
   "outputs": [
    {
     "data": {
      "application/javascript": [
       "parent.postMessage({\"jupyterEvent\": \"custom.exercise_interaction\", \"data\": {\"interactionType\": 3, \"questionType\": 4, \"questionId\": \"2_WhatsWrongWithData\", \"learnToolsVersion\": \"0.3.4\", \"valueTowardsCompletion\": 0.0, \"failureMessage\": \"\", \"exceptionClass\": \"\", \"trace\": \"\", \"outcomeType\": 4}}, \"*\")"
      ],
      "text/plain": [
       "<IPython.core.display.Javascript object>"
      ]
     },
     "metadata": {},
     "output_type": "display_data"
    },
    {
     "data": {
      "text/markdown": [
       "<span style=\"color:#33cc99\">Solution:</span> \n",
       "You can see the data by calling: \n",
       "```python\n",
       "# Construct a reference to the \"taxi_trips\" table\n",
       "table_ref = dataset_ref.table(\"taxi_trips\")\n",
       "\n",
       "# API request - fetch the table\n",
       "table = client.get_table(table_ref)\n",
       "\n",
       "# Preview the first five lines of the \"taxi_trips\" table\n",
       "client.list_rows(table, max_results=5).to_dataframe()\n",
       "```\n",
       "\n",
       "Some trips in the top few rows have `trip_seconds` or `trip_miles` values of 0. \n",
       "Other location fields have values of `None`. That is a problem if we want to use those fields.\n"
      ],
      "text/plain": [
       "Solution: \n",
       "You can see the data by calling: \n",
       "```python\n",
       "# Construct a reference to the \"taxi_trips\" table\n",
       "table_ref = dataset_ref.table(\"taxi_trips\")\n",
       "\n",
       "# API request - fetch the table\n",
       "table = client.get_table(table_ref)\n",
       "\n",
       "# Preview the first five lines of the \"taxi_trips\" table\n",
       "client.list_rows(table, max_results=5).to_dataframe()\n",
       "```\n",
       "\n",
       "Some trips in the top few rows have `trip_seconds` or `trip_miles` values of 0. \n",
       "Other location fields have values of `None`. That is a problem if we want to use those fields."
      ]
     },
     "metadata": {},
     "output_type": "display_data"
    }
   ],
   "source": [
    "# Check your answer (Run this code cell to receive credit!)\n",
    "q_2.solution()"
   ]
  },
  {
   "cell_type": "markdown",
   "id": "african-proceeding",
   "metadata": {
    "papermill": {
     "duration": 0.019749,
     "end_time": "2021-04-22T01:53:04.872800",
     "exception": false,
     "start_time": "2021-04-22T01:53:04.853051",
     "status": "completed"
    },
    "tags": []
   },
   "source": [
    "### 3) Determine when this data is from\n",
    "\n",
    "If the data is sufficiently old, we might be careful before assuming the data is still relevant to traffic patterns today. Write a query that counts the number of trips in each year.  \n",
    "\n",
    "Your results should have two columns:\n",
    "- `year` - the year of the trips\n",
    "- `num_trips` - the number of trips in that year\n",
    "\n",
    "Hints:\n",
    "- When using **GROUP BY** and **ORDER BY**, you should refer to the columns by the alias `year` that you set at the top of the **SELECT** query.\n",
    "- The SQL code to **SELECT** the year from `trip_start_timestamp` is <code>SELECT EXTRACT(YEAR FROM trip_start_timestamp)</code>\n",
    "- The **FROM** field can be a little tricky until you are used to it.  The format is:\n",
    "    1. A backick (the symbol \\`).\n",
    "    2. The project name. In this case it is `bigquery-public-data`.\n",
    "    3. A period.\n",
    "    4. The dataset name. In this case, it is `chicago_taxi_trips`.\n",
    "    5. A period.\n",
    "    6. The table name. You used this as your answer in **1) Find the data**.\n",
    "    7. A backtick (the symbol \\`)."
   ]
  },
  {
   "cell_type": "code",
   "execution_count": 9,
   "id": "suburban-manchester",
   "metadata": {
    "execution": {
     "iopub.execute_input": "2021-04-22T01:53:04.918535Z",
     "iopub.status.busy": "2021-04-22T01:53:04.917917Z",
     "iopub.status.idle": "2021-04-22T01:53:06.293375Z",
     "shell.execute_reply": "2021-04-22T01:53:06.292898Z"
    },
    "papermill": {
     "duration": 1.40149,
     "end_time": "2021-04-22T01:53:06.293515",
     "exception": false,
     "start_time": "2021-04-22T01:53:04.892025",
     "status": "completed"
    },
    "tags": []
   },
   "outputs": [
    {
     "name": "stderr",
     "output_type": "stream",
     "text": [
      "/opt/conda/lib/python3.7/site-packages/google/cloud/bigquery/client.py:440: UserWarning: Cannot create BigQuery Storage client, the dependency google-cloud-bigquery-storage is not installed.\n",
      "  \"Cannot create BigQuery Storage client, the dependency \"\n"
     ]
    },
    {
     "name": "stdout",
     "output_type": "stream",
     "text": [
      "   year  num_trips\n",
      "0  2021     511155\n",
      "1  2020    3889032\n",
      "2  2019   16477365\n",
      "3  2018   20732088\n",
      "4  2017   24988003\n",
      "5  2016   31759339\n",
      "6  2015   32385875\n",
      "7  2014   37395436\n",
      "8  2013   27217716\n"
     ]
    },
    {
     "data": {
      "application/javascript": [
       "parent.postMessage({\"jupyterEvent\": \"custom.exercise_interaction\", \"data\": {\"outcomeType\": 1, \"valueTowardsCompletion\": 0.16666666666666666, \"interactionType\": 1, \"questionType\": 2, \"questionId\": \"3_YearDistrib\", \"learnToolsVersion\": \"0.3.4\", \"failureMessage\": \"\", \"exceptionClass\": \"\", \"trace\": \"\"}}, \"*\")"
      ],
      "text/plain": [
       "<IPython.core.display.Javascript object>"
      ]
     },
     "metadata": {},
     "output_type": "display_data"
    },
    {
     "data": {
      "text/markdown": [
       "<span style=\"color:#33cc33\">Correct</span>"
      ],
      "text/plain": [
       "Correct"
      ]
     },
     "metadata": {},
     "output_type": "display_data"
    }
   ],
   "source": [
    "# Your code goes here\n",
    "rides_per_year_query = \"\"\"\n",
    "                        SELECT EXTRACT(YEAR FROM trip_start_timestamp) AS year, COUNT(1) AS num_trips\n",
    "                        FROM `bigquery-public-data.chicago_taxi_trips.taxi_trips`\n",
    "                        GROUP BY year\n",
    "                        ORDER BY year DESC\n",
    "                        \"\"\"\n",
    "\n",
    "# Set up the query (cancel the query if it would use too much of \n",
    "# your quota)\n",
    "safe_config = bigquery.QueryJobConfig(maximum_bytes_billed=10**10)\n",
    "rides_per_year_query_job = client.query(rides_per_year_query, job_config=safe_config)\n",
    "\n",
    "# API request - run the query, and return a pandas DataFrame\n",
    "rides_per_year_result = rides_per_year_query_job.to_dataframe()\n",
    "\n",
    "# View results\n",
    "print(rides_per_year_result)\n",
    "\n",
    "# Check your answer\n",
    "q_3.check()"
   ]
  },
  {
   "cell_type": "markdown",
   "id": "labeled-boundary",
   "metadata": {
    "papermill": {
     "duration": 0.019497,
     "end_time": "2021-04-22T01:53:06.332892",
     "exception": false,
     "start_time": "2021-04-22T01:53:06.313395",
     "status": "completed"
    },
    "tags": []
   },
   "source": [
    "For a hint or the solution, uncomment the appropriate line below."
   ]
  },
  {
   "cell_type": "code",
   "execution_count": 10,
   "id": "fluid-radar",
   "metadata": {
    "execution": {
     "iopub.execute_input": "2021-04-22T01:53:06.377005Z",
     "iopub.status.busy": "2021-04-22T01:53:06.376268Z",
     "iopub.status.idle": "2021-04-22T01:53:06.381534Z",
     "shell.execute_reply": "2021-04-22T01:53:06.381997Z"
    },
    "papermill": {
     "duration": 0.029703,
     "end_time": "2021-04-22T01:53:06.382154",
     "exception": false,
     "start_time": "2021-04-22T01:53:06.352451",
     "status": "completed"
    },
    "tags": []
   },
   "outputs": [
    {
     "data": {
      "application/javascript": [
       "parent.postMessage({\"jupyterEvent\": \"custom.exercise_interaction\", \"data\": {\"interactionType\": 2, \"questionType\": 2, \"questionId\": \"3_YearDistrib\", \"learnToolsVersion\": \"0.3.4\", \"valueTowardsCompletion\": 0.0, \"failureMessage\": \"\", \"exceptionClass\": \"\", \"trace\": \"\", \"outcomeType\": 4}}, \"*\")"
      ],
      "text/plain": [
       "<IPython.core.display.Javascript object>"
      ]
     },
     "metadata": {},
     "output_type": "display_data"
    },
    {
     "data": {
      "text/markdown": [
       "<span style=\"color:#3366cc\">Hint:</span> Start your query with `SELECT EXTRACT(YEAR FROM trip_start_timestamp) AS year, COUNT(1) AS num_trips`."
      ],
      "text/plain": [
       "Hint: Start your query with `SELECT EXTRACT(YEAR FROM trip_start_timestamp) AS year, COUNT(1) AS num_trips`."
      ]
     },
     "metadata": {},
     "output_type": "display_data"
    }
   ],
   "source": [
    "q_3.hint()\n",
    "#q_3.solution()"
   ]
  },
  {
   "cell_type": "markdown",
   "id": "mental-instrument",
   "metadata": {
    "papermill": {
     "duration": 0.020082,
     "end_time": "2021-04-22T01:53:06.422830",
     "exception": false,
     "start_time": "2021-04-22T01:53:06.402748",
     "status": "completed"
    },
    "tags": []
   },
   "source": [
    "### 4) Dive slightly deeper\n",
    "\n",
    "You'd like to take a closer look at rides from 2017.  Copy the query you used above in `rides_per_year_query` into the cell below for `rides_per_month_query`.  Then modify it in two ways:\n",
    "1. Use a **WHERE** clause to limit the query to data from 2017.\n",
    "2. Modify the query to extract the month rather than the year."
   ]
  },
  {
   "cell_type": "code",
   "execution_count": 11,
   "id": "numerical-competition",
   "metadata": {
    "execution": {
     "iopub.execute_input": "2021-04-22T01:53:06.467217Z",
     "iopub.status.busy": "2021-04-22T01:53:06.466347Z",
     "iopub.status.idle": "2021-04-22T01:53:07.870610Z",
     "shell.execute_reply": "2021-04-22T01:53:07.871120Z"
    },
    "papermill": {
     "duration": 1.42799,
     "end_time": "2021-04-22T01:53:07.871292",
     "exception": false,
     "start_time": "2021-04-22T01:53:06.443302",
     "status": "completed"
    },
    "tags": []
   },
   "outputs": [
    {
     "name": "stderr",
     "output_type": "stream",
     "text": [
      "/opt/conda/lib/python3.7/site-packages/google/cloud/bigquery/client.py:440: UserWarning: Cannot create BigQuery Storage client, the dependency google-cloud-bigquery-storage is not installed.\n",
      "  \"Cannot create BigQuery Storage client, the dependency \"\n"
     ]
    },
    {
     "name": "stdout",
     "output_type": "stream",
     "text": [
      "    month  num_trips\n",
      "0       1    1972071\n",
      "1       2    1909802\n",
      "2       3    2362105\n",
      "3       4    2194702\n",
      "4       5    2323386\n",
      "5       6    2324472\n",
      "6       7    2054299\n",
      "7       8    2079861\n",
      "8       9    1950631\n",
      "9      10    2141197\n",
      "10     11    1907997\n",
      "11     12    1767480\n"
     ]
    },
    {
     "data": {
      "application/javascript": [
       "parent.postMessage({\"jupyterEvent\": \"custom.exercise_interaction\", \"data\": {\"outcomeType\": 1, \"valueTowardsCompletion\": 0.16666666666666666, \"interactionType\": 1, \"questionType\": 2, \"questionId\": \"4_MonthDistrib\", \"learnToolsVersion\": \"0.3.4\", \"failureMessage\": \"\", \"exceptionClass\": \"\", \"trace\": \"\"}}, \"*\")"
      ],
      "text/plain": [
       "<IPython.core.display.Javascript object>"
      ]
     },
     "metadata": {},
     "output_type": "display_data"
    },
    {
     "data": {
      "text/markdown": [
       "<span style=\"color:#33cc33\">Correct</span>"
      ],
      "text/plain": [
       "Correct"
      ]
     },
     "metadata": {},
     "output_type": "display_data"
    }
   ],
   "source": [
    "# Your code goes here\n",
    "rides_per_month_query = \"\"\"\n",
    "                        SELECT EXTRACT(MONTH FROM trip_start_timestamp) AS month, COUNT(1) AS num_trips\n",
    "                        FROM `bigquery-public-data.chicago_taxi_trips.taxi_trips`\n",
    "                        WHERE EXTRACT(YEAR FROM trip_start_timestamp) = 2017\n",
    "                        GROUP BY month\n",
    "                        ORDER BY month\n",
    "                        \"\"\"\n",
    "\n",
    "# Set up the query\n",
    "safe_config = bigquery.QueryJobConfig(maximum_bytes_billed=10**10)\n",
    "rides_per_month_query_job = client.query(rides_per_month_query, job_config=safe_config)\n",
    "\n",
    "# API request - run the query, and return a pandas DataFrame\n",
    "rides_per_month_result = rides_per_month_query_job.to_dataframe()\n",
    "\n",
    "# View results\n",
    "print(rides_per_month_result)\n",
    "\n",
    "# Check your answer\n",
    "q_4.check()"
   ]
  },
  {
   "cell_type": "markdown",
   "id": "beginning-concentration",
   "metadata": {
    "papermill": {
     "duration": 0.021799,
     "end_time": "2021-04-22T01:53:07.915271",
     "exception": false,
     "start_time": "2021-04-22T01:53:07.893472",
     "status": "completed"
    },
    "tags": []
   },
   "source": [
    "For a hint or the solution, uncomment the appropriate line below."
   ]
  },
  {
   "cell_type": "code",
   "execution_count": 12,
   "id": "elegant-diabetes",
   "metadata": {
    "execution": {
     "iopub.execute_input": "2021-04-22T01:53:07.965383Z",
     "iopub.status.busy": "2021-04-22T01:53:07.964437Z",
     "iopub.status.idle": "2021-04-22T01:53:07.967491Z",
     "shell.execute_reply": "2021-04-22T01:53:07.966948Z"
    },
    "papermill": {
     "duration": 0.029353,
     "end_time": "2021-04-22T01:53:07.967616",
     "exception": false,
     "start_time": "2021-04-22T01:53:07.938263",
     "status": "completed"
    },
    "tags": []
   },
   "outputs": [],
   "source": [
    "#q_4.hint()\n",
    "#q_4.solution()"
   ]
  },
  {
   "cell_type": "markdown",
   "id": "pursuant-rough",
   "metadata": {
    "papermill": {
     "duration": 0.021961,
     "end_time": "2021-04-22T01:53:08.012816",
     "exception": false,
     "start_time": "2021-04-22T01:53:07.990855",
     "status": "completed"
    },
    "tags": []
   },
   "source": [
    "### 5) Write the query\n",
    "\n",
    "It's time to step up the sophistication of your queries.  Write a query that shows, for each hour of the day in the dataset, the corresponding number of trips and average speed.\n",
    "\n",
    "Your results should have three columns:\n",
    "- `hour_of_day` - sort by this column, which holds the result of extracting the hour from `trip_start_timestamp`.\n",
    "- `num_trips` - the count of the total number of trips in each hour of the day (e.g. how many trips were started between 6AM and 7AM, independent of which day it occurred on).\n",
    "- `avg_mph` - the average speed, measured in miles per hour, for trips that started in that hour of the day.  Average speed in miles per hour is calculated as `3600 * SUM(trip_miles) / SUM(trip_seconds)`. (The value 3600 is used to convert from seconds to hours.)\n",
    "\n",
    "Restrict your query to data meeting the following criteria:\n",
    "- a `trip_start_timestamp` between **2017-01-01** and **2017-07-01**\n",
    "- `trip_seconds` > 0 and `trip_miles` > 0\n",
    "\n",
    "You will use a common table expression (CTE) to select just the relevant rides.  Because this dataset is very big, this CTE should select only the columns you'll need to create the final output (though you won't actually create those in the CTE -- instead you'll create those in the later **SELECT** statement below the CTE).\n",
    "\n",
    "This is a much harder query than anything you've written so far.  Good luck!"
   ]
  },
  {
   "cell_type": "code",
   "execution_count": 13,
   "id": "radio-poverty",
   "metadata": {
    "execution": {
     "iopub.execute_input": "2021-04-22T01:53:08.059956Z",
     "iopub.status.busy": "2021-04-22T01:53:08.059361Z",
     "iopub.status.idle": "2021-04-22T01:53:09.567951Z",
     "shell.execute_reply": "2021-04-22T01:53:09.567435Z"
    },
    "papermill": {
     "duration": 1.533096,
     "end_time": "2021-04-22T01:53:09.568094",
     "exception": false,
     "start_time": "2021-04-22T01:53:08.034998",
     "status": "completed"
    },
    "tags": []
   },
   "outputs": [
    {
     "name": "stderr",
     "output_type": "stream",
     "text": [
      "/opt/conda/lib/python3.7/site-packages/google/cloud/bigquery/client.py:440: UserWarning: Cannot create BigQuery Storage client, the dependency google-cloud-bigquery-storage is not installed.\n",
      "  \"Cannot create BigQuery Storage client, the dependency \"\n"
     ]
    },
    {
     "name": "stdout",
     "output_type": "stream",
     "text": [
      "    hour_of_day  num_trips    avg_mph\n",
      "0            23     399587  19.877046\n",
      "1            22     501095  19.531374\n",
      "2            21     552726  20.433874\n",
      "3            20     598614  19.536777\n",
      "4            19     701064  16.642882\n",
      "5            18     768251  13.646810\n",
      "6            17     756627  12.462955\n",
      "7            16     701435  14.283888\n",
      "8            15     640430  15.688418\n",
      "9            14     622465  16.974239\n",
      "10           13     630181  17.671089\n",
      "11           12     622324  17.838745\n",
      "12           11     594603  18.928379\n",
      "13           10     525120  18.539614\n",
      "14            9     565548  16.543882\n",
      "15            8     541775  15.079892\n",
      "16            7     358406  17.735967\n",
      "17            6     182738  24.588313\n",
      "18            5     119312  30.769172\n",
      "19            4     122183  26.736014\n",
      "20            3     159668  20.158048\n",
      "21            2     210147  18.777070\n",
      "22            1     266529  18.937621\n",
      "23            0     319339  20.230524\n"
     ]
    },
    {
     "data": {
      "application/javascript": [
       "parent.postMessage({\"jupyterEvent\": \"custom.exercise_interaction\", \"data\": {\"outcomeType\": 1, \"valueTowardsCompletion\": 0.16666666666666666, \"interactionType\": 1, \"questionType\": 2, \"questionId\": \"5_TheLongQuery\", \"learnToolsVersion\": \"0.3.4\", \"failureMessage\": \"\", \"exceptionClass\": \"\", \"trace\": \"\"}}, \"*\")"
      ],
      "text/plain": [
       "<IPython.core.display.Javascript object>"
      ]
     },
     "metadata": {},
     "output_type": "display_data"
    },
    {
     "data": {
      "text/markdown": [
       "<span style=\"color:#33cc33\">Correct</span>"
      ],
      "text/plain": [
       "Correct"
      ]
     },
     "metadata": {},
     "output_type": "display_data"
    }
   ],
   "source": [
    "speeds_query = \"\"\"\n",
    "               WITH RelevantRides AS\n",
    "               (\n",
    "                   SELECT EXTRACT(HOUR FROM trip_start_timestamp) AS hour_of_day,\n",
    "                          trip_miles,\n",
    "                          trip_seconds\n",
    "                   FROM `bigquery-public-data.chicago_taxi_trips.taxi_trips`\n",
    "                   WHERE trip_start_timestamp > '2017-01-01' AND\n",
    "                        trip_start_timestamp < '2017-07-01' AND\n",
    "                        trip_seconds > 0 AND\n",
    "                        trip_miles > 0\n",
    "               )\n",
    "               SELECT hour_of_day,\n",
    "                      COUNT(1) AS num_trips,\n",
    "                      3600 * SUM(trip_miles) / SUM(trip_seconds) AS avg_mph\n",
    "               FROM RelevantRides\n",
    "               GROUP BY hour_of_day\n",
    "               ORDER BY hour_of_day DESC\n",
    "               \"\"\"\n",
    "\n",
    "# Set up the query\n",
    "safe_config = bigquery.QueryJobConfig(maximum_bytes_billed=10**10)\n",
    "speeds_query_job = client.query(speeds_query, job_config=safe_config)\n",
    "\n",
    "# API request - run the query, and return a pandas DataFrame\n",
    "speeds_result = speeds_query_job.to_dataframe()\n",
    "\n",
    "# View results\n",
    "print(speeds_result)\n",
    "\n",
    "# Check your answer\n",
    "q_5.check()"
   ]
  },
  {
   "cell_type": "markdown",
   "id": "curious-damages",
   "metadata": {
    "papermill": {
     "duration": 0.023187,
     "end_time": "2021-04-22T01:53:09.615161",
     "exception": false,
     "start_time": "2021-04-22T01:53:09.591974",
     "status": "completed"
    },
    "tags": []
   },
   "source": [
    "For the solution, uncomment the appropriate line below."
   ]
  },
  {
   "cell_type": "code",
   "execution_count": 14,
   "id": "civic-linux",
   "metadata": {
    "execution": {
     "iopub.execute_input": "2021-04-22T01:53:09.670201Z",
     "iopub.status.busy": "2021-04-22T01:53:09.669562Z",
     "iopub.status.idle": "2021-04-22T01:53:09.672198Z",
     "shell.execute_reply": "2021-04-22T01:53:09.672600Z"
    },
    "papermill": {
     "duration": 0.03442,
     "end_time": "2021-04-22T01:53:09.672895",
     "exception": false,
     "start_time": "2021-04-22T01:53:09.638475",
     "status": "completed"
    },
    "tags": []
   },
   "outputs": [],
   "source": [
    "#q_5.solution()"
   ]
  },
  {
   "cell_type": "markdown",
   "id": "copyrighted-cursor",
   "metadata": {
    "papermill": {
     "duration": 0.023734,
     "end_time": "2021-04-22T01:53:09.721060",
     "exception": false,
     "start_time": "2021-04-22T01:53:09.697326",
     "status": "completed"
    },
    "tags": []
   },
   "source": [
    "That's a hard query. If you made good progress towards the solution, congratulations!"
   ]
  },
  {
   "cell_type": "markdown",
   "id": "olive-conditioning",
   "metadata": {
    "papermill": {
     "duration": 0.024317,
     "end_time": "2021-04-22T01:53:09.769516",
     "exception": false,
     "start_time": "2021-04-22T01:53:09.745199",
     "status": "completed"
    },
    "tags": []
   },
   "source": [
    "# Keep going\n",
    "\n",
    "You can write very complex queries now with a single data source. But nothing expands the horizons of SQL as much as the ability to combine or **JOIN** tables.\n",
    "\n",
    "**[Click here](https://www.kaggle.com/dansbecker/joining-data)** to start the last lesson in the Intro to SQL micro-course."
   ]
  },
  {
   "cell_type": "markdown",
   "id": "annoying-criticism",
   "metadata": {
    "papermill": {
     "duration": 0.023678,
     "end_time": "2021-04-22T01:53:09.817270",
     "exception": false,
     "start_time": "2021-04-22T01:53:09.793592",
     "status": "completed"
    },
    "tags": []
   },
   "source": [
    "---\n",
    "\n",
    "\n",
    "\n",
    "\n",
    "*Have questions or comments? Visit the [Learn Discussion forum](https://www.kaggle.com/learn-forum/161314) to chat with other Learners.*"
   ]
  }
 ],
 "metadata": {
  "kernelspec": {
   "display_name": "Python 3",
   "language": "python",
   "name": "python3"
  },
  "language_info": {
   "codemirror_mode": {
    "name": "ipython",
    "version": 3
   },
   "file_extension": ".py",
   "mimetype": "text/x-python",
   "name": "python",
   "nbconvert_exporter": "python",
   "pygments_lexer": "ipython3",
   "version": "3.7.10"
  },
  "papermill": {
   "default_parameters": {},
   "duration": 49.826547,
   "end_time": "2021-04-22T01:53:11.174333",
   "environment_variables": {},
   "exception": null,
   "input_path": "__notebook__.ipynb",
   "output_path": "__notebook__.ipynb",
   "parameters": {},
   "start_time": "2021-04-22T01:52:21.347786",
   "version": "2.3.3"
  }
 },
 "nbformat": 4,
 "nbformat_minor": 5
}
