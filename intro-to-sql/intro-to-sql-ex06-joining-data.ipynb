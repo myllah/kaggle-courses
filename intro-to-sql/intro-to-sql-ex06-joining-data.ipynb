{
 "cells": [
  {
   "cell_type": "markdown",
   "id": "fifth-lying",
   "metadata": {
    "papermill": {
     "duration": 0.020662,
     "end_time": "2021-04-22T14:25:56.683962",
     "exception": false,
     "start_time": "2021-04-22T14:25:56.663300",
     "status": "completed"
    },
    "tags": []
   },
   "source": [
    "### Intro to SQL Ex06: Joining Data"
   ]
  },
  {
   "cell_type": "markdown",
   "id": "fitted-expression",
   "metadata": {
    "papermill": {
     "duration": 0.018155,
     "end_time": "2021-04-22T14:25:56.722077",
     "exception": false,
     "start_time": "2021-04-22T14:25:56.703922",
     "status": "completed"
    },
    "tags": []
   },
   "source": [
    "**This notebook is an exercise in the [SQL](https://www.kaggle.com/learn/intro-to-sql \"SQL\") course.  You can reference the tutorial at [this link](https://www.kaggle.com/dansbecker/joining-data \"Tutorial - Joining Data\").**\n",
    "\n",
    "> **This notebook is the sixth exercise in the  [SQL](https://www.kaggle.com/learn/intro-to-sql \"SQL\") course. <span style = \"padding: 10px\"> It is the exercise of the sixth lesson, aka [Joining Data](https://www.kaggle.com/dansbecker/joining-data \"Tutorial - Joining Data\").**"
   ]
  },
  {
   "cell_type": "markdown",
   "id": "appreciated-child",
   "metadata": {
    "papermill": {
     "duration": 0.018095,
     "end_time": "2021-04-22T14:25:56.759212",
     "exception": false,
     "start_time": "2021-04-22T14:25:56.741117",
     "status": "completed"
    },
    "tags": []
   },
   "source": [
    "# Introduction\n",
    "\n",
    "[Stack Overflow](https://stackoverflow.com/) is a widely beloved question and answer site for technical questions. You'll probably use it yourself as you keep using SQL (or any programming language). \n",
    "\n",
    "Their data is publicly available. What cool things do you think it would be useful for?\n",
    "\n",
    "Here's one idea:\n",
    "You could set up a service that identifies the Stack Overflow users who have demonstrated expertise with a specific technology by answering related questions about it, so someone could hire those experts for in-depth help.\n",
    "\n",
    "In this exercise, you'll write the SQL queries that might serve as the foundation for this type of service.\n",
    "\n",
    "As usual, run the following cell to set up our feedback system before moving on."
   ]
  },
  {
   "cell_type": "code",
   "execution_count": 1,
   "id": "ancient-salvation",
   "metadata": {
    "execution": {
     "iopub.execute_input": "2021-04-22T14:25:56.802042Z",
     "iopub.status.busy": "2021-04-22T14:25:56.801076Z",
     "iopub.status.idle": "2021-04-22T14:26:24.557882Z",
     "shell.execute_reply": "2021-04-22T14:26:24.558453Z"
    },
    "papermill": {
     "duration": 27.780892,
     "end_time": "2021-04-22T14:26:24.558788",
     "exception": false,
     "start_time": "2021-04-22T14:25:56.777896",
     "status": "completed"
    },
    "tags": []
   },
   "outputs": [
    {
     "name": "stdout",
     "output_type": "stream",
     "text": [
      "Requirement already satisfied: pyarrow==3.0.0 in /opt/conda/lib/python3.7/site-packages (3.0.0)\r\n",
      "Requirement already satisfied: numpy>=1.16.6 in /opt/conda/lib/python3.7/site-packages (from pyarrow==3.0.0) (1.19.5)\r\n"
     ]
    }
   ],
   "source": [
    "!pip install pyarrow==3.0.0"
   ]
  },
  {
   "cell_type": "code",
   "execution_count": 2,
   "id": "elect-logan",
   "metadata": {
    "execution": {
     "iopub.execute_input": "2021-04-22T14:26:24.624703Z",
     "iopub.status.busy": "2021-04-22T14:26:24.624014Z",
     "iopub.status.idle": "2021-04-22T14:26:36.797763Z",
     "shell.execute_reply": "2021-04-22T14:26:36.798378Z"
    },
    "papermill": {
     "duration": 12.209831,
     "end_time": "2021-04-22T14:26:36.798593",
     "exception": false,
     "start_time": "2021-04-22T14:26:24.588762",
     "status": "completed"
    },
    "tags": []
   },
   "outputs": [
    {
     "name": "stdout",
     "output_type": "stream",
     "text": [
      "Using Kaggle's public dataset BigQuery integration.\n"
     ]
    },
    {
     "name": "stderr",
     "output_type": "stream",
     "text": [
      "/opt/conda/lib/python3.7/site-packages/google/cloud/bigquery/client.py:440: UserWarning: Cannot create BigQuery Storage client, the dependency google-cloud-bigquery-storage is not installed.\n",
      "  \"Cannot create BigQuery Storage client, the dependency \"\n"
     ]
    },
    {
     "name": "stdout",
     "output_type": "stream",
     "text": [
      "Setup Complete\n"
     ]
    }
   ],
   "source": [
    "# Set up feedback system\n",
    "from learntools.core import binder\n",
    "binder.bind(globals())\n",
    "from learntools.sql.ex6 import *\n",
    "print(\"Setup Complete\")"
   ]
  },
  {
   "cell_type": "markdown",
   "id": "valued-buffer",
   "metadata": {
    "papermill": {
     "duration": 0.029906,
     "end_time": "2021-04-22T14:26:36.861507",
     "exception": false,
     "start_time": "2021-04-22T14:26:36.831601",
     "status": "completed"
    },
    "tags": []
   },
   "source": [
    "Run the next cell to fetch the `stackoverflow` dataset."
   ]
  },
  {
   "cell_type": "code",
   "execution_count": 3,
   "id": "promotional-prisoner",
   "metadata": {
    "execution": {
     "iopub.execute_input": "2021-04-22T14:26:36.931337Z",
     "iopub.status.busy": "2021-04-22T14:26:36.930617Z",
     "iopub.status.idle": "2021-04-22T14:26:37.293738Z",
     "shell.execute_reply": "2021-04-22T14:26:37.293205Z"
    },
    "papermill": {
     "duration": 0.40068,
     "end_time": "2021-04-22T14:26:37.293872",
     "exception": false,
     "start_time": "2021-04-22T14:26:36.893192",
     "status": "completed"
    },
    "tags": []
   },
   "outputs": [
    {
     "name": "stdout",
     "output_type": "stream",
     "text": [
      "Using Kaggle's public dataset BigQuery integration.\n"
     ]
    }
   ],
   "source": [
    "from google.cloud import bigquery\n",
    "\n",
    "# Create a \"Client\" object\n",
    "client = bigquery.Client()\n",
    "\n",
    "# Construct a reference to the \"stackoverflow\" dataset\n",
    "dataset_ref = client.dataset(\"stackoverflow\", project=\"bigquery-public-data\")\n",
    "\n",
    "# API request - fetch the dataset\n",
    "dataset = client.get_dataset(dataset_ref)"
   ]
  },
  {
   "cell_type": "markdown",
   "id": "brave-turning",
   "metadata": {
    "papermill": {
     "duration": 0.02057,
     "end_time": "2021-04-22T14:26:37.335843",
     "exception": false,
     "start_time": "2021-04-22T14:26:37.315273",
     "status": "completed"
    },
    "tags": []
   },
   "source": [
    "# Exercises\n",
    "\n",
    "### 1) Explore the data\n",
    "\n",
    "Before writing queries or **JOIN** clauses, you'll want to see what tables are available. \n",
    "\n",
    "*Hint*: Tab completion is helpful whenever you can't remember a command. Type `client.` and then hit the tab key. Don't forget the period before hitting tab."
   ]
  },
  {
   "cell_type": "code",
   "execution_count": 4,
   "id": "vocational-password",
   "metadata": {
    "execution": {
     "iopub.execute_input": "2021-04-22T14:26:37.386580Z",
     "iopub.status.busy": "2021-04-22T14:26:37.385891Z",
     "iopub.status.idle": "2021-04-22T14:26:37.647804Z",
     "shell.execute_reply": "2021-04-22T14:26:37.647065Z"
    },
    "papermill": {
     "duration": 0.290954,
     "end_time": "2021-04-22T14:26:37.647973",
     "exception": false,
     "start_time": "2021-04-22T14:26:37.357019",
     "status": "completed"
    },
    "tags": []
   },
   "outputs": [
    {
     "name": "stdout",
     "output_type": "stream",
     "text": [
      "list_of_tables: ['badges', 'comments', 'post_history', 'post_links', 'posts_answers', 'posts_moderator_nomination', 'posts_orphaned_tag_wiki', 'posts_privilege_wiki', 'posts_questions', 'posts_tag_wiki', 'posts_tag_wiki_excerpt', 'posts_wiki_placeholder', 'stackoverflow_posts', 'tags', 'users', 'votes']\n"
     ]
    },
    {
     "data": {
      "application/javascript": [
       "parent.postMessage({\"jupyterEvent\": \"custom.exercise_interaction\", \"data\": {\"outcomeType\": 1, \"valueTowardsCompletion\": 0.16666666666666666, \"interactionType\": 1, \"questionType\": 1, \"questionId\": \"1_ListSOTables\", \"learnToolsVersion\": \"0.3.4\", \"failureMessage\": \"\", \"exceptionClass\": \"\", \"trace\": \"\"}}, \"*\")"
      ],
      "text/plain": [
       "<IPython.core.display.Javascript object>"
      ]
     },
     "metadata": {},
     "output_type": "display_data"
    },
    {
     "data": {
      "text/markdown": [
       "<span style=\"color:#33cc33\">Correct</span>"
      ],
      "text/plain": [
       "Correct"
      ]
     },
     "metadata": {},
     "output_type": "display_data"
    }
   ],
   "source": [
    "# Get a list of available tables \n",
    "tables = client.list_tables(dataset)\n",
    "list_of_tables = [table.table_id for table in tables] \n",
    "\n",
    "# Print your answer\n",
    "print('list_of_tables:', list_of_tables)\n",
    "\n",
    "# Check your answer\n",
    "q_1.check()"
   ]
  },
  {
   "cell_type": "markdown",
   "id": "monetary-connection",
   "metadata": {
    "papermill": {
     "duration": 0.032705,
     "end_time": "2021-04-22T14:26:37.714441",
     "exception": false,
     "start_time": "2021-04-22T14:26:37.681736",
     "status": "completed"
    },
    "tags": []
   },
   "source": [
    "For the solution, uncomment the line below."
   ]
  },
  {
   "cell_type": "code",
   "execution_count": 5,
   "id": "becoming-provincial",
   "metadata": {
    "execution": {
     "iopub.execute_input": "2021-04-22T14:26:37.787774Z",
     "iopub.status.busy": "2021-04-22T14:26:37.787038Z",
     "iopub.status.idle": "2021-04-22T14:26:37.792106Z",
     "shell.execute_reply": "2021-04-22T14:26:37.792691Z"
    },
    "papermill": {
     "duration": 0.045412,
     "end_time": "2021-04-22T14:26:37.792895",
     "exception": false,
     "start_time": "2021-04-22T14:26:37.747483",
     "status": "completed"
    },
    "tags": []
   },
   "outputs": [],
   "source": [
    "#q_1.solution()"
   ]
  },
  {
   "cell_type": "markdown",
   "id": "inclusive-giving",
   "metadata": {
    "papermill": {
     "duration": 0.033156,
     "end_time": "2021-04-22T14:26:37.860188",
     "exception": false,
     "start_time": "2021-04-22T14:26:37.827032",
     "status": "completed"
    },
    "tags": []
   },
   "source": [
    "### 2) Review relevant tables\n",
    "\n",
    "If you are interested in people who answer questions on a given topic, the `posts_answers` table is a natural place to look. Run the following cell, and look at the output."
   ]
  },
  {
   "cell_type": "code",
   "execution_count": 6,
   "id": "turkish-permit",
   "metadata": {
    "execution": {
     "iopub.execute_input": "2021-04-22T14:26:37.935312Z",
     "iopub.status.busy": "2021-04-22T14:26:37.932534Z",
     "iopub.status.idle": "2021-04-22T14:26:38.824105Z",
     "shell.execute_reply": "2021-04-22T14:26:38.824505Z"
    },
    "papermill": {
     "duration": 0.931665,
     "end_time": "2021-04-22T14:26:38.824693",
     "exception": false,
     "start_time": "2021-04-22T14:26:37.893028",
     "status": "completed"
    },
    "tags": []
   },
   "outputs": [
    {
     "name": "stderr",
     "output_type": "stream",
     "text": [
      "/opt/conda/lib/python3.7/site-packages/ipykernel_launcher.py:8: UserWarning: Cannot use bqstorage_client if max_results is set, reverting to fetching data with the tabledata.list endpoint.\n",
      "  \n"
     ]
    },
    {
     "data": {
      "text/html": [
       "<div>\n",
       "<style scoped>\n",
       "    .dataframe tbody tr th:only-of-type {\n",
       "        vertical-align: middle;\n",
       "    }\n",
       "\n",
       "    .dataframe tbody tr th {\n",
       "        vertical-align: top;\n",
       "    }\n",
       "\n",
       "    .dataframe thead th {\n",
       "        text-align: right;\n",
       "    }\n",
       "</style>\n",
       "<table border=\"1\" class=\"dataframe\">\n",
       "  <thead>\n",
       "    <tr style=\"text-align: right;\">\n",
       "      <th></th>\n",
       "      <th>id</th>\n",
       "      <th>title</th>\n",
       "      <th>body</th>\n",
       "      <th>accepted_answer_id</th>\n",
       "      <th>answer_count</th>\n",
       "      <th>comment_count</th>\n",
       "      <th>community_owned_date</th>\n",
       "      <th>creation_date</th>\n",
       "      <th>favorite_count</th>\n",
       "      <th>last_activity_date</th>\n",
       "      <th>last_edit_date</th>\n",
       "      <th>last_editor_display_name</th>\n",
       "      <th>last_editor_user_id</th>\n",
       "      <th>owner_display_name</th>\n",
       "      <th>owner_user_id</th>\n",
       "      <th>parent_id</th>\n",
       "      <th>post_type_id</th>\n",
       "      <th>score</th>\n",
       "      <th>tags</th>\n",
       "      <th>view_count</th>\n",
       "    </tr>\n",
       "  </thead>\n",
       "  <tbody>\n",
       "    <tr>\n",
       "      <th>0</th>\n",
       "      <td>18431468</td>\n",
       "      <td>None</td>\n",
       "      <td>&lt;p&gt;Maybe you want to consider datatables.edit&lt;...</td>\n",
       "      <td>None</td>\n",
       "      <td>None</td>\n",
       "      <td>0</td>\n",
       "      <td>NaT</td>\n",
       "      <td>2013-08-25 17:00:18.170000+00:00</td>\n",
       "      <td>None</td>\n",
       "      <td>2013-08-25 17:00:18.170000+00:00</td>\n",
       "      <td>NaT</td>\n",
       "      <td>None</td>\n",
       "      <td>NaN</td>\n",
       "      <td>None</td>\n",
       "      <td>1312094</td>\n",
       "      <td>18418641</td>\n",
       "      <td>2</td>\n",
       "      <td>0</td>\n",
       "      <td>None</td>\n",
       "      <td>None</td>\n",
       "    </tr>\n",
       "    <tr>\n",
       "      <th>1</th>\n",
       "      <td>18431474</td>\n",
       "      <td>None</td>\n",
       "      <td>&lt;p&gt;Changing the 'mydestination' configuration ...</td>\n",
       "      <td>None</td>\n",
       "      <td>None</td>\n",
       "      <td>0</td>\n",
       "      <td>NaT</td>\n",
       "      <td>2013-08-25 17:01:02.630000+00:00</td>\n",
       "      <td>None</td>\n",
       "      <td>2013-08-25 17:01:02.630000+00:00</td>\n",
       "      <td>NaT</td>\n",
       "      <td>None</td>\n",
       "      <td>NaN</td>\n",
       "      <td>None</td>\n",
       "      <td>976442</td>\n",
       "      <td>18322311</td>\n",
       "      <td>2</td>\n",
       "      <td>0</td>\n",
       "      <td>None</td>\n",
       "      <td>None</td>\n",
       "    </tr>\n",
       "    <tr>\n",
       "      <th>2</th>\n",
       "      <td>18431480</td>\n",
       "      <td>None</td>\n",
       "      <td>&lt;p&gt;You are correct that the error is most like...</td>\n",
       "      <td>None</td>\n",
       "      <td>None</td>\n",
       "      <td>0</td>\n",
       "      <td>NaT</td>\n",
       "      <td>2013-08-25 17:01:51.043000+00:00</td>\n",
       "      <td>None</td>\n",
       "      <td>2013-08-25 17:10:37.830000+00:00</td>\n",
       "      <td>2013-08-25 17:10:37.830000+00:00</td>\n",
       "      <td>None</td>\n",
       "      <td>2278203.0</td>\n",
       "      <td>None</td>\n",
       "      <td>2278203</td>\n",
       "      <td>18431356</td>\n",
       "      <td>2</td>\n",
       "      <td>0</td>\n",
       "      <td>None</td>\n",
       "      <td>None</td>\n",
       "    </tr>\n",
       "    <tr>\n",
       "      <th>3</th>\n",
       "      <td>18431483</td>\n",
       "      <td>None</td>\n",
       "      <td>&lt;p&gt;&lt;code&gt;FROM&lt;/code&gt; is one of the initial log...</td>\n",
       "      <td>None</td>\n",
       "      <td>None</td>\n",
       "      <td>0</td>\n",
       "      <td>NaT</td>\n",
       "      <td>2013-08-25 17:02:03.147000+00:00</td>\n",
       "      <td>None</td>\n",
       "      <td>2013-08-25 17:02:03.147000+00:00</td>\n",
       "      <td>NaT</td>\n",
       "      <td>None</td>\n",
       "      <td>NaN</td>\n",
       "      <td>None</td>\n",
       "      <td>1179880</td>\n",
       "      <td>18428303</td>\n",
       "      <td>2</td>\n",
       "      <td>0</td>\n",
       "      <td>None</td>\n",
       "      <td>None</td>\n",
       "    </tr>\n",
       "    <tr>\n",
       "      <th>4</th>\n",
       "      <td>18431496</td>\n",
       "      <td>None</td>\n",
       "      <td>&lt;p&gt;Cassandra will never order your columns in ...</td>\n",
       "      <td>None</td>\n",
       "      <td>None</td>\n",
       "      <td>0</td>\n",
       "      <td>NaT</td>\n",
       "      <td>2013-08-25 17:03:13.143000+00:00</td>\n",
       "      <td>None</td>\n",
       "      <td>2013-08-25 17:03:13.143000+00:00</td>\n",
       "      <td>NaT</td>\n",
       "      <td>None</td>\n",
       "      <td>NaN</td>\n",
       "      <td>None</td>\n",
       "      <td>1061519</td>\n",
       "      <td>15278659</td>\n",
       "      <td>2</td>\n",
       "      <td>0</td>\n",
       "      <td>None</td>\n",
       "      <td>None</td>\n",
       "    </tr>\n",
       "  </tbody>\n",
       "</table>\n",
       "</div>"
      ],
      "text/plain": [
       "         id title                                               body  \\\n",
       "0  18431468  None  <p>Maybe you want to consider datatables.edit<...   \n",
       "1  18431474  None  <p>Changing the 'mydestination' configuration ...   \n",
       "2  18431480  None  <p>You are correct that the error is most like...   \n",
       "3  18431483  None  <p><code>FROM</code> is one of the initial log...   \n",
       "4  18431496  None  <p>Cassandra will never order your columns in ...   \n",
       "\n",
       "  accepted_answer_id answer_count  comment_count community_owned_date  \\\n",
       "0               None         None              0                  NaT   \n",
       "1               None         None              0                  NaT   \n",
       "2               None         None              0                  NaT   \n",
       "3               None         None              0                  NaT   \n",
       "4               None         None              0                  NaT   \n",
       "\n",
       "                     creation_date favorite_count  \\\n",
       "0 2013-08-25 17:00:18.170000+00:00           None   \n",
       "1 2013-08-25 17:01:02.630000+00:00           None   \n",
       "2 2013-08-25 17:01:51.043000+00:00           None   \n",
       "3 2013-08-25 17:02:03.147000+00:00           None   \n",
       "4 2013-08-25 17:03:13.143000+00:00           None   \n",
       "\n",
       "                last_activity_date                   last_edit_date  \\\n",
       "0 2013-08-25 17:00:18.170000+00:00                              NaT   \n",
       "1 2013-08-25 17:01:02.630000+00:00                              NaT   \n",
       "2 2013-08-25 17:10:37.830000+00:00 2013-08-25 17:10:37.830000+00:00   \n",
       "3 2013-08-25 17:02:03.147000+00:00                              NaT   \n",
       "4 2013-08-25 17:03:13.143000+00:00                              NaT   \n",
       "\n",
       "  last_editor_display_name  last_editor_user_id owner_display_name  \\\n",
       "0                     None                  NaN               None   \n",
       "1                     None                  NaN               None   \n",
       "2                     None            2278203.0               None   \n",
       "3                     None                  NaN               None   \n",
       "4                     None                  NaN               None   \n",
       "\n",
       "   owner_user_id  parent_id  post_type_id  score  tags view_count  \n",
       "0        1312094   18418641             2      0  None       None  \n",
       "1         976442   18322311             2      0  None       None  \n",
       "2        2278203   18431356             2      0  None       None  \n",
       "3        1179880   18428303             2      0  None       None  \n",
       "4        1061519   15278659             2      0  None       None  "
      ]
     },
     "execution_count": 6,
     "metadata": {},
     "output_type": "execute_result"
    }
   ],
   "source": [
    "# Construct a reference to the \"posts_answers\" table\n",
    "answers_table_ref = dataset_ref.table(\"posts_answers\")\n",
    "\n",
    "# API request - fetch the table\n",
    "answers_table = client.get_table(answers_table_ref)\n",
    "\n",
    "# Preview the first five lines of the \"posts_answers\" table\n",
    "client.list_rows(answers_table, max_results=5).to_dataframe()"
   ]
  },
  {
   "cell_type": "markdown",
   "id": "agreed-studio",
   "metadata": {
    "papermill": {
     "duration": 0.022526,
     "end_time": "2021-04-22T14:26:38.872164",
     "exception": false,
     "start_time": "2021-04-22T14:26:38.849638",
     "status": "completed"
    },
    "tags": []
   },
   "source": [
    "It isn't clear yet how to find users who answered questions on any given topic. But `posts_answers` has a `parent_id` column. If you are familiar with the Stack Overflow site, you might figure out that the `parent_id` is the question each post is answering.\n",
    "\n",
    "Look at `posts_questions` using the cell below."
   ]
  },
  {
   "cell_type": "code",
   "execution_count": 7,
   "id": "incident-quality",
   "metadata": {
    "execution": {
     "iopub.execute_input": "2021-04-22T14:26:38.925294Z",
     "iopub.status.busy": "2021-04-22T14:26:38.924672Z",
     "iopub.status.idle": "2021-04-22T14:26:39.539632Z",
     "shell.execute_reply": "2021-04-22T14:26:39.538874Z"
    },
    "papermill": {
     "duration": 0.644213,
     "end_time": "2021-04-22T14:26:39.539790",
     "exception": false,
     "start_time": "2021-04-22T14:26:38.895577",
     "status": "completed"
    },
    "tags": []
   },
   "outputs": [
    {
     "name": "stderr",
     "output_type": "stream",
     "text": [
      "/opt/conda/lib/python3.7/site-packages/ipykernel_launcher.py:8: UserWarning: Cannot use bqstorage_client if max_results is set, reverting to fetching data with the tabledata.list endpoint.\n",
      "  \n"
     ]
    },
    {
     "data": {
      "text/html": [
       "<div>\n",
       "<style scoped>\n",
       "    .dataframe tbody tr th:only-of-type {\n",
       "        vertical-align: middle;\n",
       "    }\n",
       "\n",
       "    .dataframe tbody tr th {\n",
       "        vertical-align: top;\n",
       "    }\n",
       "\n",
       "    .dataframe thead th {\n",
       "        text-align: right;\n",
       "    }\n",
       "</style>\n",
       "<table border=\"1\" class=\"dataframe\">\n",
       "  <thead>\n",
       "    <tr style=\"text-align: right;\">\n",
       "      <th></th>\n",
       "      <th>id</th>\n",
       "      <th>title</th>\n",
       "      <th>body</th>\n",
       "      <th>accepted_answer_id</th>\n",
       "      <th>answer_count</th>\n",
       "      <th>comment_count</th>\n",
       "      <th>community_owned_date</th>\n",
       "      <th>creation_date</th>\n",
       "      <th>favorite_count</th>\n",
       "      <th>last_activity_date</th>\n",
       "      <th>last_edit_date</th>\n",
       "      <th>last_editor_display_name</th>\n",
       "      <th>last_editor_user_id</th>\n",
       "      <th>owner_display_name</th>\n",
       "      <th>owner_user_id</th>\n",
       "      <th>parent_id</th>\n",
       "      <th>post_type_id</th>\n",
       "      <th>score</th>\n",
       "      <th>tags</th>\n",
       "      <th>view_count</th>\n",
       "    </tr>\n",
       "  </thead>\n",
       "  <tbody>\n",
       "    <tr>\n",
       "      <th>0</th>\n",
       "      <td>66138537</td>\n",
       "      <td>DataExplorer with at least two given tags</td>\n",
       "      <td>&lt;p&gt;I would to fetch data from Data Explorer, I...</td>\n",
       "      <td>NaN</td>\n",
       "      <td>0</td>\n",
       "      <td>0</td>\n",
       "      <td>NaT</td>\n",
       "      <td>2021-02-10 14:11:57.947000+00:00</td>\n",
       "      <td>NaN</td>\n",
       "      <td>2021-02-10 14:11:57.947000+00:00</td>\n",
       "      <td>NaT</td>\n",
       "      <td>None</td>\n",
       "      <td>NaN</td>\n",
       "      <td>None</td>\n",
       "      <td>8384006</td>\n",
       "      <td>None</td>\n",
       "      <td>1</td>\n",
       "      <td>0</td>\n",
       "      <td>dataexplorer</td>\n",
       "      <td>2</td>\n",
       "    </tr>\n",
       "    <tr>\n",
       "      <th>1</th>\n",
       "      <td>66229417</td>\n",
       "      <td>Using a single object (dataframe) across multi...</td>\n",
       "      <td>&lt;p&gt;I am hosting a server on a private computer...</td>\n",
       "      <td>NaN</td>\n",
       "      <td>0</td>\n",
       "      <td>0</td>\n",
       "      <td>NaT</td>\n",
       "      <td>2021-02-16 17:40:44.097000+00:00</td>\n",
       "      <td>NaN</td>\n",
       "      <td>2021-02-16 17:40:44.097000+00:00</td>\n",
       "      <td>NaT</td>\n",
       "      <td>None</td>\n",
       "      <td>NaN</td>\n",
       "      <td>None</td>\n",
       "      <td>12549160</td>\n",
       "      <td>None</td>\n",
       "      <td>1</td>\n",
       "      <td>0</td>\n",
       "      <td>rstudio-server</td>\n",
       "      <td>2</td>\n",
       "    </tr>\n",
       "    <tr>\n",
       "      <th>2</th>\n",
       "      <td>66288134</td>\n",
       "      <td>Can we use rpl and leach routing protocol toge...</td>\n",
       "      <td>&lt;p&gt;as I am new to wsn please can anyone tell m...</td>\n",
       "      <td>NaN</td>\n",
       "      <td>0</td>\n",
       "      <td>0</td>\n",
       "      <td>NaT</td>\n",
       "      <td>2021-02-20 04:49:09.760000+00:00</td>\n",
       "      <td>NaN</td>\n",
       "      <td>2021-02-20 04:49:09.760000+00:00</td>\n",
       "      <td>NaT</td>\n",
       "      <td>None</td>\n",
       "      <td>NaN</td>\n",
       "      <td>None</td>\n",
       "      <td>15246800</td>\n",
       "      <td>None</td>\n",
       "      <td>1</td>\n",
       "      <td>-1</td>\n",
       "      <td>routes</td>\n",
       "      <td>2</td>\n",
       "    </tr>\n",
       "    <tr>\n",
       "      <th>3</th>\n",
       "      <td>66293452</td>\n",
       "      <td>How to clone dynamic component with button click?</td>\n",
       "      <td>&lt;p&gt;My client requirement is duplication of exi...</td>\n",
       "      <td>NaN</td>\n",
       "      <td>0</td>\n",
       "      <td>0</td>\n",
       "      <td>NaT</td>\n",
       "      <td>2021-02-20 15:43:15.133000+00:00</td>\n",
       "      <td>NaN</td>\n",
       "      <td>2021-02-20 15:43:15.133000+00:00</td>\n",
       "      <td>NaT</td>\n",
       "      <td>None</td>\n",
       "      <td>NaN</td>\n",
       "      <td>None</td>\n",
       "      <td>7822211</td>\n",
       "      <td>None</td>\n",
       "      <td>1</td>\n",
       "      <td>0</td>\n",
       "      <td>angular-dynamic-components</td>\n",
       "      <td>2</td>\n",
       "    </tr>\n",
       "    <tr>\n",
       "      <th>4</th>\n",
       "      <td>66317042</td>\n",
       "      <td>Can Firebase Admin SDK be used in Angular Karm...</td>\n",
       "      <td>&lt;p&gt;I’ve got an Angular CLI app and am testing ...</td>\n",
       "      <td>NaN</td>\n",
       "      <td>0</td>\n",
       "      <td>0</td>\n",
       "      <td>NaT</td>\n",
       "      <td>2021-02-22 13:54:54.547000+00:00</td>\n",
       "      <td>NaN</td>\n",
       "      <td>2021-02-22 13:54:54.547000+00:00</td>\n",
       "      <td>NaT</td>\n",
       "      <td>None</td>\n",
       "      <td>NaN</td>\n",
       "      <td>None</td>\n",
       "      <td>183681</td>\n",
       "      <td>None</td>\n",
       "      <td>1</td>\n",
       "      <td>0</td>\n",
       "      <td>angularfire2|angularfire|firebase-admin</td>\n",
       "      <td>2</td>\n",
       "    </tr>\n",
       "  </tbody>\n",
       "</table>\n",
       "</div>"
      ],
      "text/plain": [
       "         id                                              title  \\\n",
       "0  66138537          DataExplorer with at least two given tags   \n",
       "1  66229417  Using a single object (dataframe) across multi...   \n",
       "2  66288134  Can we use rpl and leach routing protocol toge...   \n",
       "3  66293452  How to clone dynamic component with button click?   \n",
       "4  66317042  Can Firebase Admin SDK be used in Angular Karm...   \n",
       "\n",
       "                                                body  accepted_answer_id  \\\n",
       "0  <p>I would to fetch data from Data Explorer, I...                 NaN   \n",
       "1  <p>I am hosting a server on a private computer...                 NaN   \n",
       "2  <p>as I am new to wsn please can anyone tell m...                 NaN   \n",
       "3  <p>My client requirement is duplication of exi...                 NaN   \n",
       "4  <p>I’ve got an Angular CLI app and am testing ...                 NaN   \n",
       "\n",
       "   answer_count  comment_count community_owned_date  \\\n",
       "0             0              0                  NaT   \n",
       "1             0              0                  NaT   \n",
       "2             0              0                  NaT   \n",
       "3             0              0                  NaT   \n",
       "4             0              0                  NaT   \n",
       "\n",
       "                     creation_date  favorite_count  \\\n",
       "0 2021-02-10 14:11:57.947000+00:00             NaN   \n",
       "1 2021-02-16 17:40:44.097000+00:00             NaN   \n",
       "2 2021-02-20 04:49:09.760000+00:00             NaN   \n",
       "3 2021-02-20 15:43:15.133000+00:00             NaN   \n",
       "4 2021-02-22 13:54:54.547000+00:00             NaN   \n",
       "\n",
       "                last_activity_date last_edit_date last_editor_display_name  \\\n",
       "0 2021-02-10 14:11:57.947000+00:00            NaT                     None   \n",
       "1 2021-02-16 17:40:44.097000+00:00            NaT                     None   \n",
       "2 2021-02-20 04:49:09.760000+00:00            NaT                     None   \n",
       "3 2021-02-20 15:43:15.133000+00:00            NaT                     None   \n",
       "4 2021-02-22 13:54:54.547000+00:00            NaT                     None   \n",
       "\n",
       "   last_editor_user_id owner_display_name  owner_user_id parent_id  \\\n",
       "0                  NaN               None        8384006      None   \n",
       "1                  NaN               None       12549160      None   \n",
       "2                  NaN               None       15246800      None   \n",
       "3                  NaN               None        7822211      None   \n",
       "4                  NaN               None         183681      None   \n",
       "\n",
       "   post_type_id  score                                     tags  view_count  \n",
       "0             1      0                             dataexplorer           2  \n",
       "1             1      0                           rstudio-server           2  \n",
       "2             1     -1                                   routes           2  \n",
       "3             1      0               angular-dynamic-components           2  \n",
       "4             1      0  angularfire2|angularfire|firebase-admin           2  "
      ]
     },
     "execution_count": 7,
     "metadata": {},
     "output_type": "execute_result"
    }
   ],
   "source": [
    "# Construct a reference to the \"posts_questions\" table\n",
    "questions_table_ref = dataset_ref.table(\"posts_questions\")\n",
    "\n",
    "# API request - fetch the table\n",
    "questions_table = client.get_table(questions_table_ref)\n",
    "\n",
    "# Preview the first five lines of the \"posts_questions\" table\n",
    "client.list_rows(questions_table, max_results=5).to_dataframe()"
   ]
  },
  {
   "cell_type": "markdown",
   "id": "global-trace",
   "metadata": {
    "papermill": {
     "duration": 0.036236,
     "end_time": "2021-04-22T14:26:39.611720",
     "exception": false,
     "start_time": "2021-04-22T14:26:39.575484",
     "status": "completed"
    },
    "tags": []
   },
   "source": [
    "Are there any fields that identify what topic or technology each question is about? If so, how could you find the IDs of users who answered questions about a specific topic?\n",
    "\n",
    "Think about it, and then check the solution by running the code in the next cell."
   ]
  },
  {
   "cell_type": "code",
   "execution_count": 8,
   "id": "engaging-screw",
   "metadata": {
    "execution": {
     "iopub.execute_input": "2021-04-22T14:26:39.687922Z",
     "iopub.status.busy": "2021-04-22T14:26:39.687199Z",
     "iopub.status.idle": "2021-04-22T14:26:39.697629Z",
     "shell.execute_reply": "2021-04-22T14:26:39.698056Z"
    },
    "papermill": {
     "duration": 0.050946,
     "end_time": "2021-04-22T14:26:39.698230",
     "exception": false,
     "start_time": "2021-04-22T14:26:39.647284",
     "status": "completed"
    },
    "tags": []
   },
   "outputs": [
    {
     "data": {
      "application/javascript": [
       "parent.postMessage({\"jupyterEvent\": \"custom.exercise_interaction\", \"data\": {\"interactionType\": 3, \"questionType\": 4, \"questionId\": \"2_HowToFindExperts\", \"learnToolsVersion\": \"0.3.4\", \"valueTowardsCompletion\": 0.0, \"failureMessage\": \"\", \"exceptionClass\": \"\", \"trace\": \"\", \"outcomeType\": 4}}, \"*\")"
      ],
      "text/plain": [
       "<IPython.core.display.Javascript object>"
      ]
     },
     "metadata": {},
     "output_type": "display_data"
    },
    {
     "data": {
      "text/markdown": [
       "<span style=\"color:#33cc99\">Solution:</span> \n",
       "`posts_questions` has a column called `tags` which lists the topics/technologies each question is about.\n",
       "\n",
       "`posts_answers` has a column called `parent_id` which identifies the ID of the question each answer is responding to.\n",
       "`posts_answers` also has an `owner_user_id` column which specifies the ID of the user who answered the question.\n",
       "\n",
       "You can join these two tables to:\n",
       "- determine the `tags` for each answer, and then\n",
       "- select the `owner_user_id` of the answers on the desired tag.\n",
       "\n",
       "This is exactly what you will do over the next few questions.\n"
      ],
      "text/plain": [
       "Solution: \n",
       "`posts_questions` has a column called `tags` which lists the topics/technologies each question is about.\n",
       "\n",
       "`posts_answers` has a column called `parent_id` which identifies the ID of the question each answer is responding to.\n",
       "`posts_answers` also has an `owner_user_id` column which specifies the ID of the user who answered the question.\n",
       "\n",
       "You can join these two tables to:\n",
       "- determine the `tags` for each answer, and then\n",
       "- select the `owner_user_id` of the answers on the desired tag.\n",
       "\n",
       "This is exactly what you will do over the next few questions."
      ]
     },
     "metadata": {},
     "output_type": "display_data"
    }
   ],
   "source": [
    "### Yes, there is a column named tags, which identify what topic or technology each question is about.\n",
    "\n",
    "# Check your answer (Run this code cell to receive credit!)\n",
    "q_2.solution()"
   ]
  },
  {
   "cell_type": "markdown",
   "id": "understanding-seating",
   "metadata": {
    "papermill": {
     "duration": 0.024617,
     "end_time": "2021-04-22T14:26:39.747039",
     "exception": false,
     "start_time": "2021-04-22T14:26:39.722422",
     "status": "completed"
    },
    "tags": []
   },
   "source": [
    "### 3) Selecting the right questions\n",
    "\n",
    "A lot of this data is text. \n",
    "\n",
    "We'll explore one last technique in this course which you can apply to this text.\n",
    "\n",
    "A **WHERE** clause can limit your results to rows with certain text using the **LIKE** feature. For example, to select just the third row of the `pets` table from the tutorial, we could use the query in the picture below.\n",
    "\n",
    "![](https://i.imgur.com/RccsXBr.png) \n",
    "\n",
    "You can also use `%` as a \"wildcard\" for any number of characters. So you can also get the third row with:\n",
    "\n",
    "```\n",
    "query = \"\"\"\n",
    "        SELECT * \n",
    "        FROM `bigquery-public-data.pet_records.pets` \n",
    "        WHERE Name LIKE '%ipl%'\n",
    "        \"\"\"\n",
    "```\n",
    "\n",
    "Try this yourself. Write a query that selects the `id`, `title` and `owner_user_id` columns from the `posts_questions` table. \n",
    "- Restrict the results to rows that contain the word \"bigquery\" in the `tags` column. \n",
    "- Include rows where there is other text in addition to the word \"bigquery\" (e.g., if a row has a tag \"bigquery-sql\", your results should include that too)."
   ]
  },
  {
   "cell_type": "code",
   "execution_count": 9,
   "id": "exact-balloon",
   "metadata": {
    "execution": {
     "iopub.execute_input": "2021-04-22T14:26:39.807370Z",
     "iopub.status.busy": "2021-04-22T14:26:39.806706Z",
     "iopub.status.idle": "2021-04-22T14:26:42.285501Z",
     "shell.execute_reply": "2021-04-22T14:26:42.284946Z"
    },
    "papermill": {
     "duration": 2.513213,
     "end_time": "2021-04-22T14:26:42.285645",
     "exception": false,
     "start_time": "2021-04-22T14:26:39.772432",
     "status": "completed"
    },
    "tags": []
   },
   "outputs": [
    {
     "name": "stderr",
     "output_type": "stream",
     "text": [
      "/opt/conda/lib/python3.7/site-packages/google/cloud/bigquery/client.py:440: UserWarning: Cannot create BigQuery Storage client, the dependency google-cloud-bigquery-storage is not installed.\n",
      "  \"Cannot create BigQuery Storage client, the dependency \"\n"
     ]
    },
    {
     "name": "stdout",
     "output_type": "stream",
     "text": [
      "         id                                              title  owner_user_id\n",
      "0  23396150                 Bigquery pricing/customer support?      2344323.0\n",
      "1  23404956             bigquery best practice for cross query       815995.0\n",
      "2  23272172                       Streaming data into bigquery      3569267.0\n",
      "3  23158162  Is there a way to select table_id in a Bigquer...       169154.0\n",
      "4  23160240  \"Error: Unexpected, Please Try Again\" with Goo...      1483263.0\n"
     ]
    },
    {
     "data": {
      "application/javascript": [
       "parent.postMessage({\"jupyterEvent\": \"custom.exercise_interaction\", \"data\": {\"outcomeType\": 1, \"valueTowardsCompletion\": 0.16666666666666666, \"interactionType\": 1, \"questionType\": 2, \"questionId\": \"3_SelectRightQuestions\", \"learnToolsVersion\": \"0.3.4\", \"failureMessage\": \"\", \"exceptionClass\": \"\", \"trace\": \"\"}}, \"*\")"
      ],
      "text/plain": [
       "<IPython.core.display.Javascript object>"
      ]
     },
     "metadata": {},
     "output_type": "display_data"
    },
    {
     "data": {
      "text/markdown": [
       "<span style=\"color:#33cc33\">Correct</span>"
      ],
      "text/plain": [
       "Correct"
      ]
     },
     "metadata": {},
     "output_type": "display_data"
    }
   ],
   "source": [
    "# Your code here\n",
    "questions_query = \"\"\"\n",
    "                  SELECT id, title, owner_user_id\n",
    "                  FROM `bigquery-public-data.stackoverflow.posts_questions`\n",
    "                  WHERE tags LIKE '%bigquery%'\n",
    "                  \"\"\"\n",
    "\n",
    "# Set up the query (cancel the query if it would use too much of \n",
    "# your quota, with the limit set to 1 GB)\n",
    "safe_config = bigquery.QueryJobConfig(maximum_bytes_billed=10**10)\n",
    "questions_query_job = client.query(questions_query, job_config=safe_config)\n",
    "\n",
    "# API request - run the query, and return a pandas DataFrame\n",
    "questions_results = questions_query_job.to_dataframe()\n",
    "\n",
    "# Preview results\n",
    "print(questions_results.head())\n",
    "\n",
    "# Check your answer\n",
    "q_3.check()"
   ]
  },
  {
   "cell_type": "markdown",
   "id": "convenient-color",
   "metadata": {
    "papermill": {
     "duration": 0.027265,
     "end_time": "2021-04-22T14:26:42.340758",
     "exception": false,
     "start_time": "2021-04-22T14:26:42.313493",
     "status": "completed"
    },
    "tags": []
   },
   "source": [
    "For a hint or the solution, uncomment the appropriate line below."
   ]
  },
  {
   "cell_type": "code",
   "execution_count": 10,
   "id": "collaborative-moderator",
   "metadata": {
    "execution": {
     "iopub.execute_input": "2021-04-22T14:26:42.398975Z",
     "iopub.status.busy": "2021-04-22T14:26:42.398206Z",
     "iopub.status.idle": "2021-04-22T14:26:42.402341Z",
     "shell.execute_reply": "2021-04-22T14:26:42.401742Z"
    },
    "papermill": {
     "duration": 0.034122,
     "end_time": "2021-04-22T14:26:42.402490",
     "exception": false,
     "start_time": "2021-04-22T14:26:42.368368",
     "status": "completed"
    },
    "tags": []
   },
   "outputs": [],
   "source": [
    "#q_3.hint()\n",
    "#q_3.solution()"
   ]
  },
  {
   "cell_type": "code",
   "execution_count": 11,
   "id": "cathedral-customs",
   "metadata": {
    "execution": {
     "iopub.execute_input": "2021-04-22T14:26:42.489475Z",
     "iopub.status.busy": "2021-04-22T14:26:42.488795Z",
     "iopub.status.idle": "2021-04-22T14:26:43.124862Z",
     "shell.execute_reply": "2021-04-22T14:26:43.124125Z"
    },
    "papermill": {
     "duration": 0.683265,
     "end_time": "2021-04-22T14:26:43.125012",
     "exception": false,
     "start_time": "2021-04-22T14:26:42.441747",
     "status": "completed"
    },
    "tags": []
   },
   "outputs": [
    {
     "name": "stderr",
     "output_type": "stream",
     "text": [
      "/opt/conda/lib/python3.7/site-packages/ipykernel_launcher.py:8: UserWarning: Cannot use bqstorage_client if max_results is set, reverting to fetching data with the tabledata.list endpoint.\n",
      "  \n"
     ]
    },
    {
     "data": {
      "text/html": [
       "<div>\n",
       "<style scoped>\n",
       "    .dataframe tbody tr th:only-of-type {\n",
       "        vertical-align: middle;\n",
       "    }\n",
       "\n",
       "    .dataframe tbody tr th {\n",
       "        vertical-align: top;\n",
       "    }\n",
       "\n",
       "    .dataframe thead th {\n",
       "        text-align: right;\n",
       "    }\n",
       "</style>\n",
       "<table border=\"1\" class=\"dataframe\">\n",
       "  <thead>\n",
       "    <tr style=\"text-align: right;\">\n",
       "      <th></th>\n",
       "      <th>id</th>\n",
       "      <th>title</th>\n",
       "      <th>body</th>\n",
       "      <th>accepted_answer_id</th>\n",
       "      <th>answer_count</th>\n",
       "      <th>comment_count</th>\n",
       "      <th>community_owned_date</th>\n",
       "      <th>creation_date</th>\n",
       "      <th>favorite_count</th>\n",
       "      <th>last_activity_date</th>\n",
       "      <th>last_edit_date</th>\n",
       "      <th>last_editor_display_name</th>\n",
       "      <th>last_editor_user_id</th>\n",
       "      <th>owner_display_name</th>\n",
       "      <th>owner_user_id</th>\n",
       "      <th>parent_id</th>\n",
       "      <th>post_type_id</th>\n",
       "      <th>score</th>\n",
       "      <th>tags</th>\n",
       "      <th>view_count</th>\n",
       "    </tr>\n",
       "  </thead>\n",
       "  <tbody>\n",
       "    <tr>\n",
       "      <th>0</th>\n",
       "      <td>66138537</td>\n",
       "      <td>DataExplorer with at least two given tags</td>\n",
       "      <td>&lt;p&gt;I would to fetch data from Data Explorer, I...</td>\n",
       "      <td>NaN</td>\n",
       "      <td>0</td>\n",
       "      <td>0</td>\n",
       "      <td>NaT</td>\n",
       "      <td>2021-02-10 14:11:57.947000+00:00</td>\n",
       "      <td>NaN</td>\n",
       "      <td>2021-02-10 14:11:57.947000+00:00</td>\n",
       "      <td>NaT</td>\n",
       "      <td>None</td>\n",
       "      <td>NaN</td>\n",
       "      <td>None</td>\n",
       "      <td>8384006</td>\n",
       "      <td>None</td>\n",
       "      <td>1</td>\n",
       "      <td>0</td>\n",
       "      <td>dataexplorer</td>\n",
       "      <td>2</td>\n",
       "    </tr>\n",
       "    <tr>\n",
       "      <th>1</th>\n",
       "      <td>66229417</td>\n",
       "      <td>Using a single object (dataframe) across multi...</td>\n",
       "      <td>&lt;p&gt;I am hosting a server on a private computer...</td>\n",
       "      <td>NaN</td>\n",
       "      <td>0</td>\n",
       "      <td>0</td>\n",
       "      <td>NaT</td>\n",
       "      <td>2021-02-16 17:40:44.097000+00:00</td>\n",
       "      <td>NaN</td>\n",
       "      <td>2021-02-16 17:40:44.097000+00:00</td>\n",
       "      <td>NaT</td>\n",
       "      <td>None</td>\n",
       "      <td>NaN</td>\n",
       "      <td>None</td>\n",
       "      <td>12549160</td>\n",
       "      <td>None</td>\n",
       "      <td>1</td>\n",
       "      <td>0</td>\n",
       "      <td>rstudio-server</td>\n",
       "      <td>2</td>\n",
       "    </tr>\n",
       "    <tr>\n",
       "      <th>2</th>\n",
       "      <td>66288134</td>\n",
       "      <td>Can we use rpl and leach routing protocol toge...</td>\n",
       "      <td>&lt;p&gt;as I am new to wsn please can anyone tell m...</td>\n",
       "      <td>NaN</td>\n",
       "      <td>0</td>\n",
       "      <td>0</td>\n",
       "      <td>NaT</td>\n",
       "      <td>2021-02-20 04:49:09.760000+00:00</td>\n",
       "      <td>NaN</td>\n",
       "      <td>2021-02-20 04:49:09.760000+00:00</td>\n",
       "      <td>NaT</td>\n",
       "      <td>None</td>\n",
       "      <td>NaN</td>\n",
       "      <td>None</td>\n",
       "      <td>15246800</td>\n",
       "      <td>None</td>\n",
       "      <td>1</td>\n",
       "      <td>-1</td>\n",
       "      <td>routes</td>\n",
       "      <td>2</td>\n",
       "    </tr>\n",
       "    <tr>\n",
       "      <th>3</th>\n",
       "      <td>66293452</td>\n",
       "      <td>How to clone dynamic component with button click?</td>\n",
       "      <td>&lt;p&gt;My client requirement is duplication of exi...</td>\n",
       "      <td>NaN</td>\n",
       "      <td>0</td>\n",
       "      <td>0</td>\n",
       "      <td>NaT</td>\n",
       "      <td>2021-02-20 15:43:15.133000+00:00</td>\n",
       "      <td>NaN</td>\n",
       "      <td>2021-02-20 15:43:15.133000+00:00</td>\n",
       "      <td>NaT</td>\n",
       "      <td>None</td>\n",
       "      <td>NaN</td>\n",
       "      <td>None</td>\n",
       "      <td>7822211</td>\n",
       "      <td>None</td>\n",
       "      <td>1</td>\n",
       "      <td>0</td>\n",
       "      <td>angular-dynamic-components</td>\n",
       "      <td>2</td>\n",
       "    </tr>\n",
       "    <tr>\n",
       "      <th>4</th>\n",
       "      <td>66317042</td>\n",
       "      <td>Can Firebase Admin SDK be used in Angular Karm...</td>\n",
       "      <td>&lt;p&gt;I’ve got an Angular CLI app and am testing ...</td>\n",
       "      <td>NaN</td>\n",
       "      <td>0</td>\n",
       "      <td>0</td>\n",
       "      <td>NaT</td>\n",
       "      <td>2021-02-22 13:54:54.547000+00:00</td>\n",
       "      <td>NaN</td>\n",
       "      <td>2021-02-22 13:54:54.547000+00:00</td>\n",
       "      <td>NaT</td>\n",
       "      <td>None</td>\n",
       "      <td>NaN</td>\n",
       "      <td>None</td>\n",
       "      <td>183681</td>\n",
       "      <td>None</td>\n",
       "      <td>1</td>\n",
       "      <td>0</td>\n",
       "      <td>angularfire2|angularfire|firebase-admin</td>\n",
       "      <td>2</td>\n",
       "    </tr>\n",
       "  </tbody>\n",
       "</table>\n",
       "</div>"
      ],
      "text/plain": [
       "         id                                              title  \\\n",
       "0  66138537          DataExplorer with at least two given tags   \n",
       "1  66229417  Using a single object (dataframe) across multi...   \n",
       "2  66288134  Can we use rpl and leach routing protocol toge...   \n",
       "3  66293452  How to clone dynamic component with button click?   \n",
       "4  66317042  Can Firebase Admin SDK be used in Angular Karm...   \n",
       "\n",
       "                                                body  accepted_answer_id  \\\n",
       "0  <p>I would to fetch data from Data Explorer, I...                 NaN   \n",
       "1  <p>I am hosting a server on a private computer...                 NaN   \n",
       "2  <p>as I am new to wsn please can anyone tell m...                 NaN   \n",
       "3  <p>My client requirement is duplication of exi...                 NaN   \n",
       "4  <p>I’ve got an Angular CLI app and am testing ...                 NaN   \n",
       "\n",
       "   answer_count  comment_count community_owned_date  \\\n",
       "0             0              0                  NaT   \n",
       "1             0              0                  NaT   \n",
       "2             0              0                  NaT   \n",
       "3             0              0                  NaT   \n",
       "4             0              0                  NaT   \n",
       "\n",
       "                     creation_date  favorite_count  \\\n",
       "0 2021-02-10 14:11:57.947000+00:00             NaN   \n",
       "1 2021-02-16 17:40:44.097000+00:00             NaN   \n",
       "2 2021-02-20 04:49:09.760000+00:00             NaN   \n",
       "3 2021-02-20 15:43:15.133000+00:00             NaN   \n",
       "4 2021-02-22 13:54:54.547000+00:00             NaN   \n",
       "\n",
       "                last_activity_date last_edit_date last_editor_display_name  \\\n",
       "0 2021-02-10 14:11:57.947000+00:00            NaT                     None   \n",
       "1 2021-02-16 17:40:44.097000+00:00            NaT                     None   \n",
       "2 2021-02-20 04:49:09.760000+00:00            NaT                     None   \n",
       "3 2021-02-20 15:43:15.133000+00:00            NaT                     None   \n",
       "4 2021-02-22 13:54:54.547000+00:00            NaT                     None   \n",
       "\n",
       "   last_editor_user_id owner_display_name  owner_user_id parent_id  \\\n",
       "0                  NaN               None        8384006      None   \n",
       "1                  NaN               None       12549160      None   \n",
       "2                  NaN               None       15246800      None   \n",
       "3                  NaN               None        7822211      None   \n",
       "4                  NaN               None         183681      None   \n",
       "\n",
       "   post_type_id  score                                     tags  view_count  \n",
       "0             1      0                             dataexplorer           2  \n",
       "1             1      0                           rstudio-server           2  \n",
       "2             1     -1                                   routes           2  \n",
       "3             1      0               angular-dynamic-components           2  \n",
       "4             1      0  angularfire2|angularfire|firebase-admin           2  "
      ]
     },
     "execution_count": 11,
     "metadata": {},
     "output_type": "execute_result"
    }
   ],
   "source": [
    "# Construct a reference to the \"posts_questions\" table\n",
    "questions_table_ref = dataset_ref.table(\"posts_questions\")\n",
    "\n",
    "# API request - fetch the table\n",
    "questions_table = client.get_table(questions_table_ref)\n",
    "\n",
    "# Preview the first five lines of the \"posts_questions\" table\n",
    "client.list_rows(questions_table, max_results=5).to_dataframe()"
   ]
  },
  {
   "cell_type": "code",
   "execution_count": 12,
   "id": "altered-fiction",
   "metadata": {
    "execution": {
     "iopub.execute_input": "2021-04-22T14:26:43.218093Z",
     "iopub.status.busy": "2021-04-22T14:26:43.217452Z",
     "iopub.status.idle": "2021-04-22T14:26:43.823713Z",
     "shell.execute_reply": "2021-04-22T14:26:43.824491Z"
    },
    "papermill": {
     "duration": 0.657855,
     "end_time": "2021-04-22T14:26:43.824711",
     "exception": false,
     "start_time": "2021-04-22T14:26:43.166856",
     "status": "completed"
    },
    "tags": []
   },
   "outputs": [
    {
     "name": "stderr",
     "output_type": "stream",
     "text": [
      "/opt/conda/lib/python3.7/site-packages/ipykernel_launcher.py:8: UserWarning: Cannot use bqstorage_client if max_results is set, reverting to fetching data with the tabledata.list endpoint.\n",
      "  \n"
     ]
    },
    {
     "data": {
      "text/html": [
       "<div>\n",
       "<style scoped>\n",
       "    .dataframe tbody tr th:only-of-type {\n",
       "        vertical-align: middle;\n",
       "    }\n",
       "\n",
       "    .dataframe tbody tr th {\n",
       "        vertical-align: top;\n",
       "    }\n",
       "\n",
       "    .dataframe thead th {\n",
       "        text-align: right;\n",
       "    }\n",
       "</style>\n",
       "<table border=\"1\" class=\"dataframe\">\n",
       "  <thead>\n",
       "    <tr style=\"text-align: right;\">\n",
       "      <th></th>\n",
       "      <th>id</th>\n",
       "      <th>title</th>\n",
       "      <th>body</th>\n",
       "      <th>accepted_answer_id</th>\n",
       "      <th>answer_count</th>\n",
       "      <th>comment_count</th>\n",
       "      <th>community_owned_date</th>\n",
       "      <th>creation_date</th>\n",
       "      <th>favorite_count</th>\n",
       "      <th>last_activity_date</th>\n",
       "      <th>last_edit_date</th>\n",
       "      <th>last_editor_display_name</th>\n",
       "      <th>last_editor_user_id</th>\n",
       "      <th>owner_display_name</th>\n",
       "      <th>owner_user_id</th>\n",
       "      <th>parent_id</th>\n",
       "      <th>post_type_id</th>\n",
       "      <th>score</th>\n",
       "      <th>tags</th>\n",
       "      <th>view_count</th>\n",
       "    </tr>\n",
       "  </thead>\n",
       "  <tbody>\n",
       "    <tr>\n",
       "      <th>0</th>\n",
       "      <td>18431468</td>\n",
       "      <td>None</td>\n",
       "      <td>&lt;p&gt;Maybe you want to consider datatables.edit&lt;...</td>\n",
       "      <td>None</td>\n",
       "      <td>None</td>\n",
       "      <td>0</td>\n",
       "      <td>NaT</td>\n",
       "      <td>2013-08-25 17:00:18.170000+00:00</td>\n",
       "      <td>None</td>\n",
       "      <td>2013-08-25 17:00:18.170000+00:00</td>\n",
       "      <td>NaT</td>\n",
       "      <td>None</td>\n",
       "      <td>NaN</td>\n",
       "      <td>None</td>\n",
       "      <td>1312094</td>\n",
       "      <td>18418641</td>\n",
       "      <td>2</td>\n",
       "      <td>0</td>\n",
       "      <td>None</td>\n",
       "      <td>None</td>\n",
       "    </tr>\n",
       "    <tr>\n",
       "      <th>1</th>\n",
       "      <td>18431474</td>\n",
       "      <td>None</td>\n",
       "      <td>&lt;p&gt;Changing the 'mydestination' configuration ...</td>\n",
       "      <td>None</td>\n",
       "      <td>None</td>\n",
       "      <td>0</td>\n",
       "      <td>NaT</td>\n",
       "      <td>2013-08-25 17:01:02.630000+00:00</td>\n",
       "      <td>None</td>\n",
       "      <td>2013-08-25 17:01:02.630000+00:00</td>\n",
       "      <td>NaT</td>\n",
       "      <td>None</td>\n",
       "      <td>NaN</td>\n",
       "      <td>None</td>\n",
       "      <td>976442</td>\n",
       "      <td>18322311</td>\n",
       "      <td>2</td>\n",
       "      <td>0</td>\n",
       "      <td>None</td>\n",
       "      <td>None</td>\n",
       "    </tr>\n",
       "    <tr>\n",
       "      <th>2</th>\n",
       "      <td>18431480</td>\n",
       "      <td>None</td>\n",
       "      <td>&lt;p&gt;You are correct that the error is most like...</td>\n",
       "      <td>None</td>\n",
       "      <td>None</td>\n",
       "      <td>0</td>\n",
       "      <td>NaT</td>\n",
       "      <td>2013-08-25 17:01:51.043000+00:00</td>\n",
       "      <td>None</td>\n",
       "      <td>2013-08-25 17:10:37.830000+00:00</td>\n",
       "      <td>2013-08-25 17:10:37.830000+00:00</td>\n",
       "      <td>None</td>\n",
       "      <td>2278203.0</td>\n",
       "      <td>None</td>\n",
       "      <td>2278203</td>\n",
       "      <td>18431356</td>\n",
       "      <td>2</td>\n",
       "      <td>0</td>\n",
       "      <td>None</td>\n",
       "      <td>None</td>\n",
       "    </tr>\n",
       "    <tr>\n",
       "      <th>3</th>\n",
       "      <td>18431483</td>\n",
       "      <td>None</td>\n",
       "      <td>&lt;p&gt;&lt;code&gt;FROM&lt;/code&gt; is one of the initial log...</td>\n",
       "      <td>None</td>\n",
       "      <td>None</td>\n",
       "      <td>0</td>\n",
       "      <td>NaT</td>\n",
       "      <td>2013-08-25 17:02:03.147000+00:00</td>\n",
       "      <td>None</td>\n",
       "      <td>2013-08-25 17:02:03.147000+00:00</td>\n",
       "      <td>NaT</td>\n",
       "      <td>None</td>\n",
       "      <td>NaN</td>\n",
       "      <td>None</td>\n",
       "      <td>1179880</td>\n",
       "      <td>18428303</td>\n",
       "      <td>2</td>\n",
       "      <td>0</td>\n",
       "      <td>None</td>\n",
       "      <td>None</td>\n",
       "    </tr>\n",
       "    <tr>\n",
       "      <th>4</th>\n",
       "      <td>18431496</td>\n",
       "      <td>None</td>\n",
       "      <td>&lt;p&gt;Cassandra will never order your columns in ...</td>\n",
       "      <td>None</td>\n",
       "      <td>None</td>\n",
       "      <td>0</td>\n",
       "      <td>NaT</td>\n",
       "      <td>2013-08-25 17:03:13.143000+00:00</td>\n",
       "      <td>None</td>\n",
       "      <td>2013-08-25 17:03:13.143000+00:00</td>\n",
       "      <td>NaT</td>\n",
       "      <td>None</td>\n",
       "      <td>NaN</td>\n",
       "      <td>None</td>\n",
       "      <td>1061519</td>\n",
       "      <td>15278659</td>\n",
       "      <td>2</td>\n",
       "      <td>0</td>\n",
       "      <td>None</td>\n",
       "      <td>None</td>\n",
       "    </tr>\n",
       "  </tbody>\n",
       "</table>\n",
       "</div>"
      ],
      "text/plain": [
       "         id title                                               body  \\\n",
       "0  18431468  None  <p>Maybe you want to consider datatables.edit<...   \n",
       "1  18431474  None  <p>Changing the 'mydestination' configuration ...   \n",
       "2  18431480  None  <p>You are correct that the error is most like...   \n",
       "3  18431483  None  <p><code>FROM</code> is one of the initial log...   \n",
       "4  18431496  None  <p>Cassandra will never order your columns in ...   \n",
       "\n",
       "  accepted_answer_id answer_count  comment_count community_owned_date  \\\n",
       "0               None         None              0                  NaT   \n",
       "1               None         None              0                  NaT   \n",
       "2               None         None              0                  NaT   \n",
       "3               None         None              0                  NaT   \n",
       "4               None         None              0                  NaT   \n",
       "\n",
       "                     creation_date favorite_count  \\\n",
       "0 2013-08-25 17:00:18.170000+00:00           None   \n",
       "1 2013-08-25 17:01:02.630000+00:00           None   \n",
       "2 2013-08-25 17:01:51.043000+00:00           None   \n",
       "3 2013-08-25 17:02:03.147000+00:00           None   \n",
       "4 2013-08-25 17:03:13.143000+00:00           None   \n",
       "\n",
       "                last_activity_date                   last_edit_date  \\\n",
       "0 2013-08-25 17:00:18.170000+00:00                              NaT   \n",
       "1 2013-08-25 17:01:02.630000+00:00                              NaT   \n",
       "2 2013-08-25 17:10:37.830000+00:00 2013-08-25 17:10:37.830000+00:00   \n",
       "3 2013-08-25 17:02:03.147000+00:00                              NaT   \n",
       "4 2013-08-25 17:03:13.143000+00:00                              NaT   \n",
       "\n",
       "  last_editor_display_name  last_editor_user_id owner_display_name  \\\n",
       "0                     None                  NaN               None   \n",
       "1                     None                  NaN               None   \n",
       "2                     None            2278203.0               None   \n",
       "3                     None                  NaN               None   \n",
       "4                     None                  NaN               None   \n",
       "\n",
       "   owner_user_id  parent_id  post_type_id  score  tags view_count  \n",
       "0        1312094   18418641             2      0  None       None  \n",
       "1         976442   18322311             2      0  None       None  \n",
       "2        2278203   18431356             2      0  None       None  \n",
       "3        1179880   18428303             2      0  None       None  \n",
       "4        1061519   15278659             2      0  None       None  "
      ]
     },
     "execution_count": 12,
     "metadata": {},
     "output_type": "execute_result"
    }
   ],
   "source": [
    "# Construct a reference to the \"posts_questions\" table\n",
    "answers_table_ref = dataset_ref.table(\"posts_answers\")\n",
    "\n",
    "# API request - fetch the table\n",
    "answers_table = client.get_table(answers_table_ref)\n",
    "\n",
    "# Preview the first five lines of the \"posts_questions\" table\n",
    "client.list_rows(answers_table, max_results=5).to_dataframe()"
   ]
  },
  {
   "cell_type": "markdown",
   "id": "detailed-penetration",
   "metadata": {
    "papermill": {
     "duration": 0.04341,
     "end_time": "2021-04-22T14:26:43.914162",
     "exception": false,
     "start_time": "2021-04-22T14:26:43.870752",
     "status": "completed"
    },
    "tags": []
   },
   "source": [
    "### 4) Your first join\n",
    "Now that you have a query to select questions on any given topic (in this case, you chose \"bigquery\"), you can find the answers to those questions with a **JOIN**.  \n",
    "\n",
    "Write a query that returns the `id`, `body` and `owner_user_id` columns from the `posts_answers` table for answers to \"bigquery\"-related questions. \n",
    "- You should have one row in your results for each answer to a question that has \"bigquery\" in the tags.  \n",
    "- Remember you can get the tags for a question from the `tags` column in the `posts_questions` table.\n",
    "\n",
    "Here's a reminder of what a **JOIN** looked like in the tutorial:\n",
    "```\n",
    "query = \"\"\"\n",
    "        SELECT p.Name AS Pet_Name, o.Name AS Owner_Name\n",
    "        FROM `bigquery-public-data.pet_records.pets` as p\n",
    "        INNER JOIN `bigquery-public-data.pet_records.owners` as o \n",
    "            ON p.ID = o.Pet_ID\n",
    "        \"\"\"\n",
    "```\n",
    "\n",
    "It may be useful to scroll up and review the first several rows of the `posts_answers` and `posts_questions` tables.  "
   ]
  },
  {
   "cell_type": "code",
   "execution_count": 13,
   "id": "settled-driving",
   "metadata": {
    "execution": {
     "iopub.execute_input": "2021-04-22T14:26:44.012786Z",
     "iopub.status.busy": "2021-04-22T14:26:44.011900Z",
     "iopub.status.idle": "2021-04-22T14:26:50.270943Z",
     "shell.execute_reply": "2021-04-22T14:26:50.269939Z"
    },
    "papermill": {
     "duration": 6.314304,
     "end_time": "2021-04-22T14:26:50.271101",
     "exception": false,
     "start_time": "2021-04-22T14:26:43.956797",
     "status": "completed"
    },
    "tags": []
   },
   "outputs": [
    {
     "name": "stderr",
     "output_type": "stream",
     "text": [
      "/opt/conda/lib/python3.7/site-packages/google/cloud/bigquery/client.py:440: UserWarning: Cannot create BigQuery Storage client, the dependency google-cloud-bigquery-storage is not installed.\n",
      "  \"Cannot create BigQuery Storage client, the dependency \"\n"
     ]
    },
    {
     "name": "stdout",
     "output_type": "stream",
     "text": [
      "         id                                               body  owner_user_id\n",
      "0  61612783  <pre><code>DATE_ADD( CURRENT_DATE(), INTERVAL ...     11617785.0\n",
      "1  61615518  <p>Due to dependency updates in version 0.15.x...        82804.0\n",
      "2  61624039  <p>This can be done using stackdriver audit lo...      5851276.0\n",
      "3  61625119  <p>This looks like it may be a bug, but we may...      1255356.0\n",
      "4  61626148  <p>Your Query:</p>\\n\\n<blockquote>\\n  <p>SELEC...      1046195.0\n"
     ]
    },
    {
     "data": {
      "application/javascript": [
       "parent.postMessage({\"jupyterEvent\": \"custom.exercise_interaction\", \"data\": {\"outcomeType\": 1, \"valueTowardsCompletion\": 0.16666666666666666, \"interactionType\": 1, \"questionType\": 2, \"questionId\": \"4_FirstJoin\", \"learnToolsVersion\": \"0.3.4\", \"failureMessage\": \"\", \"exceptionClass\": \"\", \"trace\": \"\"}}, \"*\")"
      ],
      "text/plain": [
       "<IPython.core.display.Javascript object>"
      ]
     },
     "metadata": {},
     "output_type": "display_data"
    },
    {
     "data": {
      "text/markdown": [
       "<span style=\"color:#33cc33\">Correct</span>"
      ],
      "text/plain": [
       "Correct"
      ]
     },
     "metadata": {},
     "output_type": "display_data"
    }
   ],
   "source": [
    "# Your code here\n",
    "answers_query = \"\"\"\n",
    "                SELECT a.id, a.body, a.owner_user_id\n",
    "                FROM `bigquery-public-data.stackoverflow.posts_questions` AS q \n",
    "                INNER JOIN `bigquery-public-data.stackoverflow.posts_answers` AS a\n",
    "                    ON q.id = a.parent_id\n",
    "                WHERE q.tags LIKE '%bigquery%'\n",
    "                \"\"\"\n",
    "\n",
    "# Set up the query\n",
    "safe_config = bigquery.QueryJobConfig(maximum_bytes_billed=10**10)\n",
    "answers_query_job = client.query(answers_query, job_config=safe_config)\n",
    "\n",
    "# API request - run the query, and return a pandas DataFrame\n",
    "answers_results = answers_query_job.to_dataframe()\n",
    "\n",
    "# Preview results\n",
    "print(answers_results.head())\n",
    "\n",
    "# Check your answer\n",
    "q_4.check()"
   ]
  },
  {
   "cell_type": "markdown",
   "id": "executive-horse",
   "metadata": {
    "papermill": {
     "duration": 0.046211,
     "end_time": "2021-04-22T14:26:50.365170",
     "exception": false,
     "start_time": "2021-04-22T14:26:50.318959",
     "status": "completed"
    },
    "tags": []
   },
   "source": [
    "For a hint or the solution, uncomment the appropriate line below."
   ]
  },
  {
   "cell_type": "code",
   "execution_count": 14,
   "id": "adequate-security",
   "metadata": {
    "execution": {
     "iopub.execute_input": "2021-04-22T14:26:50.461498Z",
     "iopub.status.busy": "2021-04-22T14:26:50.460796Z",
     "iopub.status.idle": "2021-04-22T14:26:50.468679Z",
     "shell.execute_reply": "2021-04-22T14:26:50.468037Z"
    },
    "papermill": {
     "duration": 0.057017,
     "end_time": "2021-04-22T14:26:50.468815",
     "exception": false,
     "start_time": "2021-04-22T14:26:50.411798",
     "status": "completed"
    },
    "tags": []
   },
   "outputs": [
    {
     "data": {
      "application/javascript": [
       "parent.postMessage({\"jupyterEvent\": \"custom.exercise_interaction\", \"data\": {\"interactionType\": 2, \"questionType\": 2, \"questionId\": \"4_FirstJoin\", \"learnToolsVersion\": \"0.3.4\", \"valueTowardsCompletion\": 0.0, \"failureMessage\": \"\", \"exceptionClass\": \"\", \"trace\": \"\", \"outcomeType\": 4}}, \"*\")"
      ],
      "text/plain": [
       "<IPython.core.display.Javascript object>"
      ]
     },
     "metadata": {},
     "output_type": "display_data"
    },
    {
     "data": {
      "text/markdown": [
       "<span style=\"color:#3366cc\">Hint:</span> \n",
       "Do an **INNER JOIN** between `bigquery-public-data.stackoverflow.posts_questions` and `bigquery-public-data.stackoverflow.posts_answers`.\n",
       "\n",
       "Give `post_questions` an alias of `q`, and use `a` as an alias for `posts_answers`. The **ON** part of your join is `q.id = a.parent_id`.\n"
      ],
      "text/plain": [
       "Hint: \n",
       "Do an **INNER JOIN** between `bigquery-public-data.stackoverflow.posts_questions` and `bigquery-public-data.stackoverflow.posts_answers`.\n",
       "\n",
       "Give `post_questions` an alias of `q`, and use `a` as an alias for `posts_answers`. The **ON** part of your join is `q.id = a.parent_id`."
      ]
     },
     "metadata": {},
     "output_type": "display_data"
    }
   ],
   "source": [
    "q_4.hint()\n",
    "#q_4.solution()"
   ]
  },
  {
   "cell_type": "markdown",
   "id": "voluntary-fusion",
   "metadata": {
    "papermill": {
     "duration": 0.045581,
     "end_time": "2021-04-22T14:26:50.560337",
     "exception": false,
     "start_time": "2021-04-22T14:26:50.514756",
     "status": "completed"
    },
    "tags": []
   },
   "source": [
    "### 5) Answer the question\n",
    "You have the merge you need. But you want a list of users who have answered many questions... which requires more work beyond your previous result.\n",
    "\n",
    "Write a new query that has a single row for each user who answered at least one question with a tag that includes the string \"bigquery\". Your results should have two columns:\n",
    "- `user_id` - contains the `owner_user_id` column from the `posts_answers` table\n",
    "- `number_of_answers` - contains the number of answers the user has written to \"bigquery\"-related questions"
   ]
  },
  {
   "cell_type": "code",
   "execution_count": 15,
   "id": "promising-river",
   "metadata": {
    "execution": {
     "iopub.execute_input": "2021-04-22T14:26:50.662574Z",
     "iopub.status.busy": "2021-04-22T14:26:50.661891Z",
     "iopub.status.idle": "2021-04-22T14:26:52.165521Z",
     "shell.execute_reply": "2021-04-22T14:26:52.165963Z"
    },
    "papermill": {
     "duration": 1.559389,
     "end_time": "2021-04-22T14:26:52.166135",
     "exception": false,
     "start_time": "2021-04-22T14:26:50.606746",
     "status": "completed"
    },
    "tags": []
   },
   "outputs": [
    {
     "name": "stderr",
     "output_type": "stream",
     "text": [
      "/opt/conda/lib/python3.7/site-packages/google/cloud/bigquery/client.py:440: UserWarning: Cannot create BigQuery Storage client, the dependency google-cloud-bigquery-storage is not installed.\n",
      "  \"Cannot create BigQuery Storage client, the dependency \"\n"
     ]
    },
    {
     "name": "stdout",
     "output_type": "stream",
     "text": [
      "      user_id  number_of_answers\n",
      "0     11654.0                  1\n",
      "1   6253347.0                736\n",
      "2    849722.0                  1\n",
      "3   2013652.0                  1\n",
      "4  10319355.0                  1\n"
     ]
    },
    {
     "data": {
      "application/javascript": [
       "parent.postMessage({\"jupyterEvent\": \"custom.exercise_interaction\", \"data\": {\"outcomeType\": 1, \"valueTowardsCompletion\": 0.16666666666666666, \"interactionType\": 1, \"questionType\": 2, \"questionId\": \"5_BigQueryExperts\", \"learnToolsVersion\": \"0.3.4\", \"failureMessage\": \"\", \"exceptionClass\": \"\", \"trace\": \"\"}}, \"*\")"
      ],
      "text/plain": [
       "<IPython.core.display.Javascript object>"
      ]
     },
     "metadata": {},
     "output_type": "display_data"
    },
    {
     "data": {
      "text/markdown": [
       "<span style=\"color:#33cc33\">Correct</span>"
      ],
      "text/plain": [
       "Correct"
      ]
     },
     "metadata": {},
     "output_type": "display_data"
    }
   ],
   "source": [
    "# Your code here\n",
    "bigquery_experts_query = \"\"\"\n",
    "                         SELECT a.owner_user_id AS user_id, COUNT(1) AS number_of_answers\n",
    "                         FROM `bigquery-public-data.stackoverflow.posts_questions` AS q\n",
    "                         INNER JOIN `bigquery-public-data.stackoverflow.posts_answers` AS a \n",
    "                             ON q.id = a.parent_id \n",
    "                         WHERE q.tags LIKE '%bigquery%' \n",
    "                         GROUP BY a.owner_user_id\n",
    "                         \"\"\"\n",
    "# Set up the query\n",
    "safe_config = bigquery.QueryJobConfig(maximum_bytes_billed=10**10)\n",
    "bigquery_experts_query_job = client.query(bigquery_experts_query, job_config=safe_config)\n",
    "\n",
    "# API request - run the query, and return a pandas DataFrame\n",
    "bigquery_experts_results = bigquery_experts_query_job.to_dataframe()\n",
    "\n",
    "# Preview results\n",
    "print(bigquery_experts_results.head())\n",
    "\n",
    "# Check your answer\n",
    "q_5.check()"
   ]
  },
  {
   "cell_type": "markdown",
   "id": "familiar-nancy",
   "metadata": {
    "papermill": {
     "duration": 0.034132,
     "end_time": "2021-04-22T14:26:52.235252",
     "exception": false,
     "start_time": "2021-04-22T14:26:52.201120",
     "status": "completed"
    },
    "tags": []
   },
   "source": [
    "For a hint or the solution, uncomment the appropriate line below."
   ]
  },
  {
   "cell_type": "code",
   "execution_count": 16,
   "id": "conservative-termination",
   "metadata": {
    "execution": {
     "iopub.execute_input": "2021-04-22T14:26:52.309535Z",
     "iopub.status.busy": "2021-04-22T14:26:52.308508Z",
     "iopub.status.idle": "2021-04-22T14:26:52.318068Z",
     "shell.execute_reply": "2021-04-22T14:26:52.317278Z"
    },
    "papermill": {
     "duration": 0.049513,
     "end_time": "2021-04-22T14:26:52.318199",
     "exception": false,
     "start_time": "2021-04-22T14:26:52.268686",
     "status": "completed"
    },
    "tags": []
   },
   "outputs": [
    {
     "data": {
      "application/javascript": [
       "parent.postMessage({\"jupyterEvent\": \"custom.exercise_interaction\", \"data\": {\"interactionType\": 2, \"questionType\": 2, \"questionId\": \"5_BigQueryExperts\", \"learnToolsVersion\": \"0.3.4\", \"valueTowardsCompletion\": 0.0, \"failureMessage\": \"\", \"exceptionClass\": \"\", \"trace\": \"\", \"outcomeType\": 4}}, \"*\")"
      ],
      "text/plain": [
       "<IPython.core.display.Javascript object>"
      ]
     },
     "metadata": {},
     "output_type": "display_data"
    },
    {
     "data": {
      "text/markdown": [
       "<span style=\"color:#3366cc\">Hint:</span> Start with `SELECT a.owner_user_id AS user_id, COUNT(1) AS number_of_answers`"
      ],
      "text/plain": [
       "Hint: Start with `SELECT a.owner_user_id AS user_id, COUNT(1) AS number_of_answers`"
      ]
     },
     "metadata": {},
     "output_type": "display_data"
    }
   ],
   "source": [
    "q_5.hint()\n",
    "#q_5.solution()"
   ]
  },
  {
   "cell_type": "markdown",
   "id": "reasonable-integer",
   "metadata": {
    "papermill": {
     "duration": 0.034872,
     "end_time": "2021-04-22T14:26:52.387068",
     "exception": false,
     "start_time": "2021-04-22T14:26:52.352196",
     "status": "completed"
    },
    "tags": []
   },
   "source": [
    "### 6) Building a more generally useful service\n",
    "\n",
    "How could you convert what you've done to a general function a website could call on the backend to get experts on any topic?  \n",
    "\n",
    "Think about it and then check the solution below."
   ]
  },
  {
   "cell_type": "code",
   "execution_count": 17,
   "id": "interracial-instrumentation",
   "metadata": {
    "execution": {
     "iopub.execute_input": "2021-04-22T14:26:52.460045Z",
     "iopub.status.busy": "2021-04-22T14:26:52.459299Z",
     "iopub.status.idle": "2021-04-22T14:26:52.469790Z",
     "shell.execute_reply": "2021-04-22T14:26:52.469223Z"
    },
    "papermill": {
     "duration": 0.04876,
     "end_time": "2021-04-22T14:26:52.469932",
     "exception": false,
     "start_time": "2021-04-22T14:26:52.421172",
     "status": "completed"
    },
    "tags": []
   },
   "outputs": [
    {
     "data": {
      "application/javascript": [
       "parent.postMessage({\"jupyterEvent\": \"custom.exercise_interaction\", \"data\": {\"interactionType\": 3, \"questionType\": 4, \"questionId\": \"6_GeneralizeExpertFinder\", \"learnToolsVersion\": \"0.3.4\", \"valueTowardsCompletion\": 0.0, \"failureMessage\": \"\", \"exceptionClass\": \"\", \"trace\": \"\", \"outcomeType\": 4}}, \"*\")"
      ],
      "text/plain": [
       "<IPython.core.display.Javascript object>"
      ]
     },
     "metadata": {},
     "output_type": "display_data"
    },
    {
     "data": {
      "text/markdown": [
       "<span style=\"color:#33cc99\">Solution:</span> \n",
       "```python\n",
       "\n",
       "def expert_finder(topic, client):\n",
       "    '''\n",
       "    Returns a DataFrame with the user IDs who have written Stack Overflow answers on a topic.\n",
       "\n",
       "    Inputs:\n",
       "        topic: A string with the topic of interest\n",
       "        client: A Client object that specifies the connection to the Stack Overflow dataset\n",
       "\n",
       "    Outputs:\n",
       "        results: A DataFrame with columns for user_id and number_of_answers. Follows similar logic to bigquery_experts_results shown above.\n",
       "    '''\n",
       "    my_query = \"\"\"\n",
       "               SELECT a.owner_user_id AS user_id, COUNT(1) AS number_of_answers\n",
       "               FROM `bigquery-public-data.stackoverflow.posts_questions` AS q\n",
       "               INNER JOIN `bigquery-public-data.stackoverflow.posts_answers` AS a\n",
       "                   ON q.id = a.parent_Id\n",
       "               WHERE q.tags like '%{topic}%'\n",
       "               GROUP BY a.owner_user_id\n",
       "               \"\"\"\n",
       "               \n",
       "    # Set up the query (a real service would have good error handling for \n",
       "    # queries that scan too much data)\n",
       "    safe_config = bigquery.QueryJobConfig(maximum_bytes_billed=10**10)      \n",
       "    my_query_job = client.query(my_query, job_config=safe_config)\n",
       "    \n",
       "    # API request - run the query, and return a pandas DataFrame\n",
       "    results = my_query_job.to_dataframe()\n",
       "\n",
       "    return results\n",
       "\n",
       "```"
      ],
      "text/plain": [
       "Solution: \n",
       "```python\n",
       "\n",
       "def expert_finder(topic, client):\n",
       "    '''\n",
       "    Returns a DataFrame with the user IDs who have written Stack Overflow answers on a topic.\n",
       "\n",
       "    Inputs:\n",
       "        topic: A string with the topic of interest\n",
       "        client: A Client object that specifies the connection to the Stack Overflow dataset\n",
       "\n",
       "    Outputs:\n",
       "        results: A DataFrame with columns for user_id and number_of_answers. Follows similar logic to bigquery_experts_results shown above.\n",
       "    '''\n",
       "    my_query = \"\"\"\n",
       "               SELECT a.owner_user_id AS user_id, COUNT(1) AS number_of_answers\n",
       "               FROM `bigquery-public-data.stackoverflow.posts_questions` AS q\n",
       "               INNER JOIN `bigquery-public-data.stackoverflow.posts_answers` AS a\n",
       "                   ON q.id = a.parent_Id\n",
       "               WHERE q.tags like '%{topic}%'\n",
       "               GROUP BY a.owner_user_id\n",
       "               \"\"\"\n",
       "               \n",
       "    # Set up the query (a real service would have good error handling for \n",
       "    # queries that scan too much data)\n",
       "    safe_config = bigquery.QueryJobConfig(maximum_bytes_billed=10**10)      \n",
       "    my_query_job = client.query(my_query, job_config=safe_config)\n",
       "    \n",
       "    # API request - run the query, and return a pandas DataFrame\n",
       "    results = my_query_job.to_dataframe()\n",
       "\n",
       "    return results\n",
       "\n",
       "```"
      ]
     },
     "metadata": {},
     "output_type": "display_data"
    }
   ],
   "source": [
    "# Check your answer (Run this code cell to receive credit!)\n",
    "q_6.solution()"
   ]
  },
  {
   "cell_type": "code",
   "execution_count": 18,
   "id": "stupid-globe",
   "metadata": {
    "execution": {
     "iopub.execute_input": "2021-04-22T14:26:52.551388Z",
     "iopub.status.busy": "2021-04-22T14:26:52.550681Z",
     "iopub.status.idle": "2021-04-22T14:26:52.555402Z",
     "shell.execute_reply": "2021-04-22T14:26:52.554659Z"
    },
    "papermill": {
     "duration": 0.04918,
     "end_time": "2021-04-22T14:26:52.555533",
     "exception": false,
     "start_time": "2021-04-22T14:26:52.506353",
     "status": "completed"
    },
    "tags": []
   },
   "outputs": [],
   "source": [
    "def expert_finder(topic, client):\n",
    "    '''\n",
    "    Returns a DataFrame with the user IDs who have written Stack Overflow answers on a topic.\n",
    "\n",
    "    Inputs:\n",
    "        topic: A string with the topic of interest\n",
    "        client: A Client object that specifies the connection to the Stack Overflow dataset\n",
    "\n",
    "    Outputs:\n",
    "        results: A DataFrame with columns for user_id and number_of_answers. Follows similar logic to bigquery_experts_results shown above.\n",
    "    '''\n",
    "    my_query = f\"\"\"\n",
    "               SELECT a.owner_user_id AS user_id, COUNT(1) AS number_of_answers\n",
    "               FROM `bigquery-public-data.stackoverflow.posts_questions` AS q\n",
    "               INNER JOIN `bigquery-public-data.stackoverflow.posts_answers` AS a\n",
    "                   ON q.id = a.parent_Id\n",
    "               WHERE q.tags LIKE '%{topic}%'\n",
    "               GROUP BY a.owner_user_id\n",
    "               ORDER BY number_of_answers DESC\n",
    "               \"\"\"\n",
    "\n",
    "    # Set up the query (a real service would have good error handling for \n",
    "    # queries that scan too much data)\n",
    "    safe_config = bigquery.QueryJobConfig(maximum_bytes_billed=10**10)      \n",
    "    my_query_job = client.query(my_query, job_config=safe_config)\n",
    "\n",
    "    # API request - run the query, and return a pandas DataFrame\n",
    "    results = my_query_job.to_dataframe()\n",
    "\n",
    "    return results.head()"
   ]
  },
  {
   "cell_type": "code",
   "execution_count": 19,
   "id": "centered-commissioner",
   "metadata": {
    "execution": {
     "iopub.execute_input": "2021-04-22T14:26:52.635060Z",
     "iopub.status.busy": "2021-04-22T14:26:52.634590Z",
     "iopub.status.idle": "2021-04-22T14:26:54.033259Z",
     "shell.execute_reply": "2021-04-22T14:26:54.032536Z"
    },
    "papermill": {
     "duration": 1.442026,
     "end_time": "2021-04-22T14:26:54.033407",
     "exception": false,
     "start_time": "2021-04-22T14:26:52.591381",
     "status": "completed"
    },
    "tags": []
   },
   "outputs": [
    {
     "name": "stdout",
     "output_type": "stream",
     "text": [
      "Topic: bigquery\n"
     ]
    },
    {
     "name": "stderr",
     "output_type": "stream",
     "text": [
      "/opt/conda/lib/python3.7/site-packages/google/cloud/bigquery/client.py:440: UserWarning: Cannot create BigQuery Storage client, the dependency google-cloud-bigquery-storage is not installed.\n",
      "  \"Cannot create BigQuery Storage client, the dependency \"\n"
     ]
    },
    {
     "data": {
      "text/html": [
       "<div>\n",
       "<style scoped>\n",
       "    .dataframe tbody tr th:only-of-type {\n",
       "        vertical-align: middle;\n",
       "    }\n",
       "\n",
       "    .dataframe tbody tr th {\n",
       "        vertical-align: top;\n",
       "    }\n",
       "\n",
       "    .dataframe thead th {\n",
       "        text-align: right;\n",
       "    }\n",
       "</style>\n",
       "<table border=\"1\" class=\"dataframe\">\n",
       "  <thead>\n",
       "    <tr style=\"text-align: right;\">\n",
       "      <th></th>\n",
       "      <th>user_id</th>\n",
       "      <th>number_of_answers</th>\n",
       "    </tr>\n",
       "  </thead>\n",
       "  <tbody>\n",
       "    <tr>\n",
       "      <th>0</th>\n",
       "      <td>5221944.0</td>\n",
       "      <td>3830</td>\n",
       "    </tr>\n",
       "    <tr>\n",
       "      <th>1</th>\n",
       "      <td>1144035.0</td>\n",
       "      <td>1249</td>\n",
       "    </tr>\n",
       "    <tr>\n",
       "      <th>2</th>\n",
       "      <td>132438.0</td>\n",
       "      <td>899</td>\n",
       "    </tr>\n",
       "    <tr>\n",
       "      <th>3</th>\n",
       "      <td>6253347.0</td>\n",
       "      <td>736</td>\n",
       "    </tr>\n",
       "    <tr>\n",
       "      <th>4</th>\n",
       "      <td>1366527.0</td>\n",
       "      <td>620</td>\n",
       "    </tr>\n",
       "  </tbody>\n",
       "</table>\n",
       "</div>"
      ],
      "text/plain": [
       "     user_id  number_of_answers\n",
       "0  5221944.0               3830\n",
       "1  1144035.0               1249\n",
       "2   132438.0                899\n",
       "3  6253347.0                736\n",
       "4  1366527.0                620"
      ]
     },
     "execution_count": 19,
     "metadata": {},
     "output_type": "execute_result"
    }
   ],
   "source": [
    "print(\"Topic: bigquery\")\n",
    "topic = 'bigquery'\n",
    "expert_finder(topic, client)"
   ]
  },
  {
   "cell_type": "code",
   "execution_count": 20,
   "id": "adapted-response",
   "metadata": {
    "execution": {
     "iopub.execute_input": "2021-04-22T14:26:54.158023Z",
     "iopub.status.busy": "2021-04-22T14:26:54.157106Z",
     "iopub.status.idle": "2021-04-22T14:26:55.519438Z",
     "shell.execute_reply": "2021-04-22T14:26:55.518752Z"
    },
    "papermill": {
     "duration": 1.428882,
     "end_time": "2021-04-22T14:26:55.519639",
     "exception": false,
     "start_time": "2021-04-22T14:26:54.090757",
     "status": "completed"
    },
    "tags": []
   },
   "outputs": [
    {
     "name": "stdout",
     "output_type": "stream",
     "text": [
      "Topic: dataexplorer\n"
     ]
    },
    {
     "name": "stderr",
     "output_type": "stream",
     "text": [
      "/opt/conda/lib/python3.7/site-packages/google/cloud/bigquery/client.py:440: UserWarning: Cannot create BigQuery Storage client, the dependency google-cloud-bigquery-storage is not installed.\n",
      "  \"Cannot create BigQuery Storage client, the dependency \"\n"
     ]
    },
    {
     "data": {
      "text/html": [
       "<div>\n",
       "<style scoped>\n",
       "    .dataframe tbody tr th:only-of-type {\n",
       "        vertical-align: middle;\n",
       "    }\n",
       "\n",
       "    .dataframe tbody tr th {\n",
       "        vertical-align: top;\n",
       "    }\n",
       "\n",
       "    .dataframe thead th {\n",
       "        text-align: right;\n",
       "    }\n",
       "</style>\n",
       "<table border=\"1\" class=\"dataframe\">\n",
       "  <thead>\n",
       "    <tr style=\"text-align: right;\">\n",
       "      <th></th>\n",
       "      <th>user_id</th>\n",
       "      <th>number_of_answers</th>\n",
       "    </tr>\n",
       "  </thead>\n",
       "  <tbody>\n",
       "    <tr>\n",
       "      <th>0</th>\n",
       "      <td>331508.0</td>\n",
       "      <td>19</td>\n",
       "    </tr>\n",
       "    <tr>\n",
       "      <th>1</th>\n",
       "      <td>3346612.0</td>\n",
       "      <td>4</td>\n",
       "    </tr>\n",
       "    <tr>\n",
       "      <th>2</th>\n",
       "      <td>1624450.0</td>\n",
       "      <td>3</td>\n",
       "    </tr>\n",
       "    <tr>\n",
       "      <th>3</th>\n",
       "      <td>2095534.0</td>\n",
       "      <td>3</td>\n",
       "    </tr>\n",
       "    <tr>\n",
       "      <th>4</th>\n",
       "      <td>73226.0</td>\n",
       "      <td>3</td>\n",
       "    </tr>\n",
       "  </tbody>\n",
       "</table>\n",
       "</div>"
      ],
      "text/plain": [
       "     user_id  number_of_answers\n",
       "0   331508.0                 19\n",
       "1  3346612.0                  4\n",
       "2  1624450.0                  3\n",
       "3  2095534.0                  3\n",
       "4    73226.0                  3"
      ]
     },
     "execution_count": 20,
     "metadata": {},
     "output_type": "execute_result"
    }
   ],
   "source": [
    "print(\"Topic: dataexplorer\")\n",
    "topic = 'dataexplorer'\n",
    "expert_finder(topic, client)"
   ]
  },
  {
   "cell_type": "markdown",
   "id": "sonic-march",
   "metadata": {
    "papermill": {
     "duration": 0.054142,
     "end_time": "2021-04-22T14:26:55.628832",
     "exception": false,
     "start_time": "2021-04-22T14:26:55.574690",
     "status": "completed"
    },
    "tags": []
   },
   "source": [
    "# Congratulations!\n",
    "\n",
    "You know all the key components to use BigQuery and SQL effectively. Your SQL skills are sufficient to unlock many of the world's largest datasets.\n",
    "\n",
    "Want to go play with your new powers?  Kaggle has BigQuery datasets available [here](https://www.kaggle.com/datasets?fileType=bigQuery)."
   ]
  },
  {
   "cell_type": "markdown",
   "id": "distant-celebrity",
   "metadata": {
    "papermill": {
     "duration": 0.05288,
     "end_time": "2021-04-22T14:26:55.735185",
     "exception": false,
     "start_time": "2021-04-22T14:26:55.682305",
     "status": "completed"
    },
    "tags": []
   },
   "source": [
    "---\n",
    "\n",
    "\n",
    "\n",
    "\n",
    "*Have questions or comments? Visit the [Learn Discussion forum](https://www.kaggle.com/learn-forum/161314) to chat with other Learners.*"
   ]
  }
 ],
 "metadata": {
  "kernelspec": {
   "display_name": "Python 3",
   "language": "python",
   "name": "python3"
  },
  "language_info": {
   "codemirror_mode": {
    "name": "ipython",
    "version": 3
   },
   "file_extension": ".py",
   "mimetype": "text/x-python",
   "name": "python",
   "nbconvert_exporter": "python",
   "pygments_lexer": "ipython3",
   "version": "3.7.10"
  },
  "papermill": {
   "default_parameters": {},
   "duration": 69.171048,
   "end_time": "2021-04-22T14:26:56.702798",
   "environment_variables": {},
   "exception": null,
   "input_path": "__notebook__.ipynb",
   "output_path": "__notebook__.ipynb",
   "parameters": {},
   "start_time": "2021-04-22T14:25:47.531750",
   "version": "2.3.3"
  }
 },
 "nbformat": 4,
 "nbformat_minor": 5
}
