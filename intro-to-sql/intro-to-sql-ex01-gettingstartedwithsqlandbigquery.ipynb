{
 "cells": [
  {
   "cell_type": "markdown",
   "id": "perceived-oliver",
   "metadata": {
    "papermill": {
     "duration": 0.01801,
     "end_time": "2021-04-20T12:49:37.471255",
     "exception": false,
     "start_time": "2021-04-20T12:49:37.453245",
     "status": "completed"
    },
    "tags": []
   },
   "source": [
    "### Intro to SQL Ex01: Getting Started With SQL and BigQuery"
   ]
  },
  {
   "cell_type": "markdown",
   "id": "consolidated-generic",
   "metadata": {
    "papermill": {
     "duration": 0.015545,
     "end_time": "2021-04-20T12:49:37.502922",
     "exception": false,
     "start_time": "2021-04-20T12:49:37.487377",
     "status": "completed"
    },
    "tags": []
   },
   "source": [
    "**This notebook is an exercise in the [SQL](https://www.kaggle.com/learn/intro-to-sql \"SQL\") course.  You can reference the tutorial at [this link](https://www.kaggle.com/dansbecker/getting-started-with-sql-and-bigquery \"Tutorial - Getting Started With SQL and BigQuery\").**\n",
    "\n",
    "> **This notebook is the first exercise in the  [SQL](https://www.kaggle.com/learn/intro-to-sql \"SQL\") course. <span style = \"padding: 10px\"> It is the exercise of the first lesson, aka [Getting Started With SQL and BigQuery](https://www.kaggle.com/dansbecker/getting-started-with-sql-and-bigquery \"Tutorial - Getting Started With SQL and BigQuery\").**"
   ]
  },
  {
   "cell_type": "markdown",
   "id": "ecological-bookmark",
   "metadata": {
    "papermill": {
     "duration": 0.015449,
     "end_time": "2021-04-20T12:49:37.534149",
     "exception": false,
     "start_time": "2021-04-20T12:49:37.518700",
     "status": "completed"
    },
    "tags": []
   },
   "source": [
    "# Introduction\n",
    "\n",
    "The first test of your new data exploration skills uses data describing crime in the city of Chicago.\n",
    "\n",
    "Before you get started, run the following cell. It sets up the automated feedback system to review your answers."
   ]
  },
  {
   "cell_type": "code",
   "execution_count": 1,
   "id": "random-relative",
   "metadata": {
    "execution": {
     "iopub.execute_input": "2021-04-20T12:49:37.570827Z",
     "iopub.status.busy": "2021-04-20T12:49:37.569561Z",
     "iopub.status.idle": "2021-04-20T12:49:38.270635Z",
     "shell.execute_reply": "2021-04-20T12:49:38.269816Z"
    },
    "papermill": {
     "duration": 0.72095,
     "end_time": "2021-04-20T12:49:38.270819",
     "exception": false,
     "start_time": "2021-04-20T12:49:37.549869",
     "status": "completed"
    },
    "tags": []
   },
   "outputs": [
    {
     "name": "stdout",
     "output_type": "stream",
     "text": [
      "Using Kaggle's public dataset BigQuery integration.\n",
      "Setup Complete\n"
     ]
    }
   ],
   "source": [
    "# Set up feedack system\n",
    "from learntools.core import binder\n",
    "binder.bind(globals())\n",
    "from learntools.sql.ex1 import *\n",
    "print(\"Setup Complete\")"
   ]
  },
  {
   "cell_type": "markdown",
   "id": "exciting-cache",
   "metadata": {
    "papermill": {
     "duration": 0.016422,
     "end_time": "2021-04-20T12:49:38.304631",
     "exception": false,
     "start_time": "2021-04-20T12:49:38.288209",
     "status": "completed"
    },
    "tags": []
   },
   "source": [
    "Use the next code cell to fetch the dataset."
   ]
  },
  {
   "cell_type": "code",
   "execution_count": 2,
   "id": "equal-display",
   "metadata": {
    "execution": {
     "iopub.execute_input": "2021-04-20T12:49:38.350649Z",
     "iopub.status.busy": "2021-04-20T12:49:38.349551Z",
     "iopub.status.idle": "2021-04-20T12:49:38.574707Z",
     "shell.execute_reply": "2021-04-20T12:49:38.575258Z"
    },
    "papermill": {
     "duration": 0.254148,
     "end_time": "2021-04-20T12:49:38.575487",
     "exception": false,
     "start_time": "2021-04-20T12:49:38.321339",
     "status": "completed"
    },
    "tags": []
   },
   "outputs": [
    {
     "name": "stdout",
     "output_type": "stream",
     "text": [
      "Using Kaggle's public dataset BigQuery integration.\n"
     ]
    }
   ],
   "source": [
    "from google.cloud import bigquery\n",
    "\n",
    "# Create a \"Client\" object\n",
    "client = bigquery.Client()\n",
    "\n",
    "# Construct a reference to the \"chicago_crime\" dataset\n",
    "dataset_ref = client.dataset(\"chicago_crime\", project=\"bigquery-public-data\")\n",
    "\n",
    "# API request - fetch the dataset\n",
    "dataset = client.get_dataset(dataset_ref)"
   ]
  },
  {
   "cell_type": "markdown",
   "id": "satellite-madrid",
   "metadata": {
    "papermill": {
     "duration": 0.017744,
     "end_time": "2021-04-20T12:49:38.610529",
     "exception": false,
     "start_time": "2021-04-20T12:49:38.592785",
     "status": "completed"
    },
    "tags": []
   },
   "source": [
    "# Exercises\n",
    "\n",
    "### 1) Count tables in the dataset\n",
    "\n",
    "How many tables are in the Chicago Crime dataset?"
   ]
  },
  {
   "cell_type": "code",
   "execution_count": 3,
   "id": "exposed-delay",
   "metadata": {
    "execution": {
     "iopub.execute_input": "2021-04-20T12:49:38.652447Z",
     "iopub.status.busy": "2021-04-20T12:49:38.651731Z",
     "iopub.status.idle": "2021-04-20T12:49:38.860779Z",
     "shell.execute_reply": "2021-04-20T12:49:38.861514Z"
    },
    "papermill": {
     "duration": 0.233852,
     "end_time": "2021-04-20T12:49:38.861743",
     "exception": false,
     "start_time": "2021-04-20T12:49:38.627891",
     "status": "completed"
    },
    "tags": []
   },
   "outputs": [],
   "source": [
    "# Write the code you need here to figure out the answer\n",
    "tables = list(client.list_tables(dataset))"
   ]
  },
  {
   "cell_type": "code",
   "execution_count": 4,
   "id": "quiet-roulette",
   "metadata": {
    "execution": {
     "iopub.execute_input": "2021-04-20T12:49:38.916024Z",
     "iopub.status.busy": "2021-04-20T12:49:38.915248Z",
     "iopub.status.idle": "2021-04-20T12:49:38.931739Z",
     "shell.execute_reply": "2021-04-20T12:49:38.932732Z"
    },
    "papermill": {
     "duration": 0.046518,
     "end_time": "2021-04-20T12:49:38.933120",
     "exception": false,
     "start_time": "2021-04-20T12:49:38.886602",
     "status": "completed"
    },
    "tags": []
   },
   "outputs": [
    {
     "name": "stdout",
     "output_type": "stream",
     "text": [
      "num_tables: 1\n"
     ]
    },
    {
     "data": {
      "application/javascript": [
       "parent.postMessage({\"jupyterEvent\": \"custom.exercise_interaction\", \"data\": {\"outcomeType\": 1, \"valueTowardsCompletion\": 0.3333333333333333, \"interactionType\": 1, \"questionType\": 1, \"questionId\": \"1_CountTables\", \"learnToolsVersion\": \"0.3.4\", \"failureMessage\": \"\", \"exceptionClass\": \"\", \"trace\": \"\"}}, \"*\")"
      ],
      "text/plain": [
       "<IPython.core.display.Javascript object>"
      ]
     },
     "metadata": {},
     "output_type": "display_data"
    },
    {
     "data": {
      "text/markdown": [
       "<span style=\"color:#33cc33\">Correct</span>"
      ],
      "text/plain": [
       "Correct"
      ]
     },
     "metadata": {},
     "output_type": "display_data"
    }
   ],
   "source": [
    "num_tables = len(tables)  # Store the answer as num_tables and then run this cell\n",
    "print('num_tables:', num_tables)\n",
    "\n",
    "# Check your answer\n",
    "q_1.check()"
   ]
  },
  {
   "cell_type": "markdown",
   "id": "fuzzy-clark",
   "metadata": {
    "papermill": {
     "duration": 0.019467,
     "end_time": "2021-04-20T12:49:38.981031",
     "exception": false,
     "start_time": "2021-04-20T12:49:38.961564",
     "status": "completed"
    },
    "tags": []
   },
   "source": [
    "For a hint or the solution, uncomment the appropriate line below."
   ]
  },
  {
   "cell_type": "code",
   "execution_count": 5,
   "id": "solar-armenia",
   "metadata": {
    "execution": {
     "iopub.execute_input": "2021-04-20T12:49:39.024043Z",
     "iopub.status.busy": "2021-04-20T12:49:39.023317Z",
     "iopub.status.idle": "2021-04-20T12:49:39.030029Z",
     "shell.execute_reply": "2021-04-20T12:49:39.030704Z"
    },
    "papermill": {
     "duration": 0.03069,
     "end_time": "2021-04-20T12:49:39.030907",
     "exception": false,
     "start_time": "2021-04-20T12:49:39.000217",
     "status": "completed"
    },
    "tags": []
   },
   "outputs": [
    {
     "data": {
      "application/javascript": [
       "parent.postMessage({\"jupyterEvent\": \"custom.exercise_interaction\", \"data\": {\"interactionType\": 2, \"questionType\": 1, \"questionId\": \"1_CountTables\", \"learnToolsVersion\": \"0.3.4\", \"valueTowardsCompletion\": 0.0, \"failureMessage\": \"\", \"exceptionClass\": \"\", \"trace\": \"\", \"outcomeType\": 4}}, \"*\")"
      ],
      "text/plain": [
       "<IPython.core.display.Javascript object>"
      ]
     },
     "metadata": {},
     "output_type": "display_data"
    },
    {
     "data": {
      "text/markdown": [
       "<span style=\"color:#3366cc\">Hint:</span> Use the `list_tables()` method to get a list of the tables in the dataset."
      ],
      "text/plain": [
       "Hint: Use the `list_tables()` method to get a list of the tables in the dataset."
      ]
     },
     "metadata": {},
     "output_type": "display_data"
    }
   ],
   "source": [
    "q_1.hint()\n",
    "#q_1.solution()"
   ]
  },
  {
   "cell_type": "markdown",
   "id": "competent-professional",
   "metadata": {
    "papermill": {
     "duration": 0.019886,
     "end_time": "2021-04-20T12:49:39.070790",
     "exception": false,
     "start_time": "2021-04-20T12:49:39.050904",
     "status": "completed"
    },
    "tags": []
   },
   "source": [
    "### 2) Explore the table schema\n",
    "\n",
    "How many columns in the `crime` table have `TIMESTAMP` data?"
   ]
  },
  {
   "cell_type": "code",
   "execution_count": 6,
   "id": "southern-radical",
   "metadata": {
    "execution": {
     "iopub.execute_input": "2021-04-20T12:49:39.115235Z",
     "iopub.status.busy": "2021-04-20T12:49:39.114540Z",
     "iopub.status.idle": "2021-04-20T12:49:39.309792Z",
     "shell.execute_reply": "2021-04-20T12:49:39.309202Z"
    },
    "papermill": {
     "duration": 0.218765,
     "end_time": "2021-04-20T12:49:39.309995",
     "exception": false,
     "start_time": "2021-04-20T12:49:39.091230",
     "status": "completed"
    },
    "tags": []
   },
   "outputs": [
    {
     "data": {
      "text/plain": [
       "Table(TableReference(DatasetReference('bigquery-public-data', 'chicago_crime'), 'crime'))"
      ]
     },
     "execution_count": 6,
     "metadata": {},
     "output_type": "execute_result"
    }
   ],
   "source": [
    "# Write the code to figure out the answer\n",
    "table_crime_ref = dataset_ref.table(\"crime\")\n",
    "table_crime = client.get_table(table_crime_ref)\n",
    "\n",
    "table_crime"
   ]
  },
  {
   "cell_type": "code",
   "execution_count": 7,
   "id": "moral-phoenix",
   "metadata": {
    "execution": {
     "iopub.execute_input": "2021-04-20T12:49:39.358455Z",
     "iopub.status.busy": "2021-04-20T12:49:39.357735Z",
     "iopub.status.idle": "2021-04-20T12:49:39.361415Z",
     "shell.execute_reply": "2021-04-20T12:49:39.361867Z"
    },
    "papermill": {
     "duration": 0.031506,
     "end_time": "2021-04-20T12:49:39.362095",
     "exception": false,
     "start_time": "2021-04-20T12:49:39.330589",
     "status": "completed"
    },
    "tags": []
   },
   "outputs": [
    {
     "data": {
      "text/plain": [
       "[SchemaField('unique_key', 'INTEGER', 'REQUIRED', 'Unique identifier for the record.', (), None),\n",
       " SchemaField('case_number', 'STRING', 'NULLABLE', 'The Chicago Police Department RD Number (Records Division Number), which is unique to the incident.', (), None),\n",
       " SchemaField('date', 'TIMESTAMP', 'NULLABLE', 'Date when the incident occurred. this is sometimes a best estimate.', (), None),\n",
       " SchemaField('block', 'STRING', 'NULLABLE', 'The partially redacted address where the incident occurred, placing it on the same block as the actual address.', (), None),\n",
       " SchemaField('iucr', 'STRING', 'NULLABLE', 'The Illinois Unifrom Crime Reporting code. This is directly linked to the Primary Type and Description. See the list of IUCR codes at https://data.cityofchicago.org/d/c7ck-438e.', (), None),\n",
       " SchemaField('primary_type', 'STRING', 'NULLABLE', 'The primary description of the IUCR code.', (), None),\n",
       " SchemaField('description', 'STRING', 'NULLABLE', 'The secondary description of the IUCR code, a subcategory of the primary description.', (), None),\n",
       " SchemaField('location_description', 'STRING', 'NULLABLE', 'Description of the location where the incident occurred.', (), None),\n",
       " SchemaField('arrest', 'BOOLEAN', 'NULLABLE', 'Indicates whether an arrest was made.', (), None),\n",
       " SchemaField('domestic', 'BOOLEAN', 'NULLABLE', 'Indicates whether the incident was domestic-related as defined by the Illinois Domestic Violence Act.', (), None),\n",
       " SchemaField('beat', 'INTEGER', 'NULLABLE', 'Indicates the beat where the incident occurred. A beat is the smallest police geographic area – each beat has a dedicated police beat car. Three to five beats make up a police sector, and three sectors make up a police district. The Chicago Police Department has 22 police districts. See the beats at https://data.cityofchicago.org/d/aerh-rz74.', (), None),\n",
       " SchemaField('district', 'INTEGER', 'NULLABLE', 'Indicates the police district where the incident occurred. See the districts at https://data.cityofchicago.org/d/fthy-xz3r.', (), None),\n",
       " SchemaField('ward', 'INTEGER', 'NULLABLE', 'The ward (City Council district) where the incident occurred. See the wards at https://data.cityofchicago.org/d/sp34-6z76.', (), None),\n",
       " SchemaField('community_area', 'INTEGER', 'NULLABLE', 'Indicates the community area where the incident occurred. Chicago has 77 community areas. See the community areas at https://data.cityofchicago.org/d/cauq-8yn6.', (), None),\n",
       " SchemaField('fbi_code', 'STRING', 'NULLABLE', \"Indicates the crime classification as outlined in the FBI's National Incident-Based Reporting System (NIBRS). See the Chicago Police Department listing of these classifications at http://gis.chicagopolice.org/clearmap_crime_sums/crime_types.html.\", (), None),\n",
       " SchemaField('x_coordinate', 'FLOAT', 'NULLABLE', 'The x coordinate of the location where the incident occurred in State Plane Illinois East NAD 1983 projection. This location is shifted from the actual location for partial redaction but falls on the same block.', (), None),\n",
       " SchemaField('y_coordinate', 'FLOAT', 'NULLABLE', 'The y coordinate of the location where the incident occurred in State Plane Illinois East NAD 1983 projection. This location is shifted from the actual location for partial redaction but falls on the same block.', (), None),\n",
       " SchemaField('year', 'INTEGER', 'NULLABLE', 'Year the incident occurred.', (), None),\n",
       " SchemaField('updated_on', 'TIMESTAMP', 'NULLABLE', 'Date and time the record was last updated.', (), None),\n",
       " SchemaField('latitude', 'FLOAT', 'NULLABLE', 'The latitude of the location where the incident occurred. This location is shifted from the actual location for partial redaction but falls on the same block.', (), None),\n",
       " SchemaField('longitude', 'FLOAT', 'NULLABLE', 'The longitude of the location where the incident occurred. This location is shifted from the actual location for partial redaction but falls on the same block.', (), None),\n",
       " SchemaField('location', 'STRING', 'NULLABLE', 'The location where the incident occurred in a format that allows for creation of maps and other geographic operations on this data portal. This location is shifted from the actual location for partial redaction but falls on the same block.', (), None)]"
      ]
     },
     "execution_count": 7,
     "metadata": {},
     "output_type": "execute_result"
    }
   ],
   "source": [
    "table_crime.schema"
   ]
  },
  {
   "cell_type": "code",
   "execution_count": 8,
   "id": "scheduled-trust",
   "metadata": {
    "execution": {
     "iopub.execute_input": "2021-04-20T12:49:39.413192Z",
     "iopub.status.busy": "2021-04-20T12:49:39.412333Z",
     "iopub.status.idle": "2021-04-20T12:49:39.420322Z",
     "shell.execute_reply": "2021-04-20T12:49:39.420813Z"
    },
    "papermill": {
     "duration": 0.037687,
     "end_time": "2021-04-20T12:49:39.421048",
     "exception": false,
     "start_time": "2021-04-20T12:49:39.383361",
     "status": "completed"
    },
    "tags": []
   },
   "outputs": [
    {
     "name": "stdout",
     "output_type": "stream",
     "text": [
      "num_timestamp_fields: 2\n"
     ]
    },
    {
     "data": {
      "application/javascript": [
       "parent.postMessage({\"jupyterEvent\": \"custom.exercise_interaction\", \"data\": {\"outcomeType\": 1, \"valueTowardsCompletion\": 0.3333333333333333, \"interactionType\": 1, \"questionType\": 1, \"questionId\": \"2_CountTimestampFields\", \"learnToolsVersion\": \"0.3.4\", \"failureMessage\": \"\", \"exceptionClass\": \"\", \"trace\": \"\"}}, \"*\")"
      ],
      "text/plain": [
       "<IPython.core.display.Javascript object>"
      ]
     },
     "metadata": {},
     "output_type": "display_data"
    },
    {
     "data": {
      "text/markdown": [
       "<span style=\"color:#33cc33\">Correct</span>"
      ],
      "text/plain": [
       "Correct"
      ]
     },
     "metadata": {},
     "output_type": "display_data"
    }
   ],
   "source": [
    "num_timestamp_fields = 0\n",
    "for schema_field_crime in table_crime.schema:\n",
    "    if schema_field_crime.field_type == 'TIMESTAMP':\n",
    "        num_timestamp_fields = num_timestamp_fields + 1\n",
    "print('num_timestamp_fields:', num_timestamp_fields)\n",
    "\n",
    "# Check your answer\n",
    "q_2.check()"
   ]
  },
  {
   "cell_type": "markdown",
   "id": "matched-computer",
   "metadata": {
    "papermill": {
     "duration": 0.022263,
     "end_time": "2021-04-20T12:49:39.465952",
     "exception": false,
     "start_time": "2021-04-20T12:49:39.443689",
     "status": "completed"
    },
    "tags": []
   },
   "source": [
    "For a hint or the solution, uncomment the appropriate line below."
   ]
  },
  {
   "cell_type": "code",
   "execution_count": 9,
   "id": "surprised-detection",
   "metadata": {
    "execution": {
     "iopub.execute_input": "2021-04-20T12:49:39.516912Z",
     "iopub.status.busy": "2021-04-20T12:49:39.516118Z",
     "iopub.status.idle": "2021-04-20T12:49:39.524430Z",
     "shell.execute_reply": "2021-04-20T12:49:39.525009Z"
    },
    "papermill": {
     "duration": 0.035137,
     "end_time": "2021-04-20T12:49:39.525222",
     "exception": false,
     "start_time": "2021-04-20T12:49:39.490085",
     "status": "completed"
    },
    "tags": []
   },
   "outputs": [
    {
     "data": {
      "application/javascript": [
       "parent.postMessage({\"jupyterEvent\": \"custom.exercise_interaction\", \"data\": {\"interactionType\": 2, \"questionType\": 1, \"questionId\": \"2_CountTimestampFields\", \"learnToolsVersion\": \"0.3.4\", \"valueTowardsCompletion\": 0.0, \"failureMessage\": \"\", \"exceptionClass\": \"\", \"trace\": \"\", \"outcomeType\": 4}}, \"*\")"
      ],
      "text/plain": [
       "<IPython.core.display.Javascript object>"
      ]
     },
     "metadata": {},
     "output_type": "display_data"
    },
    {
     "data": {
      "text/markdown": [
       "<span style=\"color:#3366cc\">Hint:</span> Begin by fetching the `crime` table. Then take a look at the table schema, and check the field type of each column.  How many times does `'TIMESTAMP'` appear?"
      ],
      "text/plain": [
       "Hint: Begin by fetching the `crime` table. Then take a look at the table schema, and check the field type of each column.  How many times does `'TIMESTAMP'` appear?"
      ]
     },
     "metadata": {},
     "output_type": "display_data"
    }
   ],
   "source": [
    "q_2.hint()\n",
    "#q_2.solution()"
   ]
  },
  {
   "cell_type": "markdown",
   "id": "hollywood-syntax",
   "metadata": {
    "papermill": {
     "duration": 0.02328,
     "end_time": "2021-04-20T12:49:39.572144",
     "exception": false,
     "start_time": "2021-04-20T12:49:39.548864",
     "status": "completed"
    },
    "tags": []
   },
   "source": [
    "### 3) Create a crime map\n",
    "\n",
    "If you wanted to create a map with a dot at the location of each crime, what are the names of the two fields you likely need to pull out of the `crime` table to plot the crimes on a map?"
   ]
  },
  {
   "cell_type": "code",
   "execution_count": 10,
   "id": "interesting-trade",
   "metadata": {
    "execution": {
     "iopub.execute_input": "2021-04-20T12:49:39.622810Z",
     "iopub.status.busy": "2021-04-20T12:49:39.622170Z",
     "iopub.status.idle": "2021-04-20T12:49:39.629248Z",
     "shell.execute_reply": "2021-04-20T12:49:39.629748Z"
    },
    "papermill": {
     "duration": 0.034193,
     "end_time": "2021-04-20T12:49:39.629948",
     "exception": false,
     "start_time": "2021-04-20T12:49:39.595755",
     "status": "completed"
    },
    "tags": []
   },
   "outputs": [
    {
     "data": {
      "text/plain": [
       "[SchemaField('unique_key', 'INTEGER', 'REQUIRED', 'Unique identifier for the record.', (), None),\n",
       " SchemaField('case_number', 'STRING', 'NULLABLE', 'The Chicago Police Department RD Number (Records Division Number), which is unique to the incident.', (), None),\n",
       " SchemaField('date', 'TIMESTAMP', 'NULLABLE', 'Date when the incident occurred. this is sometimes a best estimate.', (), None),\n",
       " SchemaField('block', 'STRING', 'NULLABLE', 'The partially redacted address where the incident occurred, placing it on the same block as the actual address.', (), None),\n",
       " SchemaField('iucr', 'STRING', 'NULLABLE', 'The Illinois Unifrom Crime Reporting code. This is directly linked to the Primary Type and Description. See the list of IUCR codes at https://data.cityofchicago.org/d/c7ck-438e.', (), None),\n",
       " SchemaField('primary_type', 'STRING', 'NULLABLE', 'The primary description of the IUCR code.', (), None),\n",
       " SchemaField('description', 'STRING', 'NULLABLE', 'The secondary description of the IUCR code, a subcategory of the primary description.', (), None),\n",
       " SchemaField('location_description', 'STRING', 'NULLABLE', 'Description of the location where the incident occurred.', (), None),\n",
       " SchemaField('arrest', 'BOOLEAN', 'NULLABLE', 'Indicates whether an arrest was made.', (), None),\n",
       " SchemaField('domestic', 'BOOLEAN', 'NULLABLE', 'Indicates whether the incident was domestic-related as defined by the Illinois Domestic Violence Act.', (), None),\n",
       " SchemaField('beat', 'INTEGER', 'NULLABLE', 'Indicates the beat where the incident occurred. A beat is the smallest police geographic area – each beat has a dedicated police beat car. Three to five beats make up a police sector, and three sectors make up a police district. The Chicago Police Department has 22 police districts. See the beats at https://data.cityofchicago.org/d/aerh-rz74.', (), None),\n",
       " SchemaField('district', 'INTEGER', 'NULLABLE', 'Indicates the police district where the incident occurred. See the districts at https://data.cityofchicago.org/d/fthy-xz3r.', (), None),\n",
       " SchemaField('ward', 'INTEGER', 'NULLABLE', 'The ward (City Council district) where the incident occurred. See the wards at https://data.cityofchicago.org/d/sp34-6z76.', (), None),\n",
       " SchemaField('community_area', 'INTEGER', 'NULLABLE', 'Indicates the community area where the incident occurred. Chicago has 77 community areas. See the community areas at https://data.cityofchicago.org/d/cauq-8yn6.', (), None),\n",
       " SchemaField('fbi_code', 'STRING', 'NULLABLE', \"Indicates the crime classification as outlined in the FBI's National Incident-Based Reporting System (NIBRS). See the Chicago Police Department listing of these classifications at http://gis.chicagopolice.org/clearmap_crime_sums/crime_types.html.\", (), None),\n",
       " SchemaField('x_coordinate', 'FLOAT', 'NULLABLE', 'The x coordinate of the location where the incident occurred in State Plane Illinois East NAD 1983 projection. This location is shifted from the actual location for partial redaction but falls on the same block.', (), None),\n",
       " SchemaField('y_coordinate', 'FLOAT', 'NULLABLE', 'The y coordinate of the location where the incident occurred in State Plane Illinois East NAD 1983 projection. This location is shifted from the actual location for partial redaction but falls on the same block.', (), None),\n",
       " SchemaField('year', 'INTEGER', 'NULLABLE', 'Year the incident occurred.', (), None),\n",
       " SchemaField('updated_on', 'TIMESTAMP', 'NULLABLE', 'Date and time the record was last updated.', (), None),\n",
       " SchemaField('latitude', 'FLOAT', 'NULLABLE', 'The latitude of the location where the incident occurred. This location is shifted from the actual location for partial redaction but falls on the same block.', (), None),\n",
       " SchemaField('longitude', 'FLOAT', 'NULLABLE', 'The longitude of the location where the incident occurred. This location is shifted from the actual location for partial redaction but falls on the same block.', (), None),\n",
       " SchemaField('location', 'STRING', 'NULLABLE', 'The location where the incident occurred in a format that allows for creation of maps and other geographic operations on this data portal. This location is shifted from the actual location for partial redaction but falls on the same block.', (), None)]"
      ]
     },
     "execution_count": 10,
     "metadata": {},
     "output_type": "execute_result"
    }
   ],
   "source": [
    "# Write the code here to explore the data so you can find the answer\n",
    "table_crime.schema"
   ]
  },
  {
   "cell_type": "code",
   "execution_count": 11,
   "id": "distributed-breed",
   "metadata": {
    "execution": {
     "iopub.execute_input": "2021-04-20T12:49:39.685563Z",
     "iopub.status.busy": "2021-04-20T12:49:39.684303Z",
     "iopub.status.idle": "2021-04-20T12:49:39.690464Z",
     "shell.execute_reply": "2021-04-20T12:49:39.690933Z"
    },
    "papermill": {
     "duration": 0.036981,
     "end_time": "2021-04-20T12:49:39.691172",
     "exception": false,
     "start_time": "2021-04-20T12:49:39.654191",
     "status": "completed"
    },
    "tags": []
   },
   "outputs": [
    {
     "data": {
      "application/javascript": [
       "parent.postMessage({\"jupyterEvent\": \"custom.exercise_interaction\", \"data\": {\"outcomeType\": 1, \"valueTowardsCompletion\": 0.3333333333333333, \"interactionType\": 1, \"questionType\": 2, \"questionId\": \"3_IdentifyFieldsForPlotting\", \"learnToolsVersion\": \"0.3.4\", \"failureMessage\": \"\", \"exceptionClass\": \"\", \"trace\": \"\"}}, \"*\")"
      ],
      "text/plain": [
       "<IPython.core.display.Javascript object>"
      ]
     },
     "metadata": {},
     "output_type": "display_data"
    },
    {
     "data": {
      "text/markdown": [
       "<span style=\"color:#33cc33\">Correct</span>"
      ],
      "text/plain": [
       "Correct"
      ]
     },
     "metadata": {},
     "output_type": "display_data"
    }
   ],
   "source": [
    "fields_for_plotting = ['latitude', 'longitude'] # Put your answers here\n",
    "\n",
    "# Check your answer\n",
    "q_3.check()"
   ]
  },
  {
   "cell_type": "markdown",
   "id": "civilian-spokesman",
   "metadata": {
    "papermill": {
     "duration": 0.02565,
     "end_time": "2021-04-20T12:49:39.743408",
     "exception": false,
     "start_time": "2021-04-20T12:49:39.717758",
     "status": "completed"
    },
    "tags": []
   },
   "source": [
    "For a hint or the solution, uncomment the appropriate line below."
   ]
  },
  {
   "cell_type": "code",
   "execution_count": 12,
   "id": "therapeutic-shopper",
   "metadata": {
    "execution": {
     "iopub.execute_input": "2021-04-20T12:49:39.802263Z",
     "iopub.status.busy": "2021-04-20T12:49:39.801438Z",
     "iopub.status.idle": "2021-04-20T12:49:39.807447Z",
     "shell.execute_reply": "2021-04-20T12:49:39.807929Z"
    },
    "papermill": {
     "duration": 0.038788,
     "end_time": "2021-04-20T12:49:39.808150",
     "exception": false,
     "start_time": "2021-04-20T12:49:39.769362",
     "status": "completed"
    },
    "tags": []
   },
   "outputs": [
    {
     "data": {
      "application/javascript": [
       "parent.postMessage({\"jupyterEvent\": \"custom.exercise_interaction\", \"data\": {\"interactionType\": 2, \"questionType\": 2, \"questionId\": \"3_IdentifyFieldsForPlotting\", \"learnToolsVersion\": \"0.3.4\", \"valueTowardsCompletion\": 0.0, \"failureMessage\": \"\", \"exceptionClass\": \"\", \"trace\": \"\", \"outcomeType\": 4}}, \"*\")"
      ],
      "text/plain": [
       "<IPython.core.display.Javascript object>"
      ]
     },
     "metadata": {},
     "output_type": "display_data"
    },
    {
     "data": {
      "text/markdown": [
       "<span style=\"color:#3366cc\">Hint:</span> Look at the table schema.  There are a couple options, but two of the fields are things commonly used to plot on maps. Both are `'FLOAT'` types. Use quotes around the field names in your answer."
      ],
      "text/plain": [
       "Hint: Look at the table schema.  There are a couple options, but two of the fields are things commonly used to plot on maps. Both are `'FLOAT'` types. Use quotes around the field names in your answer."
      ]
     },
     "metadata": {},
     "output_type": "display_data"
    }
   ],
   "source": [
    "q_3.hint()\n",
    "#q_3.solution()"
   ]
  },
  {
   "cell_type": "markdown",
   "id": "ordered-colleague",
   "metadata": {
    "papermill": {
     "duration": 0.026013,
     "end_time": "2021-04-20T12:49:39.860856",
     "exception": false,
     "start_time": "2021-04-20T12:49:39.834843",
     "status": "completed"
    },
    "tags": []
   },
   "source": [
    "Thinking about the question above, there are a few columns that appear to have geographic data. Look at a few values (with the `list_rows()` command) to see if you can determine their relationship.  Two columns will still be hard to interpret. But it should be obvious how the `location` column relates to `latitude` and `longitude`."
   ]
  },
  {
   "cell_type": "code",
   "execution_count": 13,
   "id": "august-barbados",
   "metadata": {
    "execution": {
     "iopub.execute_input": "2021-04-20T12:49:39.923614Z",
     "iopub.status.busy": "2021-04-20T12:49:39.922884Z",
     "iopub.status.idle": "2021-04-20T12:49:40.338576Z",
     "shell.execute_reply": "2021-04-20T12:49:40.339099Z"
    },
    "papermill": {
     "duration": 0.452178,
     "end_time": "2021-04-20T12:49:40.339320",
     "exception": false,
     "start_time": "2021-04-20T12:49:39.887142",
     "status": "completed"
    },
    "tags": []
   },
   "outputs": [
    {
     "name": "stderr",
     "output_type": "stream",
     "text": [
      "/opt/conda/lib/python3.7/site-packages/ipykernel_launcher.py:2: UserWarning: Cannot use bqstorage_client if max_results is set, reverting to fetching data with the tabledata.list endpoint.\n",
      "  \n"
     ]
    },
    {
     "data": {
      "text/html": [
       "<div>\n",
       "<style scoped>\n",
       "    .dataframe tbody tr th:only-of-type {\n",
       "        vertical-align: middle;\n",
       "    }\n",
       "\n",
       "    .dataframe tbody tr th {\n",
       "        vertical-align: top;\n",
       "    }\n",
       "\n",
       "    .dataframe thead th {\n",
       "        text-align: right;\n",
       "    }\n",
       "</style>\n",
       "<table border=\"1\" class=\"dataframe\">\n",
       "  <thead>\n",
       "    <tr style=\"text-align: right;\">\n",
       "      <th></th>\n",
       "      <th>unique_key</th>\n",
       "      <th>case_number</th>\n",
       "      <th>date</th>\n",
       "      <th>block</th>\n",
       "      <th>iucr</th>\n",
       "      <th>primary_type</th>\n",
       "      <th>description</th>\n",
       "      <th>location_description</th>\n",
       "      <th>arrest</th>\n",
       "      <th>domestic</th>\n",
       "      <th>...</th>\n",
       "      <th>ward</th>\n",
       "      <th>community_area</th>\n",
       "      <th>fbi_code</th>\n",
       "      <th>x_coordinate</th>\n",
       "      <th>y_coordinate</th>\n",
       "      <th>year</th>\n",
       "      <th>updated_on</th>\n",
       "      <th>latitude</th>\n",
       "      <th>longitude</th>\n",
       "      <th>location</th>\n",
       "    </tr>\n",
       "  </thead>\n",
       "  <tbody>\n",
       "    <tr>\n",
       "      <th>0</th>\n",
       "      <td>10232393</td>\n",
       "      <td>HY420129</td>\n",
       "      <td>2015-09-08 09:00:00+00:00</td>\n",
       "      <td>035XX S COTTAGE GROVE AVE</td>\n",
       "      <td>1790</td>\n",
       "      <td>OFFENSE INVOLVING CHILDREN</td>\n",
       "      <td>CHILD ABDUCTION</td>\n",
       "      <td>RESIDENCE</td>\n",
       "      <td>False</td>\n",
       "      <td>False</td>\n",
       "      <td>...</td>\n",
       "      <td>4</td>\n",
       "      <td>36</td>\n",
       "      <td>20</td>\n",
       "      <td>1181368.0</td>\n",
       "      <td>1881512.0</td>\n",
       "      <td>2015</td>\n",
       "      <td>2018-02-10 15:50:01+00:00</td>\n",
       "      <td>41.830110</td>\n",
       "      <td>-87.610058</td>\n",
       "      <td>(41.830109681, -87.610058377)</td>\n",
       "    </tr>\n",
       "    <tr>\n",
       "      <th>1</th>\n",
       "      <td>11652549</td>\n",
       "      <td>JC220440</td>\n",
       "      <td>2017-01-01 00:01:00+00:00</td>\n",
       "      <td>048XX N MILWAUKEE AVE</td>\n",
       "      <td>1154</td>\n",
       "      <td>DECEPTIVE PRACTICE</td>\n",
       "      <td>FINANCIAL IDENTITY THEFT $300 AND UNDER</td>\n",
       "      <td>WAREHOUSE</td>\n",
       "      <td>False</td>\n",
       "      <td>False</td>\n",
       "      <td>...</td>\n",
       "      <td>45</td>\n",
       "      <td>11</td>\n",
       "      <td>11</td>\n",
       "      <td>NaN</td>\n",
       "      <td>NaN</td>\n",
       "      <td>2017</td>\n",
       "      <td>2019-04-12 16:08:18+00:00</td>\n",
       "      <td>NaN</td>\n",
       "      <td>NaN</td>\n",
       "      <td>None</td>\n",
       "    </tr>\n",
       "    <tr>\n",
       "      <th>2</th>\n",
       "      <td>10257073</td>\n",
       "      <td>HY444313</td>\n",
       "      <td>2015-09-28 16:00:00+00:00</td>\n",
       "      <td>003XX E 131ST PL</td>\n",
       "      <td>0440</td>\n",
       "      <td>BATTERY</td>\n",
       "      <td>AGG: HANDS/FIST/FEET NO/MINOR INJURY</td>\n",
       "      <td>STREET</td>\n",
       "      <td>False</td>\n",
       "      <td>False</td>\n",
       "      <td>...</td>\n",
       "      <td>9</td>\n",
       "      <td>54</td>\n",
       "      <td>08B</td>\n",
       "      <td>1180564.0</td>\n",
       "      <td>1818326.0</td>\n",
       "      <td>2015</td>\n",
       "      <td>2018-02-10 15:50:01+00:00</td>\n",
       "      <td>41.656739</td>\n",
       "      <td>-87.614944</td>\n",
       "      <td>(41.656738592, -87.61494361)</td>\n",
       "    </tr>\n",
       "    <tr>\n",
       "      <th>3</th>\n",
       "      <td>10266970</td>\n",
       "      <td>HY453988</td>\n",
       "      <td>2015-10-07 21:00:00+00:00</td>\n",
       "      <td>055XX N PANAMA AVE</td>\n",
       "      <td>1305</td>\n",
       "      <td>CRIMINAL DAMAGE</td>\n",
       "      <td>CRIMINAL DEFACEMENT</td>\n",
       "      <td>RESIDENCE</td>\n",
       "      <td>False</td>\n",
       "      <td>False</td>\n",
       "      <td>...</td>\n",
       "      <td>41</td>\n",
       "      <td>10</td>\n",
       "      <td>14</td>\n",
       "      <td>1121294.0</td>\n",
       "      <td>1935682.0</td>\n",
       "      <td>2015</td>\n",
       "      <td>2018-02-10 15:50:01+00:00</td>\n",
       "      <td>41.979937</td>\n",
       "      <td>-87.829307</td>\n",
       "      <td>(41.979936603, -87.829306993)</td>\n",
       "    </tr>\n",
       "    <tr>\n",
       "      <th>4</th>\n",
       "      <td>10298303</td>\n",
       "      <td>HY486315</td>\n",
       "      <td>2015-11-02 14:35:00+00:00</td>\n",
       "      <td>091XX S SOUTH CHICAGO AVE</td>\n",
       "      <td>0850</td>\n",
       "      <td>THEFT</td>\n",
       "      <td>ATTEMPT THEFT</td>\n",
       "      <td>DRUG STORE</td>\n",
       "      <td>False</td>\n",
       "      <td>False</td>\n",
       "      <td>...</td>\n",
       "      <td>7</td>\n",
       "      <td>48</td>\n",
       "      <td>06</td>\n",
       "      <td>1196833.0</td>\n",
       "      <td>1844857.0</td>\n",
       "      <td>2015</td>\n",
       "      <td>2018-02-10 15:50:01+00:00</td>\n",
       "      <td>41.729155</td>\n",
       "      <td>-87.554536</td>\n",
       "      <td>(41.729154867, -87.554536327)</td>\n",
       "    </tr>\n",
       "  </tbody>\n",
       "</table>\n",
       "<p>5 rows × 22 columns</p>\n",
       "</div>"
      ],
      "text/plain": [
       "   unique_key case_number                      date  \\\n",
       "0    10232393    HY420129 2015-09-08 09:00:00+00:00   \n",
       "1    11652549    JC220440 2017-01-01 00:01:00+00:00   \n",
       "2    10257073    HY444313 2015-09-28 16:00:00+00:00   \n",
       "3    10266970    HY453988 2015-10-07 21:00:00+00:00   \n",
       "4    10298303    HY486315 2015-11-02 14:35:00+00:00   \n",
       "\n",
       "                       block  iucr                primary_type  \\\n",
       "0  035XX S COTTAGE GROVE AVE  1790  OFFENSE INVOLVING CHILDREN   \n",
       "1      048XX N MILWAUKEE AVE  1154          DECEPTIVE PRACTICE   \n",
       "2           003XX E 131ST PL  0440                     BATTERY   \n",
       "3         055XX N PANAMA AVE  1305             CRIMINAL DAMAGE   \n",
       "4  091XX S SOUTH CHICAGO AVE  0850                       THEFT   \n",
       "\n",
       "                               description location_description  arrest  \\\n",
       "0                          CHILD ABDUCTION            RESIDENCE   False   \n",
       "1  FINANCIAL IDENTITY THEFT $300 AND UNDER            WAREHOUSE   False   \n",
       "2     AGG: HANDS/FIST/FEET NO/MINOR INJURY               STREET   False   \n",
       "3                      CRIMINAL DEFACEMENT            RESIDENCE   False   \n",
       "4                            ATTEMPT THEFT           DRUG STORE   False   \n",
       "\n",
       "   domestic  ...  ward  community_area  fbi_code  x_coordinate y_coordinate  \\\n",
       "0     False  ...     4              36        20     1181368.0    1881512.0   \n",
       "1     False  ...    45              11        11           NaN          NaN   \n",
       "2     False  ...     9              54       08B     1180564.0    1818326.0   \n",
       "3     False  ...    41              10        14     1121294.0    1935682.0   \n",
       "4     False  ...     7              48        06     1196833.0    1844857.0   \n",
       "\n",
       "   year                updated_on   latitude  longitude  \\\n",
       "0  2015 2018-02-10 15:50:01+00:00  41.830110 -87.610058   \n",
       "1  2017 2019-04-12 16:08:18+00:00        NaN        NaN   \n",
       "2  2015 2018-02-10 15:50:01+00:00  41.656739 -87.614944   \n",
       "3  2015 2018-02-10 15:50:01+00:00  41.979937 -87.829307   \n",
       "4  2015 2018-02-10 15:50:01+00:00  41.729155 -87.554536   \n",
       "\n",
       "                        location  \n",
       "0  (41.830109681, -87.610058377)  \n",
       "1                           None  \n",
       "2   (41.656738592, -87.61494361)  \n",
       "3  (41.979936603, -87.829306993)  \n",
       "4  (41.729154867, -87.554536327)  \n",
       "\n",
       "[5 rows x 22 columns]"
      ]
     },
     "execution_count": 13,
     "metadata": {},
     "output_type": "execute_result"
    }
   ],
   "source": [
    "# Scratch space for your code\n",
    "client.list_rows(table_crime, max_results=5).to_dataframe()"
   ]
  },
  {
   "cell_type": "markdown",
   "id": "nutritional-retention",
   "metadata": {
    "papermill": {
     "duration": 0.02716,
     "end_time": "2021-04-20T12:49:40.394317",
     "exception": false,
     "start_time": "2021-04-20T12:49:40.367157",
     "status": "completed"
    },
    "tags": []
   },
   "source": [
    "# Keep going\n",
    "\n",
    "You've looked at the schema, but you haven't yet done anything exciting with the data itself. Things get more interesting when you get to the data, so keep going to **[write your first SQL query](https://www.kaggle.com/dansbecker/select-from-where).**"
   ]
  },
  {
   "cell_type": "markdown",
   "id": "random-south",
   "metadata": {
    "papermill": {
     "duration": 0.027312,
     "end_time": "2021-04-20T12:49:40.450510",
     "exception": false,
     "start_time": "2021-04-20T12:49:40.423198",
     "status": "completed"
    },
    "tags": []
   },
   "source": [
    "---\n",
    "\n",
    "\n",
    "\n",
    "\n",
    "*Have questions or comments? Visit the [Learn Discussion forum](https://www.kaggle.com/learn-forum/161314) to chat with other Learners.*"
   ]
  }
 ],
 "metadata": {
  "kernelspec": {
   "display_name": "Python 3",
   "language": "python",
   "name": "python3"
  },
  "language_info": {
   "codemirror_mode": {
    "name": "ipython",
    "version": 3
   },
   "file_extension": ".py",
   "mimetype": "text/x-python",
   "name": "python",
   "nbconvert_exporter": "python",
   "pygments_lexer": "ipython3",
   "version": "3.7.9"
  },
  "papermill": {
   "default_parameters": {},
   "duration": 10.88122,
   "end_time": "2021-04-20T12:49:41.290307",
   "environment_variables": {},
   "exception": null,
   "input_path": "__notebook__.ipynb",
   "output_path": "__notebook__.ipynb",
   "parameters": {},
   "start_time": "2021-04-20T12:49:30.409087",
   "version": "2.3.2"
  }
 },
 "nbformat": 4,
 "nbformat_minor": 5
}
