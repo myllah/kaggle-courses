{
 "cells": [
  {
   "cell_type": "markdown",
   "id": "cognitive-drive",
   "metadata": {
    "papermill": {
     "duration": 0.012518,
     "end_time": "2021-04-21T14:49:44.742987",
     "exception": false,
     "start_time": "2021-04-21T14:49:44.730469",
     "status": "completed"
    },
    "tags": []
   },
   "source": [
    "### Intro to SQL Ex04: Order By"
   ]
  },
  {
   "cell_type": "markdown",
   "id": "inappropriate-elevation",
   "metadata": {
    "papermill": {
     "duration": 0.011,
     "end_time": "2021-04-21T14:49:44.765404",
     "exception": false,
     "start_time": "2021-04-21T14:49:44.754404",
     "status": "completed"
    },
    "tags": []
   },
   "source": [
    "**This notebook is an exercise in the [SQL](https://www.kaggle.com/learn/intro-to-sql \"SQL\") course.  You can reference the tutorial at [this link](https://www.kaggle.com/dansbecker/order-by \"Tutorial - Order By\").**\n",
    "\n",
    "> **This notebook is the fourth exercise in the  [SQL](https://www.kaggle.com/learn/intro-to-sql \"SQL\") course. <span style = \"padding: 10px\"> It is the exercise of the fourth lesson, aka [Order By](https://www.kaggle.com/dansbecker/order-by \"Tutorial - Order By\").**\n",
    "\n"
   ]
  },
  {
   "cell_type": "markdown",
   "id": "flying-rehabilitation",
   "metadata": {
    "papermill": {
     "duration": 0.011285,
     "end_time": "2021-04-21T14:49:44.787991",
     "exception": false,
     "start_time": "2021-04-21T14:49:44.776706",
     "status": "completed"
    },
    "tags": []
   },
   "source": [
    "# Introduction\n",
    "\n",
    "You've built up your SQL skills enough that the remaining hands-on exercises will use different datasets than you see in the explanations. If you need to get to know a new dataset, you can run a couple of **SELECT** queries to extract and review the data you need. \n",
    "\n",
    "The next exercises are also more challenging than what you've done so far. Don't worry, you are ready for it!\n",
    "\n",
    "Run the code in the following cell to get everything set up:"
   ]
  },
  {
   "cell_type": "code",
   "execution_count": 1,
   "id": "varied-inclusion",
   "metadata": {
    "execution": {
     "iopub.execute_input": "2021-04-21T14:49:44.814764Z",
     "iopub.status.busy": "2021-04-21T14:49:44.813622Z",
     "iopub.status.idle": "2021-04-21T14:50:12.614944Z",
     "shell.execute_reply": "2021-04-21T14:50:12.614241Z"
    },
    "papermill": {
     "duration": 27.815864,
     "end_time": "2021-04-21T14:50:12.615119",
     "exception": false,
     "start_time": "2021-04-21T14:49:44.799255",
     "status": "completed"
    },
    "tags": []
   },
   "outputs": [
    {
     "name": "stdout",
     "output_type": "stream",
     "text": [
      "Requirement already satisfied: pyarrow==3.0.0 in /opt/conda/lib/python3.7/site-packages (3.0.0)\r\n",
      "Requirement already satisfied: numpy>=1.16.6 in /opt/conda/lib/python3.7/site-packages (from pyarrow==3.0.0) (1.19.5)\r\n"
     ]
    }
   ],
   "source": [
    "!pip install pyarrow==3.0.0"
   ]
  },
  {
   "cell_type": "code",
   "execution_count": 2,
   "id": "ultimate-greenhouse",
   "metadata": {
    "execution": {
     "iopub.execute_input": "2021-04-21T14:50:12.644719Z",
     "iopub.status.busy": "2021-04-21T14:50:12.644066Z",
     "iopub.status.idle": "2021-04-21T14:50:16.215189Z",
     "shell.execute_reply": "2021-04-21T14:50:16.214452Z"
    },
    "papermill": {
     "duration": 3.588113,
     "end_time": "2021-04-21T14:50:16.215403",
     "exception": false,
     "start_time": "2021-04-21T14:50:12.627290",
     "status": "completed"
    },
    "tags": []
   },
   "outputs": [
    {
     "name": "stdout",
     "output_type": "stream",
     "text": [
      "Using Kaggle's public dataset BigQuery integration.\n"
     ]
    },
    {
     "name": "stderr",
     "output_type": "stream",
     "text": [
      "/opt/conda/lib/python3.7/site-packages/google/cloud/bigquery/client.py:440: UserWarning: Cannot create BigQuery Storage client, the dependency google-cloud-bigquery-storage is not installed.\n",
      "  \"Cannot create BigQuery Storage client, the dependency \"\n"
     ]
    },
    {
     "name": "stdout",
     "output_type": "stream",
     "text": [
      "Setup Complete\n"
     ]
    }
   ],
   "source": [
    "# Set up feedback system\n",
    "from learntools.core import binder\n",
    "binder.bind(globals())\n",
    "from learntools.sql.ex4 import *\n",
    "print(\"Setup Complete\")"
   ]
  },
  {
   "cell_type": "markdown",
   "id": "willing-alcohol",
   "metadata": {
    "papermill": {
     "duration": 0.01237,
     "end_time": "2021-04-21T14:50:16.242107",
     "exception": false,
     "start_time": "2021-04-21T14:50:16.229737",
     "status": "completed"
    },
    "tags": []
   },
   "source": [
    "The World Bank has made tons of interesting education data available through BigQuery. Run the following cell to see the first few rows of the `international_education` table from the `world_bank_intl_education` dataset."
   ]
  },
  {
   "cell_type": "code",
   "execution_count": 3,
   "id": "environmental-manner",
   "metadata": {
    "execution": {
     "iopub.execute_input": "2021-04-21T14:50:16.274414Z",
     "iopub.status.busy": "2021-04-21T14:50:16.273617Z",
     "iopub.status.idle": "2021-04-21T14:50:17.711146Z",
     "shell.execute_reply": "2021-04-21T14:50:17.710379Z"
    },
    "papermill": {
     "duration": 1.456521,
     "end_time": "2021-04-21T14:50:17.711337",
     "exception": false,
     "start_time": "2021-04-21T14:50:16.254816",
     "status": "completed"
    },
    "tags": []
   },
   "outputs": [
    {
     "name": "stdout",
     "output_type": "stream",
     "text": [
      "Using Kaggle's public dataset BigQuery integration.\n"
     ]
    },
    {
     "name": "stderr",
     "output_type": "stream",
     "text": [
      "/opt/conda/lib/python3.7/site-packages/ipykernel_launcher.py:19: UserWarning: Cannot use bqstorage_client if max_results is set, reverting to fetching data with the tabledata.list endpoint.\n"
     ]
    },
    {
     "data": {
      "text/html": [
       "<div>\n",
       "<style scoped>\n",
       "    .dataframe tbody tr th:only-of-type {\n",
       "        vertical-align: middle;\n",
       "    }\n",
       "\n",
       "    .dataframe tbody tr th {\n",
       "        vertical-align: top;\n",
       "    }\n",
       "\n",
       "    .dataframe thead th {\n",
       "        text-align: right;\n",
       "    }\n",
       "</style>\n",
       "<table border=\"1\" class=\"dataframe\">\n",
       "  <thead>\n",
       "    <tr style=\"text-align: right;\">\n",
       "      <th></th>\n",
       "      <th>country_name</th>\n",
       "      <th>country_code</th>\n",
       "      <th>indicator_name</th>\n",
       "      <th>indicator_code</th>\n",
       "      <th>value</th>\n",
       "      <th>year</th>\n",
       "    </tr>\n",
       "  </thead>\n",
       "  <tbody>\n",
       "    <tr>\n",
       "      <th>0</th>\n",
       "      <td>Yemen, Rep.</td>\n",
       "      <td>YEM</td>\n",
       "      <td>GDP, PPP (current international $)</td>\n",
       "      <td>NY.GDP.MKTP.PP.CD</td>\n",
       "      <td>6.930091e+10</td>\n",
       "      <td>2016</td>\n",
       "    </tr>\n",
       "    <tr>\n",
       "      <th>1</th>\n",
       "      <td>Zimbabwe</td>\n",
       "      <td>ZWE</td>\n",
       "      <td>GNI per capita, Atlas method (current US$)</td>\n",
       "      <td>NY.GNP.PCAP.CD</td>\n",
       "      <td>8.900000e+02</td>\n",
       "      <td>2016</td>\n",
       "    </tr>\n",
       "    <tr>\n",
       "      <th>2</th>\n",
       "      <td>Zimbabwe</td>\n",
       "      <td>ZWE</td>\n",
       "      <td>Population, ages 15-64, female</td>\n",
       "      <td>SP.POP.1564.FE.IN</td>\n",
       "      <td>4.692160e+06</td>\n",
       "      <td>2016</td>\n",
       "    </tr>\n",
       "    <tr>\n",
       "      <th>3</th>\n",
       "      <td>Russian Federation</td>\n",
       "      <td>RUS</td>\n",
       "      <td>Official entrance age to lower secondary educa...</td>\n",
       "      <td>SE.SEC.AGES</td>\n",
       "      <td>1.100000e+01</td>\n",
       "      <td>2016</td>\n",
       "    </tr>\n",
       "    <tr>\n",
       "      <th>4</th>\n",
       "      <td>Samoa</td>\n",
       "      <td>WSM</td>\n",
       "      <td>Official entrance age to lower secondary educa...</td>\n",
       "      <td>SE.SEC.AGES</td>\n",
       "      <td>1.100000e+01</td>\n",
       "      <td>2016</td>\n",
       "    </tr>\n",
       "  </tbody>\n",
       "</table>\n",
       "</div>"
      ],
      "text/plain": [
       "         country_name country_code  \\\n",
       "0         Yemen, Rep.          YEM   \n",
       "1            Zimbabwe          ZWE   \n",
       "2            Zimbabwe          ZWE   \n",
       "3  Russian Federation          RUS   \n",
       "4               Samoa          WSM   \n",
       "\n",
       "                                      indicator_name     indicator_code  \\\n",
       "0                 GDP, PPP (current international $)  NY.GDP.MKTP.PP.CD   \n",
       "1         GNI per capita, Atlas method (current US$)     NY.GNP.PCAP.CD   \n",
       "2                     Population, ages 15-64, female  SP.POP.1564.FE.IN   \n",
       "3  Official entrance age to lower secondary educa...        SE.SEC.AGES   \n",
       "4  Official entrance age to lower secondary educa...        SE.SEC.AGES   \n",
       "\n",
       "          value  year  \n",
       "0  6.930091e+10  2016  \n",
       "1  8.900000e+02  2016  \n",
       "2  4.692160e+06  2016  \n",
       "3  1.100000e+01  2016  \n",
       "4  1.100000e+01  2016  "
      ]
     },
     "execution_count": 3,
     "metadata": {},
     "output_type": "execute_result"
    }
   ],
   "source": [
    "from google.cloud import bigquery\n",
    "\n",
    "# Create a \"Client\" object\n",
    "client = bigquery.Client()\n",
    "\n",
    "# Construct a reference to the \"world_bank_intl_education\" dataset\n",
    "dataset_ref = client.dataset(\"world_bank_intl_education\", project=\"bigquery-public-data\")\n",
    "\n",
    "# API request - fetch the dataset\n",
    "dataset = client.get_dataset(dataset_ref)\n",
    "\n",
    "# Construct a reference to the \"international_education\" table\n",
    "table_ref = dataset_ref.table(\"international_education\")\n",
    "\n",
    "# API request - fetch the table\n",
    "table = client.get_table(table_ref)\n",
    "\n",
    "# Preview the first five lines of the \"international_education\" table\n",
    "client.list_rows(table, max_results=5).to_dataframe()"
   ]
  },
  {
   "cell_type": "markdown",
   "id": "dried-lloyd",
   "metadata": {
    "papermill": {
     "duration": 0.015809,
     "end_time": "2021-04-21T14:50:17.742110",
     "exception": false,
     "start_time": "2021-04-21T14:50:17.726301",
     "status": "completed"
    },
    "tags": []
   },
   "source": [
    "# Exercises\n",
    "\n",
    "The value in the `indicator_code` column describes what type of data is shown in a given row.  \n",
    "\n",
    "One interesting indicator code is `SE.XPD.TOTL.GD.ZS`, which corresponds to \"Government expenditure on education as % of GDP (%)\".\n",
    "\n",
    "### 1) Government expenditure on education\n",
    "\n",
    "Which countries spend the largest fraction of GDP on education?  \n",
    "\n",
    "To answer this question, consider only the rows in the dataset corresponding to indicator code `SE.XPD.TOTL.GD.ZS`, and write a query that returns the average value in the `value` column for each country in the dataset between the years 2010-2017 (including 2010 and 2017 in the average). \n",
    "\n",
    "Requirements:\n",
    "- Your results should have the country name rather than the country code. You will have one row for each country.\n",
    "- The aggregate function for average is **AVG()**.  Use the name `avg_ed_spending_pct` for the column created by this aggregation.\n",
    "- Order the results so the countries that spend the largest fraction of GDP on education show up first.\n",
    "\n",
    "In case it's useful to see a sample query, here's a query you saw in the tutorial (using a different dataset):\n",
    "```\n",
    "# Query to find out the number of accidents for each day of the week\n",
    "query = \"\"\"\n",
    "        SELECT COUNT(consecutive_number) AS num_accidents, \n",
    "               EXTRACT(DAYOFWEEK FROM timestamp_of_crash) AS day_of_week\n",
    "        FROM `bigquery-public-data.nhtsa_traffic_fatalities.accident_2015`\n",
    "        GROUP BY day_of_week\n",
    "        ORDER BY num_accidents DESC\n",
    "        \"\"\"\n",
    "```"
   ]
  },
  {
   "cell_type": "code",
   "execution_count": 4,
   "id": "greater-measurement",
   "metadata": {
    "execution": {
     "iopub.execute_input": "2021-04-21T14:50:17.780285Z",
     "iopub.status.busy": "2021-04-21T14:50:17.779538Z",
     "iopub.status.idle": "2021-04-21T14:50:19.929504Z",
     "shell.execute_reply": "2021-04-21T14:50:19.928985Z"
    },
    "papermill": {
     "duration": 2.172538,
     "end_time": "2021-04-21T14:50:19.929669",
     "exception": false,
     "start_time": "2021-04-21T14:50:17.757131",
     "status": "completed"
    },
    "tags": []
   },
   "outputs": [
    {
     "name": "stderr",
     "output_type": "stream",
     "text": [
      "/opt/conda/lib/python3.7/site-packages/google/cloud/bigquery/client.py:440: UserWarning: Cannot create BigQuery Storage client, the dependency google-cloud-bigquery-storage is not installed.\n",
      "  \"Cannot create BigQuery Storage client, the dependency \"\n"
     ]
    },
    {
     "name": "stdout",
     "output_type": "stream",
     "text": [
      "            country_name  avg_ed_spending_pct\n",
      "0                   Cuba            12.837270\n",
      "1  Micronesia, Fed. Sts.            12.467750\n",
      "2        Solomon Islands            10.001080\n",
      "3                Moldova             8.372153\n",
      "4                Namibia             8.349610\n"
     ]
    },
    {
     "data": {
      "application/javascript": [
       "parent.postMessage({\"jupyterEvent\": \"custom.exercise_interaction\", \"data\": {\"outcomeType\": 1, \"valueTowardsCompletion\": 0.5, \"interactionType\": 1, \"questionType\": 2, \"questionId\": \"1_EducationSpending\", \"learnToolsVersion\": \"0.3.4\", \"failureMessage\": \"\", \"exceptionClass\": \"\", \"trace\": \"\"}}, \"*\")"
      ],
      "text/plain": [
       "<IPython.core.display.Javascript object>"
      ]
     },
     "metadata": {},
     "output_type": "display_data"
    },
    {
     "data": {
      "text/markdown": [
       "<span style=\"color:#33cc33\">Correct</span>"
      ],
      "text/plain": [
       "Correct"
      ]
     },
     "metadata": {},
     "output_type": "display_data"
    }
   ],
   "source": [
    "# Your code goes here\n",
    "country_spend_pct_query = \"\"\"\n",
    "                          SELECT country_name, AVG(value) AS avg_ed_spending_pct\n",
    "                          FROM `bigquery-public-data.world_bank_intl_education.international_education`\n",
    "                          WHERE indicator_code = 'SE.XPD.TOTL.GD.ZS' AND year >= 2010 AND year <= 2017\n",
    "                          GROUP BY country_name\n",
    "                          ORDER BY avg_ed_spending_pct DESC\n",
    "                          \"\"\"\n",
    "\n",
    "# Set up the query (cancel the query if it would use too much of \n",
    "# your quota, with the limit set to 1 GB)\n",
    "safe_config = bigquery.QueryJobConfig(maximum_bytes_billed=10**10)\n",
    "country_spend_pct_query_job = client.query(country_spend_pct_query, job_config=safe_config)\n",
    "\n",
    "# API request - run the query, and return a pandas DataFrame\n",
    "country_spending_results = country_spend_pct_query_job.to_dataframe()\n",
    "\n",
    "# View top few rows of results\n",
    "print(country_spending_results.head())\n",
    "\n",
    "# Check your answer\n",
    "q_1.check()"
   ]
  },
  {
   "cell_type": "markdown",
   "id": "distant-motel",
   "metadata": {
    "papermill": {
     "duration": 0.015525,
     "end_time": "2021-04-21T14:50:19.961163",
     "exception": false,
     "start_time": "2021-04-21T14:50:19.945638",
     "status": "completed"
    },
    "tags": []
   },
   "source": [
    "For a hint or the solution, uncomment the appropriate line below."
   ]
  },
  {
   "cell_type": "code",
   "execution_count": 5,
   "id": "featured-stage",
   "metadata": {
    "execution": {
     "iopub.execute_input": "2021-04-21T14:50:19.998495Z",
     "iopub.status.busy": "2021-04-21T14:50:19.997783Z",
     "iopub.status.idle": "2021-04-21T14:50:20.004998Z",
     "shell.execute_reply": "2021-04-21T14:50:20.005465Z"
    },
    "papermill": {
     "duration": 0.028432,
     "end_time": "2021-04-21T14:50:20.005652",
     "exception": false,
     "start_time": "2021-04-21T14:50:19.977220",
     "status": "completed"
    },
    "tags": []
   },
   "outputs": [
    {
     "data": {
      "application/javascript": [
       "parent.postMessage({\"jupyterEvent\": \"custom.exercise_interaction\", \"data\": {\"interactionType\": 2, \"questionType\": 2, \"questionId\": \"1_EducationSpending\", \"learnToolsVersion\": \"0.3.4\", \"valueTowardsCompletion\": 0.0, \"failureMessage\": \"\", \"exceptionClass\": \"\", \"trace\": \"\", \"outcomeType\": 4}}, \"*\")"
      ],
      "text/plain": [
       "<IPython.core.display.Javascript object>"
      ]
     },
     "metadata": {},
     "output_type": "display_data"
    },
    {
     "data": {
      "text/markdown": [
       "<span style=\"color:#3366cc\">Hint:</span> The part before `FROM` should be `SELECT country_name, AVG(value) AS avg_ed_spending_pct`."
      ],
      "text/plain": [
       "Hint: The part before `FROM` should be `SELECT country_name, AVG(value) AS avg_ed_spending_pct`."
      ]
     },
     "metadata": {},
     "output_type": "display_data"
    }
   ],
   "source": [
    "q_1.hint()\n",
    "#q_1.solution()"
   ]
  },
  {
   "cell_type": "code",
   "execution_count": 6,
   "id": "shaped-entry",
   "metadata": {
    "execution": {
     "iopub.execute_input": "2021-04-21T14:50:20.046688Z",
     "iopub.status.busy": "2021-04-21T14:50:20.045885Z",
     "iopub.status.idle": "2021-04-21T14:50:20.454310Z",
     "shell.execute_reply": "2021-04-21T14:50:20.454797Z"
    },
    "papermill": {
     "duration": 0.43221,
     "end_time": "2021-04-21T14:50:20.454998",
     "exception": false,
     "start_time": "2021-04-21T14:50:20.022788",
     "status": "completed"
    },
    "tags": []
   },
   "outputs": [
    {
     "name": "stderr",
     "output_type": "stream",
     "text": [
      "/opt/conda/lib/python3.7/site-packages/ipykernel_launcher.py:2: UserWarning: Cannot use bqstorage_client if max_results is set, reverting to fetching data with the tabledata.list endpoint.\n",
      "  \n"
     ]
    },
    {
     "data": {
      "text/html": [
       "<div>\n",
       "<style scoped>\n",
       "    .dataframe tbody tr th:only-of-type {\n",
       "        vertical-align: middle;\n",
       "    }\n",
       "\n",
       "    .dataframe tbody tr th {\n",
       "        vertical-align: top;\n",
       "    }\n",
       "\n",
       "    .dataframe thead th {\n",
       "        text-align: right;\n",
       "    }\n",
       "</style>\n",
       "<table border=\"1\" class=\"dataframe\">\n",
       "  <thead>\n",
       "    <tr style=\"text-align: right;\">\n",
       "      <th></th>\n",
       "      <th>country_name</th>\n",
       "      <th>country_code</th>\n",
       "      <th>indicator_name</th>\n",
       "      <th>indicator_code</th>\n",
       "      <th>value</th>\n",
       "      <th>year</th>\n",
       "    </tr>\n",
       "  </thead>\n",
       "  <tbody>\n",
       "    <tr>\n",
       "      <th>0</th>\n",
       "      <td>Yemen, Rep.</td>\n",
       "      <td>YEM</td>\n",
       "      <td>GDP, PPP (current international $)</td>\n",
       "      <td>NY.GDP.MKTP.PP.CD</td>\n",
       "      <td>6.930091e+10</td>\n",
       "      <td>2016</td>\n",
       "    </tr>\n",
       "    <tr>\n",
       "      <th>1</th>\n",
       "      <td>Zimbabwe</td>\n",
       "      <td>ZWE</td>\n",
       "      <td>GNI per capita, Atlas method (current US$)</td>\n",
       "      <td>NY.GNP.PCAP.CD</td>\n",
       "      <td>8.900000e+02</td>\n",
       "      <td>2016</td>\n",
       "    </tr>\n",
       "    <tr>\n",
       "      <th>2</th>\n",
       "      <td>Zimbabwe</td>\n",
       "      <td>ZWE</td>\n",
       "      <td>Population, ages 15-64, female</td>\n",
       "      <td>SP.POP.1564.FE.IN</td>\n",
       "      <td>4.692160e+06</td>\n",
       "      <td>2016</td>\n",
       "    </tr>\n",
       "    <tr>\n",
       "      <th>3</th>\n",
       "      <td>Russian Federation</td>\n",
       "      <td>RUS</td>\n",
       "      <td>Official entrance age to lower secondary educa...</td>\n",
       "      <td>SE.SEC.AGES</td>\n",
       "      <td>1.100000e+01</td>\n",
       "      <td>2016</td>\n",
       "    </tr>\n",
       "    <tr>\n",
       "      <th>4</th>\n",
       "      <td>Samoa</td>\n",
       "      <td>WSM</td>\n",
       "      <td>Official entrance age to lower secondary educa...</td>\n",
       "      <td>SE.SEC.AGES</td>\n",
       "      <td>1.100000e+01</td>\n",
       "      <td>2016</td>\n",
       "    </tr>\n",
       "  </tbody>\n",
       "</table>\n",
       "</div>"
      ],
      "text/plain": [
       "         country_name country_code  \\\n",
       "0         Yemen, Rep.          YEM   \n",
       "1            Zimbabwe          ZWE   \n",
       "2            Zimbabwe          ZWE   \n",
       "3  Russian Federation          RUS   \n",
       "4               Samoa          WSM   \n",
       "\n",
       "                                      indicator_name     indicator_code  \\\n",
       "0                 GDP, PPP (current international $)  NY.GDP.MKTP.PP.CD   \n",
       "1         GNI per capita, Atlas method (current US$)     NY.GNP.PCAP.CD   \n",
       "2                     Population, ages 15-64, female  SP.POP.1564.FE.IN   \n",
       "3  Official entrance age to lower secondary educa...        SE.SEC.AGES   \n",
       "4  Official entrance age to lower secondary educa...        SE.SEC.AGES   \n",
       "\n",
       "          value  year  \n",
       "0  6.930091e+10  2016  \n",
       "1  8.900000e+02  2016  \n",
       "2  4.692160e+06  2016  \n",
       "3  1.100000e+01  2016  \n",
       "4  1.100000e+01  2016  "
      ]
     },
     "execution_count": 6,
     "metadata": {},
     "output_type": "execute_result"
    }
   ],
   "source": [
    "# Preview the first five lines of the \"international_education\" table\n",
    "client.list_rows(table, max_results=5).to_dataframe()"
   ]
  },
  {
   "cell_type": "markdown",
   "id": "friendly-taste",
   "metadata": {
    "papermill": {
     "duration": 0.018281,
     "end_time": "2021-04-21T14:50:20.491701",
     "exception": false,
     "start_time": "2021-04-21T14:50:20.473420",
     "status": "completed"
    },
    "tags": []
   },
   "source": [
    "### 2) Identify interesting codes to explore\n",
    "\n",
    "The last question started by telling you to focus on rows with the code `SE.XPD.TOTL.GD.ZS`. But how would you find more interesting indicator codes to explore?\n",
    "\n",
    "There are 1000s of codes in the dataset, so it would be time consuming to review them all. But many codes are available for only a few countries. When browsing the options for different codes, you might restrict yourself to codes that are reported by many countries.\n",
    "\n",
    "Write a query below that selects the indicator code and indicator name for all codes with at least 175 rows in the year 2016.\n",
    "\n",
    "Requirements:\n",
    "- You should have one row for each indicator code.\n",
    "- The columns in your results should be called `indicator_code`, `indicator_name`, and `num_rows`.\n",
    "- Only select codes with 175 or more rows in the raw database (exactly 175 rows would be included).\n",
    "- To get both the `indicator_code` and `indicator_name` in your resulting DataFrame, you need to include both in your **SELECT** statement (in addition to a **COUNT()** aggregation). This requires you to include both in your **GROUP BY** clause.\n",
    "- Order from results most frequent to least frequent."
   ]
  },
  {
   "cell_type": "code",
   "execution_count": 7,
   "id": "hairy-niagara",
   "metadata": {
    "execution": {
     "iopub.execute_input": "2021-04-21T14:50:20.536517Z",
     "iopub.status.busy": "2021-04-21T14:50:20.535815Z",
     "iopub.status.idle": "2021-04-21T14:50:21.830537Z",
     "shell.execute_reply": "2021-04-21T14:50:21.829870Z"
    },
    "papermill": {
     "duration": 1.32086,
     "end_time": "2021-04-21T14:50:21.830685",
     "exception": false,
     "start_time": "2021-04-21T14:50:20.509825",
     "status": "completed"
    },
    "tags": []
   },
   "outputs": [
    {
     "name": "stderr",
     "output_type": "stream",
     "text": [
      "/opt/conda/lib/python3.7/site-packages/google/cloud/bigquery/client.py:440: UserWarning: Cannot create BigQuery Storage client, the dependency google-cloud-bigquery-storage is not installed.\n",
      "  \"Cannot create BigQuery Storage client, the dependency \"\n"
     ]
    },
    {
     "name": "stdout",
     "output_type": "stream",
     "text": [
      "      indicator_code                       indicator_name  num_rows\n",
      "0        SP.POP.TOTL                    Population, total       232\n",
      "1        SP.POP.GROW         Population growth (annual %)       232\n",
      "2     IT.NET.USER.P2      Internet users (per 100 people)       223\n",
      "3  SP.POP.1564.FE.IN       Population, ages 15-64, female       213\n",
      "4        SH.DYN.MORT  Mortality rate, under-5 (per 1,000)       213\n"
     ]
    },
    {
     "data": {
      "application/javascript": [
       "parent.postMessage({\"jupyterEvent\": \"custom.exercise_interaction\", \"data\": {\"outcomeType\": 1, \"valueTowardsCompletion\": 0.5, \"interactionType\": 1, \"questionType\": 2, \"questionId\": \"2_FindInterestingCodes\", \"learnToolsVersion\": \"0.3.4\", \"failureMessage\": \"\", \"exceptionClass\": \"\", \"trace\": \"\"}}, \"*\")"
      ],
      "text/plain": [
       "<IPython.core.display.Javascript object>"
      ]
     },
     "metadata": {},
     "output_type": "display_data"
    },
    {
     "data": {
      "text/markdown": [
       "<span style=\"color:#33cc33\">Correct</span>"
      ],
      "text/plain": [
       "Correct"
      ]
     },
     "metadata": {},
     "output_type": "display_data"
    }
   ],
   "source": [
    "# Your code goes here\n",
    "code_count_query = \"\"\"  SELECT indicator_code, indicator_name, COUNT(1) AS num_rows\n",
    "                        FROM `bigquery-public-data.world_bank_intl_education.international_education`\n",
    "                        WHERE year = 2016\n",
    "                        GROUP BY indicator_code, indicator_name\n",
    "                        HAVING COUNT(1) >= 175\n",
    "                        ORDER BY num_rows DESC\n",
    "                   \"\"\"\n",
    "\n",
    "# Set up the query\n",
    "safe_config = bigquery.QueryJobConfig(maximum_bytes_billed=10**10)\n",
    "code_count_query_job = client.query(code_count_query, job_config=safe_config)\n",
    "\n",
    "# API request - run the query, and return a pandas DataFrame\n",
    "code_count_results = code_count_query_job.to_dataframe()\n",
    "\n",
    "# View top few rows of results\n",
    "print(code_count_results.head())\n",
    "\n",
    "# Check your answer\n",
    "q_2.check()"
   ]
  },
  {
   "cell_type": "markdown",
   "id": "realistic-cassette",
   "metadata": {
    "papermill": {
     "duration": 0.019565,
     "end_time": "2021-04-21T14:50:21.870704",
     "exception": false,
     "start_time": "2021-04-21T14:50:21.851139",
     "status": "completed"
    },
    "tags": []
   },
   "source": [
    "For a hint or the solution, uncomment the appropriate line below."
   ]
  },
  {
   "cell_type": "code",
   "execution_count": 8,
   "id": "proved-conservation",
   "metadata": {
    "execution": {
     "iopub.execute_input": "2021-04-21T14:50:21.916070Z",
     "iopub.status.busy": "2021-04-21T14:50:21.915004Z",
     "iopub.status.idle": "2021-04-21T14:50:21.923065Z",
     "shell.execute_reply": "2021-04-21T14:50:21.923755Z"
    },
    "papermill": {
     "duration": 0.033605,
     "end_time": "2021-04-21T14:50:21.924001",
     "exception": false,
     "start_time": "2021-04-21T14:50:21.890396",
     "status": "completed"
    },
    "tags": []
   },
   "outputs": [
    {
     "data": {
      "application/javascript": [
       "parent.postMessage({\"jupyterEvent\": \"custom.exercise_interaction\", \"data\": {\"interactionType\": 2, \"questionType\": 2, \"questionId\": \"2_FindInterestingCodes\", \"learnToolsVersion\": \"0.3.4\", \"valueTowardsCompletion\": 0.0, \"failureMessage\": \"\", \"exceptionClass\": \"\", \"trace\": \"\", \"outcomeType\": 4}}, \"*\")"
      ],
      "text/plain": [
       "<IPython.core.display.Javascript object>"
      ]
     },
     "metadata": {},
     "output_type": "display_data"
    },
    {
     "data": {
      "text/markdown": [
       "<span style=\"color:#3366cc\">Hint:</span> The part before `FROM` is `SELECT indicator_code, indicator_name, COUNT(1) AS num_rows`."
      ],
      "text/plain": [
       "Hint: The part before `FROM` is `SELECT indicator_code, indicator_name, COUNT(1) AS num_rows`."
      ]
     },
     "metadata": {},
     "output_type": "display_data"
    }
   ],
   "source": [
    "q_2.hint()\n",
    "#q_2.solution()"
   ]
  },
  {
   "cell_type": "markdown",
   "id": "interstate-domestic",
   "metadata": {
    "papermill": {
     "duration": 0.030997,
     "end_time": "2021-04-21T14:50:21.983496",
     "exception": false,
     "start_time": "2021-04-21T14:50:21.952499",
     "status": "completed"
    },
    "tags": []
   },
   "source": [
    "# Keep Going\n",
    "**[Click here](https://www.kaggle.com/dansbecker/as-with)** to learn how to use **AS** and **WITH** to clean up your code and help you construct more complex queries."
   ]
  },
  {
   "cell_type": "markdown",
   "id": "assigned-chemistry",
   "metadata": {
    "papermill": {
     "duration": 0.027998,
     "end_time": "2021-04-21T14:50:22.040474",
     "exception": false,
     "start_time": "2021-04-21T14:50:22.012476",
     "status": "completed"
    },
    "tags": []
   },
   "source": [
    "---\n",
    "\n",
    "\n",
    "\n",
    "\n",
    "*Have questions or comments? Visit the [Learn Discussion forum](https://www.kaggle.com/learn-forum/161314) to chat with other Learners.*"
   ]
  }
 ],
 "metadata": {
  "kernelspec": {
   "display_name": "Python 3",
   "language": "python",
   "name": "python3"
  },
  "language_info": {
   "codemirror_mode": {
    "name": "ipython",
    "version": 3
   },
   "file_extension": ".py",
   "mimetype": "text/x-python",
   "name": "python",
   "nbconvert_exporter": "python",
   "pygments_lexer": "ipython3",
   "version": "3.7.9"
  },
  "papermill": {
   "default_parameters": {},
   "duration": 44.140596,
   "end_time": "2021-04-21T14:50:22.672996",
   "environment_variables": {},
   "exception": null,
   "input_path": "__notebook__.ipynb",
   "output_path": "__notebook__.ipynb",
   "parameters": {},
   "start_time": "2021-04-21T14:49:38.532400",
   "version": "2.3.2"
  }
 },
 "nbformat": 4,
 "nbformat_minor": 5
}
