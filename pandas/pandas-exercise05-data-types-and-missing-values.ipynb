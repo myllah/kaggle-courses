{
 "cells": [
  {
   "cell_type": "markdown",
   "metadata": {
    "papermill": {
     "duration": 0.012021,
     "end_time": "2021-03-28T15:42:26.182925",
     "exception": false,
     "start_time": "2021-03-28T15:42:26.170904",
     "status": "completed"
    },
    "tags": []
   },
   "source": [
    "### Pandas-Exercise05: Data Types and Missing Values"
   ]
  },
  {
   "cell_type": "markdown",
   "metadata": {
    "papermill": {
     "duration": 0.010515,
     "end_time": "2021-03-28T15:42:26.204464",
     "exception": false,
     "start_time": "2021-03-28T15:42:26.193949",
     "status": "completed"
    },
    "tags": []
   },
   "source": [
    "**This notebook is an exercise in the [Pandas](https://www.kaggle.com/learn/pandas \"Pandas\") course.  You can reference the tutorial at [this link](https://www.kaggle.com/residentmario/data-types-and-missing-values \"Tutorial - Data Types and Missing Values\").**\n",
    "\n",
    "> **This notebook is the fifth exercise in the [Pandas](https://www.kaggle.com/learn/pandas \"Pandas\") course. <span style = \"padding: 10px\"> It is the exercise of the fifth lesson, aka \"Data Types and Missing Values\".**\n"
   ]
  },
  {
   "cell_type": "markdown",
   "metadata": {
    "papermill": {
     "duration": 0.010385,
     "end_time": "2021-03-28T15:42:26.225619",
     "exception": false,
     "start_time": "2021-03-28T15:42:26.215234",
     "status": "completed"
    },
    "tags": []
   },
   "source": [
    "# Introduction\n",
    "\n",
    "Run the following cell to load your data and some utility functions."
   ]
  },
  {
   "cell_type": "code",
   "execution_count": 1,
   "metadata": {
    "execution": {
     "iopub.execute_input": "2021-03-28T15:42:26.253376Z",
     "iopub.status.busy": "2021-03-28T15:42:26.252640Z",
     "iopub.status.idle": "2021-03-28T15:42:29.516622Z",
     "shell.execute_reply": "2021-03-28T15:42:29.515475Z"
    },
    "papermill": {
     "duration": 3.280151,
     "end_time": "2021-03-28T15:42:29.516867",
     "exception": false,
     "start_time": "2021-03-28T15:42:26.236716",
     "status": "completed"
    },
    "tags": []
   },
   "outputs": [
    {
     "name": "stdout",
     "output_type": "stream",
     "text": [
      "Setup complete.\n"
     ]
    }
   ],
   "source": [
    "import pandas as pd\n",
    "\n",
    "reviews = pd.read_csv(\"../input/wine-reviews/winemag-data-130k-v2.csv\", index_col=0)\n",
    "\n",
    "from learntools.core import binder; binder.bind(globals())\n",
    "from learntools.pandas.data_types_and_missing_data import *\n",
    "print(\"Setup complete.\")"
   ]
  },
  {
   "cell_type": "markdown",
   "metadata": {
    "papermill": {
     "duration": 0.01111,
     "end_time": "2021-03-28T15:42:29.540830",
     "exception": false,
     "start_time": "2021-03-28T15:42:29.529720",
     "status": "completed"
    },
    "tags": []
   },
   "source": [
    "# Exercises"
   ]
  },
  {
   "cell_type": "markdown",
   "metadata": {
    "papermill": {
     "duration": 0.010848,
     "end_time": "2021-03-28T15:42:29.562935",
     "exception": false,
     "start_time": "2021-03-28T15:42:29.552087",
     "status": "completed"
    },
    "tags": []
   },
   "source": [
    "## 1. \n",
    "What is the data type of the `points` column in the dataset?"
   ]
  },
  {
   "cell_type": "code",
   "execution_count": 2,
   "metadata": {
    "execution": {
     "iopub.execute_input": "2021-03-28T15:42:29.594379Z",
     "iopub.status.busy": "2021-03-28T15:42:29.593618Z",
     "iopub.status.idle": "2021-03-28T15:42:29.602886Z",
     "shell.execute_reply": "2021-03-28T15:42:29.603399Z"
    },
    "papermill": {
     "duration": 0.029415,
     "end_time": "2021-03-28T15:42:29.603571",
     "exception": false,
     "start_time": "2021-03-28T15:42:29.574156",
     "status": "completed"
    },
    "tags": []
   },
   "outputs": [
    {
     "data": {
      "application/javascript": [
       "parent.postMessage({\"jupyterEvent\": \"custom.exercise_interaction\", \"data\": {\"outcomeType\": 1, \"valueTowardsCompletion\": 0.25, \"interactionType\": 1, \"questionType\": 1, \"questionId\": \"1_PointsDtype\", \"learnToolsVersion\": \"0.3.4\", \"failureMessage\": \"\", \"exceptionClass\": \"\", \"trace\": \"\"}}, \"*\")"
      ],
      "text/plain": [
       "<IPython.core.display.Javascript object>"
      ]
     },
     "metadata": {},
     "output_type": "display_data"
    },
    {
     "data": {
      "text/markdown": [
       "<span style=\"color:#33cc33\">Correct</span>"
      ],
      "text/plain": [
       "Correct"
      ]
     },
     "metadata": {},
     "output_type": "display_data"
    },
    {
     "data": {
      "text/plain": [
       "dtype('int64')"
      ]
     },
     "execution_count": 2,
     "metadata": {},
     "output_type": "execute_result"
    }
   ],
   "source": [
    "# Your code here\n",
    "dtype = reviews.points.dtype\n",
    "\n",
    "# Check your answer\n",
    "q1.check()\n",
    "\n",
    "dtype"
   ]
  },
  {
   "cell_type": "code",
   "execution_count": 3,
   "metadata": {
    "execution": {
     "iopub.execute_input": "2021-03-28T15:42:29.632853Z",
     "iopub.status.busy": "2021-03-28T15:42:29.632185Z",
     "iopub.status.idle": "2021-03-28T15:42:29.636094Z",
     "shell.execute_reply": "2021-03-28T15:42:29.636725Z"
    },
    "papermill": {
     "duration": 0.020498,
     "end_time": "2021-03-28T15:42:29.636927",
     "exception": false,
     "start_time": "2021-03-28T15:42:29.616429",
     "status": "completed"
    },
    "tags": []
   },
   "outputs": [],
   "source": [
    "#q1.hint()\n",
    "#q1.solution()"
   ]
  },
  {
   "cell_type": "markdown",
   "metadata": {
    "papermill": {
     "duration": 0.012641,
     "end_time": "2021-03-28T15:42:29.662755",
     "exception": false,
     "start_time": "2021-03-28T15:42:29.650114",
     "status": "completed"
    },
    "tags": []
   },
   "source": [
    "## 2. \n",
    "Create a Series from entries in the `points` column, but convert the entries to strings. Hint: strings are `str` in native Python."
   ]
  },
  {
   "cell_type": "code",
   "execution_count": 4,
   "metadata": {
    "execution": {
     "iopub.execute_input": "2021-03-28T15:42:29.864380Z",
     "iopub.status.busy": "2021-03-28T15:42:29.863653Z",
     "iopub.status.idle": "2021-03-28T15:42:29.877277Z",
     "shell.execute_reply": "2021-03-28T15:42:29.876584Z"
    },
    "papermill": {
     "duration": 0.201577,
     "end_time": "2021-03-28T15:42:29.877418",
     "exception": false,
     "start_time": "2021-03-28T15:42:29.675841",
     "status": "completed"
    },
    "tags": []
   },
   "outputs": [
    {
     "data": {
      "application/javascript": [
       "parent.postMessage({\"jupyterEvent\": \"custom.exercise_interaction\", \"data\": {\"outcomeType\": 1, \"valueTowardsCompletion\": 0.25, \"interactionType\": 1, \"questionType\": 1, \"questionId\": \"2_StrPoints\", \"learnToolsVersion\": \"0.3.4\", \"failureMessage\": \"\", \"exceptionClass\": \"\", \"trace\": \"\"}}, \"*\")"
      ],
      "text/plain": [
       "<IPython.core.display.Javascript object>"
      ]
     },
     "metadata": {},
     "output_type": "display_data"
    },
    {
     "data": {
      "text/markdown": [
       "<span style=\"color:#33cc33\">Correct</span>"
      ],
      "text/plain": [
       "Correct"
      ]
     },
     "metadata": {},
     "output_type": "display_data"
    },
    {
     "data": {
      "text/plain": [
       "0         87\n",
       "1         87\n",
       "2         87\n",
       "3         87\n",
       "4         87\n",
       "          ..\n",
       "129966    90\n",
       "129967    90\n",
       "129968    90\n",
       "129969    90\n",
       "129970    90\n",
       "Name: points, Length: 129971, dtype: object"
      ]
     },
     "execution_count": 4,
     "metadata": {},
     "output_type": "execute_result"
    }
   ],
   "source": [
    "point_strings = reviews.points.astype(str)\n",
    "\n",
    "# Check your answer\n",
    "q2.check()\n",
    "\n",
    "point_strings"
   ]
  },
  {
   "cell_type": "code",
   "execution_count": 5,
   "metadata": {
    "execution": {
     "iopub.execute_input": "2021-03-28T15:42:29.913174Z",
     "iopub.status.busy": "2021-03-28T15:42:29.912123Z",
     "iopub.status.idle": "2021-03-28T15:42:29.915520Z",
     "shell.execute_reply": "2021-03-28T15:42:29.914991Z"
    },
    "papermill": {
     "duration": 0.023383,
     "end_time": "2021-03-28T15:42:29.915669",
     "exception": false,
     "start_time": "2021-03-28T15:42:29.892286",
     "status": "completed"
    },
    "tags": []
   },
   "outputs": [],
   "source": [
    "#q2.hint()\n",
    "#q2.solution()"
   ]
  },
  {
   "cell_type": "markdown",
   "metadata": {
    "papermill": {
     "duration": 0.01505,
     "end_time": "2021-03-28T15:42:29.945445",
     "exception": false,
     "start_time": "2021-03-28T15:42:29.930395",
     "status": "completed"
    },
    "tags": []
   },
   "source": [
    "## 3.\n",
    "Sometimes the price column is null. How many reviews in the dataset are missing a price?"
   ]
  },
  {
   "cell_type": "code",
   "execution_count": 6,
   "metadata": {
    "execution": {
     "iopub.execute_input": "2021-03-28T15:42:29.982541Z",
     "iopub.status.busy": "2021-03-28T15:42:29.981778Z",
     "iopub.status.idle": "2021-03-28T15:42:29.992361Z",
     "shell.execute_reply": "2021-03-28T15:42:29.991508Z"
    },
    "papermill": {
     "duration": 0.031316,
     "end_time": "2021-03-28T15:42:29.992519",
     "exception": false,
     "start_time": "2021-03-28T15:42:29.961203",
     "status": "completed"
    },
    "tags": []
   },
   "outputs": [
    {
     "data": {
      "application/javascript": [
       "parent.postMessage({\"jupyterEvent\": \"custom.exercise_interaction\", \"data\": {\"outcomeType\": 1, \"valueTowardsCompletion\": 0.25, \"interactionType\": 1, \"questionType\": 1, \"questionId\": \"3_CountMissingPrices\", \"learnToolsVersion\": \"0.3.4\", \"failureMessage\": \"\", \"exceptionClass\": \"\", \"trace\": \"\"}}, \"*\")"
      ],
      "text/plain": [
       "<IPython.core.display.Javascript object>"
      ]
     },
     "metadata": {},
     "output_type": "display_data"
    },
    {
     "data": {
      "text/markdown": [
       "<span style=\"color:#33cc33\">Correct</span>"
      ],
      "text/plain": [
       "Correct"
      ]
     },
     "metadata": {},
     "output_type": "display_data"
    },
    {
     "data": {
      "text/plain": [
       "8996"
      ]
     },
     "execution_count": 6,
     "metadata": {},
     "output_type": "execute_result"
    }
   ],
   "source": [
    "n_missing_prices = reviews.price.isnull().sum()\n",
    "\n",
    "# Check your answer\n",
    "q3.check()\n",
    "\n",
    "n_missing_prices"
   ]
  },
  {
   "cell_type": "code",
   "execution_count": 7,
   "metadata": {
    "execution": {
     "iopub.execute_input": "2021-03-28T15:42:30.032230Z",
     "iopub.status.busy": "2021-03-28T15:42:30.031495Z",
     "iopub.status.idle": "2021-03-28T15:42:30.046101Z",
     "shell.execute_reply": "2021-03-28T15:42:30.045479Z"
    },
    "papermill": {
     "duration": 0.036852,
     "end_time": "2021-03-28T15:42:30.046249",
     "exception": false,
     "start_time": "2021-03-28T15:42:30.009397",
     "status": "completed"
    },
    "tags": []
   },
   "outputs": [
    {
     "data": {
      "application/javascript": [
       "parent.postMessage({\"jupyterEvent\": \"custom.exercise_interaction\", \"data\": {\"outcomeType\": 1, \"valueTowardsCompletion\": 0.25, \"interactionType\": 1, \"questionType\": 1, \"questionId\": \"3_CountMissingPrices\", \"learnToolsVersion\": \"0.3.4\", \"failureMessage\": \"\", \"exceptionClass\": \"\", \"trace\": \"\"}}, \"*\")"
      ],
      "text/plain": [
       "<IPython.core.display.Javascript object>"
      ]
     },
     "metadata": {},
     "output_type": "display_data"
    },
    {
     "data": {
      "text/markdown": [
       "<span style=\"color:#33cc33\">Correct</span>"
      ],
      "text/plain": [
       "Correct"
      ]
     },
     "metadata": {},
     "output_type": "display_data"
    },
    {
     "data": {
      "text/plain": [
       "8996"
      ]
     },
     "execution_count": 7,
     "metadata": {},
     "output_type": "execute_result"
    }
   ],
   "source": [
    "### An Alternative Way ###\n",
    "n_missing_prices = reviews.price.isnull().value_counts()[True]\n",
    "\n",
    "# Check your answer\n",
    "q3.check()\n",
    "\n",
    "n_missing_prices"
   ]
  },
  {
   "cell_type": "code",
   "execution_count": 8,
   "metadata": {
    "execution": {
     "iopub.execute_input": "2021-03-28T15:42:30.087057Z",
     "iopub.status.busy": "2021-03-28T15:42:30.085879Z",
     "iopub.status.idle": "2021-03-28T15:42:30.090214Z",
     "shell.execute_reply": "2021-03-28T15:42:30.089219Z"
    },
    "papermill": {
     "duration": 0.026675,
     "end_time": "2021-03-28T15:42:30.090389",
     "exception": false,
     "start_time": "2021-03-28T15:42:30.063714",
     "status": "completed"
    },
    "tags": []
   },
   "outputs": [],
   "source": [
    "#q3.hint()\n",
    "\n",
    "#q3.solution()"
   ]
  },
  {
   "cell_type": "markdown",
   "metadata": {
    "papermill": {
     "duration": 0.016964,
     "end_time": "2021-03-28T15:42:30.125041",
     "exception": false,
     "start_time": "2021-03-28T15:42:30.108077",
     "status": "completed"
    },
    "tags": []
   },
   "source": [
    "## 4.\n",
    "What are the most common wine-producing regions? Create a Series counting the number of times each value occurs in the `region_1` field. This field is often missing data, so replace missing values with `Unknown`. Sort in descending order.  Your output should look something like this:\n",
    "\n",
    "```\n",
    "Unknown                    21247\n",
    "Napa Valley                 4480\n",
    "                           ...  \n",
    "Bardolino Superiore            1\n",
    "Primitivo del Tarantino        1\n",
    "Name: region_1, Length: 1230, dtype: int64\n",
    "```"
   ]
  },
  {
   "cell_type": "code",
   "execution_count": 9,
   "metadata": {
    "execution": {
     "iopub.execute_input": "2021-03-28T15:42:30.213235Z",
     "iopub.status.busy": "2021-03-28T15:42:30.190186Z",
     "iopub.status.idle": "2021-03-28T15:42:30.295674Z",
     "shell.execute_reply": "2021-03-28T15:42:30.294708Z"
    },
    "papermill": {
     "duration": 0.153528,
     "end_time": "2021-03-28T15:42:30.295942",
     "exception": false,
     "start_time": "2021-03-28T15:42:30.142414",
     "status": "completed"
    },
    "tags": []
   },
   "outputs": [
    {
     "data": {
      "application/javascript": [
       "parent.postMessage({\"jupyterEvent\": \"custom.exercise_interaction\", \"data\": {\"outcomeType\": 1, \"valueTowardsCompletion\": 0.25, \"interactionType\": 1, \"questionType\": 2, \"questionId\": \"4_ReviewsPerRegion\", \"learnToolsVersion\": \"0.3.4\", \"failureMessage\": \"\", \"exceptionClass\": \"\", \"trace\": \"\"}}, \"*\")"
      ],
      "text/plain": [
       "<IPython.core.display.Javascript object>"
      ]
     },
     "metadata": {},
     "output_type": "display_data"
    },
    {
     "data": {
      "text/markdown": [
       "<span style=\"color:#33cc33\">Correct</span>"
      ],
      "text/plain": [
       "Correct"
      ]
     },
     "metadata": {},
     "output_type": "display_data"
    }
   ],
   "source": [
    "reviews_per_region = reviews.region_1.fillna(\"Unknown\").value_counts().sort_values(ascending=False)\n",
    "\n",
    "# Check your answer\n",
    "q4.check()\n",
    "\n",
    "#reviews_per_region"
   ]
  },
  {
   "cell_type": "code",
   "execution_count": 10,
   "metadata": {
    "execution": {
     "iopub.execute_input": "2021-03-28T15:42:30.349960Z",
     "iopub.status.busy": "2021-03-28T15:42:30.349283Z",
     "iopub.status.idle": "2021-03-28T15:42:30.354770Z",
     "shell.execute_reply": "2021-03-28T15:42:30.354147Z"
    },
    "papermill": {
     "duration": 0.028971,
     "end_time": "2021-03-28T15:42:30.354925",
     "exception": false,
     "start_time": "2021-03-28T15:42:30.325954",
     "status": "completed"
    },
    "tags": []
   },
   "outputs": [
    {
     "data": {
      "application/javascript": [
       "parent.postMessage({\"jupyterEvent\": \"custom.exercise_interaction\", \"data\": {\"interactionType\": 2, \"questionType\": 2, \"questionId\": \"4_ReviewsPerRegion\", \"learnToolsVersion\": \"0.3.4\", \"valueTowardsCompletion\": 0.0, \"failureMessage\": \"\", \"exceptionClass\": \"\", \"trace\": \"\", \"outcomeType\": 4}}, \"*\")"
      ],
      "text/plain": [
       "<IPython.core.display.Javascript object>"
      ]
     },
     "metadata": {},
     "output_type": "display_data"
    },
    {
     "data": {
      "text/markdown": [
       "<span style=\"color:#3366cc\">Hint:</span> Use `fillna()`, `value_counts()`, and `sort_values()`."
      ],
      "text/plain": [
       "Hint: Use `fillna()`, `value_counts()`, and `sort_values()`."
      ]
     },
     "metadata": {},
     "output_type": "display_data"
    }
   ],
   "source": [
    "q4.hint()\n",
    "#q4.solution()"
   ]
  },
  {
   "cell_type": "markdown",
   "metadata": {
    "papermill": {
     "duration": 0.019056,
     "end_time": "2021-03-28T15:42:30.393633",
     "exception": false,
     "start_time": "2021-03-28T15:42:30.374577",
     "status": "completed"
    },
    "tags": []
   },
   "source": [
    "# Keep going\n",
    "\n",
    "Move on to **[renaming and combining](https://www.kaggle.com/residentmario/renaming-and-combining)**."
   ]
  },
  {
   "cell_type": "markdown",
   "metadata": {
    "papermill": {
     "duration": 0.019222,
     "end_time": "2021-03-28T15:42:30.432441",
     "exception": false,
     "start_time": "2021-03-28T15:42:30.413219",
     "status": "completed"
    },
    "tags": []
   },
   "source": [
    "---\n",
    "\n",
    "\n",
    "\n",
    "\n",
    "*Have questions or comments? Visit the [Learn Discussion forum](https://www.kaggle.com/learn-forum/161299) to chat with other Learners.*"
   ]
  }
 ],
 "metadata": {
  "kernelspec": {
   "display_name": "Python 3",
   "language": "python",
   "name": "python3"
  },
  "language_info": {
   "codemirror_mode": {
    "name": "ipython",
    "version": 3
   },
   "file_extension": ".py",
   "mimetype": "text/x-python",
   "name": "python",
   "nbconvert_exporter": "python",
   "pygments_lexer": "ipython3",
   "version": "3.7.9"
  },
  "papermill": {
   "default_parameters": {},
   "duration": 10.997183,
   "end_time": "2021-03-28T15:42:31.063117",
   "environment_variables": {},
   "exception": null,
   "input_path": "__notebook__.ipynb",
   "output_path": "__notebook__.ipynb",
   "parameters": {},
   "start_time": "2021-03-28T15:42:20.065934",
   "version": "2.2.2"
  }
 },
 "nbformat": 4,
 "nbformat_minor": 4
}
