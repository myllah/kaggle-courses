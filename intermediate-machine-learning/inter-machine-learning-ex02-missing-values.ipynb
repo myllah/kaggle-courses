{
 "cells": [
  {
   "cell_type": "markdown",
   "id": "breathing-playback",
   "metadata": {
    "papermill": {
     "duration": 0.032765,
     "end_time": "2021-04-19T21:14:18.385146",
     "exception": false,
     "start_time": "2021-04-19T21:14:18.352381",
     "status": "completed"
    },
    "tags": []
   },
   "source": [
    "### Intermediate-Machine-Learning-Exercise02: Missing Values"
   ]
  },
  {
   "cell_type": "markdown",
   "id": "noticed-sharp",
   "metadata": {
    "papermill": {
     "duration": 0.030525,
     "end_time": "2021-04-19T21:14:18.448384",
     "exception": false,
     "start_time": "2021-04-19T21:14:18.417859",
     "status": "completed"
    },
    "tags": []
   },
   "source": [
    "**This notebook is an exercise in the [Intermediate Machine Learning](https://www.kaggle.com/learn/intermediate-machine-learning \"Intermediate Machine Learning\") course.  You can reference the tutorial at [this link](https://www.kaggle.com/alexisbcook/missing-values \"Tutorial - Missing Values\").**\n",
    "\n",
    "> **This notebook is the second exercise in the  [Intermediate Machine Learning](https://www.kaggle.com/learn/intermediate-machine-learning \"Intermediate Machine Learning\") course. <span style = \"padding: 10px\"> It is the exercise of the second lesson, aka [Missing Values](https://www.kaggle.com/alexisbcook/missing-values \"Tutorial - Missing Values\").**\n"
   ]
  },
  {
   "cell_type": "markdown",
   "id": "temporal-termination",
   "metadata": {
    "papermill": {
     "duration": 0.030617,
     "end_time": "2021-04-19T21:14:18.510145",
     "exception": false,
     "start_time": "2021-04-19T21:14:18.479528",
     "status": "completed"
    },
    "tags": []
   },
   "source": [
    "Now it's your turn to test your new knowledge of **missing values** handling. You'll probably find it makes a big difference.\n",
    "\n",
    "# Setup\n",
    "\n",
    "The questions will give you feedback on your work. Run the following cell to set up the feedback system."
   ]
  },
  {
   "cell_type": "code",
   "execution_count": 1,
   "id": "improved-timothy",
   "metadata": {
    "execution": {
     "iopub.execute_input": "2021-04-19T21:14:18.580419Z",
     "iopub.status.busy": "2021-04-19T21:14:18.579639Z",
     "iopub.status.idle": "2021-04-19T21:14:18.625440Z",
     "shell.execute_reply": "2021-04-19T21:14:18.624490Z"
    },
    "papermill": {
     "duration": 0.084505,
     "end_time": "2021-04-19T21:14:18.625686",
     "exception": false,
     "start_time": "2021-04-19T21:14:18.541181",
     "status": "completed"
    },
    "tags": []
   },
   "outputs": [
    {
     "name": "stdout",
     "output_type": "stream",
     "text": [
      "Setup Complete\n"
     ]
    }
   ],
   "source": [
    "# Set up code checking\n",
    "import os\n",
    "if not os.path.exists(\"../input/train.csv\"):\n",
    "    os.symlink(\"../input/home-data-for-ml-course/train.csv\", \"../input/train.csv\")  \n",
    "    os.symlink(\"../input/home-data-for-ml-course/test.csv\", \"../input/test.csv\") \n",
    "from learntools.core import binder\n",
    "binder.bind(globals())\n",
    "from learntools.ml_intermediate.ex2 import *\n",
    "print(\"Setup Complete\")"
   ]
  },
  {
   "cell_type": "markdown",
   "id": "varying-victim",
   "metadata": {
    "papermill": {
     "duration": 0.030645,
     "end_time": "2021-04-19T21:14:18.689889",
     "exception": false,
     "start_time": "2021-04-19T21:14:18.659244",
     "status": "completed"
    },
    "tags": []
   },
   "source": [
    "In this exercise, you will work with data from the [Housing Prices Competition for Kaggle Learn Users](https://www.kaggle.com/c/home-data-for-ml-course). \n",
    "\n",
    "![Ames Housing dataset image](https://i.imgur.com/lTJVG4e.png)\n",
    "\n",
    "Run the next code cell without changes to load the training and validation sets in `X_train`, `X_valid`, `y_train`, and `y_valid`.  The test set is loaded in `X_test`."
   ]
  },
  {
   "cell_type": "code",
   "execution_count": 2,
   "id": "structured-danger",
   "metadata": {
    "execution": {
     "iopub.execute_input": "2021-04-19T21:14:18.760825Z",
     "iopub.status.busy": "2021-04-19T21:14:18.760092Z",
     "iopub.status.idle": "2021-04-19T21:14:20.060561Z",
     "shell.execute_reply": "2021-04-19T21:14:20.060000Z"
    },
    "papermill": {
     "duration": 1.339168,
     "end_time": "2021-04-19T21:14:20.060716",
     "exception": false,
     "start_time": "2021-04-19T21:14:18.721548",
     "status": "completed"
    },
    "tags": []
   },
   "outputs": [],
   "source": [
    "import pandas as pd\n",
    "from sklearn.model_selection import train_test_split\n",
    "\n",
    "# Read the data\n",
    "X_full = pd.read_csv('../input/train.csv', index_col='Id')\n",
    "X_test_full = pd.read_csv('../input/test.csv', index_col='Id')\n",
    "\n",
    "# Remove rows with missing target, separate target from predictors\n",
    "X_full.dropna(axis=0, subset=['SalePrice'], inplace=True)\n",
    "y = X_full.SalePrice\n",
    "X_full.drop(['SalePrice'], axis=1, inplace=True)\n",
    "\n",
    "# To keep things simple, we'll use only numerical predictors\n",
    "X = X_full.select_dtypes(exclude=['object'])\n",
    "X_test = X_test_full.select_dtypes(exclude=['object'])\n",
    "\n",
    "# Break off validation set from training data\n",
    "X_train, X_valid, y_train, y_valid = train_test_split(X, y, train_size=0.8, test_size=0.2,\n",
    "                                                      random_state=0)"
   ]
  },
  {
   "cell_type": "markdown",
   "id": "tamil-military",
   "metadata": {
    "papermill": {
     "duration": 0.031448,
     "end_time": "2021-04-19T21:14:20.124784",
     "exception": false,
     "start_time": "2021-04-19T21:14:20.093336",
     "status": "completed"
    },
    "tags": []
   },
   "source": [
    "Use the next code cell to print the first five rows of the data."
   ]
  },
  {
   "cell_type": "code",
   "execution_count": 3,
   "id": "automated-waste",
   "metadata": {
    "execution": {
     "iopub.execute_input": "2021-04-19T21:14:20.199135Z",
     "iopub.status.busy": "2021-04-19T21:14:20.198500Z",
     "iopub.status.idle": "2021-04-19T21:14:20.223226Z",
     "shell.execute_reply": "2021-04-19T21:14:20.223716Z"
    },
    "papermill": {
     "duration": 0.067098,
     "end_time": "2021-04-19T21:14:20.223897",
     "exception": false,
     "start_time": "2021-04-19T21:14:20.156799",
     "status": "completed"
    },
    "tags": []
   },
   "outputs": [
    {
     "data": {
      "text/html": [
       "<div>\n",
       "<style scoped>\n",
       "    .dataframe tbody tr th:only-of-type {\n",
       "        vertical-align: middle;\n",
       "    }\n",
       "\n",
       "    .dataframe tbody tr th {\n",
       "        vertical-align: top;\n",
       "    }\n",
       "\n",
       "    .dataframe thead th {\n",
       "        text-align: right;\n",
       "    }\n",
       "</style>\n",
       "<table border=\"1\" class=\"dataframe\">\n",
       "  <thead>\n",
       "    <tr style=\"text-align: right;\">\n",
       "      <th></th>\n",
       "      <th>MSSubClass</th>\n",
       "      <th>LotFrontage</th>\n",
       "      <th>LotArea</th>\n",
       "      <th>OverallQual</th>\n",
       "      <th>OverallCond</th>\n",
       "      <th>YearBuilt</th>\n",
       "      <th>YearRemodAdd</th>\n",
       "      <th>MasVnrArea</th>\n",
       "      <th>BsmtFinSF1</th>\n",
       "      <th>BsmtFinSF2</th>\n",
       "      <th>...</th>\n",
       "      <th>GarageArea</th>\n",
       "      <th>WoodDeckSF</th>\n",
       "      <th>OpenPorchSF</th>\n",
       "      <th>EnclosedPorch</th>\n",
       "      <th>3SsnPorch</th>\n",
       "      <th>ScreenPorch</th>\n",
       "      <th>PoolArea</th>\n",
       "      <th>MiscVal</th>\n",
       "      <th>MoSold</th>\n",
       "      <th>YrSold</th>\n",
       "    </tr>\n",
       "    <tr>\n",
       "      <th>Id</th>\n",
       "      <th></th>\n",
       "      <th></th>\n",
       "      <th></th>\n",
       "      <th></th>\n",
       "      <th></th>\n",
       "      <th></th>\n",
       "      <th></th>\n",
       "      <th></th>\n",
       "      <th></th>\n",
       "      <th></th>\n",
       "      <th></th>\n",
       "      <th></th>\n",
       "      <th></th>\n",
       "      <th></th>\n",
       "      <th></th>\n",
       "      <th></th>\n",
       "      <th></th>\n",
       "      <th></th>\n",
       "      <th></th>\n",
       "      <th></th>\n",
       "      <th></th>\n",
       "    </tr>\n",
       "  </thead>\n",
       "  <tbody>\n",
       "    <tr>\n",
       "      <th>619</th>\n",
       "      <td>20</td>\n",
       "      <td>90.0</td>\n",
       "      <td>11694</td>\n",
       "      <td>9</td>\n",
       "      <td>5</td>\n",
       "      <td>2007</td>\n",
       "      <td>2007</td>\n",
       "      <td>452.0</td>\n",
       "      <td>48</td>\n",
       "      <td>0</td>\n",
       "      <td>...</td>\n",
       "      <td>774</td>\n",
       "      <td>0</td>\n",
       "      <td>108</td>\n",
       "      <td>0</td>\n",
       "      <td>0</td>\n",
       "      <td>260</td>\n",
       "      <td>0</td>\n",
       "      <td>0</td>\n",
       "      <td>7</td>\n",
       "      <td>2007</td>\n",
       "    </tr>\n",
       "    <tr>\n",
       "      <th>871</th>\n",
       "      <td>20</td>\n",
       "      <td>60.0</td>\n",
       "      <td>6600</td>\n",
       "      <td>5</td>\n",
       "      <td>5</td>\n",
       "      <td>1962</td>\n",
       "      <td>1962</td>\n",
       "      <td>0.0</td>\n",
       "      <td>0</td>\n",
       "      <td>0</td>\n",
       "      <td>...</td>\n",
       "      <td>308</td>\n",
       "      <td>0</td>\n",
       "      <td>0</td>\n",
       "      <td>0</td>\n",
       "      <td>0</td>\n",
       "      <td>0</td>\n",
       "      <td>0</td>\n",
       "      <td>0</td>\n",
       "      <td>8</td>\n",
       "      <td>2009</td>\n",
       "    </tr>\n",
       "    <tr>\n",
       "      <th>93</th>\n",
       "      <td>30</td>\n",
       "      <td>80.0</td>\n",
       "      <td>13360</td>\n",
       "      <td>5</td>\n",
       "      <td>7</td>\n",
       "      <td>1921</td>\n",
       "      <td>2006</td>\n",
       "      <td>0.0</td>\n",
       "      <td>713</td>\n",
       "      <td>0</td>\n",
       "      <td>...</td>\n",
       "      <td>432</td>\n",
       "      <td>0</td>\n",
       "      <td>0</td>\n",
       "      <td>44</td>\n",
       "      <td>0</td>\n",
       "      <td>0</td>\n",
       "      <td>0</td>\n",
       "      <td>0</td>\n",
       "      <td>8</td>\n",
       "      <td>2009</td>\n",
       "    </tr>\n",
       "    <tr>\n",
       "      <th>818</th>\n",
       "      <td>20</td>\n",
       "      <td>NaN</td>\n",
       "      <td>13265</td>\n",
       "      <td>8</td>\n",
       "      <td>5</td>\n",
       "      <td>2002</td>\n",
       "      <td>2002</td>\n",
       "      <td>148.0</td>\n",
       "      <td>1218</td>\n",
       "      <td>0</td>\n",
       "      <td>...</td>\n",
       "      <td>857</td>\n",
       "      <td>150</td>\n",
       "      <td>59</td>\n",
       "      <td>0</td>\n",
       "      <td>0</td>\n",
       "      <td>0</td>\n",
       "      <td>0</td>\n",
       "      <td>0</td>\n",
       "      <td>7</td>\n",
       "      <td>2008</td>\n",
       "    </tr>\n",
       "    <tr>\n",
       "      <th>303</th>\n",
       "      <td>20</td>\n",
       "      <td>118.0</td>\n",
       "      <td>13704</td>\n",
       "      <td>7</td>\n",
       "      <td>5</td>\n",
       "      <td>2001</td>\n",
       "      <td>2002</td>\n",
       "      <td>150.0</td>\n",
       "      <td>0</td>\n",
       "      <td>0</td>\n",
       "      <td>...</td>\n",
       "      <td>843</td>\n",
       "      <td>468</td>\n",
       "      <td>81</td>\n",
       "      <td>0</td>\n",
       "      <td>0</td>\n",
       "      <td>0</td>\n",
       "      <td>0</td>\n",
       "      <td>0</td>\n",
       "      <td>1</td>\n",
       "      <td>2006</td>\n",
       "    </tr>\n",
       "  </tbody>\n",
       "</table>\n",
       "<p>5 rows × 36 columns</p>\n",
       "</div>"
      ],
      "text/plain": [
       "     MSSubClass  LotFrontage  LotArea  OverallQual  OverallCond  YearBuilt  \\\n",
       "Id                                                                           \n",
       "619          20         90.0    11694            9            5       2007   \n",
       "871          20         60.0     6600            5            5       1962   \n",
       "93           30         80.0    13360            5            7       1921   \n",
       "818          20          NaN    13265            8            5       2002   \n",
       "303          20        118.0    13704            7            5       2001   \n",
       "\n",
       "     YearRemodAdd  MasVnrArea  BsmtFinSF1  BsmtFinSF2  ...  GarageArea  \\\n",
       "Id                                                     ...               \n",
       "619          2007       452.0          48           0  ...         774   \n",
       "871          1962         0.0           0           0  ...         308   \n",
       "93           2006         0.0         713           0  ...         432   \n",
       "818          2002       148.0        1218           0  ...         857   \n",
       "303          2002       150.0           0           0  ...         843   \n",
       "\n",
       "     WoodDeckSF  OpenPorchSF  EnclosedPorch  3SsnPorch  ScreenPorch  PoolArea  \\\n",
       "Id                                                                              \n",
       "619           0          108              0          0          260         0   \n",
       "871           0            0              0          0            0         0   \n",
       "93            0            0             44          0            0         0   \n",
       "818         150           59              0          0            0         0   \n",
       "303         468           81              0          0            0         0   \n",
       "\n",
       "     MiscVal  MoSold  YrSold  \n",
       "Id                            \n",
       "619        0       7    2007  \n",
       "871        0       8    2009  \n",
       "93         0       8    2009  \n",
       "818        0       7    2008  \n",
       "303        0       1    2006  \n",
       "\n",
       "[5 rows x 36 columns]"
      ]
     },
     "execution_count": 3,
     "metadata": {},
     "output_type": "execute_result"
    }
   ],
   "source": [
    "X_train.head()"
   ]
  },
  {
   "cell_type": "code",
   "execution_count": 4,
   "id": "colored-seller",
   "metadata": {
    "execution": {
     "iopub.execute_input": "2021-04-19T21:14:20.297404Z",
     "iopub.status.busy": "2021-04-19T21:14:20.296516Z",
     "iopub.status.idle": "2021-04-19T21:14:20.301330Z",
     "shell.execute_reply": "2021-04-19T21:14:20.300689Z"
    },
    "papermill": {
     "duration": 0.044171,
     "end_time": "2021-04-19T21:14:20.301468",
     "exception": false,
     "start_time": "2021-04-19T21:14:20.257297",
     "status": "completed"
    },
    "tags": []
   },
   "outputs": [
    {
     "data": {
      "text/plain": [
       "Id\n",
       "619    314813\n",
       "871    109500\n",
       "93     163500\n",
       "818    271000\n",
       "303    205000\n",
       "Name: SalePrice, dtype: int64"
      ]
     },
     "execution_count": 4,
     "metadata": {},
     "output_type": "execute_result"
    }
   ],
   "source": [
    "y_train.head()"
   ]
  },
  {
   "cell_type": "code",
   "execution_count": 5,
   "id": "internal-witness",
   "metadata": {
    "execution": {
     "iopub.execute_input": "2021-04-19T21:14:20.391227Z",
     "iopub.status.busy": "2021-04-19T21:14:20.390327Z",
     "iopub.status.idle": "2021-04-19T21:14:20.394547Z",
     "shell.execute_reply": "2021-04-19T21:14:20.395002Z"
    },
    "papermill": {
     "duration": 0.059989,
     "end_time": "2021-04-19T21:14:20.395182",
     "exception": false,
     "start_time": "2021-04-19T21:14:20.335193",
     "status": "completed"
    },
    "tags": []
   },
   "outputs": [
    {
     "data": {
      "text/html": [
       "<div>\n",
       "<style scoped>\n",
       "    .dataframe tbody tr th:only-of-type {\n",
       "        vertical-align: middle;\n",
       "    }\n",
       "\n",
       "    .dataframe tbody tr th {\n",
       "        vertical-align: top;\n",
       "    }\n",
       "\n",
       "    .dataframe thead th {\n",
       "        text-align: right;\n",
       "    }\n",
       "</style>\n",
       "<table border=\"1\" class=\"dataframe\">\n",
       "  <thead>\n",
       "    <tr style=\"text-align: right;\">\n",
       "      <th></th>\n",
       "      <th>MSSubClass</th>\n",
       "      <th>LotFrontage</th>\n",
       "      <th>LotArea</th>\n",
       "      <th>OverallQual</th>\n",
       "      <th>OverallCond</th>\n",
       "      <th>YearBuilt</th>\n",
       "      <th>YearRemodAdd</th>\n",
       "      <th>MasVnrArea</th>\n",
       "      <th>BsmtFinSF1</th>\n",
       "      <th>BsmtFinSF2</th>\n",
       "      <th>...</th>\n",
       "      <th>GarageArea</th>\n",
       "      <th>WoodDeckSF</th>\n",
       "      <th>OpenPorchSF</th>\n",
       "      <th>EnclosedPorch</th>\n",
       "      <th>3SsnPorch</th>\n",
       "      <th>ScreenPorch</th>\n",
       "      <th>PoolArea</th>\n",
       "      <th>MiscVal</th>\n",
       "      <th>MoSold</th>\n",
       "      <th>YrSold</th>\n",
       "    </tr>\n",
       "    <tr>\n",
       "      <th>Id</th>\n",
       "      <th></th>\n",
       "      <th></th>\n",
       "      <th></th>\n",
       "      <th></th>\n",
       "      <th></th>\n",
       "      <th></th>\n",
       "      <th></th>\n",
       "      <th></th>\n",
       "      <th></th>\n",
       "      <th></th>\n",
       "      <th></th>\n",
       "      <th></th>\n",
       "      <th></th>\n",
       "      <th></th>\n",
       "      <th></th>\n",
       "      <th></th>\n",
       "      <th></th>\n",
       "      <th></th>\n",
       "      <th></th>\n",
       "      <th></th>\n",
       "      <th></th>\n",
       "    </tr>\n",
       "  </thead>\n",
       "  <tbody>\n",
       "    <tr>\n",
       "      <th>530</th>\n",
       "      <td>20</td>\n",
       "      <td>NaN</td>\n",
       "      <td>32668</td>\n",
       "      <td>6</td>\n",
       "      <td>3</td>\n",
       "      <td>1957</td>\n",
       "      <td>1975</td>\n",
       "      <td>NaN</td>\n",
       "      <td>1219</td>\n",
       "      <td>0</td>\n",
       "      <td>...</td>\n",
       "      <td>484</td>\n",
       "      <td>0</td>\n",
       "      <td>0</td>\n",
       "      <td>200</td>\n",
       "      <td>0</td>\n",
       "      <td>0</td>\n",
       "      <td>0</td>\n",
       "      <td>0</td>\n",
       "      <td>3</td>\n",
       "      <td>2007</td>\n",
       "    </tr>\n",
       "    <tr>\n",
       "      <th>492</th>\n",
       "      <td>50</td>\n",
       "      <td>79.0</td>\n",
       "      <td>9490</td>\n",
       "      <td>6</td>\n",
       "      <td>7</td>\n",
       "      <td>1941</td>\n",
       "      <td>1950</td>\n",
       "      <td>0.0</td>\n",
       "      <td>403</td>\n",
       "      <td>165</td>\n",
       "      <td>...</td>\n",
       "      <td>240</td>\n",
       "      <td>0</td>\n",
       "      <td>0</td>\n",
       "      <td>32</td>\n",
       "      <td>0</td>\n",
       "      <td>0</td>\n",
       "      <td>0</td>\n",
       "      <td>0</td>\n",
       "      <td>8</td>\n",
       "      <td>2006</td>\n",
       "    </tr>\n",
       "    <tr>\n",
       "      <th>460</th>\n",
       "      <td>50</td>\n",
       "      <td>NaN</td>\n",
       "      <td>7015</td>\n",
       "      <td>5</td>\n",
       "      <td>4</td>\n",
       "      <td>1950</td>\n",
       "      <td>1950</td>\n",
       "      <td>161.0</td>\n",
       "      <td>185</td>\n",
       "      <td>0</td>\n",
       "      <td>...</td>\n",
       "      <td>352</td>\n",
       "      <td>0</td>\n",
       "      <td>0</td>\n",
       "      <td>248</td>\n",
       "      <td>0</td>\n",
       "      <td>0</td>\n",
       "      <td>0</td>\n",
       "      <td>0</td>\n",
       "      <td>7</td>\n",
       "      <td>2009</td>\n",
       "    </tr>\n",
       "    <tr>\n",
       "      <th>280</th>\n",
       "      <td>60</td>\n",
       "      <td>83.0</td>\n",
       "      <td>10005</td>\n",
       "      <td>7</td>\n",
       "      <td>5</td>\n",
       "      <td>1977</td>\n",
       "      <td>1977</td>\n",
       "      <td>299.0</td>\n",
       "      <td>392</td>\n",
       "      <td>0</td>\n",
       "      <td>...</td>\n",
       "      <td>505</td>\n",
       "      <td>288</td>\n",
       "      <td>117</td>\n",
       "      <td>0</td>\n",
       "      <td>0</td>\n",
       "      <td>0</td>\n",
       "      <td>0</td>\n",
       "      <td>0</td>\n",
       "      <td>3</td>\n",
       "      <td>2008</td>\n",
       "    </tr>\n",
       "    <tr>\n",
       "      <th>656</th>\n",
       "      <td>160</td>\n",
       "      <td>21.0</td>\n",
       "      <td>1680</td>\n",
       "      <td>6</td>\n",
       "      <td>5</td>\n",
       "      <td>1971</td>\n",
       "      <td>1971</td>\n",
       "      <td>381.0</td>\n",
       "      <td>0</td>\n",
       "      <td>0</td>\n",
       "      <td>...</td>\n",
       "      <td>264</td>\n",
       "      <td>0</td>\n",
       "      <td>0</td>\n",
       "      <td>0</td>\n",
       "      <td>0</td>\n",
       "      <td>0</td>\n",
       "      <td>0</td>\n",
       "      <td>0</td>\n",
       "      <td>3</td>\n",
       "      <td>2010</td>\n",
       "    </tr>\n",
       "  </tbody>\n",
       "</table>\n",
       "<p>5 rows × 36 columns</p>\n",
       "</div>"
      ],
      "text/plain": [
       "     MSSubClass  LotFrontage  LotArea  OverallQual  OverallCond  YearBuilt  \\\n",
       "Id                                                                           \n",
       "530          20          NaN    32668            6            3       1957   \n",
       "492          50         79.0     9490            6            7       1941   \n",
       "460          50          NaN     7015            5            4       1950   \n",
       "280          60         83.0    10005            7            5       1977   \n",
       "656         160         21.0     1680            6            5       1971   \n",
       "\n",
       "     YearRemodAdd  MasVnrArea  BsmtFinSF1  BsmtFinSF2  ...  GarageArea  \\\n",
       "Id                                                     ...               \n",
       "530          1975         NaN        1219           0  ...         484   \n",
       "492          1950         0.0         403         165  ...         240   \n",
       "460          1950       161.0         185           0  ...         352   \n",
       "280          1977       299.0         392           0  ...         505   \n",
       "656          1971       381.0           0           0  ...         264   \n",
       "\n",
       "     WoodDeckSF  OpenPorchSF  EnclosedPorch  3SsnPorch  ScreenPorch  PoolArea  \\\n",
       "Id                                                                              \n",
       "530           0            0            200          0            0         0   \n",
       "492           0            0             32          0            0         0   \n",
       "460           0            0            248          0            0         0   \n",
       "280         288          117              0          0            0         0   \n",
       "656           0            0              0          0            0         0   \n",
       "\n",
       "     MiscVal  MoSold  YrSold  \n",
       "Id                            \n",
       "530        0       3    2007  \n",
       "492        0       8    2006  \n",
       "460        0       7    2009  \n",
       "280        0       3    2008  \n",
       "656        0       3    2010  \n",
       "\n",
       "[5 rows x 36 columns]"
      ]
     },
     "execution_count": 5,
     "metadata": {},
     "output_type": "execute_result"
    }
   ],
   "source": [
    "X_valid.head()"
   ]
  },
  {
   "cell_type": "code",
   "execution_count": 6,
   "id": "convinced-publication",
   "metadata": {
    "execution": {
     "iopub.execute_input": "2021-04-19T21:14:20.470086Z",
     "iopub.status.busy": "2021-04-19T21:14:20.469076Z",
     "iopub.status.idle": "2021-04-19T21:14:20.473321Z",
     "shell.execute_reply": "2021-04-19T21:14:20.473795Z"
    },
    "papermill": {
     "duration": 0.044918,
     "end_time": "2021-04-19T21:14:20.473971",
     "exception": false,
     "start_time": "2021-04-19T21:14:20.429053",
     "status": "completed"
    },
    "tags": []
   },
   "outputs": [
    {
     "data": {
      "text/plain": [
       "Id\n",
       "530    200624\n",
       "492    133000\n",
       "460    110000\n",
       "280    192000\n",
       "656     88000\n",
       "Name: SalePrice, dtype: int64"
      ]
     },
     "execution_count": 6,
     "metadata": {},
     "output_type": "execute_result"
    }
   ],
   "source": [
    "y_valid.head()"
   ]
  },
  {
   "cell_type": "markdown",
   "id": "talented-radical",
   "metadata": {
    "papermill": {
     "duration": 0.034048,
     "end_time": "2021-04-19T21:14:20.542629",
     "exception": false,
     "start_time": "2021-04-19T21:14:20.508581",
     "status": "completed"
    },
    "tags": []
   },
   "source": [
    "You can already see a few missing values in the first several rows.  In the next step, you'll obtain a more comprehensive understanding of the missing values in the dataset.\n",
    "\n",
    "# Step 1: Preliminary investigation\n",
    "\n",
    "Run the code cell below without changes."
   ]
  },
  {
   "cell_type": "code",
   "execution_count": 7,
   "id": "mounted-variation",
   "metadata": {
    "execution": {
     "iopub.execute_input": "2021-04-19T21:14:20.620268Z",
     "iopub.status.busy": "2021-04-19T21:14:20.619349Z",
     "iopub.status.idle": "2021-04-19T21:14:20.623196Z",
     "shell.execute_reply": "2021-04-19T21:14:20.622585Z"
    },
    "papermill": {
     "duration": 0.046245,
     "end_time": "2021-04-19T21:14:20.623325",
     "exception": false,
     "start_time": "2021-04-19T21:14:20.577080",
     "status": "completed"
    },
    "tags": []
   },
   "outputs": [
    {
     "name": "stdout",
     "output_type": "stream",
     "text": [
      "(1168, 36)\n",
      "LotFrontage    212\n",
      "MasVnrArea       6\n",
      "GarageYrBlt     58\n",
      "dtype: int64\n"
     ]
    }
   ],
   "source": [
    "# Shape of training data (num_rows, num_columns)\n",
    "print(X_train.shape)\n",
    "\n",
    "# Number of missing values in each column of training data\n",
    "missing_val_count_by_column = (X_train.isnull().sum())\n",
    "print(missing_val_count_by_column[missing_val_count_by_column > 0])"
   ]
  },
  {
   "cell_type": "markdown",
   "id": "listed-antarctica",
   "metadata": {
    "papermill": {
     "duration": 0.034846,
     "end_time": "2021-04-19T21:14:20.692962",
     "exception": false,
     "start_time": "2021-04-19T21:14:20.658116",
     "status": "completed"
    },
    "tags": []
   },
   "source": [
    "### Part A\n",
    "\n",
    "Use the above output to answer the questions below."
   ]
  },
  {
   "cell_type": "code",
   "execution_count": 8,
   "id": "bound-richardson",
   "metadata": {
    "execution": {
     "iopub.execute_input": "2021-04-19T21:14:20.768280Z",
     "iopub.status.busy": "2021-04-19T21:14:20.767553Z",
     "iopub.status.idle": "2021-04-19T21:14:20.772709Z",
     "shell.execute_reply": "2021-04-19T21:14:20.773252Z"
    },
    "papermill": {
     "duration": 0.04587,
     "end_time": "2021-04-19T21:14:20.773421",
     "exception": false,
     "start_time": "2021-04-19T21:14:20.727551",
     "status": "completed"
    },
    "tags": []
   },
   "outputs": [
    {
     "data": {
      "application/javascript": [
       "parent.postMessage({\"jupyterEvent\": \"custom.exercise_interaction\", \"data\": {\"outcomeType\": 1, \"valueTowardsCompletion\": 1.0, \"interactionType\": 1, \"questionType\": 1, \"questionId\": \"1.1_InvestigateEquality\", \"learnToolsVersion\": \"0.3.4\", \"failureMessage\": \"\", \"exceptionClass\": \"\", \"trace\": \"\"}}, \"*\")"
      ],
      "text/plain": [
       "<IPython.core.display.Javascript object>"
      ]
     },
     "metadata": {},
     "output_type": "display_data"
    },
    {
     "data": {
      "text/markdown": [
       "<span style=\"color:#33cc33\">Correct</span>"
      ],
      "text/plain": [
       "Correct"
      ]
     },
     "metadata": {},
     "output_type": "display_data"
    }
   ],
   "source": [
    "# Fill in the line below: How many rows are in the training data?\n",
    "num_rows = 1168\n",
    "\n",
    "# Fill in the line below: How many columns in the training data\n",
    "# have missing values?\n",
    "num_cols_with_missing = 3\n",
    "\n",
    "# Fill in the line below: How many missing entries are contained in \n",
    "# all of the training data?\n",
    "tot_missing = 212 + 6 + 58 ### 212 + 6 + 58 = 276\n",
    "\n",
    "# Check your answers\n",
    "step_1.a.check()"
   ]
  },
  {
   "cell_type": "code",
   "execution_count": 9,
   "id": "statutory-heating",
   "metadata": {
    "execution": {
     "iopub.execute_input": "2021-04-19T21:14:20.869183Z",
     "iopub.status.busy": "2021-04-19T21:14:20.868149Z",
     "iopub.status.idle": "2021-04-19T21:14:20.873946Z",
     "shell.execute_reply": "2021-04-19T21:14:20.874647Z"
    },
    "papermill": {
     "duration": 0.060906,
     "end_time": "2021-04-19T21:14:20.874888",
     "exception": false,
     "start_time": "2021-04-19T21:14:20.813982",
     "status": "completed"
    },
    "tags": []
   },
   "outputs": [],
   "source": [
    "# Lines below will give you a hint or solution code\n",
    "#step_1.a.hint()\n",
    "#step_1.a.solution()"
   ]
  },
  {
   "cell_type": "markdown",
   "id": "cubic-biodiversity",
   "metadata": {
    "papermill": {
     "duration": 0.04441,
     "end_time": "2021-04-19T21:14:20.960964",
     "exception": false,
     "start_time": "2021-04-19T21:14:20.916554",
     "status": "completed"
    },
    "tags": []
   },
   "source": [
    "### Part B\n",
    "Considering your answers above, what do you think is likely the best approach to dealing with the missing values?"
   ]
  },
  {
   "cell_type": "code",
   "execution_count": 10,
   "id": "unlike-mission",
   "metadata": {
    "execution": {
     "iopub.execute_input": "2021-04-19T21:14:21.078882Z",
     "iopub.status.busy": "2021-04-19T21:14:21.077865Z",
     "iopub.status.idle": "2021-04-19T21:14:21.083199Z",
     "shell.execute_reply": "2021-04-19T21:14:21.083807Z"
    },
    "papermill": {
     "duration": 0.064657,
     "end_time": "2021-04-19T21:14:21.083973",
     "exception": false,
     "start_time": "2021-04-19T21:14:21.019316",
     "status": "completed"
    },
    "tags": []
   },
   "outputs": [
    {
     "data": {
      "application/javascript": [
       "parent.postMessage({\"jupyterEvent\": \"custom.exercise_interaction\", \"data\": {\"outcomeType\": 1, \"valueTowardsCompletion\": 1.0, \"interactionType\": 1, \"questionType\": 4, \"questionId\": \"1.2_InvestigateThought\", \"learnToolsVersion\": \"0.3.4\", \"failureMessage\": \"\", \"exceptionClass\": \"\", \"trace\": \"\"}}, \"*\")"
      ],
      "text/plain": [
       "<IPython.core.display.Javascript object>"
      ]
     },
     "metadata": {},
     "output_type": "display_data"
    },
    {
     "data": {
      "text/markdown": [
       "<span style=\"color:#33cc33\">Correct:</span> \n",
       "\n",
       "Since there are relatively few missing entries in the data (the column with the greatest percentage of missing values is missing less than 20% of its entries), we can expect that dropping columns is unlikely to yield good results.  This is because we'd be throwing away a lot of valuable data, and so imputation will likely perform better."
      ],
      "text/plain": [
       "Correct: \n",
       "\n",
       "Since there are relatively few missing entries in the data (the column with the greatest percentage of missing values is missing less than 20% of its entries), we can expect that dropping columns is unlikely to yield good results.  This is because we'd be throwing away a lot of valuable data, and so imputation will likely perform better."
      ]
     },
     "metadata": {},
     "output_type": "display_data"
    }
   ],
   "source": [
    "## We should not drop the columns with missing values\n",
    "## because we have lots of values that are not empty in the colum, so we would waist usefull data.\n",
    "## So the imputation seems a better option.\n",
    "\n",
    "# Check your answer (Run this code cell to receive credit!)\n",
    "step_1.b.check()"
   ]
  },
  {
   "cell_type": "code",
   "execution_count": 11,
   "id": "minor-arnold",
   "metadata": {
    "execution": {
     "iopub.execute_input": "2021-04-19T21:14:21.174831Z",
     "iopub.status.busy": "2021-04-19T21:14:21.172222Z",
     "iopub.status.idle": "2021-04-19T21:14:21.180140Z",
     "shell.execute_reply": "2021-04-19T21:14:21.179444Z"
    },
    "papermill": {
     "duration": 0.056779,
     "end_time": "2021-04-19T21:14:21.180322",
     "exception": false,
     "start_time": "2021-04-19T21:14:21.123543",
     "status": "completed"
    },
    "tags": []
   },
   "outputs": [
    {
     "data": {
      "application/javascript": [
       "parent.postMessage({\"jupyterEvent\": \"custom.exercise_interaction\", \"data\": {\"interactionType\": 2, \"questionType\": 4, \"questionId\": \"1.2_InvestigateThought\", \"learnToolsVersion\": \"0.3.4\", \"valueTowardsCompletion\": 0.0, \"failureMessage\": \"\", \"exceptionClass\": \"\", \"trace\": \"\", \"outcomeType\": 4}}, \"*\")"
      ],
      "text/plain": [
       "<IPython.core.display.Javascript object>"
      ]
     },
     "metadata": {},
     "output_type": "display_data"
    },
    {
     "data": {
      "text/markdown": [
       "<span style=\"color:#3366cc\">Hint:</span> Does the dataset have a lot of missing values, or just a few?  Would we lose much information if we completely ignored the columns with missing entries?"
      ],
      "text/plain": [
       "Hint: Does the dataset have a lot of missing values, or just a few?  Would we lose much information if we completely ignored the columns with missing entries?"
      ]
     },
     "metadata": {},
     "output_type": "display_data"
    }
   ],
   "source": [
    "step_1.b.hint()"
   ]
  },
  {
   "cell_type": "markdown",
   "id": "individual-flood",
   "metadata": {
    "papermill": {
     "duration": 0.037982,
     "end_time": "2021-04-19T21:14:21.263568",
     "exception": false,
     "start_time": "2021-04-19T21:14:21.225586",
     "status": "completed"
    },
    "tags": []
   },
   "source": [
    "To compare different approaches to dealing with missing values, you'll use the same `score_dataset()` function from the tutorial.  This function reports the [mean absolute error](https://en.wikipedia.org/wiki/Mean_absolute_error) (MAE) from a random forest model."
   ]
  },
  {
   "cell_type": "code",
   "execution_count": 12,
   "id": "popular-business",
   "metadata": {
    "execution": {
     "iopub.execute_input": "2021-04-19T21:14:21.347749Z",
     "iopub.status.busy": "2021-04-19T21:14:21.346968Z",
     "iopub.status.idle": "2021-04-19T21:14:21.587320Z",
     "shell.execute_reply": "2021-04-19T21:14:21.587851Z"
    },
    "papermill": {
     "duration": 0.286516,
     "end_time": "2021-04-19T21:14:21.588039",
     "exception": false,
     "start_time": "2021-04-19T21:14:21.301523",
     "status": "completed"
    },
    "tags": []
   },
   "outputs": [],
   "source": [
    "from sklearn.ensemble import RandomForestRegressor\n",
    "from sklearn.metrics import mean_absolute_error\n",
    "\n",
    "# Function for comparing different approaches\n",
    "def score_dataset(X_train, X_valid, y_train, y_valid):\n",
    "    model = RandomForestRegressor(n_estimators=100, random_state=0)\n",
    "    model.fit(X_train, y_train)\n",
    "    preds = model.predict(X_valid)\n",
    "    return mean_absolute_error(y_valid, preds)"
   ]
  },
  {
   "cell_type": "markdown",
   "id": "variable-growth",
   "metadata": {
    "papermill": {
     "duration": 0.039049,
     "end_time": "2021-04-19T21:14:21.666085",
     "exception": false,
     "start_time": "2021-04-19T21:14:21.627036",
     "status": "completed"
    },
    "tags": []
   },
   "source": [
    "# Step 2: Drop columns with missing values\n",
    "\n",
    "In this step, you'll preprocess the data in `X_train` and `X_valid` to remove columns with missing values.  Set the preprocessed DataFrames to `reduced_X_train` and `reduced_X_valid`, respectively.  "
   ]
  },
  {
   "cell_type": "code",
   "execution_count": 13,
   "id": "agricultural-context",
   "metadata": {
    "execution": {
     "iopub.execute_input": "2021-04-19T21:14:21.775208Z",
     "iopub.status.busy": "2021-04-19T21:14:21.774444Z",
     "iopub.status.idle": "2021-04-19T21:14:21.781114Z",
     "shell.execute_reply": "2021-04-19T21:14:21.781589Z"
    },
    "papermill": {
     "duration": 0.077585,
     "end_time": "2021-04-19T21:14:21.781772",
     "exception": false,
     "start_time": "2021-04-19T21:14:21.704187",
     "status": "completed"
    },
    "tags": []
   },
   "outputs": [
    {
     "name": "stdout",
     "output_type": "stream",
     "text": [
      "cols_missing_values ['LotFrontage', 'MasVnrArea', 'GarageYrBlt']\n",
      "dropping columns\n",
      "cols_missing_values []\n"
     ]
    },
    {
     "data": {
      "application/javascript": [
       "parent.postMessage({\"jupyterEvent\": \"custom.exercise_interaction\", \"data\": {\"outcomeType\": 1, \"valueTowardsCompletion\": 1.0, \"interactionType\": 1, \"questionType\": 2, \"questionId\": \"2_DropMissing\", \"learnToolsVersion\": \"0.3.4\", \"failureMessage\": \"\", \"exceptionClass\": \"\", \"trace\": \"\"}}, \"*\")"
      ],
      "text/plain": [
       "<IPython.core.display.Javascript object>"
      ]
     },
     "metadata": {},
     "output_type": "display_data"
    },
    {
     "data": {
      "text/markdown": [
       "<span style=\"color:#33cc33\">Correct</span>"
      ],
      "text/plain": [
       "Correct"
      ]
     },
     "metadata": {},
     "output_type": "display_data"
    }
   ],
   "source": [
    "# Fill in the line below: get names of columns with missing values\n",
    "cols_missing_values = [col for col in X_train.columns\n",
    "                       if X_train[col].isnull().any()]\n",
    "print('cols_missing_values', cols_missing_values)\n",
    "\n",
    "# Fill in the lines below: drop columns in training and validation data\n",
    "print(\"dropping columns\")\n",
    "reduced_X_train = X_train.drop(cols_missing_values, axis=1)\n",
    "reduced_X_valid = X_valid.drop(cols_missing_values, axis=1)\n",
    "\n",
    "cols_missing_values = [col for col in reduced_X_train.columns\n",
    "                       if reduced_X_train[col].isnull().any()]\n",
    "print('cols_missing_values', cols_missing_values)\n",
    "\n",
    "# Check your answers\n",
    "step_2.check()"
   ]
  },
  {
   "cell_type": "code",
   "execution_count": 14,
   "id": "incredible-enclosure",
   "metadata": {
    "execution": {
     "iopub.execute_input": "2021-04-19T21:14:21.881882Z",
     "iopub.status.busy": "2021-04-19T21:14:21.880973Z",
     "iopub.status.idle": "2021-04-19T21:14:21.885834Z",
     "shell.execute_reply": "2021-04-19T21:14:21.885194Z"
    },
    "papermill": {
     "duration": 0.064608,
     "end_time": "2021-04-19T21:14:21.885971",
     "exception": false,
     "start_time": "2021-04-19T21:14:21.821363",
     "status": "completed"
    },
    "tags": []
   },
   "outputs": [
    {
     "data": {
      "text/html": [
       "<div>\n",
       "<style scoped>\n",
       "    .dataframe tbody tr th:only-of-type {\n",
       "        vertical-align: middle;\n",
       "    }\n",
       "\n",
       "    .dataframe tbody tr th {\n",
       "        vertical-align: top;\n",
       "    }\n",
       "\n",
       "    .dataframe thead th {\n",
       "        text-align: right;\n",
       "    }\n",
       "</style>\n",
       "<table border=\"1\" class=\"dataframe\">\n",
       "  <thead>\n",
       "    <tr style=\"text-align: right;\">\n",
       "      <th></th>\n",
       "      <th>MSSubClass</th>\n",
       "      <th>LotArea</th>\n",
       "      <th>OverallQual</th>\n",
       "      <th>OverallCond</th>\n",
       "      <th>YearBuilt</th>\n",
       "      <th>YearRemodAdd</th>\n",
       "      <th>BsmtFinSF1</th>\n",
       "      <th>BsmtFinSF2</th>\n",
       "      <th>BsmtUnfSF</th>\n",
       "      <th>TotalBsmtSF</th>\n",
       "      <th>...</th>\n",
       "      <th>GarageArea</th>\n",
       "      <th>WoodDeckSF</th>\n",
       "      <th>OpenPorchSF</th>\n",
       "      <th>EnclosedPorch</th>\n",
       "      <th>3SsnPorch</th>\n",
       "      <th>ScreenPorch</th>\n",
       "      <th>PoolArea</th>\n",
       "      <th>MiscVal</th>\n",
       "      <th>MoSold</th>\n",
       "      <th>YrSold</th>\n",
       "    </tr>\n",
       "    <tr>\n",
       "      <th>Id</th>\n",
       "      <th></th>\n",
       "      <th></th>\n",
       "      <th></th>\n",
       "      <th></th>\n",
       "      <th></th>\n",
       "      <th></th>\n",
       "      <th></th>\n",
       "      <th></th>\n",
       "      <th></th>\n",
       "      <th></th>\n",
       "      <th></th>\n",
       "      <th></th>\n",
       "      <th></th>\n",
       "      <th></th>\n",
       "      <th></th>\n",
       "      <th></th>\n",
       "      <th></th>\n",
       "      <th></th>\n",
       "      <th></th>\n",
       "      <th></th>\n",
       "      <th></th>\n",
       "    </tr>\n",
       "  </thead>\n",
       "  <tbody>\n",
       "    <tr>\n",
       "      <th>619</th>\n",
       "      <td>20</td>\n",
       "      <td>11694</td>\n",
       "      <td>9</td>\n",
       "      <td>5</td>\n",
       "      <td>2007</td>\n",
       "      <td>2007</td>\n",
       "      <td>48</td>\n",
       "      <td>0</td>\n",
       "      <td>1774</td>\n",
       "      <td>1822</td>\n",
       "      <td>...</td>\n",
       "      <td>774</td>\n",
       "      <td>0</td>\n",
       "      <td>108</td>\n",
       "      <td>0</td>\n",
       "      <td>0</td>\n",
       "      <td>260</td>\n",
       "      <td>0</td>\n",
       "      <td>0</td>\n",
       "      <td>7</td>\n",
       "      <td>2007</td>\n",
       "    </tr>\n",
       "    <tr>\n",
       "      <th>871</th>\n",
       "      <td>20</td>\n",
       "      <td>6600</td>\n",
       "      <td>5</td>\n",
       "      <td>5</td>\n",
       "      <td>1962</td>\n",
       "      <td>1962</td>\n",
       "      <td>0</td>\n",
       "      <td>0</td>\n",
       "      <td>894</td>\n",
       "      <td>894</td>\n",
       "      <td>...</td>\n",
       "      <td>308</td>\n",
       "      <td>0</td>\n",
       "      <td>0</td>\n",
       "      <td>0</td>\n",
       "      <td>0</td>\n",
       "      <td>0</td>\n",
       "      <td>0</td>\n",
       "      <td>0</td>\n",
       "      <td>8</td>\n",
       "      <td>2009</td>\n",
       "    </tr>\n",
       "    <tr>\n",
       "      <th>93</th>\n",
       "      <td>30</td>\n",
       "      <td>13360</td>\n",
       "      <td>5</td>\n",
       "      <td>7</td>\n",
       "      <td>1921</td>\n",
       "      <td>2006</td>\n",
       "      <td>713</td>\n",
       "      <td>0</td>\n",
       "      <td>163</td>\n",
       "      <td>876</td>\n",
       "      <td>...</td>\n",
       "      <td>432</td>\n",
       "      <td>0</td>\n",
       "      <td>0</td>\n",
       "      <td>44</td>\n",
       "      <td>0</td>\n",
       "      <td>0</td>\n",
       "      <td>0</td>\n",
       "      <td>0</td>\n",
       "      <td>8</td>\n",
       "      <td>2009</td>\n",
       "    </tr>\n",
       "    <tr>\n",
       "      <th>818</th>\n",
       "      <td>20</td>\n",
       "      <td>13265</td>\n",
       "      <td>8</td>\n",
       "      <td>5</td>\n",
       "      <td>2002</td>\n",
       "      <td>2002</td>\n",
       "      <td>1218</td>\n",
       "      <td>0</td>\n",
       "      <td>350</td>\n",
       "      <td>1568</td>\n",
       "      <td>...</td>\n",
       "      <td>857</td>\n",
       "      <td>150</td>\n",
       "      <td>59</td>\n",
       "      <td>0</td>\n",
       "      <td>0</td>\n",
       "      <td>0</td>\n",
       "      <td>0</td>\n",
       "      <td>0</td>\n",
       "      <td>7</td>\n",
       "      <td>2008</td>\n",
       "    </tr>\n",
       "    <tr>\n",
       "      <th>303</th>\n",
       "      <td>20</td>\n",
       "      <td>13704</td>\n",
       "      <td>7</td>\n",
       "      <td>5</td>\n",
       "      <td>2001</td>\n",
       "      <td>2002</td>\n",
       "      <td>0</td>\n",
       "      <td>0</td>\n",
       "      <td>1541</td>\n",
       "      <td>1541</td>\n",
       "      <td>...</td>\n",
       "      <td>843</td>\n",
       "      <td>468</td>\n",
       "      <td>81</td>\n",
       "      <td>0</td>\n",
       "      <td>0</td>\n",
       "      <td>0</td>\n",
       "      <td>0</td>\n",
       "      <td>0</td>\n",
       "      <td>1</td>\n",
       "      <td>2006</td>\n",
       "    </tr>\n",
       "  </tbody>\n",
       "</table>\n",
       "<p>5 rows × 33 columns</p>\n",
       "</div>"
      ],
      "text/plain": [
       "     MSSubClass  LotArea  OverallQual  OverallCond  YearBuilt  YearRemodAdd  \\\n",
       "Id                                                                            \n",
       "619          20    11694            9            5       2007          2007   \n",
       "871          20     6600            5            5       1962          1962   \n",
       "93           30    13360            5            7       1921          2006   \n",
       "818          20    13265            8            5       2002          2002   \n",
       "303          20    13704            7            5       2001          2002   \n",
       "\n",
       "     BsmtFinSF1  BsmtFinSF2  BsmtUnfSF  TotalBsmtSF  ...  GarageArea  \\\n",
       "Id                                                   ...               \n",
       "619          48           0       1774         1822  ...         774   \n",
       "871           0           0        894          894  ...         308   \n",
       "93          713           0        163          876  ...         432   \n",
       "818        1218           0        350         1568  ...         857   \n",
       "303           0           0       1541         1541  ...         843   \n",
       "\n",
       "     WoodDeckSF  OpenPorchSF  EnclosedPorch  3SsnPorch  ScreenPorch  PoolArea  \\\n",
       "Id                                                                              \n",
       "619           0          108              0          0          260         0   \n",
       "871           0            0              0          0            0         0   \n",
       "93            0            0             44          0            0         0   \n",
       "818         150           59              0          0            0         0   \n",
       "303         468           81              0          0            0         0   \n",
       "\n",
       "     MiscVal  MoSold  YrSold  \n",
       "Id                            \n",
       "619        0       7    2007  \n",
       "871        0       8    2009  \n",
       "93         0       8    2009  \n",
       "818        0       7    2008  \n",
       "303        0       1    2006  \n",
       "\n",
       "[5 rows x 33 columns]"
      ]
     },
     "execution_count": 14,
     "metadata": {},
     "output_type": "execute_result"
    }
   ],
   "source": [
    "reduced_X_train.head()"
   ]
  },
  {
   "cell_type": "code",
   "execution_count": 15,
   "id": "orange-citation",
   "metadata": {
    "execution": {
     "iopub.execute_input": "2021-04-19T21:14:21.986576Z",
     "iopub.status.busy": "2021-04-19T21:14:21.985887Z",
     "iopub.status.idle": "2021-04-19T21:14:21.990658Z",
     "shell.execute_reply": "2021-04-19T21:14:21.990096Z"
    },
    "papermill": {
     "duration": 0.063799,
     "end_time": "2021-04-19T21:14:21.990803",
     "exception": false,
     "start_time": "2021-04-19T21:14:21.927004",
     "status": "completed"
    },
    "tags": []
   },
   "outputs": [
    {
     "data": {
      "text/html": [
       "<div>\n",
       "<style scoped>\n",
       "    .dataframe tbody tr th:only-of-type {\n",
       "        vertical-align: middle;\n",
       "    }\n",
       "\n",
       "    .dataframe tbody tr th {\n",
       "        vertical-align: top;\n",
       "    }\n",
       "\n",
       "    .dataframe thead th {\n",
       "        text-align: right;\n",
       "    }\n",
       "</style>\n",
       "<table border=\"1\" class=\"dataframe\">\n",
       "  <thead>\n",
       "    <tr style=\"text-align: right;\">\n",
       "      <th></th>\n",
       "      <th>MSSubClass</th>\n",
       "      <th>LotArea</th>\n",
       "      <th>OverallQual</th>\n",
       "      <th>OverallCond</th>\n",
       "      <th>YearBuilt</th>\n",
       "      <th>YearRemodAdd</th>\n",
       "      <th>BsmtFinSF1</th>\n",
       "      <th>BsmtFinSF2</th>\n",
       "      <th>BsmtUnfSF</th>\n",
       "      <th>TotalBsmtSF</th>\n",
       "      <th>...</th>\n",
       "      <th>GarageArea</th>\n",
       "      <th>WoodDeckSF</th>\n",
       "      <th>OpenPorchSF</th>\n",
       "      <th>EnclosedPorch</th>\n",
       "      <th>3SsnPorch</th>\n",
       "      <th>ScreenPorch</th>\n",
       "      <th>PoolArea</th>\n",
       "      <th>MiscVal</th>\n",
       "      <th>MoSold</th>\n",
       "      <th>YrSold</th>\n",
       "    </tr>\n",
       "    <tr>\n",
       "      <th>Id</th>\n",
       "      <th></th>\n",
       "      <th></th>\n",
       "      <th></th>\n",
       "      <th></th>\n",
       "      <th></th>\n",
       "      <th></th>\n",
       "      <th></th>\n",
       "      <th></th>\n",
       "      <th></th>\n",
       "      <th></th>\n",
       "      <th></th>\n",
       "      <th></th>\n",
       "      <th></th>\n",
       "      <th></th>\n",
       "      <th></th>\n",
       "      <th></th>\n",
       "      <th></th>\n",
       "      <th></th>\n",
       "      <th></th>\n",
       "      <th></th>\n",
       "      <th></th>\n",
       "    </tr>\n",
       "  </thead>\n",
       "  <tbody>\n",
       "    <tr>\n",
       "      <th>530</th>\n",
       "      <td>20</td>\n",
       "      <td>32668</td>\n",
       "      <td>6</td>\n",
       "      <td>3</td>\n",
       "      <td>1957</td>\n",
       "      <td>1975</td>\n",
       "      <td>1219</td>\n",
       "      <td>0</td>\n",
       "      <td>816</td>\n",
       "      <td>2035</td>\n",
       "      <td>...</td>\n",
       "      <td>484</td>\n",
       "      <td>0</td>\n",
       "      <td>0</td>\n",
       "      <td>200</td>\n",
       "      <td>0</td>\n",
       "      <td>0</td>\n",
       "      <td>0</td>\n",
       "      <td>0</td>\n",
       "      <td>3</td>\n",
       "      <td>2007</td>\n",
       "    </tr>\n",
       "    <tr>\n",
       "      <th>492</th>\n",
       "      <td>50</td>\n",
       "      <td>9490</td>\n",
       "      <td>6</td>\n",
       "      <td>7</td>\n",
       "      <td>1941</td>\n",
       "      <td>1950</td>\n",
       "      <td>403</td>\n",
       "      <td>165</td>\n",
       "      <td>238</td>\n",
       "      <td>806</td>\n",
       "      <td>...</td>\n",
       "      <td>240</td>\n",
       "      <td>0</td>\n",
       "      <td>0</td>\n",
       "      <td>32</td>\n",
       "      <td>0</td>\n",
       "      <td>0</td>\n",
       "      <td>0</td>\n",
       "      <td>0</td>\n",
       "      <td>8</td>\n",
       "      <td>2006</td>\n",
       "    </tr>\n",
       "    <tr>\n",
       "      <th>460</th>\n",
       "      <td>50</td>\n",
       "      <td>7015</td>\n",
       "      <td>5</td>\n",
       "      <td>4</td>\n",
       "      <td>1950</td>\n",
       "      <td>1950</td>\n",
       "      <td>185</td>\n",
       "      <td>0</td>\n",
       "      <td>524</td>\n",
       "      <td>709</td>\n",
       "      <td>...</td>\n",
       "      <td>352</td>\n",
       "      <td>0</td>\n",
       "      <td>0</td>\n",
       "      <td>248</td>\n",
       "      <td>0</td>\n",
       "      <td>0</td>\n",
       "      <td>0</td>\n",
       "      <td>0</td>\n",
       "      <td>7</td>\n",
       "      <td>2009</td>\n",
       "    </tr>\n",
       "    <tr>\n",
       "      <th>280</th>\n",
       "      <td>60</td>\n",
       "      <td>10005</td>\n",
       "      <td>7</td>\n",
       "      <td>5</td>\n",
       "      <td>1977</td>\n",
       "      <td>1977</td>\n",
       "      <td>392</td>\n",
       "      <td>0</td>\n",
       "      <td>768</td>\n",
       "      <td>1160</td>\n",
       "      <td>...</td>\n",
       "      <td>505</td>\n",
       "      <td>288</td>\n",
       "      <td>117</td>\n",
       "      <td>0</td>\n",
       "      <td>0</td>\n",
       "      <td>0</td>\n",
       "      <td>0</td>\n",
       "      <td>0</td>\n",
       "      <td>3</td>\n",
       "      <td>2008</td>\n",
       "    </tr>\n",
       "    <tr>\n",
       "      <th>656</th>\n",
       "      <td>160</td>\n",
       "      <td>1680</td>\n",
       "      <td>6</td>\n",
       "      <td>5</td>\n",
       "      <td>1971</td>\n",
       "      <td>1971</td>\n",
       "      <td>0</td>\n",
       "      <td>0</td>\n",
       "      <td>525</td>\n",
       "      <td>525</td>\n",
       "      <td>...</td>\n",
       "      <td>264</td>\n",
       "      <td>0</td>\n",
       "      <td>0</td>\n",
       "      <td>0</td>\n",
       "      <td>0</td>\n",
       "      <td>0</td>\n",
       "      <td>0</td>\n",
       "      <td>0</td>\n",
       "      <td>3</td>\n",
       "      <td>2010</td>\n",
       "    </tr>\n",
       "  </tbody>\n",
       "</table>\n",
       "<p>5 rows × 33 columns</p>\n",
       "</div>"
      ],
      "text/plain": [
       "     MSSubClass  LotArea  OverallQual  OverallCond  YearBuilt  YearRemodAdd  \\\n",
       "Id                                                                            \n",
       "530          20    32668            6            3       1957          1975   \n",
       "492          50     9490            6            7       1941          1950   \n",
       "460          50     7015            5            4       1950          1950   \n",
       "280          60    10005            7            5       1977          1977   \n",
       "656         160     1680            6            5       1971          1971   \n",
       "\n",
       "     BsmtFinSF1  BsmtFinSF2  BsmtUnfSF  TotalBsmtSF  ...  GarageArea  \\\n",
       "Id                                                   ...               \n",
       "530        1219           0        816         2035  ...         484   \n",
       "492         403         165        238          806  ...         240   \n",
       "460         185           0        524          709  ...         352   \n",
       "280         392           0        768         1160  ...         505   \n",
       "656           0           0        525          525  ...         264   \n",
       "\n",
       "     WoodDeckSF  OpenPorchSF  EnclosedPorch  3SsnPorch  ScreenPorch  PoolArea  \\\n",
       "Id                                                                              \n",
       "530           0            0            200          0            0         0   \n",
       "492           0            0             32          0            0         0   \n",
       "460           0            0            248          0            0         0   \n",
       "280         288          117              0          0            0         0   \n",
       "656           0            0              0          0            0         0   \n",
       "\n",
       "     MiscVal  MoSold  YrSold  \n",
       "Id                            \n",
       "530        0       3    2007  \n",
       "492        0       8    2006  \n",
       "460        0       7    2009  \n",
       "280        0       3    2008  \n",
       "656        0       3    2010  \n",
       "\n",
       "[5 rows x 33 columns]"
      ]
     },
     "execution_count": 15,
     "metadata": {},
     "output_type": "execute_result"
    }
   ],
   "source": [
    "reduced_X_valid.head()"
   ]
  },
  {
   "cell_type": "code",
   "execution_count": 16,
   "id": "eight-brisbane",
   "metadata": {
    "execution": {
     "iopub.execute_input": "2021-04-19T21:14:22.078692Z",
     "iopub.status.busy": "2021-04-19T21:14:22.077889Z",
     "iopub.status.idle": "2021-04-19T21:14:22.084117Z",
     "shell.execute_reply": "2021-04-19T21:14:22.083461Z"
    },
    "papermill": {
     "duration": 0.052207,
     "end_time": "2021-04-19T21:14:22.084250",
     "exception": false,
     "start_time": "2021-04-19T21:14:22.032043",
     "status": "completed"
    },
    "tags": []
   },
   "outputs": [
    {
     "data": {
      "application/javascript": [
       "parent.postMessage({\"jupyterEvent\": \"custom.exercise_interaction\", \"data\": {\"interactionType\": 2, \"questionType\": 2, \"questionId\": \"2_DropMissing\", \"learnToolsVersion\": \"0.3.4\", \"valueTowardsCompletion\": 0.0, \"failureMessage\": \"\", \"exceptionClass\": \"\", \"trace\": \"\", \"outcomeType\": 4}}, \"*\")"
      ],
      "text/plain": [
       "<IPython.core.display.Javascript object>"
      ]
     },
     "metadata": {},
     "output_type": "display_data"
    },
    {
     "data": {
      "text/markdown": [
       "<span style=\"color:#3366cc\">Hint:</span> Begin by finding the list of columns in the data with missing values.  Then, drop these columns in both the training and validation data with the `drop()` method."
      ],
      "text/plain": [
       "Hint: Begin by finding the list of columns in the data with missing values.  Then, drop these columns in both the training and validation data with the `drop()` method."
      ]
     },
     "metadata": {},
     "output_type": "display_data"
    }
   ],
   "source": [
    "# Lines below will give you a hint or solution code\n",
    "step_2.hint()\n",
    "#step_2.solution()"
   ]
  },
  {
   "cell_type": "markdown",
   "id": "honey-level",
   "metadata": {
    "papermill": {
     "duration": 0.042547,
     "end_time": "2021-04-19T21:14:22.169659",
     "exception": false,
     "start_time": "2021-04-19T21:14:22.127112",
     "status": "completed"
    },
    "tags": []
   },
   "source": [
    "Run the next code cell without changes to obtain the MAE for this approach."
   ]
  },
  {
   "cell_type": "code",
   "execution_count": 17,
   "id": "electrical-cloud",
   "metadata": {
    "execution": {
     "iopub.execute_input": "2021-04-19T21:14:22.261342Z",
     "iopub.status.busy": "2021-04-19T21:14:22.260386Z",
     "iopub.status.idle": "2021-04-19T21:14:23.431300Z",
     "shell.execute_reply": "2021-04-19T21:14:23.430241Z"
    },
    "papermill": {
     "duration": 1.219985,
     "end_time": "2021-04-19T21:14:23.431450",
     "exception": false,
     "start_time": "2021-04-19T21:14:22.211465",
     "status": "completed"
    },
    "tags": []
   },
   "outputs": [
    {
     "name": "stdout",
     "output_type": "stream",
     "text": [
      "MAE (Drop columns with missing values):\n",
      "17837.82570776256\n"
     ]
    }
   ],
   "source": [
    "print(\"MAE (Drop columns with missing values):\")\n",
    "print(score_dataset(reduced_X_train, reduced_X_valid, y_train, y_valid))"
   ]
  },
  {
   "cell_type": "markdown",
   "id": "attended-independence",
   "metadata": {
    "papermill": {
     "duration": 0.044058,
     "end_time": "2021-04-19T21:14:23.519073",
     "exception": false,
     "start_time": "2021-04-19T21:14:23.475015",
     "status": "completed"
    },
    "tags": []
   },
   "source": [
    "# Step 3: Imputation\n",
    "\n",
    "### Part A\n",
    "\n",
    "Use the next code cell to impute missing values with the mean value along each column.  Set the preprocessed DataFrames to `imputed_X_train` and `imputed_X_valid`.  Make sure that the column names match those in `X_train` and `X_valid`."
   ]
  },
  {
   "cell_type": "code",
   "execution_count": 18,
   "id": "turkish-tuesday",
   "metadata": {
    "execution": {
     "iopub.execute_input": "2021-04-19T21:14:23.612225Z",
     "iopub.status.busy": "2021-04-19T21:14:23.611456Z",
     "iopub.status.idle": "2021-04-19T21:14:23.645882Z",
     "shell.execute_reply": "2021-04-19T21:14:23.645239Z"
    },
    "papermill": {
     "duration": 0.082959,
     "end_time": "2021-04-19T21:14:23.646019",
     "exception": false,
     "start_time": "2021-04-19T21:14:23.563060",
     "status": "completed"
    },
    "tags": []
   },
   "outputs": [
    {
     "data": {
      "application/javascript": [
       "parent.postMessage({\"jupyterEvent\": \"custom.exercise_interaction\", \"data\": {\"outcomeType\": 1, \"valueTowardsCompletion\": 1.0, \"interactionType\": 1, \"questionType\": 2, \"questionId\": \"3.1_ImputeCode\", \"learnToolsVersion\": \"0.3.4\", \"failureMessage\": \"\", \"exceptionClass\": \"\", \"trace\": \"\"}}, \"*\")"
      ],
      "text/plain": [
       "<IPython.core.display.Javascript object>"
      ]
     },
     "metadata": {},
     "output_type": "display_data"
    },
    {
     "data": {
      "text/markdown": [
       "<span style=\"color:#33cc33\">Correct</span>"
      ],
      "text/plain": [
       "Correct"
      ]
     },
     "metadata": {},
     "output_type": "display_data"
    }
   ],
   "source": [
    "from sklearn.impute import SimpleImputer\n",
    "\n",
    "# Fill in the lines below: imputation\n",
    "my_imputer = SimpleImputer()\n",
    "imputed_X_train = pd.DataFrame(my_imputer.fit_transform(X_train))\n",
    "imputed_X_valid = pd.DataFrame(my_imputer.transform(X_valid))\n",
    "\n",
    "# Fill in the lines below: imputation removed column names; put them back\n",
    "imputed_X_train.columns = X_train.columns\n",
    "imputed_X_valid.columns = X_valid.columns\n",
    "\n",
    "# Check your answers\n",
    "step_3.a.check()"
   ]
  },
  {
   "cell_type": "code",
   "execution_count": 19,
   "id": "threatened-raleigh",
   "metadata": {
    "execution": {
     "iopub.execute_input": "2021-04-19T21:14:23.765549Z",
     "iopub.status.busy": "2021-04-19T21:14:23.763927Z",
     "iopub.status.idle": "2021-04-19T21:14:23.769827Z",
     "shell.execute_reply": "2021-04-19T21:14:23.769154Z"
    },
    "papermill": {
     "duration": 0.079777,
     "end_time": "2021-04-19T21:14:23.769966",
     "exception": false,
     "start_time": "2021-04-19T21:14:23.690189",
     "status": "completed"
    },
    "tags": []
   },
   "outputs": [
    {
     "data": {
      "text/html": [
       "<div>\n",
       "<style scoped>\n",
       "    .dataframe tbody tr th:only-of-type {\n",
       "        vertical-align: middle;\n",
       "    }\n",
       "\n",
       "    .dataframe tbody tr th {\n",
       "        vertical-align: top;\n",
       "    }\n",
       "\n",
       "    .dataframe thead th {\n",
       "        text-align: right;\n",
       "    }\n",
       "</style>\n",
       "<table border=\"1\" class=\"dataframe\">\n",
       "  <thead>\n",
       "    <tr style=\"text-align: right;\">\n",
       "      <th></th>\n",
       "      <th>MSSubClass</th>\n",
       "      <th>LotFrontage</th>\n",
       "      <th>LotArea</th>\n",
       "      <th>OverallQual</th>\n",
       "      <th>OverallCond</th>\n",
       "      <th>YearBuilt</th>\n",
       "      <th>YearRemodAdd</th>\n",
       "      <th>MasVnrArea</th>\n",
       "      <th>BsmtFinSF1</th>\n",
       "      <th>BsmtFinSF2</th>\n",
       "      <th>...</th>\n",
       "      <th>GarageArea</th>\n",
       "      <th>WoodDeckSF</th>\n",
       "      <th>OpenPorchSF</th>\n",
       "      <th>EnclosedPorch</th>\n",
       "      <th>3SsnPorch</th>\n",
       "      <th>ScreenPorch</th>\n",
       "      <th>PoolArea</th>\n",
       "      <th>MiscVal</th>\n",
       "      <th>MoSold</th>\n",
       "      <th>YrSold</th>\n",
       "    </tr>\n",
       "  </thead>\n",
       "  <tbody>\n",
       "    <tr>\n",
       "      <th>0</th>\n",
       "      <td>20.0</td>\n",
       "      <td>90.000000</td>\n",
       "      <td>11694.0</td>\n",
       "      <td>9.0</td>\n",
       "      <td>5.0</td>\n",
       "      <td>2007.0</td>\n",
       "      <td>2007.0</td>\n",
       "      <td>452.0</td>\n",
       "      <td>48.0</td>\n",
       "      <td>0.0</td>\n",
       "      <td>...</td>\n",
       "      <td>774.0</td>\n",
       "      <td>0.0</td>\n",
       "      <td>108.0</td>\n",
       "      <td>0.0</td>\n",
       "      <td>0.0</td>\n",
       "      <td>260.0</td>\n",
       "      <td>0.0</td>\n",
       "      <td>0.0</td>\n",
       "      <td>7.0</td>\n",
       "      <td>2007.0</td>\n",
       "    </tr>\n",
       "    <tr>\n",
       "      <th>1</th>\n",
       "      <td>20.0</td>\n",
       "      <td>60.000000</td>\n",
       "      <td>6600.0</td>\n",
       "      <td>5.0</td>\n",
       "      <td>5.0</td>\n",
       "      <td>1962.0</td>\n",
       "      <td>1962.0</td>\n",
       "      <td>0.0</td>\n",
       "      <td>0.0</td>\n",
       "      <td>0.0</td>\n",
       "      <td>...</td>\n",
       "      <td>308.0</td>\n",
       "      <td>0.0</td>\n",
       "      <td>0.0</td>\n",
       "      <td>0.0</td>\n",
       "      <td>0.0</td>\n",
       "      <td>0.0</td>\n",
       "      <td>0.0</td>\n",
       "      <td>0.0</td>\n",
       "      <td>8.0</td>\n",
       "      <td>2009.0</td>\n",
       "    </tr>\n",
       "    <tr>\n",
       "      <th>2</th>\n",
       "      <td>30.0</td>\n",
       "      <td>80.000000</td>\n",
       "      <td>13360.0</td>\n",
       "      <td>5.0</td>\n",
       "      <td>7.0</td>\n",
       "      <td>1921.0</td>\n",
       "      <td>2006.0</td>\n",
       "      <td>0.0</td>\n",
       "      <td>713.0</td>\n",
       "      <td>0.0</td>\n",
       "      <td>...</td>\n",
       "      <td>432.0</td>\n",
       "      <td>0.0</td>\n",
       "      <td>0.0</td>\n",
       "      <td>44.0</td>\n",
       "      <td>0.0</td>\n",
       "      <td>0.0</td>\n",
       "      <td>0.0</td>\n",
       "      <td>0.0</td>\n",
       "      <td>8.0</td>\n",
       "      <td>2009.0</td>\n",
       "    </tr>\n",
       "    <tr>\n",
       "      <th>3</th>\n",
       "      <td>20.0</td>\n",
       "      <td>69.614017</td>\n",
       "      <td>13265.0</td>\n",
       "      <td>8.0</td>\n",
       "      <td>5.0</td>\n",
       "      <td>2002.0</td>\n",
       "      <td>2002.0</td>\n",
       "      <td>148.0</td>\n",
       "      <td>1218.0</td>\n",
       "      <td>0.0</td>\n",
       "      <td>...</td>\n",
       "      <td>857.0</td>\n",
       "      <td>150.0</td>\n",
       "      <td>59.0</td>\n",
       "      <td>0.0</td>\n",
       "      <td>0.0</td>\n",
       "      <td>0.0</td>\n",
       "      <td>0.0</td>\n",
       "      <td>0.0</td>\n",
       "      <td>7.0</td>\n",
       "      <td>2008.0</td>\n",
       "    </tr>\n",
       "    <tr>\n",
       "      <th>4</th>\n",
       "      <td>20.0</td>\n",
       "      <td>118.000000</td>\n",
       "      <td>13704.0</td>\n",
       "      <td>7.0</td>\n",
       "      <td>5.0</td>\n",
       "      <td>2001.0</td>\n",
       "      <td>2002.0</td>\n",
       "      <td>150.0</td>\n",
       "      <td>0.0</td>\n",
       "      <td>0.0</td>\n",
       "      <td>...</td>\n",
       "      <td>843.0</td>\n",
       "      <td>468.0</td>\n",
       "      <td>81.0</td>\n",
       "      <td>0.0</td>\n",
       "      <td>0.0</td>\n",
       "      <td>0.0</td>\n",
       "      <td>0.0</td>\n",
       "      <td>0.0</td>\n",
       "      <td>1.0</td>\n",
       "      <td>2006.0</td>\n",
       "    </tr>\n",
       "  </tbody>\n",
       "</table>\n",
       "<p>5 rows × 36 columns</p>\n",
       "</div>"
      ],
      "text/plain": [
       "   MSSubClass  LotFrontage  LotArea  OverallQual  OverallCond  YearBuilt  \\\n",
       "0        20.0    90.000000  11694.0          9.0          5.0     2007.0   \n",
       "1        20.0    60.000000   6600.0          5.0          5.0     1962.0   \n",
       "2        30.0    80.000000  13360.0          5.0          7.0     1921.0   \n",
       "3        20.0    69.614017  13265.0          8.0          5.0     2002.0   \n",
       "4        20.0   118.000000  13704.0          7.0          5.0     2001.0   \n",
       "\n",
       "   YearRemodAdd  MasVnrArea  BsmtFinSF1  BsmtFinSF2  ...  GarageArea  \\\n",
       "0        2007.0       452.0        48.0         0.0  ...       774.0   \n",
       "1        1962.0         0.0         0.0         0.0  ...       308.0   \n",
       "2        2006.0         0.0       713.0         0.0  ...       432.0   \n",
       "3        2002.0       148.0      1218.0         0.0  ...       857.0   \n",
       "4        2002.0       150.0         0.0         0.0  ...       843.0   \n",
       "\n",
       "   WoodDeckSF  OpenPorchSF  EnclosedPorch  3SsnPorch  ScreenPorch  PoolArea  \\\n",
       "0         0.0        108.0            0.0        0.0        260.0       0.0   \n",
       "1         0.0          0.0            0.0        0.0          0.0       0.0   \n",
       "2         0.0          0.0           44.0        0.0          0.0       0.0   \n",
       "3       150.0         59.0            0.0        0.0          0.0       0.0   \n",
       "4       468.0         81.0            0.0        0.0          0.0       0.0   \n",
       "\n",
       "   MiscVal  MoSold  YrSold  \n",
       "0      0.0     7.0  2007.0  \n",
       "1      0.0     8.0  2009.0  \n",
       "2      0.0     8.0  2009.0  \n",
       "3      0.0     7.0  2008.0  \n",
       "4      0.0     1.0  2006.0  \n",
       "\n",
       "[5 rows x 36 columns]"
      ]
     },
     "execution_count": 19,
     "metadata": {},
     "output_type": "execute_result"
    }
   ],
   "source": [
    "imputed_X_train.head()"
   ]
  },
  {
   "cell_type": "code",
   "execution_count": 20,
   "id": "theoretical-gothic",
   "metadata": {
    "execution": {
     "iopub.execute_input": "2021-04-19T21:14:23.864699Z",
     "iopub.status.busy": "2021-04-19T21:14:23.864055Z",
     "iopub.status.idle": "2021-04-19T21:14:23.896093Z",
     "shell.execute_reply": "2021-04-19T21:14:23.895585Z"
    },
    "papermill": {
     "duration": 0.080484,
     "end_time": "2021-04-19T21:14:23.896232",
     "exception": false,
     "start_time": "2021-04-19T21:14:23.815748",
     "status": "completed"
    },
    "tags": []
   },
   "outputs": [
    {
     "data": {
      "text/html": [
       "<div>\n",
       "<style scoped>\n",
       "    .dataframe tbody tr th:only-of-type {\n",
       "        vertical-align: middle;\n",
       "    }\n",
       "\n",
       "    .dataframe tbody tr th {\n",
       "        vertical-align: top;\n",
       "    }\n",
       "\n",
       "    .dataframe thead th {\n",
       "        text-align: right;\n",
       "    }\n",
       "</style>\n",
       "<table border=\"1\" class=\"dataframe\">\n",
       "  <thead>\n",
       "    <tr style=\"text-align: right;\">\n",
       "      <th></th>\n",
       "      <th>MSSubClass</th>\n",
       "      <th>LotFrontage</th>\n",
       "      <th>LotArea</th>\n",
       "      <th>OverallQual</th>\n",
       "      <th>OverallCond</th>\n",
       "      <th>YearBuilt</th>\n",
       "      <th>YearRemodAdd</th>\n",
       "      <th>MasVnrArea</th>\n",
       "      <th>BsmtFinSF1</th>\n",
       "      <th>BsmtFinSF2</th>\n",
       "      <th>...</th>\n",
       "      <th>GarageArea</th>\n",
       "      <th>WoodDeckSF</th>\n",
       "      <th>OpenPorchSF</th>\n",
       "      <th>EnclosedPorch</th>\n",
       "      <th>3SsnPorch</th>\n",
       "      <th>ScreenPorch</th>\n",
       "      <th>PoolArea</th>\n",
       "      <th>MiscVal</th>\n",
       "      <th>MoSold</th>\n",
       "      <th>YrSold</th>\n",
       "    </tr>\n",
       "  </thead>\n",
       "  <tbody>\n",
       "    <tr>\n",
       "      <th>0</th>\n",
       "      <td>20.0</td>\n",
       "      <td>69.614017</td>\n",
       "      <td>32668.0</td>\n",
       "      <td>6.0</td>\n",
       "      <td>3.0</td>\n",
       "      <td>1957.0</td>\n",
       "      <td>1975.0</td>\n",
       "      <td>103.481067</td>\n",
       "      <td>1219.0</td>\n",
       "      <td>0.0</td>\n",
       "      <td>...</td>\n",
       "      <td>484.0</td>\n",
       "      <td>0.0</td>\n",
       "      <td>0.0</td>\n",
       "      <td>200.0</td>\n",
       "      <td>0.0</td>\n",
       "      <td>0.0</td>\n",
       "      <td>0.0</td>\n",
       "      <td>0.0</td>\n",
       "      <td>3.0</td>\n",
       "      <td>2007.0</td>\n",
       "    </tr>\n",
       "    <tr>\n",
       "      <th>1</th>\n",
       "      <td>50.0</td>\n",
       "      <td>79.000000</td>\n",
       "      <td>9490.0</td>\n",
       "      <td>6.0</td>\n",
       "      <td>7.0</td>\n",
       "      <td>1941.0</td>\n",
       "      <td>1950.0</td>\n",
       "      <td>0.000000</td>\n",
       "      <td>403.0</td>\n",
       "      <td>165.0</td>\n",
       "      <td>...</td>\n",
       "      <td>240.0</td>\n",
       "      <td>0.0</td>\n",
       "      <td>0.0</td>\n",
       "      <td>32.0</td>\n",
       "      <td>0.0</td>\n",
       "      <td>0.0</td>\n",
       "      <td>0.0</td>\n",
       "      <td>0.0</td>\n",
       "      <td>8.0</td>\n",
       "      <td>2006.0</td>\n",
       "    </tr>\n",
       "    <tr>\n",
       "      <th>2</th>\n",
       "      <td>50.0</td>\n",
       "      <td>69.614017</td>\n",
       "      <td>7015.0</td>\n",
       "      <td>5.0</td>\n",
       "      <td>4.0</td>\n",
       "      <td>1950.0</td>\n",
       "      <td>1950.0</td>\n",
       "      <td>161.000000</td>\n",
       "      <td>185.0</td>\n",
       "      <td>0.0</td>\n",
       "      <td>...</td>\n",
       "      <td>352.0</td>\n",
       "      <td>0.0</td>\n",
       "      <td>0.0</td>\n",
       "      <td>248.0</td>\n",
       "      <td>0.0</td>\n",
       "      <td>0.0</td>\n",
       "      <td>0.0</td>\n",
       "      <td>0.0</td>\n",
       "      <td>7.0</td>\n",
       "      <td>2009.0</td>\n",
       "    </tr>\n",
       "    <tr>\n",
       "      <th>3</th>\n",
       "      <td>60.0</td>\n",
       "      <td>83.000000</td>\n",
       "      <td>10005.0</td>\n",
       "      <td>7.0</td>\n",
       "      <td>5.0</td>\n",
       "      <td>1977.0</td>\n",
       "      <td>1977.0</td>\n",
       "      <td>299.000000</td>\n",
       "      <td>392.0</td>\n",
       "      <td>0.0</td>\n",
       "      <td>...</td>\n",
       "      <td>505.0</td>\n",
       "      <td>288.0</td>\n",
       "      <td>117.0</td>\n",
       "      <td>0.0</td>\n",
       "      <td>0.0</td>\n",
       "      <td>0.0</td>\n",
       "      <td>0.0</td>\n",
       "      <td>0.0</td>\n",
       "      <td>3.0</td>\n",
       "      <td>2008.0</td>\n",
       "    </tr>\n",
       "    <tr>\n",
       "      <th>4</th>\n",
       "      <td>160.0</td>\n",
       "      <td>21.000000</td>\n",
       "      <td>1680.0</td>\n",
       "      <td>6.0</td>\n",
       "      <td>5.0</td>\n",
       "      <td>1971.0</td>\n",
       "      <td>1971.0</td>\n",
       "      <td>381.000000</td>\n",
       "      <td>0.0</td>\n",
       "      <td>0.0</td>\n",
       "      <td>...</td>\n",
       "      <td>264.0</td>\n",
       "      <td>0.0</td>\n",
       "      <td>0.0</td>\n",
       "      <td>0.0</td>\n",
       "      <td>0.0</td>\n",
       "      <td>0.0</td>\n",
       "      <td>0.0</td>\n",
       "      <td>0.0</td>\n",
       "      <td>3.0</td>\n",
       "      <td>2010.0</td>\n",
       "    </tr>\n",
       "  </tbody>\n",
       "</table>\n",
       "<p>5 rows × 36 columns</p>\n",
       "</div>"
      ],
      "text/plain": [
       "   MSSubClass  LotFrontage  LotArea  OverallQual  OverallCond  YearBuilt  \\\n",
       "0        20.0    69.614017  32668.0          6.0          3.0     1957.0   \n",
       "1        50.0    79.000000   9490.0          6.0          7.0     1941.0   \n",
       "2        50.0    69.614017   7015.0          5.0          4.0     1950.0   \n",
       "3        60.0    83.000000  10005.0          7.0          5.0     1977.0   \n",
       "4       160.0    21.000000   1680.0          6.0          5.0     1971.0   \n",
       "\n",
       "   YearRemodAdd  MasVnrArea  BsmtFinSF1  BsmtFinSF2  ...  GarageArea  \\\n",
       "0        1975.0  103.481067      1219.0         0.0  ...       484.0   \n",
       "1        1950.0    0.000000       403.0       165.0  ...       240.0   \n",
       "2        1950.0  161.000000       185.0         0.0  ...       352.0   \n",
       "3        1977.0  299.000000       392.0         0.0  ...       505.0   \n",
       "4        1971.0  381.000000         0.0         0.0  ...       264.0   \n",
       "\n",
       "   WoodDeckSF  OpenPorchSF  EnclosedPorch  3SsnPorch  ScreenPorch  PoolArea  \\\n",
       "0         0.0          0.0          200.0        0.0          0.0       0.0   \n",
       "1         0.0          0.0           32.0        0.0          0.0       0.0   \n",
       "2         0.0          0.0          248.0        0.0          0.0       0.0   \n",
       "3       288.0        117.0            0.0        0.0          0.0       0.0   \n",
       "4         0.0          0.0            0.0        0.0          0.0       0.0   \n",
       "\n",
       "   MiscVal  MoSold  YrSold  \n",
       "0      0.0     3.0  2007.0  \n",
       "1      0.0     8.0  2006.0  \n",
       "2      0.0     7.0  2009.0  \n",
       "3      0.0     3.0  2008.0  \n",
       "4      0.0     3.0  2010.0  \n",
       "\n",
       "[5 rows x 36 columns]"
      ]
     },
     "execution_count": 20,
     "metadata": {},
     "output_type": "execute_result"
    }
   ],
   "source": [
    "imputed_X_valid.head()"
   ]
  },
  {
   "cell_type": "code",
   "execution_count": 21,
   "id": "living-capacity",
   "metadata": {
    "execution": {
     "iopub.execute_input": "2021-04-19T21:14:23.993340Z",
     "iopub.status.busy": "2021-04-19T21:14:23.992343Z",
     "iopub.status.idle": "2021-04-19T21:14:23.995322Z",
     "shell.execute_reply": "2021-04-19T21:14:23.994723Z"
    },
    "papermill": {
     "duration": 0.052996,
     "end_time": "2021-04-19T21:14:23.995454",
     "exception": false,
     "start_time": "2021-04-19T21:14:23.942458",
     "status": "completed"
    },
    "tags": []
   },
   "outputs": [],
   "source": [
    "# Lines below will give you a hint or solution code\n",
    "#step_3.a.hint()\n",
    "#step_3.a.solution()"
   ]
  },
  {
   "cell_type": "markdown",
   "id": "least-planet",
   "metadata": {
    "papermill": {
     "duration": 0.045636,
     "end_time": "2021-04-19T21:14:24.087576",
     "exception": false,
     "start_time": "2021-04-19T21:14:24.041940",
     "status": "completed"
    },
    "tags": []
   },
   "source": [
    "Run the next code cell without changes to obtain the MAE for this approach."
   ]
  },
  {
   "cell_type": "code",
   "execution_count": 22,
   "id": "right-iceland",
   "metadata": {
    "execution": {
     "iopub.execute_input": "2021-04-19T21:14:24.182712Z",
     "iopub.status.busy": "2021-04-19T21:14:24.182088Z",
     "iopub.status.idle": "2021-04-19T21:14:25.482331Z",
     "shell.execute_reply": "2021-04-19T21:14:25.482843Z"
    },
    "papermill": {
     "duration": 1.349472,
     "end_time": "2021-04-19T21:14:25.483017",
     "exception": false,
     "start_time": "2021-04-19T21:14:24.133545",
     "status": "completed"
    },
    "tags": []
   },
   "outputs": [
    {
     "name": "stdout",
     "output_type": "stream",
     "text": [
      "MAE (Imputation):\n",
      "18062.894611872147\n"
     ]
    }
   ],
   "source": [
    "print(\"MAE (Imputation):\")\n",
    "print(score_dataset(imputed_X_train, imputed_X_valid, y_train, y_valid))"
   ]
  },
  {
   "cell_type": "markdown",
   "id": "organizational-convention",
   "metadata": {
    "papermill": {
     "duration": 0.046412,
     "end_time": "2021-04-19T21:14:25.575876",
     "exception": false,
     "start_time": "2021-04-19T21:14:25.529464",
     "status": "completed"
    },
    "tags": []
   },
   "source": [
    "### Part B\n",
    "\n",
    "Compare the MAE from each approach.  Does anything surprise you about the results?  Why do you think one approach performed better than the other?"
   ]
  },
  {
   "cell_type": "code",
   "execution_count": 23,
   "id": "macro-salad",
   "metadata": {
    "execution": {
     "iopub.execute_input": "2021-04-19T21:14:25.675216Z",
     "iopub.status.busy": "2021-04-19T21:14:25.674188Z",
     "iopub.status.idle": "2021-04-19T21:14:25.679950Z",
     "shell.execute_reply": "2021-04-19T21:14:25.680398Z"
    },
    "papermill": {
     "duration": 0.057814,
     "end_time": "2021-04-19T21:14:25.680625",
     "exception": false,
     "start_time": "2021-04-19T21:14:25.622811",
     "status": "completed"
    },
    "tags": []
   },
   "outputs": [
    {
     "data": {
      "application/javascript": [
       "parent.postMessage({\"jupyterEvent\": \"custom.exercise_interaction\", \"data\": {\"outcomeType\": 1, \"valueTowardsCompletion\": 1.0, \"interactionType\": 1, \"questionType\": 4, \"questionId\": \"3.2_ImputeThought\", \"learnToolsVersion\": \"0.3.4\", \"failureMessage\": \"\", \"exceptionClass\": \"\", \"trace\": \"\"}}, \"*\")"
      ],
      "text/plain": [
       "<IPython.core.display.Javascript object>"
      ]
     },
     "metadata": {},
     "output_type": "display_data"
    },
    {
     "data": {
      "text/markdown": [
       "<span style=\"color:#33cc33\">Correct:</span> \n",
       "\n",
       "Given that thre are so few missing values in the dataset, we'd expect imputation to perform better than dropping columns entirely.  However, we see that dropping columns performs slightly better!  While this can probably partially be attributed to noise in the dataset, another potential explanation is that the imputation method is not a great match to this dataset.  That is, maybe instead of filling in the mean value, it makes more sense to set every missing value to a value of 0, to fill in the most frequently encountered value, or to use some other method.  For instance, consider the `GarageYrBlt` column (which indicates the year that the garage was built).  It's likely that in some cases, a missing value could indicate a house that does not have a garage.  Does it make more sense to fill in the median value along each column in this case?  Or could we get better results by filling in the minimum value along each column?  It's not quite clear what's best in this case, but perhaps we can rule out some options immediately - for instance, setting missing values in this column to 0 is likely to yield horrible results!"
      ],
      "text/plain": [
       "Correct: \n",
       "\n",
       "Given that thre are so few missing values in the dataset, we'd expect imputation to perform better than dropping columns entirely.  However, we see that dropping columns performs slightly better!  While this can probably partially be attributed to noise in the dataset, another potential explanation is that the imputation method is not a great match to this dataset.  That is, maybe instead of filling in the mean value, it makes more sense to set every missing value to a value of 0, to fill in the most frequently encountered value, or to use some other method.  For instance, consider the `GarageYrBlt` column (which indicates the year that the garage was built).  It's likely that in some cases, a missing value could indicate a house that does not have a garage.  Does it make more sense to fill in the median value along each column in this case?  Or could we get better results by filling in the minimum value along each column?  It's not quite clear what's best in this case, but perhaps we can rule out some options immediately - for instance, setting missing values in this column to 0 is likely to yield horrible results!"
      ]
     },
     "metadata": {},
     "output_type": "display_data"
    }
   ],
   "source": [
    "## MAE (Drop columns with missing values): 17837.82570776256\n",
    "## MAE (Imputation): 18062.894611872147\n",
    "\n",
    "## Perhaps the imputation method is not a good match for this data set,\n",
    "## we may be mistaken by choosing to fill the missing values with the mean value\n",
    "\n",
    "# Check your answer (Run this code cell to receive credit!)\n",
    "step_3.b.check()"
   ]
  },
  {
   "cell_type": "code",
   "execution_count": 24,
   "id": "scheduled-foster",
   "metadata": {
    "execution": {
     "iopub.execute_input": "2021-04-19T21:14:25.781544Z",
     "iopub.status.busy": "2021-04-19T21:14:25.780569Z",
     "iopub.status.idle": "2021-04-19T21:14:25.783818Z",
     "shell.execute_reply": "2021-04-19T21:14:25.783262Z"
    },
    "papermill": {
     "duration": 0.054999,
     "end_time": "2021-04-19T21:14:25.783948",
     "exception": false,
     "start_time": "2021-04-19T21:14:25.728949",
     "status": "completed"
    },
    "tags": []
   },
   "outputs": [],
   "source": [
    "#step_3.b.hint()"
   ]
  },
  {
   "cell_type": "code",
   "execution_count": 25,
   "id": "portable-priest",
   "metadata": {
    "execution": {
     "iopub.execute_input": "2021-04-19T21:14:25.893776Z",
     "iopub.status.busy": "2021-04-19T21:14:25.892719Z",
     "iopub.status.idle": "2021-04-19T21:14:27.235969Z",
     "shell.execute_reply": "2021-04-19T21:14:27.235413Z"
    },
    "papermill": {
     "duration": 1.404309,
     "end_time": "2021-04-19T21:14:27.236115",
     "exception": false,
     "start_time": "2021-04-19T21:14:25.831806",
     "status": "completed"
    },
    "tags": []
   },
   "outputs": [
    {
     "name": "stdout",
     "output_type": "stream",
     "text": [
      "cols_missing_values ['LotFrontage', 'MasVnrArea', 'GarageYrBlt']\n",
      "MAE from Approach 3 (An Extension to Imputation):\n",
      "18148.417180365297\n"
     ]
    }
   ],
   "source": [
    "## Just imagining how well this approach would work\n",
    "## Approach 3 - An Extension to Imputation\n",
    "\n",
    "cols_missing_values = [col for col in X_train.columns\n",
    "                       if X_train[col].isnull().any()]\n",
    "print('cols_missing_values', cols_missing_values)\n",
    "\n",
    "# Make copy to avoid changing original data (when imputing)\n",
    "X_train_plus = X_train.copy()\n",
    "X_valid_plus = X_valid.copy()\n",
    "\n",
    "# Make new columns indicating what will be imputed\n",
    "for col in cols_missing_values:\n",
    "    X_train_plus[col + '_was_missing'] = X_train_plus[col].isnull()\n",
    "    X_valid_plus[col + '_was_missing'] = X_valid_plus[col].isnull()\n",
    "\n",
    "# Imputation\n",
    "my_imputer = SimpleImputer()\n",
    "imputed_X_train_plus = pd.DataFrame(my_imputer.fit_transform(X_train_plus))\n",
    "imputed_X_valid_plus = pd.DataFrame(my_imputer.transform(X_valid_plus))\n",
    "\n",
    "# Imputation removed column names; put them back\n",
    "imputed_X_train_plus.columns = X_train_plus.columns\n",
    "imputed_X_valid_plus.columns = X_valid_plus.columns\n",
    "\n",
    "print(\"MAE from Approach 3 (An Extension to Imputation):\")\n",
    "print(score_dataset(imputed_X_train_plus, imputed_X_valid_plus, y_train, y_valid))"
   ]
  },
  {
   "cell_type": "markdown",
   "id": "tested-syracuse",
   "metadata": {
    "papermill": {
     "duration": 0.048686,
     "end_time": "2021-04-19T21:14:27.333457",
     "exception": false,
     "start_time": "2021-04-19T21:14:27.284771",
     "status": "completed"
    },
    "tags": []
   },
   "source": [
    "# Step 4: Generate test predictions\n",
    "\n",
    "In this final step, you'll use any approach of your choosing to deal with missing values.  Once you've preprocessed the training and validation features, you'll train and evaluate a random forest model.  Then, you'll preprocess the test data before generating predictions that can be submitted to the competition!\n",
    "\n",
    "### Part A\n",
    "\n",
    "Use the next code cell to preprocess the training and validation data.  Set the preprocessed DataFrames to `final_X_train` and `final_X_valid`.  **You can use any approach of your choosing here!**  in order for this step to be marked as correct, you need only ensure:\n",
    "- the preprocessed DataFrames have the same number of columns,\n",
    "- the preprocessed DataFrames have no missing values, \n",
    "- `final_X_train` and `y_train` have the same number of rows, and\n",
    "- `final_X_valid` and `y_valid` have the same number of rows."
   ]
  },
  {
   "cell_type": "code",
   "execution_count": 26,
   "id": "southwest-listening",
   "metadata": {
    "execution": {
     "iopub.execute_input": "2021-04-19T21:14:27.440239Z",
     "iopub.status.busy": "2021-04-19T21:14:27.439415Z",
     "iopub.status.idle": "2021-04-19T21:14:28.757154Z",
     "shell.execute_reply": "2021-04-19T21:14:28.756518Z"
    },
    "papermill": {
     "duration": 1.37504,
     "end_time": "2021-04-19T21:14:28.757291",
     "exception": false,
     "start_time": "2021-04-19T21:14:27.382251",
     "status": "completed"
    },
    "tags": []
   },
   "outputs": [
    {
     "name": "stdout",
     "output_type": "stream",
     "text": [
      "MAE (Imputation):\n",
      "17791.59899543379\n"
     ]
    },
    {
     "data": {
      "application/javascript": [
       "parent.postMessage({\"jupyterEvent\": \"custom.exercise_interaction\", \"data\": {\"outcomeType\": 1, \"valueTowardsCompletion\": 1.0, \"interactionType\": 1, \"questionType\": 2, \"questionId\": \"4.1_PredsCodeA\", \"learnToolsVersion\": \"0.3.4\", \"failureMessage\": \"\", \"exceptionClass\": \"\", \"trace\": \"\"}}, \"*\")"
      ],
      "text/plain": [
       "<IPython.core.display.Javascript object>"
      ]
     },
     "metadata": {},
     "output_type": "display_data"
    },
    {
     "data": {
      "text/markdown": [
       "<span style=\"color:#33cc33\">Correct</span>"
      ],
      "text/plain": [
       "Correct"
      ]
     },
     "metadata": {},
     "output_type": "display_data"
    }
   ],
   "source": [
    "# Preprocessed training and validation features\n",
    "## We can just use the existing one a few cells above\n",
    "#final_X_train = imputed_X_train\n",
    "#final_X_valid = imputed_X_valid\n",
    "\n",
    "# Preprocessed training and validation features\n",
    "# we can use a few options in strategy, as most_frequent, median, mean and constant\n",
    "final_imputer = SimpleImputer(strategy='median')\n",
    "final_X_train = pd.DataFrame(final_imputer.fit_transform(X_train))\n",
    "final_X_valid = pd.DataFrame(final_imputer.transform(X_valid))\n",
    "final_X_train.columns = X_train.columns\n",
    "final_X_valid.columns = X_valid.columns\n",
    "\n",
    "print(\"MAE (Imputation):\")\n",
    "print(score_dataset(final_X_train, final_X_valid, y_train, y_valid))\n",
    "\n",
    "# Check your answers\n",
    "step_4.a.check()"
   ]
  },
  {
   "cell_type": "code",
   "execution_count": 27,
   "id": "potential-cliff",
   "metadata": {
    "execution": {
     "iopub.execute_input": "2021-04-19T21:14:28.863278Z",
     "iopub.status.busy": "2021-04-19T21:14:28.862500Z",
     "iopub.status.idle": "2021-04-19T21:14:28.867679Z",
     "shell.execute_reply": "2021-04-19T21:14:28.867107Z"
    },
    "papermill": {
     "duration": 0.060061,
     "end_time": "2021-04-19T21:14:28.867824",
     "exception": false,
     "start_time": "2021-04-19T21:14:28.807763",
     "status": "completed"
    },
    "tags": []
   },
   "outputs": [
    {
     "data": {
      "application/javascript": [
       "parent.postMessage({\"jupyterEvent\": \"custom.exercise_interaction\", \"data\": {\"interactionType\": 2, \"questionType\": 2, \"questionId\": \"4.1_PredsCodeA\", \"learnToolsVersion\": \"0.3.4\", \"valueTowardsCompletion\": 0.0, \"failureMessage\": \"\", \"exceptionClass\": \"\", \"trace\": \"\", \"outcomeType\": 4}}, \"*\")"
      ],
      "text/plain": [
       "<IPython.core.display.Javascript object>"
      ]
     },
     "metadata": {},
     "output_type": "display_data"
    },
    {
     "data": {
      "text/markdown": [
       "<span style=\"color:#3366cc\">Hint:</span> Use any approach of your choosing to deal with missing values in the data.  For inspiration, check out the code from the tutorial!"
      ],
      "text/plain": [
       "Hint: Use any approach of your choosing to deal with missing values in the data.  For inspiration, check out the code from the tutorial!"
      ]
     },
     "metadata": {},
     "output_type": "display_data"
    }
   ],
   "source": [
    "# Lines below will give you a hint or solution code\n",
    "step_4.a.hint()\n",
    "#step_4.a.solution()"
   ]
  },
  {
   "cell_type": "markdown",
   "id": "afraid-protocol",
   "metadata": {
    "papermill": {
     "duration": 0.054478,
     "end_time": "2021-04-19T21:14:28.974113",
     "exception": false,
     "start_time": "2021-04-19T21:14:28.919635",
     "status": "completed"
    },
    "tags": []
   },
   "source": [
    "Run the next code cell to train and evaluate a random forest model.  (*Note that we don't use the `score_dataset()` function above, because we will soon use the trained model to generate test predictions!*)"
   ]
  },
  {
   "cell_type": "code",
   "execution_count": 28,
   "id": "boxed-quarterly",
   "metadata": {
    "execution": {
     "iopub.execute_input": "2021-04-19T21:14:29.087183Z",
     "iopub.status.busy": "2021-04-19T21:14:29.086467Z",
     "iopub.status.idle": "2021-04-19T21:14:30.369552Z",
     "shell.execute_reply": "2021-04-19T21:14:30.370008Z"
    },
    "papermill": {
     "duration": 1.342849,
     "end_time": "2021-04-19T21:14:30.370181",
     "exception": false,
     "start_time": "2021-04-19T21:14:29.027332",
     "status": "completed"
    },
    "tags": []
   },
   "outputs": [
    {
     "name": "stdout",
     "output_type": "stream",
     "text": [
      "MAE (Your approach):\n",
      "17791.59899543379\n"
     ]
    }
   ],
   "source": [
    "# Define and fit model\n",
    "model = RandomForestRegressor(n_estimators=100, random_state=0)\n",
    "model.fit(final_X_train, y_train)\n",
    "\n",
    "# Get validation predictions and MAE\n",
    "preds_valid = model.predict(final_X_valid)\n",
    "print(\"MAE (Your approach):\")\n",
    "print(mean_absolute_error(y_valid, preds_valid))"
   ]
  },
  {
   "cell_type": "markdown",
   "id": "minus-virus",
   "metadata": {
    "papermill": {
     "duration": 0.052146,
     "end_time": "2021-04-19T21:14:30.474137",
     "exception": false,
     "start_time": "2021-04-19T21:14:30.421991",
     "status": "completed"
    },
    "tags": []
   },
   "source": [
    "### Part B\n",
    "\n",
    "Use the next code cell to preprocess your test data.  Make sure that you use a method that agrees with how you preprocessed the training and validation data, and set the preprocessed test features to `final_X_test`.\n",
    "\n",
    "Then, use the preprocessed test features and the trained model to generate test predictions in `preds_test`.\n",
    "\n",
    "In order for this step to be marked correct, you need only ensure:\n",
    "- the preprocessed test DataFrame has no missing values, and\n",
    "- `final_X_test` has the same number of rows as `X_test`."
   ]
  },
  {
   "cell_type": "code",
   "execution_count": 29,
   "id": "federal-diversity",
   "metadata": {
    "execution": {
     "iopub.execute_input": "2021-04-19T21:14:30.587100Z",
     "iopub.status.busy": "2021-04-19T21:14:30.586076Z",
     "iopub.status.idle": "2021-04-19T21:14:30.633735Z",
     "shell.execute_reply": "2021-04-19T21:14:30.633210Z"
    },
    "papermill": {
     "duration": 0.107726,
     "end_time": "2021-04-19T21:14:30.633876",
     "exception": false,
     "start_time": "2021-04-19T21:14:30.526150",
     "status": "completed"
    },
    "tags": []
   },
   "outputs": [
    {
     "data": {
      "application/javascript": [
       "parent.postMessage({\"jupyterEvent\": \"custom.exercise_interaction\", \"data\": {\"outcomeType\": 1, \"valueTowardsCompletion\": 1.0, \"interactionType\": 1, \"questionType\": 2, \"questionId\": \"4.2_PredsCodeB\", \"learnToolsVersion\": \"0.3.4\", \"failureMessage\": \"\", \"exceptionClass\": \"\", \"trace\": \"\"}}, \"*\")"
      ],
      "text/plain": [
       "<IPython.core.display.Javascript object>"
      ]
     },
     "metadata": {},
     "output_type": "display_data"
    },
    {
     "data": {
      "text/markdown": [
       "<span style=\"color:#33cc33\">Correct</span>"
      ],
      "text/plain": [
       "Correct"
      ]
     },
     "metadata": {},
     "output_type": "display_data"
    }
   ],
   "source": [
    "import pandas as pd\n",
    "# Fill in the line below: preprocess test data\n",
    "final_X_test = pd.DataFrame(final_imputer.transform(X_test))\n",
    "final_X_test.columns = X_valid.columns\n",
    "\n",
    "# Fill in the line below: get test predictions\n",
    "preds_test = model.predict(final_X_test)\n",
    "\n",
    "# Check your answers\n",
    "step_4.b.check()"
   ]
  },
  {
   "cell_type": "code",
   "execution_count": 30,
   "id": "integrated-today",
   "metadata": {
    "execution": {
     "iopub.execute_input": "2021-04-19T21:14:30.743995Z",
     "iopub.status.busy": "2021-04-19T21:14:30.743329Z",
     "iopub.status.idle": "2021-04-19T21:14:30.752210Z",
     "shell.execute_reply": "2021-04-19T21:14:30.751588Z"
    },
    "papermill": {
     "duration": 0.066012,
     "end_time": "2021-04-19T21:14:30.752349",
     "exception": false,
     "start_time": "2021-04-19T21:14:30.686337",
     "status": "completed"
    },
    "tags": []
   },
   "outputs": [
    {
     "data": {
      "application/javascript": [
       "parent.postMessage({\"jupyterEvent\": \"custom.exercise_interaction\", \"data\": {\"interactionType\": 2, \"questionType\": 2, \"questionId\": \"4.2_PredsCodeB\", \"learnToolsVersion\": \"0.3.4\", \"valueTowardsCompletion\": 0.0, \"failureMessage\": \"\", \"exceptionClass\": \"\", \"trace\": \"\", \"outcomeType\": 4}}, \"*\")"
      ],
      "text/plain": [
       "<IPython.core.display.Javascript object>"
      ]
     },
     "metadata": {},
     "output_type": "display_data"
    },
    {
     "data": {
      "text/markdown": [
       "<span style=\"color:#3366cc\">Hint:</span> After preprocessing the test data, you can get the model's predictions by using `model.predict()`."
      ],
      "text/plain": [
       "Hint: After preprocessing the test data, you can get the model's predictions by using `model.predict()`."
      ]
     },
     "metadata": {},
     "output_type": "display_data"
    },
    {
     "data": {
      "application/javascript": [
       "parent.postMessage({\"jupyterEvent\": \"custom.exercise_interaction\", \"data\": {\"interactionType\": 3, \"questionType\": 2, \"questionId\": \"4.2_PredsCodeB\", \"learnToolsVersion\": \"0.3.4\", \"valueTowardsCompletion\": 0.0, \"failureMessage\": \"\", \"exceptionClass\": \"\", \"trace\": \"\", \"outcomeType\": 4}}, \"*\")"
      ],
      "text/plain": [
       "<IPython.core.display.Javascript object>"
      ]
     },
     "metadata": {},
     "output_type": "display_data"
    },
    {
     "data": {
      "text/markdown": [
       "<span style=\"color:#33cc99\">Solution:</span> \n",
       "```python\n",
       "# Preprocess test data\n",
       "final_X_test = pd.DataFrame(final_imputer.transform(X_test))\n",
       "\n",
       "# Get test predictions\n",
       "preds_test = model.predict(final_X_test)\n",
       "\n",
       "```"
      ],
      "text/plain": [
       "Solution: \n",
       "```python\n",
       "# Preprocess test data\n",
       "final_X_test = pd.DataFrame(final_imputer.transform(X_test))\n",
       "\n",
       "# Get test predictions\n",
       "preds_test = model.predict(final_X_test)\n",
       "\n",
       "```"
      ]
     },
     "metadata": {},
     "output_type": "display_data"
    }
   ],
   "source": [
    "# Lines below will give you a hint or solution code\n",
    "step_4.b.hint()\n",
    "step_4.b.solution()"
   ]
  },
  {
   "cell_type": "code",
   "execution_count": 31,
   "id": "naval-samoa",
   "metadata": {
    "execution": {
     "iopub.execute_input": "2021-04-19T21:14:30.869016Z",
     "iopub.status.busy": "2021-04-19T21:14:30.867986Z",
     "iopub.status.idle": "2021-04-19T21:14:30.900813Z",
     "shell.execute_reply": "2021-04-19T21:14:30.901257Z"
    },
    "papermill": {
     "duration": 0.092582,
     "end_time": "2021-04-19T21:14:30.901429",
     "exception": false,
     "start_time": "2021-04-19T21:14:30.808847",
     "status": "completed"
    },
    "tags": []
   },
   "outputs": [
    {
     "data": {
      "text/html": [
       "<div>\n",
       "<style scoped>\n",
       "    .dataframe tbody tr th:only-of-type {\n",
       "        vertical-align: middle;\n",
       "    }\n",
       "\n",
       "    .dataframe tbody tr th {\n",
       "        vertical-align: top;\n",
       "    }\n",
       "\n",
       "    .dataframe thead th {\n",
       "        text-align: right;\n",
       "    }\n",
       "</style>\n",
       "<table border=\"1\" class=\"dataframe\">\n",
       "  <thead>\n",
       "    <tr style=\"text-align: right;\">\n",
       "      <th></th>\n",
       "      <th>MSSubClass</th>\n",
       "      <th>LotFrontage</th>\n",
       "      <th>LotArea</th>\n",
       "      <th>OverallQual</th>\n",
       "      <th>OverallCond</th>\n",
       "      <th>YearBuilt</th>\n",
       "      <th>YearRemodAdd</th>\n",
       "      <th>MasVnrArea</th>\n",
       "      <th>BsmtFinSF1</th>\n",
       "      <th>BsmtFinSF2</th>\n",
       "      <th>...</th>\n",
       "      <th>GarageArea</th>\n",
       "      <th>WoodDeckSF</th>\n",
       "      <th>OpenPorchSF</th>\n",
       "      <th>EnclosedPorch</th>\n",
       "      <th>3SsnPorch</th>\n",
       "      <th>ScreenPorch</th>\n",
       "      <th>PoolArea</th>\n",
       "      <th>MiscVal</th>\n",
       "      <th>MoSold</th>\n",
       "      <th>YrSold</th>\n",
       "    </tr>\n",
       "  </thead>\n",
       "  <tbody>\n",
       "    <tr>\n",
       "      <th>0</th>\n",
       "      <td>20.0</td>\n",
       "      <td>80.0</td>\n",
       "      <td>11622.0</td>\n",
       "      <td>5.0</td>\n",
       "      <td>6.0</td>\n",
       "      <td>1961.0</td>\n",
       "      <td>1961.0</td>\n",
       "      <td>0.0</td>\n",
       "      <td>468.0</td>\n",
       "      <td>144.0</td>\n",
       "      <td>...</td>\n",
       "      <td>730.0</td>\n",
       "      <td>140.0</td>\n",
       "      <td>0.0</td>\n",
       "      <td>0.0</td>\n",
       "      <td>0.0</td>\n",
       "      <td>120.0</td>\n",
       "      <td>0.0</td>\n",
       "      <td>0.0</td>\n",
       "      <td>6.0</td>\n",
       "      <td>2010.0</td>\n",
       "    </tr>\n",
       "    <tr>\n",
       "      <th>1</th>\n",
       "      <td>20.0</td>\n",
       "      <td>81.0</td>\n",
       "      <td>14267.0</td>\n",
       "      <td>6.0</td>\n",
       "      <td>6.0</td>\n",
       "      <td>1958.0</td>\n",
       "      <td>1958.0</td>\n",
       "      <td>108.0</td>\n",
       "      <td>923.0</td>\n",
       "      <td>0.0</td>\n",
       "      <td>...</td>\n",
       "      <td>312.0</td>\n",
       "      <td>393.0</td>\n",
       "      <td>36.0</td>\n",
       "      <td>0.0</td>\n",
       "      <td>0.0</td>\n",
       "      <td>0.0</td>\n",
       "      <td>0.0</td>\n",
       "      <td>12500.0</td>\n",
       "      <td>6.0</td>\n",
       "      <td>2010.0</td>\n",
       "    </tr>\n",
       "    <tr>\n",
       "      <th>2</th>\n",
       "      <td>60.0</td>\n",
       "      <td>74.0</td>\n",
       "      <td>13830.0</td>\n",
       "      <td>5.0</td>\n",
       "      <td>5.0</td>\n",
       "      <td>1997.0</td>\n",
       "      <td>1998.0</td>\n",
       "      <td>0.0</td>\n",
       "      <td>791.0</td>\n",
       "      <td>0.0</td>\n",
       "      <td>...</td>\n",
       "      <td>482.0</td>\n",
       "      <td>212.0</td>\n",
       "      <td>34.0</td>\n",
       "      <td>0.0</td>\n",
       "      <td>0.0</td>\n",
       "      <td>0.0</td>\n",
       "      <td>0.0</td>\n",
       "      <td>0.0</td>\n",
       "      <td>3.0</td>\n",
       "      <td>2010.0</td>\n",
       "    </tr>\n",
       "    <tr>\n",
       "      <th>3</th>\n",
       "      <td>60.0</td>\n",
       "      <td>78.0</td>\n",
       "      <td>9978.0</td>\n",
       "      <td>6.0</td>\n",
       "      <td>6.0</td>\n",
       "      <td>1998.0</td>\n",
       "      <td>1998.0</td>\n",
       "      <td>20.0</td>\n",
       "      <td>602.0</td>\n",
       "      <td>0.0</td>\n",
       "      <td>...</td>\n",
       "      <td>470.0</td>\n",
       "      <td>360.0</td>\n",
       "      <td>36.0</td>\n",
       "      <td>0.0</td>\n",
       "      <td>0.0</td>\n",
       "      <td>0.0</td>\n",
       "      <td>0.0</td>\n",
       "      <td>0.0</td>\n",
       "      <td>6.0</td>\n",
       "      <td>2010.0</td>\n",
       "    </tr>\n",
       "    <tr>\n",
       "      <th>4</th>\n",
       "      <td>120.0</td>\n",
       "      <td>43.0</td>\n",
       "      <td>5005.0</td>\n",
       "      <td>8.0</td>\n",
       "      <td>5.0</td>\n",
       "      <td>1992.0</td>\n",
       "      <td>1992.0</td>\n",
       "      <td>0.0</td>\n",
       "      <td>263.0</td>\n",
       "      <td>0.0</td>\n",
       "      <td>...</td>\n",
       "      <td>506.0</td>\n",
       "      <td>0.0</td>\n",
       "      <td>82.0</td>\n",
       "      <td>0.0</td>\n",
       "      <td>0.0</td>\n",
       "      <td>144.0</td>\n",
       "      <td>0.0</td>\n",
       "      <td>0.0</td>\n",
       "      <td>1.0</td>\n",
       "      <td>2010.0</td>\n",
       "    </tr>\n",
       "  </tbody>\n",
       "</table>\n",
       "<p>5 rows × 36 columns</p>\n",
       "</div>"
      ],
      "text/plain": [
       "   MSSubClass  LotFrontage  LotArea  OverallQual  OverallCond  YearBuilt  \\\n",
       "0        20.0         80.0  11622.0          5.0          6.0     1961.0   \n",
       "1        20.0         81.0  14267.0          6.0          6.0     1958.0   \n",
       "2        60.0         74.0  13830.0          5.0          5.0     1997.0   \n",
       "3        60.0         78.0   9978.0          6.0          6.0     1998.0   \n",
       "4       120.0         43.0   5005.0          8.0          5.0     1992.0   \n",
       "\n",
       "   YearRemodAdd  MasVnrArea  BsmtFinSF1  BsmtFinSF2  ...  GarageArea  \\\n",
       "0        1961.0         0.0       468.0       144.0  ...       730.0   \n",
       "1        1958.0       108.0       923.0         0.0  ...       312.0   \n",
       "2        1998.0         0.0       791.0         0.0  ...       482.0   \n",
       "3        1998.0        20.0       602.0         0.0  ...       470.0   \n",
       "4        1992.0         0.0       263.0         0.0  ...       506.0   \n",
       "\n",
       "   WoodDeckSF  OpenPorchSF  EnclosedPorch  3SsnPorch  ScreenPorch  PoolArea  \\\n",
       "0       140.0          0.0            0.0        0.0        120.0       0.0   \n",
       "1       393.0         36.0            0.0        0.0          0.0       0.0   \n",
       "2       212.0         34.0            0.0        0.0          0.0       0.0   \n",
       "3       360.0         36.0            0.0        0.0          0.0       0.0   \n",
       "4         0.0         82.0            0.0        0.0        144.0       0.0   \n",
       "\n",
       "   MiscVal  MoSold  YrSold  \n",
       "0      0.0     6.0  2010.0  \n",
       "1  12500.0     6.0  2010.0  \n",
       "2      0.0     3.0  2010.0  \n",
       "3      0.0     6.0  2010.0  \n",
       "4      0.0     1.0  2010.0  \n",
       "\n",
       "[5 rows x 36 columns]"
      ]
     },
     "execution_count": 31,
     "metadata": {},
     "output_type": "execute_result"
    }
   ],
   "source": [
    "final_X_test.head()"
   ]
  },
  {
   "cell_type": "code",
   "execution_count": 32,
   "id": "invisible-amendment",
   "metadata": {
    "execution": {
     "iopub.execute_input": "2021-04-19T21:14:31.020404Z",
     "iopub.status.busy": "2021-04-19T21:14:31.019457Z",
     "iopub.status.idle": "2021-04-19T21:14:31.025655Z",
     "shell.execute_reply": "2021-04-19T21:14:31.025005Z"
    },
    "papermill": {
     "duration": 0.066358,
     "end_time": "2021-04-19T21:14:31.025789",
     "exception": false,
     "start_time": "2021-04-19T21:14:30.959431",
     "status": "completed"
    },
    "tags": []
   },
   "outputs": [
    {
     "data": {
      "text/plain": [
       "array([125985.5 , 154599.5 , 180070.24, ..., 154751.44, 107387.  ,\n",
       "       229281.55])"
      ]
     },
     "execution_count": 32,
     "metadata": {},
     "output_type": "execute_result"
    }
   ],
   "source": [
    "preds_test"
   ]
  },
  {
   "cell_type": "markdown",
   "id": "enabling-bridal",
   "metadata": {
    "papermill": {
     "duration": 0.055943,
     "end_time": "2021-04-19T21:14:31.137960",
     "exception": false,
     "start_time": "2021-04-19T21:14:31.082017",
     "status": "completed"
    },
    "tags": []
   },
   "source": [
    "Run the next code cell without changes to save your results to a CSV file that can be submitted directly to the competition."
   ]
  },
  {
   "cell_type": "code",
   "execution_count": 33,
   "id": "rapid-victorian",
   "metadata": {
    "execution": {
     "iopub.execute_input": "2021-04-19T21:14:31.253717Z",
     "iopub.status.busy": "2021-04-19T21:14:31.253042Z",
     "iopub.status.idle": "2021-04-19T21:14:31.266351Z",
     "shell.execute_reply": "2021-04-19T21:14:31.265768Z"
    },
    "papermill": {
     "duration": 0.072424,
     "end_time": "2021-04-19T21:14:31.266509",
     "exception": false,
     "start_time": "2021-04-19T21:14:31.194085",
     "status": "completed"
    },
    "tags": []
   },
   "outputs": [],
   "source": [
    "# Save test predictions to file\n",
    "output = pd.DataFrame({'Id': X_test.index,\n",
    "                       'SalePrice': preds_test})\n",
    "output.to_csv('submission.csv', index=False)"
   ]
  },
  {
   "cell_type": "markdown",
   "id": "loving-pathology",
   "metadata": {
    "papermill": {
     "duration": 0.056193,
     "end_time": "2021-04-19T21:14:31.379309",
     "exception": false,
     "start_time": "2021-04-19T21:14:31.323116",
     "status": "completed"
    },
    "tags": []
   },
   "source": [
    "# Submit your results\n",
    "\n",
    "Once you have successfully completed Step 4, you're ready to submit your results to the leaderboard!  (_You also learned how to do this in the previous exercise.  If you need a reminder of how to do this, please use the instructions below._)  \n",
    "\n",
    "First, you'll need to join the competition if you haven't already.  So open a new window by clicking on [this link](https://www.kaggle.com/c/home-data-for-ml-course).  Then click on the **Join Competition** button.\n",
    "\n",
    "![join competition image](https://i.imgur.com/wLmFtH3.png)\n",
    "\n",
    "Next, follow the instructions below:\n",
    "1. Begin by clicking on the blue **Save Version** button in the top right corner of the window.  This will generate a pop-up window.  \n",
    "2. Ensure that the **Save and Run All** option is selected, and then click on the blue **Save** button.\n",
    "3. This generates a window in the bottom left corner of the notebook.  After it has finished running, click on the number to the right of the **Save Version** button.  This pulls up a list of versions on the right of the screen.  Click on the ellipsis **(...)** to the right of the most recent version, and select **Open in Viewer**.  This brings you into view mode of the same page. You will need to scroll down to get back to these instructions.\n",
    "4. Click on the **Output** tab on the right of the screen.  Then, click on the file you would like to submit, and click on the blue **Submit** button to submit your results to the leaderboard.\n",
    "\n",
    "You have now successfully submitted to the competition!\n",
    "\n",
    "If you want to keep working to improve your performance, select the blue **Edit** button in the top right of the screen. Then you can change your code and repeat the process. There's a lot of room to improve, and you will climb up the leaderboard as you work.\n",
    "\n",
    "\n",
    "# Keep going\n",
    "\n",
    "Move on to learn what **[categorical variables](https://www.kaggle.com/alexisbcook/categorical-variables)** are, along with how to incorporate them into your machine learning models.  Categorical variables are very common in real-world data, but you'll get an error if you try to plug them into your models without processing them first!"
   ]
  },
  {
   "cell_type": "markdown",
   "id": "prime-mexican",
   "metadata": {
    "papermill": {
     "duration": 0.055792,
     "end_time": "2021-04-19T21:14:31.491978",
     "exception": false,
     "start_time": "2021-04-19T21:14:31.436186",
     "status": "completed"
    },
    "tags": []
   },
   "source": [
    "---\n",
    "\n",
    "\n",
    "\n",
    "\n",
    "*Have questions or comments? Visit the [Learn Discussion forum](https://www.kaggle.com/learn-forum/161289) to chat with other Learners.*"
   ]
  }
 ],
 "metadata": {
  "kernelspec": {
   "display_name": "Python 3",
   "language": "python",
   "name": "python3"
  },
  "language_info": {
   "codemirror_mode": {
    "name": "ipython",
    "version": 3
   },
   "file_extension": ".py",
   "mimetype": "text/x-python",
   "name": "python",
   "nbconvert_exporter": "python",
   "pygments_lexer": "ipython3",
   "version": "3.7.9"
  },
  "papermill": {
   "default_parameters": {},
   "duration": 20.178504,
   "end_time": "2021-04-19T21:14:32.259132",
   "environment_variables": {},
   "exception": null,
   "input_path": "__notebook__.ipynb",
   "output_path": "__notebook__.ipynb",
   "parameters": {},
   "start_time": "2021-04-19T21:14:12.080628",
   "version": "2.3.2"
  }
 },
 "nbformat": 4,
 "nbformat_minor": 5
}
