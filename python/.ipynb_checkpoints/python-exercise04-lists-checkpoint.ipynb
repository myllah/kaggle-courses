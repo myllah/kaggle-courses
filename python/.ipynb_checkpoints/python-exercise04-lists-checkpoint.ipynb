{
 "cells": [
  {
   "cell_type": "markdown",
   "metadata": {
    "papermill": {
     "duration": 0.01694,
     "end_time": "2021-02-05T13:14:21.104331",
     "exception": false,
     "start_time": "2021-02-05T13:14:21.087391",
     "status": "completed"
    },
    "tags": []
   },
   "source": [
    "### Python-Exercise04: Lists"
   ]
  },
  {
   "cell_type": "markdown",
   "metadata": {
    "papermill": {
     "duration": 0.014378,
     "end_time": "2021-02-05T13:14:21.133604",
     "exception": false,
     "start_time": "2021-02-05T13:14:21.119226",
     "status": "completed"
    },
    "tags": []
   },
   "source": [
    "**This notebook is an exercise in the [Python](https://www.kaggle.com/learn/python) course.  You can reference the tutorial at [this link](https://www.kaggle.com/colinmorris/lists).**\n",
    "\n",
    "> **This notebook is the fourth exercise in the [Python](https://www.kaggle.com/learn/python)  course. <span style = \"padding: 10px\"> It is the exercise of the fourth lesson, aka \"Lists\".**"
   ]
  },
  {
   "cell_type": "markdown",
   "metadata": {
    "papermill": {
     "duration": 0.01447,
     "end_time": "2021-02-05T13:14:21.162822",
     "exception": false,
     "start_time": "2021-02-05T13:14:21.148352",
     "status": "completed"
    },
    "tags": []
   },
   "source": [
    "# Try It Yourself\n",
    "\n",
    "Things get more interesting with lists. See if you can solve the questions below. Remember to run the following cell first."
   ]
  },
  {
   "cell_type": "code",
   "execution_count": 1,
   "metadata": {
    "execution": {
     "iopub.execute_input": "2021-02-05T13:14:21.199293Z",
     "iopub.status.busy": "2021-02-05T13:14:21.198531Z",
     "iopub.status.idle": "2021-02-05T13:14:21.248159Z",
     "shell.execute_reply": "2021-02-05T13:14:21.247300Z"
    },
    "papermill": {
     "duration": 0.070386,
     "end_time": "2021-02-05T13:14:21.248373",
     "exception": false,
     "start_time": "2021-02-05T13:14:21.177987",
     "status": "completed"
    },
    "tags": []
   },
   "outputs": [
    {
     "ename": "ImportError",
     "evalue": "No module named learntools.core",
     "output_type": "error",
     "traceback": [
      "\u001b[0;31m---------------------------------------------------------------------------\u001b[0m",
      "\u001b[0;31mImportError\u001b[0m                               Traceback (most recent call last)",
      "\u001b[0;32m<ipython-input-1-b6c8d7f49945>\u001b[0m in \u001b[0;36m<module>\u001b[0;34m()\u001b[0m\n\u001b[0;32m----> 1\u001b[0;31m \u001b[0;32mfrom\u001b[0m \u001b[0mlearntools\u001b[0m\u001b[0;34m.\u001b[0m\u001b[0mcore\u001b[0m \u001b[0;32mimport\u001b[0m \u001b[0mbinder\u001b[0m\u001b[0;34m;\u001b[0m \u001b[0mbinder\u001b[0m\u001b[0;34m.\u001b[0m\u001b[0mbind\u001b[0m\u001b[0;34m(\u001b[0m\u001b[0mglobals\u001b[0m\u001b[0;34m(\u001b[0m\u001b[0;34m)\u001b[0m\u001b[0;34m)\u001b[0m\u001b[0;34m\u001b[0m\u001b[0m\n\u001b[0m\u001b[1;32m      2\u001b[0m \u001b[0;32mfrom\u001b[0m \u001b[0mlearntools\u001b[0m\u001b[0;34m.\u001b[0m\u001b[0mpython\u001b[0m\u001b[0;34m.\u001b[0m\u001b[0mex4\u001b[0m \u001b[0;32mimport\u001b[0m \u001b[0;34m*\u001b[0m\u001b[0;34m\u001b[0m\u001b[0m\n\u001b[1;32m      3\u001b[0m \u001b[0;32mprint\u001b[0m\u001b[0;34m(\u001b[0m\u001b[0;34m'Setup complete.'\u001b[0m\u001b[0;34m)\u001b[0m\u001b[0;34m\u001b[0m\u001b[0m\n",
      "\u001b[0;31mImportError\u001b[0m: No module named learntools.core"
     ]
    }
   ],
   "source": [
    "from learntools.core import binder; binder.bind(globals())\n",
    "from learntools.python.ex4 import *\n",
    "print('Setup complete.')"
   ]
  },
  {
   "cell_type": "markdown",
   "metadata": {
    "papermill": {
     "duration": 0.015556,
     "end_time": "2021-02-05T13:14:21.280666",
     "exception": false,
     "start_time": "2021-02-05T13:14:21.265110",
     "status": "completed"
    },
    "tags": []
   },
   "source": [
    "# Exercises"
   ]
  },
  {
   "cell_type": "markdown",
   "metadata": {
    "papermill": {
     "duration": 0.01517,
     "end_time": "2021-02-05T13:14:21.311337",
     "exception": false,
     "start_time": "2021-02-05T13:14:21.296167",
     "status": "completed"
    },
    "tags": []
   },
   "source": [
    "## 1.\n",
    "\n",
    "Complete the function below according to its docstring."
   ]
  },
  {
   "cell_type": "code",
   "execution_count": 3,
   "metadata": {
    "execution": {
     "iopub.execute_input": "2021-02-05T13:14:21.353392Z",
     "iopub.status.busy": "2021-02-05T13:14:21.352632Z",
     "iopub.status.idle": "2021-02-05T13:14:21.361044Z",
     "shell.execute_reply": "2021-02-05T13:14:21.360314Z"
    },
    "papermill": {
     "duration": 0.034288,
     "end_time": "2021-02-05T13:14:21.361197",
     "exception": false,
     "start_time": "2021-02-05T13:14:21.326909",
     "status": "completed"
    },
    "tags": []
   },
   "outputs": [
    {
     "name": "stdout",
     "output_type": "stream",
     "text": [
      "b\n",
      "None\n"
     ]
    }
   ],
   "source": [
    "def select_second(L):\n",
    "    \"\"\"Return the second element of the given list. If the list has no second\n",
    "    element, return None.\n",
    "    \"\"\"\n",
    "    \n",
    "    if len(L) > 2:\n",
    "        return L[1]\n",
    "    else:\n",
    "        return None\n",
    "\n",
    "# Testing examples\n",
    "lista = ['a', 'b', 'c', 'd', 'e']\n",
    "print(select_second(lista))\n",
    "lista = ['a']\n",
    "print(select_second(lista))\n",
    "\n",
    "# Check your answer\n",
    "#q1.check()"
   ]
  },
  {
   "cell_type": "code",
   "execution_count": 3,
   "metadata": {
    "collapsed": true,
    "execution": {
     "iopub.execute_input": "2021-02-05T13:14:21.400729Z",
     "iopub.status.busy": "2021-02-05T13:14:21.399711Z",
     "iopub.status.idle": "2021-02-05T13:14:21.402193Z",
     "shell.execute_reply": "2021-02-05T13:14:21.402733Z"
    },
    "papermill": {
     "duration": 0.024364,
     "end_time": "2021-02-05T13:14:21.402919",
     "exception": false,
     "start_time": "2021-02-05T13:14:21.378555",
     "status": "completed"
    },
    "tags": []
   },
   "outputs": [],
   "source": [
    "#q1.hint()\n",
    "#q1.solution()"
   ]
  },
  {
   "cell_type": "markdown",
   "metadata": {
    "papermill": {
     "duration": 0.017039,
     "end_time": "2021-02-05T13:14:21.437248",
     "exception": false,
     "start_time": "2021-02-05T13:14:21.420209",
     "status": "completed"
    },
    "tags": []
   },
   "source": [
    "## 2.\n",
    "\n",
    "You are analyzing sports teams.  Members of each team are stored in a list. The Coach is the first name in the list, the captain is the second name in the list, and other players are listed after that. \n",
    "These lists are stored in another list, which starts with the best team and proceeds through the list to the worst team last.  Complete the function below to select the **captain** of the worst team."
   ]
  },
  {
   "cell_type": "code",
   "execution_count": 4,
   "metadata": {
    "execution": {
     "iopub.execute_input": "2021-02-05T13:14:21.480362Z",
     "iopub.status.busy": "2021-02-05T13:14:21.479533Z",
     "iopub.status.idle": "2021-02-05T13:14:21.485961Z",
     "shell.execute_reply": "2021-02-05T13:14:21.485146Z"
    },
    "papermill": {
     "duration": 0.031004,
     "end_time": "2021-02-05T13:14:21.486118",
     "exception": false,
     "start_time": "2021-02-05T13:14:21.455114",
     "status": "completed"
    },
    "tags": []
   },
   "outputs": [
    {
     "name": "stdout",
     "output_type": "stream",
     "text": [
      "captain3\n"
     ]
    },
    {
     "data": {
      "application/javascript": [
       "parent.postMessage({\"jupyterEvent\": \"custom.exercise_interaction\", \"data\": {\"outcomeType\": 1, \"valueTowardsCompletion\": 0.2, \"interactionType\": 1, \"questionType\": 2, \"questionId\": \"2_LosingTeamCaptain\", \"learnToolsVersion\": \"0.3.4\", \"failureMessage\": \"\", \"exceptionClass\": \"\", \"trace\": \"\"}}, \"*\")"
      ],
      "text/plain": [
       "<IPython.core.display.Javascript object>"
      ]
     },
     "metadata": {},
     "output_type": "display_data"
    },
    {
     "data": {
      "text/markdown": [
       "<span style=\"color:#33cc33\">Correct</span>"
      ],
      "text/plain": [
       "Correct"
      ]
     },
     "metadata": {},
     "output_type": "display_data"
    }
   ],
   "source": [
    "def losing_team_captain(teams):\n",
    "    \"\"\"Given a list of teams, where each team is a list of names, return the 2nd player (captain)\n",
    "    from the last listed team\n",
    "    \"\"\"\n",
    "    return teams[-1][1]\n",
    "\n",
    "# Testing examples\n",
    "t = [['coach1', 'captain1', 'member1', 'member1', 'member1'],\n",
    "    ['coach2', 'captain2', 'member2', 'member2', 'member2'],\n",
    "    ['coach3', 'captain3', 'member3', 'member3', 'member3']]\n",
    "print(losing_team_captain(t))\n",
    "\n",
    "# Check your answer\n",
    "q2.check()"
   ]
  },
  {
   "cell_type": "code",
   "execution_count": 5,
   "metadata": {
    "collapsed": true,
    "execution": {
     "iopub.execute_input": "2021-02-05T13:14:21.530811Z",
     "iopub.status.busy": "2021-02-05T13:14:21.529766Z",
     "iopub.status.idle": "2021-02-05T13:14:21.533222Z",
     "shell.execute_reply": "2021-02-05T13:14:21.532515Z"
    },
    "papermill": {
     "duration": 0.026851,
     "end_time": "2021-02-05T13:14:21.533372",
     "exception": false,
     "start_time": "2021-02-05T13:14:21.506521",
     "status": "completed"
    },
    "tags": []
   },
   "outputs": [],
   "source": [
    "#q2.hint()\n",
    "#q2.solution()"
   ]
  },
  {
   "cell_type": "markdown",
   "metadata": {
    "papermill": {
     "duration": 0.018981,
     "end_time": "2021-02-05T13:14:21.571893",
     "exception": false,
     "start_time": "2021-02-05T13:14:21.552912",
     "status": "completed"
    },
    "tags": []
   },
   "source": [
    "## 3.\n",
    "\n",
    "The next iteration of Mario Kart will feature an extra-infuriating new item, the *Purple Shell*. When used, it warps the last place racer into first place and the first place racer into last place. Complete the function below to implement the Purple Shell's effect."
   ]
  },
  {
   "cell_type": "code",
   "execution_count": 6,
   "metadata": {
    "execution": {
     "iopub.execute_input": "2021-02-05T13:14:21.617773Z",
     "iopub.status.busy": "2021-02-05T13:14:21.616878Z",
     "iopub.status.idle": "2021-02-05T13:14:21.624248Z",
     "shell.execute_reply": "2021-02-05T13:14:21.623613Z"
    },
    "papermill": {
     "duration": 0.033152,
     "end_time": "2021-02-05T13:14:21.624403",
     "exception": false,
     "start_time": "2021-02-05T13:14:21.591251",
     "status": "completed"
    },
    "tags": []
   },
   "outputs": [
    {
     "name": "stdout",
     "output_type": "stream",
     "text": [
      "['Luigi', 'Bowser', 'Mario']\n"
     ]
    },
    {
     "data": {
      "application/javascript": [
       "parent.postMessage({\"jupyterEvent\": \"custom.exercise_interaction\", \"data\": {\"outcomeType\": 1, \"valueTowardsCompletion\": 0.2, \"interactionType\": 1, \"questionType\": 2, \"questionId\": \"3_PurpleShell\", \"learnToolsVersion\": \"0.3.4\", \"failureMessage\": \"\", \"exceptionClass\": \"\", \"trace\": \"\"}}, \"*\")"
      ],
      "text/plain": [
       "<IPython.core.display.Javascript object>"
      ]
     },
     "metadata": {},
     "output_type": "display_data"
    },
    {
     "data": {
      "text/markdown": [
       "<span style=\"color:#33cc33\">Correct</span>"
      ],
      "text/plain": [
       "Correct"
      ]
     },
     "metadata": {},
     "output_type": "display_data"
    }
   ],
   "source": [
    "def purple_shell(racers):\n",
    "    \"\"\"Given a list of racers, set the first place racer (at the front of the list) to last\n",
    "    place and vice versa.\n",
    "    \n",
    "    >>> r = [\"Mario\", \"Bowser\", \"Luigi\"]\n",
    "    >>> purple_shell(r)\n",
    "    >>> r\n",
    "    [\"Luigi\", \"Bowser\", \"Mario\"]\n",
    "    \"\"\"\n",
    "    \n",
    "    racers[0], racers[-1] = racers[-1], racers[0]\n",
    "    \n",
    "    ### An alternative way ###\n",
    "    #aux = racers[0]\n",
    "    #racers[0] = racers[-1]\n",
    "    #racers[-1] = aux\n",
    "    \n",
    "\n",
    "# Testing examples\n",
    "r = [\"Mario\", \"Bowser\", \"Luigi\"]\n",
    "purple_shell(r)\n",
    "print(r)\n",
    "\n",
    "# Check your answer\n",
    "q3.check()"
   ]
  },
  {
   "cell_type": "code",
   "execution_count": 7,
   "metadata": {
    "execution": {
     "iopub.execute_input": "2021-02-05T13:14:21.671653Z",
     "iopub.status.busy": "2021-02-05T13:14:21.670768Z",
     "iopub.status.idle": "2021-02-05T13:14:21.673957Z",
     "shell.execute_reply": "2021-02-05T13:14:21.673228Z"
    },
    "papermill": {
     "duration": 0.028514,
     "end_time": "2021-02-05T13:14:21.674120",
     "exception": false,
     "start_time": "2021-02-05T13:14:21.645606",
     "status": "completed"
    },
    "tags": []
   },
   "outputs": [],
   "source": [
    "#q3.hint()\n",
    "#q3.solution()"
   ]
  },
  {
   "cell_type": "markdown",
   "metadata": {
    "papermill": {
     "duration": 0.021365,
     "end_time": "2021-02-05T13:14:21.716732",
     "exception": false,
     "start_time": "2021-02-05T13:14:21.695367",
     "status": "completed"
    },
    "tags": []
   },
   "source": [
    "## 4.\n",
    "\n",
    "What are the lengths of the following lists? Fill in the variable `lengths` with your predictions. (Try to make a prediction for each list *without* just calling `len()` on it.)"
   ]
  },
  {
   "cell_type": "code",
   "execution_count": 8,
   "metadata": {
    "execution": {
     "iopub.execute_input": "2021-02-05T13:14:21.767225Z",
     "iopub.status.busy": "2021-02-05T13:14:21.766308Z",
     "iopub.status.idle": "2021-02-05T13:14:21.773224Z",
     "shell.execute_reply": "2021-02-05T13:14:21.772348Z"
    },
    "papermill": {
     "duration": 0.035015,
     "end_time": "2021-02-05T13:14:21.773384",
     "exception": false,
     "start_time": "2021-02-05T13:14:21.738369",
     "status": "completed"
    },
    "tags": []
   },
   "outputs": [
    {
     "name": "stdout",
     "output_type": "stream",
     "text": [
      "3, 2, 0, 2\n"
     ]
    },
    {
     "data": {
      "application/javascript": [
       "parent.postMessage({\"jupyterEvent\": \"custom.exercise_interaction\", \"data\": {\"outcomeType\": 1, \"valueTowardsCompletion\": 0.2, \"interactionType\": 1, \"questionType\": 1, \"questionId\": \"4_UnderstandLen\", \"learnToolsVersion\": \"0.3.4\", \"failureMessage\": \"\", \"exceptionClass\": \"\", \"trace\": \"\"}}, \"*\")"
      ],
      "text/plain": [
       "<IPython.core.display.Javascript object>"
      ]
     },
     "metadata": {},
     "output_type": "display_data"
    },
    {
     "data": {
      "text/markdown": [
       "<span style=\"color:#33cc33\">Correct:</span> \n",
       "\n",
       "\n",
       "- a: There are three items in this list. Nothing tricky yet.\n",
       "- b: The list `[2, 3]` counts as a single item. It has one item before it. So we have 2 items in the list\n",
       "- c: The empty list has 0 items\n",
       "- d: The expression is the same as the list `[2, 3]`, which has length 2."
      ],
      "text/plain": [
       "Correct: \n",
       "\n",
       "\n",
       "- a: There are three items in this list. Nothing tricky yet.\n",
       "- b: The list `[2, 3]` counts as a single item. It has one item before it. So we have 2 items in the list\n",
       "- c: The empty list has 0 items\n",
       "- d: The expression is the same as the list `[2, 3]`, which has length 2."
      ]
     },
     "metadata": {},
     "output_type": "display_data"
    }
   ],
   "source": [
    "a = [1, 2, 3]\n",
    "b = [1, [2, 3]]\n",
    "c = []\n",
    "d = [1, 2, 3][1:]\n",
    "\n",
    "# Put your predictions in the list below. Lengths should contain 4 numbers, the\n",
    "# first being the length of a, the second being the length of b and so on.\n",
    "lengths = [3, 2, 0, 2]\n",
    "print(len(a), len(b), len(c), len(d), sep=\", \")\n",
    "\n",
    "# Check your answer\n",
    "q4.check()"
   ]
  },
  {
   "cell_type": "code",
   "execution_count": 9,
   "metadata": {
    "execution": {
     "iopub.execute_input": "2021-02-05T13:14:21.823856Z",
     "iopub.status.busy": "2021-02-05T13:14:21.823116Z",
     "iopub.status.idle": "2021-02-05T13:14:21.826088Z",
     "shell.execute_reply": "2021-02-05T13:14:21.825407Z"
    },
    "papermill": {
     "duration": 0.029851,
     "end_time": "2021-02-05T13:14:21.826250",
     "exception": false,
     "start_time": "2021-02-05T13:14:21.796399",
     "status": "completed"
    },
    "tags": []
   },
   "outputs": [],
   "source": [
    "# line below provides some explanation\n",
    "#q4.solution()"
   ]
  },
  {
   "cell_type": "markdown",
   "metadata": {
    "papermill": {
     "duration": 0.022763,
     "end_time": "2021-02-05T13:14:21.872336",
     "exception": false,
     "start_time": "2021-02-05T13:14:21.849573",
     "status": "completed"
    },
    "tags": []
   },
   "source": [
    "## 5. <span title=\"A bit spicy\" style=\"color: darkgreen \">🌶️</span>\n",
    "\n",
    "We're using lists to record people who attended our party and what order they arrived in. For example, the following list represents a party with 7 guests, in which Adela showed up first and Ford was the last to arrive:\n",
    "\n",
    "    party_attendees = ['Adela', 'Fleda', 'Owen', 'May', 'Mona', 'Gilbert', 'Ford']\n",
    "\n",
    "A guest is considered 'fashionably late' if they arrived after at least half of the party's guests. However, they must not be the very last guest (that's taking it too far). In the above example, Mona and Gilbert are the only guests who were fashionably late.\n",
    "\n",
    "Complete the function below which takes a list of party attendees as well as a person, and tells us whether that person is fashionably late."
   ]
  },
  {
   "cell_type": "code",
   "execution_count": 10,
   "metadata": {
    "execution": {
     "iopub.execute_input": "2021-02-05T13:14:21.928276Z",
     "iopub.status.busy": "2021-02-05T13:14:21.927231Z",
     "iopub.status.idle": "2021-02-05T13:14:21.936028Z",
     "shell.execute_reply": "2021-02-05T13:14:21.935314Z"
    },
    "papermill": {
     "duration": 0.040639,
     "end_time": "2021-02-05T13:14:21.936193",
     "exception": false,
     "start_time": "2021-02-05T13:14:21.895554",
     "status": "completed"
    },
    "tags": []
   },
   "outputs": [
    {
     "name": "stdout",
     "output_type": "stream",
     "text": [
      "False\n",
      "True\n",
      "True\n",
      "False\n"
     ]
    },
    {
     "data": {
      "application/javascript": [
       "parent.postMessage({\"jupyterEvent\": \"custom.exercise_interaction\", \"data\": {\"outcomeType\": 1, \"valueTowardsCompletion\": 0.2, \"interactionType\": 1, \"questionType\": 2, \"questionId\": \"5_FashionablyLate\", \"learnToolsVersion\": \"0.3.4\", \"failureMessage\": \"\", \"exceptionClass\": \"\", \"trace\": \"\"}}, \"*\")"
      ],
      "text/plain": [
       "<IPython.core.display.Javascript object>"
      ]
     },
     "metadata": {},
     "output_type": "display_data"
    },
    {
     "data": {
      "text/markdown": [
       "<span style=\"color:#33cc33\">Correct</span>"
      ],
      "text/plain": [
       "Correct"
      ]
     },
     "metadata": {},
     "output_type": "display_data"
    }
   ],
   "source": [
    "def fashionably_late(arrivals, name):\n",
    "    \"\"\"Given an ordered list of arrivals to the party and a name, return whether the guest with that\n",
    "    name was fashionably late.\n",
    "    \"\"\"\n",
    "    place = arrivals.index(name)\n",
    "    \n",
    "### An alternative way\n",
    "#    if (place >= (len(arrivals) / 2)) and (place != (len(arrivals) - 1)):\n",
    "#        return True\n",
    "#    else:\n",
    "#        return False\n",
    "\n",
    "    return place >= len(arrivals) / 2 and place != len(arrivals) - 1\n",
    "\n",
    "#Testing example\n",
    "party_attendees = ['Adela', 'Fleda', 'Owen', 'May', 'Mona', 'Gilbert', 'Ford']\n",
    "print(fashionably_late(party_attendees, 'May')) # false\n",
    "print(fashionably_late(party_attendees, 'Mona')) # true\n",
    "print(fashionably_late(party_attendees, 'Gilbert')) # true\n",
    "print(fashionably_late(party_attendees, 'Ford')) # false\n",
    "\n",
    "# Check your answer\n",
    "q5.check()"
   ]
  },
  {
   "cell_type": "code",
   "execution_count": 11,
   "metadata": {
    "execution": {
     "iopub.execute_input": "2021-02-05T13:14:21.991783Z",
     "iopub.status.busy": "2021-02-05T13:14:21.990794Z",
     "iopub.status.idle": "2021-02-05T13:14:21.997217Z",
     "shell.execute_reply": "2021-02-05T13:14:21.996612Z"
    },
    "papermill": {
     "duration": 0.036223,
     "end_time": "2021-02-05T13:14:21.997368",
     "exception": false,
     "start_time": "2021-02-05T13:14:21.961145",
     "status": "completed"
    },
    "tags": []
   },
   "outputs": [
    {
     "data": {
      "application/javascript": [
       "parent.postMessage({\"jupyterEvent\": \"custom.exercise_interaction\", \"data\": {\"interactionType\": 2, \"questionType\": 2, \"questionId\": \"5_FashionablyLate\", \"learnToolsVersion\": \"0.3.4\", \"valueTowardsCompletion\": 0.0, \"failureMessage\": \"\", \"exceptionClass\": \"\", \"trace\": \"\", \"outcomeType\": 4}}, \"*\")"
      ],
      "text/plain": [
       "<IPython.core.display.Javascript object>"
      ]
     },
     "metadata": {},
     "output_type": "display_data"
    },
    {
     "data": {
      "text/markdown": [
       "<span style=\"color:#3366cc\">Hint:</span> Use the index method to find when the person arrived. Check whether that is a fashionably late spot given the list length (`len`). Think about 0-indexing"
      ],
      "text/plain": [
       "Hint: Use the index method to find when the person arrived. Check whether that is a fashionably late spot given the list length (`len`). Think about 0-indexing"
      ]
     },
     "metadata": {},
     "output_type": "display_data"
    }
   ],
   "source": [
    "q5.hint()\n",
    "#q5.solution()"
   ]
  },
  {
   "cell_type": "markdown",
   "metadata": {
    "papermill": {
     "duration": 0.025913,
     "end_time": "2021-02-05T13:14:22.049595",
     "exception": false,
     "start_time": "2021-02-05T13:14:22.023682",
     "status": "completed"
    },
    "tags": []
   },
   "source": [
    "# Keep Going\n",
    "\n",
    "That's it for lists and tuples! Now you have the baseline knowledge to **[learn about loops](https://www.kaggle.com/colinmorris/loops-and-list-comprehensions)**, which is where lists and tuples get really interesting. "
   ]
  },
  {
   "cell_type": "markdown",
   "metadata": {
    "papermill": {
     "duration": 0.025685,
     "end_time": "2021-02-05T13:14:22.101380",
     "exception": false,
     "start_time": "2021-02-05T13:14:22.075695",
     "status": "completed"
    },
    "tags": []
   },
   "source": [
    "---\n",
    "\n",
    "\n",
    "\n",
    "\n",
    "*Have questions or comments? Visit the [Learn Discussion forum](https://www.kaggle.com/learn-forum/161283) to chat with other Learners.*"
   ]
  }
 ],
 "metadata": {
  "kernelspec": {
   "display_name": "Python 3",
   "language": "python",
   "name": "python3"
  },
  "language_info": {
   "codemirror_mode": {
    "name": "ipython",
    "version": 2
   },
   "file_extension": ".py",
   "mimetype": "text/x-python",
   "name": "python",
   "nbconvert_exporter": "python",
   "pygments_lexer": "ipython2",
   "version": "2.7.17"
  },
  "papermill": {
   "default_parameters": {},
   "duration": 8.852424,
   "end_time": "2021-02-05T13:14:23.717617",
   "environment_variables": {},
   "exception": null,
   "input_path": "__notebook__.ipynb",
   "output_path": "__notebook__.ipynb",
   "parameters": {},
   "start_time": "2021-02-05T13:14:14.865193",
   "version": "2.2.2"
  }
 },
 "nbformat": 4,
 "nbformat_minor": 4
}
