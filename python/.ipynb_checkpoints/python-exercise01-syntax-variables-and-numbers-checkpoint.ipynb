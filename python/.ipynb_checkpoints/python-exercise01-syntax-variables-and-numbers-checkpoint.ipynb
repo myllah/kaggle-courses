{
 "cells": [
  {
   "cell_type": "markdown",
   "metadata": {
    "papermill": {
     "duration": 0.019259,
     "end_time": "2021-02-03T18:06:55.982161",
     "exception": false,
     "start_time": "2021-02-03T18:06:55.962902",
     "status": "completed"
    },
    "tags": []
   },
   "source": [
    "### Python-Exercise01: Syntax, Variables, and Numbers"
   ]
  },
  {
   "cell_type": "markdown",
   "metadata": {
    "papermill": {
     "duration": 0.017522,
     "end_time": "2021-02-03T18:06:56.017886",
     "exception": false,
     "start_time": "2021-02-03T18:06:56.000364",
     "status": "completed"
    },
    "tags": []
   },
   "source": [
    "**This notebook is an exercise in the [Python](https://www.kaggle.com/learn/python) course.  You can reference the tutorial at [this link](https://www.kaggle.com/colinmorris/hello-python).**\n",
    "\n",
    "> **This notebook is the first exercise in the [Python](https://www.kaggle.com/learn/python)  course. <span style = \"padding: 10px\"> It is the exercise of the first lesson, aka \"Hello, Python\".**"
   ]
  },
  {
   "cell_type": "markdown",
   "metadata": {
    "papermill": {
     "duration": 0.017028,
     "end_time": "2021-02-03T18:06:56.052518",
     "exception": false,
     "start_time": "2021-02-03T18:06:56.035490",
     "status": "completed"
    },
    "tags": []
   },
   "source": [
    "# Exercises"
   ]
  },
  {
   "cell_type": "markdown",
   "metadata": {
    "papermill": {
     "duration": 0.017234,
     "end_time": "2021-02-03T18:06:56.087421",
     "exception": false,
     "start_time": "2021-02-03T18:06:56.070187",
     "status": "completed"
    },
    "tags": []
   },
   "source": [
    "Welcome to your first set of Python coding problems! \n",
    "\n",
    "If this is your first time using Kaggle Notebooks, welcome! \n",
    "\n",
    "Notebooks are composed of blocks (called \"cells\") of text and code. Each of these is editable, though you'll mainly be editing the code cells to answer some questions.\n",
    "\n",
    "To get started, try running the code cell below (by pressing the ► button, or clicking on the cell and pressing ctrl+enter on your keyboard)."
   ]
  },
  {
   "cell_type": "code",
   "execution_count": 1,
   "metadata": {
    "execution": {
     "iopub.execute_input": "2021-02-03T18:06:56.129019Z",
     "iopub.status.busy": "2021-02-03T18:06:56.128315Z",
     "iopub.status.idle": "2021-02-03T18:06:56.132237Z",
     "shell.execute_reply": "2021-02-03T18:06:56.132773Z"
    },
    "papermill": {
     "duration": 0.028048,
     "end_time": "2021-02-03T18:06:56.133123",
     "exception": false,
     "start_time": "2021-02-03T18:06:56.105075",
     "status": "completed"
    },
    "tags": []
   },
   "outputs": [
    {
     "name": "stdout",
     "output_type": "stream",
     "text": [
      "You've successfully run some Python code\n",
      "Congratulations!\n",
      "Hello!!\n"
     ]
    }
   ],
   "source": [
    "print(\"You've successfully run some Python code\")\n",
    "print(\"Congratulations!\")\n",
    "print(\"Hello!!\")"
   ]
  },
  {
   "cell_type": "code",
   "execution_count": 2,
   "metadata": {
    "execution": {
     "iopub.execute_input": "2021-02-03T18:06:56.176000Z",
     "iopub.status.busy": "2021-02-03T18:06:56.175307Z",
     "iopub.status.idle": "2021-02-03T18:06:56.181824Z",
     "shell.execute_reply": "2021-02-03T18:06:56.180858Z"
    },
    "papermill": {
     "duration": 0.029123,
     "end_time": "2021-02-03T18:06:56.182091",
     "exception": false,
     "start_time": "2021-02-03T18:06:56.152968",
     "status": "completed"
    },
    "tags": []
   },
   "outputs": [
    {
     "name": "stdout",
     "output_type": "stream",
     "text": [
      "this cell is above\n"
     ]
    }
   ],
   "source": [
    "print(\"this cell is above\")"
   ]
  },
  {
   "cell_type": "markdown",
   "metadata": {
    "papermill": {
     "duration": 0.018293,
     "end_time": "2021-02-03T18:06:56.220897",
     "exception": false,
     "start_time": "2021-02-03T18:06:56.202604",
     "status": "completed"
    },
    "tags": []
   },
   "source": [
    "Try adding another line of code in the cell above and re-running it. \n",
    "\n",
    "Now let's get a little fancier:  Add a new code cell by clicking on an existing code cell, hitting the escape key, and then hitting the `a` or `b` key.  The `a` key will add a cell above the current cell, and `b` adds a cell below.\n",
    "\n",
    "Great! Now you know how to use Notebooks.\n",
    "\n",
    "Each hands-on exercise starts by setting up our feedback and code checking mechanism. Run the code cell below to do that. Then you'll be ready to move on to question 0."
   ]
  },
  {
   "cell_type": "code",
   "execution_count": 3,
   "metadata": {
    "execution": {
     "iopub.execute_input": "2021-02-03T18:06:56.263758Z",
     "iopub.status.busy": "2021-02-03T18:06:56.263003Z",
     "iopub.status.idle": "2021-02-03T18:06:56.266741Z",
     "shell.execute_reply": "2021-02-03T18:06:56.265845Z"
    },
    "papermill": {
     "duration": 0.027193,
     "end_time": "2021-02-03T18:06:56.266941",
     "exception": false,
     "start_time": "2021-02-03T18:06:56.239748",
     "status": "completed"
    },
    "tags": []
   },
   "outputs": [
    {
     "name": "stdout",
     "output_type": "stream",
     "text": [
      "this cell is below\n"
     ]
    }
   ],
   "source": [
    "print(\"this cell is below\")"
   ]
  },
  {
   "cell_type": "code",
   "execution_count": 7,
   "metadata": {
    "_kg_hide-input": true,
    "_kg_hide-output": true,
    "execution": {
     "iopub.execute_input": "2021-02-03T18:06:56.311373Z",
     "iopub.status.busy": "2021-02-03T18:06:56.310574Z",
     "iopub.status.idle": "2021-02-03T18:06:56.355328Z",
     "shell.execute_reply": "2021-02-03T18:06:56.354604Z"
    },
    "papermill": {
     "duration": 0.068832,
     "end_time": "2021-02-03T18:06:56.355559",
     "exception": false,
     "start_time": "2021-02-03T18:06:56.286727",
     "status": "completed"
    },
    "tags": []
   },
   "outputs": [],
   "source": [
    "#from learntools.core import binder; binder.bind(globals())\n",
    "#from learntools.python.ex1 import *\n",
    "#print(\"Setup complete! You're ready to start question 0.\")"
   ]
  },
  {
   "cell_type": "markdown",
   "metadata": {
    "papermill": {
     "duration": 0.019607,
     "end_time": "2021-02-03T18:06:56.395428",
     "exception": false,
     "start_time": "2021-02-03T18:06:56.375821",
     "status": "completed"
    },
    "tags": []
   },
   "source": [
    "## 0.\n",
    "\n",
    "*This is a silly question intended as an introduction to the format we use for hands-on exercises throughout all Kaggle courses.*\n",
    "\n",
    "**What is your favorite color? **\n",
    "\n",
    "To complete this question, create a variable called `color` in the cell below with an appropriate value. The function call `q0.check()` (which we've already provided in the cell below) will check your answer."
   ]
  },
  {
   "cell_type": "code",
   "execution_count": 9,
   "metadata": {
    "execution": {
     "iopub.execute_input": "2021-02-03T18:06:56.441681Z",
     "iopub.status.busy": "2021-02-03T18:06:56.441019Z",
     "iopub.status.idle": "2021-02-03T18:06:56.445532Z",
     "shell.execute_reply": "2021-02-03T18:06:56.446052Z"
    },
    "papermill": {
     "duration": 0.031282,
     "end_time": "2021-02-03T18:06:56.446230",
     "exception": false,
     "start_time": "2021-02-03T18:06:56.414948",
     "status": "completed"
    },
    "tags": []
   },
   "outputs": [],
   "source": [
    "#color = \"sky-blue\"\n",
    "color = \"blue\"\n",
    "\n",
    "#q0.check()"
   ]
  },
  {
   "cell_type": "markdown",
   "metadata": {
    "papermill": {
     "duration": 0.021304,
     "end_time": "2021-02-03T18:06:56.488245",
     "exception": false,
     "start_time": "2021-02-03T18:06:56.466941",
     "status": "completed"
    },
    "tags": []
   },
   "source": [
    "Didn't get the right answer? How do you not even know your own favorite color?!\n",
    "\n",
    "Delete the `#` in the line below to make one of the lines run. You can choose between getting a hint or the full answer by choosing which line to remove the `#` from. \n",
    "\n",
    "Removing the `#` is called uncommenting, because it changes that line from a \"comment\" which Python doesn't run to code, which Python does run."
   ]
  },
  {
   "cell_type": "code",
   "execution_count": 10,
   "metadata": {
    "execution": {
     "iopub.execute_input": "2021-02-03T18:06:56.533527Z",
     "iopub.status.busy": "2021-02-03T18:06:56.532911Z",
     "iopub.status.idle": "2021-02-03T18:06:56.541125Z",
     "shell.execute_reply": "2021-02-03T18:06:56.541834Z"
    },
    "papermill": {
     "duration": 0.032613,
     "end_time": "2021-02-03T18:06:56.542029",
     "exception": false,
     "start_time": "2021-02-03T18:06:56.509416",
     "status": "completed"
    },
    "tags": []
   },
   "outputs": [
    {
     "ename": "NameError",
     "evalue": "name 'q0' is not defined",
     "output_type": "error",
     "traceback": [
      "\u001b[0;31m---------------------------------------------------------------------------\u001b[0m",
      "\u001b[0;31mNameError\u001b[0m                                 Traceback (most recent call last)",
      "\u001b[0;32m<ipython-input-10-48e1c04d93cd>\u001b[0m in \u001b[0;36m<module>\u001b[0;34m()\u001b[0m\n\u001b[0;32m----> 1\u001b[0;31m \u001b[0mq0\u001b[0m\u001b[0;34m.\u001b[0m\u001b[0mhint\u001b[0m\u001b[0;34m(\u001b[0m\u001b[0;34m)\u001b[0m\u001b[0;34m\u001b[0m\u001b[0m\n\u001b[0m\u001b[1;32m      2\u001b[0m \u001b[0mq0\u001b[0m\u001b[0;34m.\u001b[0m\u001b[0msolution\u001b[0m\u001b[0;34m(\u001b[0m\u001b[0;34m)\u001b[0m\u001b[0;34m\u001b[0m\u001b[0m\n",
      "\u001b[0;31mNameError\u001b[0m: name 'q0' is not defined"
     ]
    }
   ],
   "source": [
    "q0.hint()\n",
    "q0.solution()"
   ]
  },
  {
   "cell_type": "markdown",
   "metadata": {
    "papermill": {
     "duration": 0.022167,
     "end_time": "2021-02-03T18:06:56.586517",
     "exception": false,
     "start_time": "2021-02-03T18:06:56.564350",
     "status": "completed"
    },
    "tags": []
   },
   "source": [
    "The upcoming questions work the same way. The only thing that will change are the question numbers. For the next question, you'll call `q1.check()`, `q1.hint()`, `q1.solution()`, for question 2, you'll call `q2.check()`, and so on."
   ]
  },
  {
   "cell_type": "markdown",
   "metadata": {
    "papermill": {
     "duration": 0.022438,
     "end_time": "2021-02-03T18:06:56.631389",
     "exception": false,
     "start_time": "2021-02-03T18:06:56.608951",
     "status": "completed"
    },
    "tags": []
   },
   "source": [
    "<hr/>\n",
    "\n",
    "## 1.\n",
    "\n",
    "Complete the code below. In case it's helpful, here is the table of available arithmetic operations:\n",
    "\n",
    "\n",
    "\n",
    "| Operator     | Name           | Description                                            |\n",
    "|--------------|----------------|--------------------------------------------------------|\n",
    "| ``a + b``    | Addition       | Sum of ``a`` and ``b``                                 |\n",
    "| ``a - b``    | Subtraction    | Difference of ``a`` and ``b``                          |\n",
    "| ``a * b``    | Multiplication | Product of ``a`` and ``b``                             |\n",
    "| ``a / b``    | True division  | Quotient of ``a`` and ``b``                            |\n",
    "| ``a // b``   | Floor division | Quotient of ``a`` and ``b``, removing fractional parts |\n",
    "| ``a % b``    | Modulus        | Integer remainder after division of ``a`` by ``b``     |\n",
    "| ``a ** b``   | Exponentiation | ``a`` raised to the power of ``b``                     |\n",
    "| ``-a``       | Negation       | The negative of ``a``                                  |\n",
    "\n",
    "<span style=\"display:none\"></span>\n"
   ]
  },
  {
   "cell_type": "code",
   "execution_count": 7,
   "metadata": {
    "execution": {
     "iopub.execute_input": "2021-02-03T18:06:56.680273Z",
     "iopub.status.busy": "2021-02-03T18:06:56.679620Z",
     "iopub.status.idle": "2021-02-03T18:06:56.687196Z",
     "shell.execute_reply": "2021-02-03T18:06:56.687734Z"
    },
    "papermill": {
     "duration": 0.033895,
     "end_time": "2021-02-03T18:06:56.687977",
     "exception": false,
     "start_time": "2021-02-03T18:06:56.654082",
     "status": "completed"
    },
    "tags": []
   },
   "outputs": [
    {
     "data": {
      "application/javascript": [
       "parent.postMessage({\"jupyterEvent\": \"custom.exercise_interaction\", \"data\": {\"outcomeType\": 1, \"valueTowardsCompletion\": 0.25, \"interactionType\": 1, \"questionType\": 1, \"questionId\": \"1_CircleArea\", \"learnToolsVersion\": \"0.3.4\", \"failureMessage\": \"\", \"exceptionClass\": \"\", \"trace\": \"\"}}, \"*\")"
      ],
      "text/plain": [
       "<IPython.core.display.Javascript object>"
      ]
     },
     "metadata": {},
     "output_type": "display_data"
    },
    {
     "data": {
      "text/markdown": [
       "<span style=\"color:#33cc33\">Correct</span>"
      ],
      "text/plain": [
       "Correct"
      ]
     },
     "metadata": {},
     "output_type": "display_data"
    }
   ],
   "source": [
    "pi = 3.14159 # approximate\n",
    "diameter = 3\n",
    "\n",
    "# Create a variable called 'radius' equal to half the diameter\n",
    "radius = diameter / 2\n",
    "\n",
    "# Create a variable called 'area', using the formula for the area of a circle: pi times the radius squared\n",
    "area = pi * (radius ** 2)\n",
    "\n",
    "# Check your answer\n",
    "q1.check()"
   ]
  },
  {
   "cell_type": "code",
   "execution_count": 8,
   "metadata": {
    "execution": {
     "iopub.execute_input": "2021-02-03T18:06:56.739756Z",
     "iopub.status.busy": "2021-02-03T18:06:56.739073Z",
     "iopub.status.idle": "2021-02-03T18:06:56.741965Z",
     "shell.execute_reply": "2021-02-03T18:06:56.742582Z"
    },
    "papermill": {
     "duration": 0.030649,
     "end_time": "2021-02-03T18:06:56.742797",
     "exception": false,
     "start_time": "2021-02-03T18:06:56.712148",
     "status": "completed"
    },
    "tags": []
   },
   "outputs": [],
   "source": [
    "# Uncomment and run the lines below if you need help.\n",
    "#q1.hint()\n",
    "#q1.solution()"
   ]
  },
  {
   "cell_type": "markdown",
   "metadata": {
    "papermill": {
     "duration": 0.023494,
     "end_time": "2021-02-03T18:06:56.790288",
     "exception": false,
     "start_time": "2021-02-03T18:06:56.766794",
     "status": "completed"
    },
    "tags": []
   },
   "source": [
    "<hr/>\n",
    "## 2.\n",
    "\n",
    "Add code to the following cell to swap variables `a` and `b` (so that `a` refers to the object previously referred to by `b` and vice versa)."
   ]
  },
  {
   "cell_type": "code",
   "execution_count": 9,
   "metadata": {
    "execution": {
     "iopub.execute_input": "2021-02-03T18:06:56.842123Z",
     "iopub.status.busy": "2021-02-03T18:06:56.841482Z",
     "iopub.status.idle": "2021-02-03T18:06:56.849413Z",
     "shell.execute_reply": "2021-02-03T18:06:56.848904Z"
    },
    "papermill": {
     "duration": 0.035402,
     "end_time": "2021-02-03T18:06:56.849580",
     "exception": false,
     "start_time": "2021-02-03T18:06:56.814178",
     "status": "completed"
    },
    "tags": []
   },
   "outputs": [
    {
     "data": {
      "application/javascript": [
       "parent.postMessage({\"jupyterEvent\": \"custom.exercise_interaction\", \"data\": {\"outcomeType\": 1, \"valueTowardsCompletion\": 0.25, \"interactionType\": 1, \"questionType\": 2, \"questionId\": \"2_VariableSwap\", \"learnToolsVersion\": \"0.3.4\", \"failureMessage\": \"\", \"exceptionClass\": \"\", \"trace\": \"\"}}, \"*\")"
      ],
      "text/plain": [
       "<IPython.core.display.Javascript object>"
      ]
     },
     "metadata": {},
     "output_type": "display_data"
    },
    {
     "data": {
      "text/markdown": [
       "<span style=\"color:#33cc33\">Correct:</span> \n",
       "\n",
       "The most straightforward solution is to use a third variable to temporarily store one of the old values. e.g.:\n",
       "\n",
       "    tmp = a\n",
       "    a = b\n",
       "    b = tmp\n",
       "\n",
       "If you've read lots of Python code, you might have seen the following trick to swap two variables in one line:\n",
       "\n",
       "    a, b = b, a\n",
       "\n",
       "We'll demystify this bit of Python magic later when we talk about *tuples*."
      ],
      "text/plain": [
       "Correct: \n",
       "\n",
       "The most straightforward solution is to use a third variable to temporarily store one of the old values. e.g.:\n",
       "\n",
       "    tmp = a\n",
       "    a = b\n",
       "    b = tmp\n",
       "\n",
       "If you've read lots of Python code, you might have seen the following trick to swap two variables in one line:\n",
       "\n",
       "    a, b = b, a\n",
       "\n",
       "We'll demystify this bit of Python magic later when we talk about *tuples*."
      ]
     },
     "metadata": {},
     "output_type": "display_data"
    }
   ],
   "source": [
    "########### Setup code - don't touch this part ######################\n",
    "# If you're curious, these are examples of lists. We'll talk about \n",
    "# them in depth a few lessons from now. For now, just know that they're\n",
    "# yet another type of Python object, like int or float.\n",
    "a = [1, 2, 3]\n",
    "b = [3, 2, 1]\n",
    "q2.store_original_ids()\n",
    "######################################################################\n",
    "\n",
    "# Your code goes here. Swap the values to which a and b refer.\n",
    "# If you get stuck, you can always uncomment one or both of the lines in\n",
    "# the next cell for a hint, or to peek at the solution.\n",
    "c = a\n",
    "a = b\n",
    "b = c\n",
    "\n",
    "######################################################################\n",
    "\n",
    "# Check your answer\n",
    "q2.check()"
   ]
  },
  {
   "cell_type": "code",
   "execution_count": 10,
   "metadata": {
    "execution": {
     "iopub.execute_input": "2021-02-03T18:06:56.903999Z",
     "iopub.status.busy": "2021-02-03T18:06:56.903302Z",
     "iopub.status.idle": "2021-02-03T18:06:56.905062Z",
     "shell.execute_reply": "2021-02-03T18:06:56.905531Z"
    },
    "papermill": {
     "duration": 0.031408,
     "end_time": "2021-02-03T18:06:56.905701",
     "exception": false,
     "start_time": "2021-02-03T18:06:56.874293",
     "status": "completed"
    },
    "tags": []
   },
   "outputs": [],
   "source": [
    "#q2.hint()"
   ]
  },
  {
   "cell_type": "code",
   "execution_count": 11,
   "metadata": {
    "execution": {
     "iopub.execute_input": "2021-02-03T18:06:56.958835Z",
     "iopub.status.busy": "2021-02-03T18:06:56.958177Z",
     "iopub.status.idle": "2021-02-03T18:06:56.961386Z",
     "shell.execute_reply": "2021-02-03T18:06:56.961966Z"
    },
    "papermill": {
     "duration": 0.031285,
     "end_time": "2021-02-03T18:06:56.962172",
     "exception": false,
     "start_time": "2021-02-03T18:06:56.930887",
     "status": "completed"
    },
    "tags": []
   },
   "outputs": [],
   "source": [
    "#q2.solution()"
   ]
  },
  {
   "cell_type": "markdown",
   "metadata": {
    "papermill": {
     "duration": 0.025005,
     "end_time": "2021-02-03T18:06:57.013055",
     "exception": false,
     "start_time": "2021-02-03T18:06:56.988050",
     "status": "completed"
    },
    "tags": []
   },
   "source": [
    "<hr/>\n",
    "## 3.\n",
    "\n",
    "a) Add parentheses to the following expression so that it evaluates to 1."
   ]
  },
  {
   "cell_type": "code",
   "execution_count": 12,
   "metadata": {
    "execution": {
     "iopub.execute_input": "2021-02-03T18:06:57.066630Z",
     "iopub.status.busy": "2021-02-03T18:06:57.065826Z",
     "iopub.status.idle": "2021-02-03T18:06:57.070539Z",
     "shell.execute_reply": "2021-02-03T18:06:57.071060Z"
    },
    "papermill": {
     "duration": 0.032841,
     "end_time": "2021-02-03T18:06:57.071243",
     "exception": false,
     "start_time": "2021-02-03T18:06:57.038402",
     "status": "completed"
    },
    "tags": []
   },
   "outputs": [
    {
     "data": {
      "text/plain": [
       "1"
      ]
     },
     "execution_count": 12,
     "metadata": {},
     "output_type": "execute_result"
    }
   ],
   "source": [
    "(5 - 3) // 2"
   ]
  },
  {
   "cell_type": "code",
   "execution_count": 13,
   "metadata": {
    "execution": {
     "iopub.execute_input": "2021-02-03T18:06:57.125838Z",
     "iopub.status.busy": "2021-02-03T18:06:57.125179Z",
     "iopub.status.idle": "2021-02-03T18:06:57.129663Z",
     "shell.execute_reply": "2021-02-03T18:06:57.129121Z"
    },
    "papermill": {
     "duration": 0.032694,
     "end_time": "2021-02-03T18:06:57.129811",
     "exception": false,
     "start_time": "2021-02-03T18:06:57.097117",
     "status": "completed"
    },
    "tags": []
   },
   "outputs": [],
   "source": [
    "#q3.a.hint()"
   ]
  },
  {
   "cell_type": "code",
   "execution_count": 14,
   "metadata": {
    "execution": {
     "iopub.execute_input": "2021-02-03T18:06:57.185065Z",
     "iopub.status.busy": "2021-02-03T18:06:57.184343Z",
     "iopub.status.idle": "2021-02-03T18:06:57.191193Z",
     "shell.execute_reply": "2021-02-03T18:06:57.191680Z"
    },
    "papermill": {
     "duration": 0.036285,
     "end_time": "2021-02-03T18:06:57.191862",
     "exception": false,
     "start_time": "2021-02-03T18:06:57.155577",
     "status": "completed"
    },
    "tags": []
   },
   "outputs": [
    {
     "data": {
      "application/javascript": [
       "parent.postMessage({\"jupyterEvent\": \"custom.exercise_interaction\", \"data\": {\"interactionType\": 3, \"questionType\": 4, \"questionId\": \"3.1_ArithmeticParensEasy\", \"learnToolsVersion\": \"0.3.4\", \"valueTowardsCompletion\": 0.0, \"failureMessage\": \"\", \"exceptionClass\": \"\", \"trace\": \"\", \"outcomeType\": 4}}, \"*\")"
      ],
      "text/plain": [
       "<IPython.core.display.Javascript object>"
      ]
     },
     "metadata": {},
     "output_type": "display_data"
    },
    {
     "data": {
      "text/markdown": [
       "<span style=\"color:#33cc99\">Solution:</span> \n",
       "```python\n",
       "(5 - 3) // 2\n",
       "```"
      ],
      "text/plain": [
       "Solution: \n",
       "```python\n",
       "(5 - 3) // 2\n",
       "```"
      ]
     },
     "metadata": {},
     "output_type": "display_data"
    }
   ],
   "source": [
    "# Check your answer (Run this code cell to receive credit!)\n",
    "q3.a.solution()"
   ]
  },
  {
   "cell_type": "markdown",
   "metadata": {
    "papermill": {
     "duration": 0.026619,
     "end_time": "2021-02-03T18:06:57.246362",
     "exception": false,
     "start_time": "2021-02-03T18:06:57.219743",
     "status": "completed"
    },
    "tags": []
   },
   "source": [
    "<small>Questions, like this one, marked a spicy pepper are a bit harder.</small>\n",
    "\n",
    "b) <span title=\"A bit spicy\" style=\"color: darkgreen \">🌶️</span> Add parentheses to the following expression so that it evaluates to 0\n"
   ]
  },
  {
   "cell_type": "code",
   "execution_count": 15,
   "metadata": {
    "execution": {
     "iopub.execute_input": "2021-02-03T18:06:57.304222Z",
     "iopub.status.busy": "2021-02-03T18:06:57.303238Z",
     "iopub.status.idle": "2021-02-03T18:06:57.309520Z",
     "shell.execute_reply": "2021-02-03T18:06:57.309007Z"
    },
    "papermill": {
     "duration": 0.036303,
     "end_time": "2021-02-03T18:06:57.309664",
     "exception": false,
     "start_time": "2021-02-03T18:06:57.273361",
     "status": "completed"
    },
    "tags": []
   },
   "outputs": [
    {
     "data": {
      "text/plain": [
       "0"
      ]
     },
     "execution_count": 15,
     "metadata": {},
     "output_type": "execute_result"
    }
   ],
   "source": [
    "8 - (3 * 2) - (1 + 1)"
   ]
  },
  {
   "cell_type": "code",
   "execution_count": 16,
   "metadata": {
    "execution": {
     "iopub.execute_input": "2021-02-03T18:06:57.368775Z",
     "iopub.status.busy": "2021-02-03T18:06:57.368007Z",
     "iopub.status.idle": "2021-02-03T18:06:57.370922Z",
     "shell.execute_reply": "2021-02-03T18:06:57.370383Z"
    },
    "papermill": {
     "duration": 0.034201,
     "end_time": "2021-02-03T18:06:57.371082",
     "exception": false,
     "start_time": "2021-02-03T18:06:57.336881",
     "status": "completed"
    },
    "tags": []
   },
   "outputs": [],
   "source": [
    "#q3.b.hint()"
   ]
  },
  {
   "cell_type": "code",
   "execution_count": 17,
   "metadata": {
    "execution": {
     "iopub.execute_input": "2021-02-03T18:06:57.431340Z",
     "iopub.status.busy": "2021-02-03T18:06:57.430384Z",
     "iopub.status.idle": "2021-02-03T18:06:57.436154Z",
     "shell.execute_reply": "2021-02-03T18:06:57.436681Z"
    },
    "papermill": {
     "duration": 0.038502,
     "end_time": "2021-02-03T18:06:57.436865",
     "exception": false,
     "start_time": "2021-02-03T18:06:57.398363",
     "status": "completed"
    },
    "tags": []
   },
   "outputs": [
    {
     "data": {
      "application/javascript": [
       "parent.postMessage({\"jupyterEvent\": \"custom.exercise_interaction\", \"data\": {\"interactionType\": 3, \"questionType\": 4, \"questionId\": \"3.2_ArithmeticParensHard\", \"learnToolsVersion\": \"0.3.4\", \"valueTowardsCompletion\": 0.0, \"failureMessage\": \"\", \"exceptionClass\": \"\", \"trace\": \"\", \"outcomeType\": 4}}, \"*\")"
      ],
      "text/plain": [
       "<IPython.core.display.Javascript object>"
      ]
     },
     "metadata": {},
     "output_type": "display_data"
    },
    {
     "data": {
      "text/markdown": [
       "<span style=\"color:#33cc99\">Solution:</span> `(8 - 3) * (2 - (1 + 1))` is one solution. There may be others."
      ],
      "text/plain": [
       "Solution: `(8 - 3) * (2 - (1 + 1))` is one solution. There may be others."
      ]
     },
     "metadata": {},
     "output_type": "display_data"
    }
   ],
   "source": [
    "# Check your answer (Run this code cell to receive credit!)\n",
    "q3.b.solution()"
   ]
  },
  {
   "cell_type": "markdown",
   "metadata": {
    "papermill": {
     "duration": 0.02939,
     "end_time": "2021-02-03T18:06:57.498940",
     "exception": false,
     "start_time": "2021-02-03T18:06:57.469550",
     "status": "completed"
    },
    "tags": []
   },
   "source": [
    "<hr/>\n",
    "## 4. \n",
    "Alice, Bob and Carol have agreed to pool their Halloween candy and split it evenly among themselves.\n",
    "For the sake of their friendship, any candies left over will be smashed. For example, if they collectively\n",
    "bring home 91 candies, they'll take 30 each and smash 1.\n",
    "\n",
    "Write an arithmetic expression below to calculate how many candies they must smash for a given haul."
   ]
  },
  {
   "cell_type": "code",
   "execution_count": 18,
   "metadata": {
    "execution": {
     "iopub.execute_input": "2021-02-03T18:06:57.562466Z",
     "iopub.status.busy": "2021-02-03T18:06:57.561392Z",
     "iopub.status.idle": "2021-02-03T18:06:57.570118Z",
     "shell.execute_reply": "2021-02-03T18:06:57.569457Z"
    },
    "papermill": {
     "duration": 0.041773,
     "end_time": "2021-02-03T18:06:57.570273",
     "exception": false,
     "start_time": "2021-02-03T18:06:57.528500",
     "status": "completed"
    },
    "tags": []
   },
   "outputs": [
    {
     "data": {
      "application/javascript": [
       "parent.postMessage({\"jupyterEvent\": \"custom.exercise_interaction\", \"data\": {\"outcomeType\": 1, \"valueTowardsCompletion\": 0.25, \"interactionType\": 1, \"questionType\": 1, \"questionId\": \"4_CandySplitting\", \"learnToolsVersion\": \"0.3.4\", \"failureMessage\": \"\", \"exceptionClass\": \"\", \"trace\": \"\"}}, \"*\")"
      ],
      "text/plain": [
       "<IPython.core.display.Javascript object>"
      ]
     },
     "metadata": {},
     "output_type": "display_data"
    },
    {
     "data": {
      "text/markdown": [
       "<span style=\"color:#33cc33\">Correct</span>"
      ],
      "text/plain": [
       "Correct"
      ]
     },
     "metadata": {},
     "output_type": "display_data"
    }
   ],
   "source": [
    "# Variables representing the number of candies collected by alice, bob, and carol\n",
    "alice_candies = 121\n",
    "bob_candies = 77\n",
    "carol_candies = 109\n",
    "\n",
    "# Your code goes here! Replace the right-hand side of this assignment with an expression\n",
    "# involving alice_candies, bob_candies, and carol_candies\n",
    "to_smash = (alice_candies + bob_candies + carol_candies) % 3\n",
    "\n",
    "# Check your answer\n",
    "q4.check()"
   ]
  },
  {
   "cell_type": "code",
   "execution_count": 19,
   "metadata": {
    "execution": {
     "iopub.execute_input": "2021-02-03T18:06:57.635713Z",
     "iopub.status.busy": "2021-02-03T18:06:57.634686Z",
     "iopub.status.idle": "2021-02-03T18:06:57.638079Z",
     "shell.execute_reply": "2021-02-03T18:06:57.637467Z"
    },
    "papermill": {
     "duration": 0.037766,
     "end_time": "2021-02-03T18:06:57.638255",
     "exception": false,
     "start_time": "2021-02-03T18:06:57.600489",
     "status": "completed"
    },
    "tags": []
   },
   "outputs": [],
   "source": [
    "#q4.hint()\n",
    "#q4.solution()"
   ]
  },
  {
   "cell_type": "markdown",
   "metadata": {
    "papermill": {
     "duration": 0.030003,
     "end_time": "2021-02-03T18:06:57.698876",
     "exception": false,
     "start_time": "2021-02-03T18:06:57.668873",
     "status": "completed"
    },
    "tags": []
   },
   "source": [
    "# Keep Going\n",
    "\n",
    "Next up, you'll **[learn to write new functions and understand functions others write](https://www.kaggle.com/colinmorris/functions-and-getting-help)**. This will make you at least 10 times more productive as a Python programmer. "
   ]
  },
  {
   "cell_type": "markdown",
   "metadata": {
    "papermill": {
     "duration": 0.031848,
     "end_time": "2021-02-03T18:06:57.764623",
     "exception": false,
     "start_time": "2021-02-03T18:06:57.732775",
     "status": "completed"
    },
    "tags": []
   },
   "source": [
    "---\n",
    "\n",
    "\n",
    "\n",
    "\n",
    "*Have questions or comments? Visit the [Learn Discussion forum](https://www.kaggle.com/learn-forum/161283) to chat with other Learners.*"
   ]
  }
 ],
 "metadata": {
  "kernelspec": {
   "display_name": "Python 3",
   "language": "python",
   "name": "python3"
  },
  "language_info": {
   "codemirror_mode": {
    "name": "ipython",
    "version": 2
   },
   "file_extension": ".py",
   "mimetype": "text/x-python",
   "name": "python",
   "nbconvert_exporter": "python",
   "pygments_lexer": "ipython2",
   "version": "2.7.17"
  },
  "papermill": {
   "default_parameters": {},
   "duration": 7.953782,
   "end_time": "2021-02-03T18:06:58.406713",
   "environment_variables": {},
   "exception": null,
   "input_path": "__notebook__.ipynb",
   "output_path": "__notebook__.ipynb",
   "parameters": {},
   "start_time": "2021-02-03T18:06:50.452931",
   "version": "2.2.2"
  }
 },
 "nbformat": 4,
 "nbformat_minor": 4
}
