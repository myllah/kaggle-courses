{
 "cells": [
  {
   "cell_type": "markdown",
   "metadata": {
    "papermill": {
     "duration": 0.01357,
     "end_time": "2021-03-23T20:45:41.102787",
     "exception": false,
     "start_time": "2021-03-23T20:45:41.089217",
     "status": "completed"
    },
    "tags": []
   },
   "source": [
    "### Python-Exercise02: Functions and Getting Help\n"
   ]
  },
  {
   "cell_type": "markdown",
   "metadata": {
    "papermill": {
     "duration": 0.011226,
     "end_time": "2021-03-23T20:45:41.125788",
     "exception": false,
     "start_time": "2021-03-23T20:45:41.114562",
     "status": "completed"
    },
    "tags": []
   },
   "source": [
    "**This notebook is an exercise in the [Python](https://www.kaggle.com/learn/python) course.  You can reference the tutorial at [this link](https://www.kaggle.com/colinmorris/functions-and-getting-help).**\n",
    "\n",
    "> **This notebook is the second exercise in the [Python](https://www.kaggle.com/learn/python)  course. <span style = \"padding: 10px\"> It is the exercise of the second lesson, aka \"Functions and Getting Help\".**"
   ]
  },
  {
   "cell_type": "markdown",
   "metadata": {
    "papermill": {
     "duration": 0.011126,
     "end_time": "2021-03-23T20:45:41.148339",
     "exception": false,
     "start_time": "2021-03-23T20:45:41.137213",
     "status": "completed"
    },
    "tags": []
   },
   "source": [
    "# Try It Yourself\n",
    "\n",
    "Functions are powerful. Try writing some yourself.\n",
    "\n",
    "As before, don't forget to run the setup code below before jumping into question 1."
   ]
  },
  {
   "cell_type": "code",
   "execution_count": 1,
   "metadata": {
    "_kg_hide-input": true,
    "_kg_hide-output": true,
    "execution": {
     "iopub.execute_input": "2021-03-23T20:45:41.178189Z",
     "iopub.status.busy": "2021-03-23T20:45:41.177338Z",
     "iopub.status.idle": "2021-03-23T20:45:41.231713Z",
     "shell.execute_reply": "2021-03-23T20:45:41.232266Z"
    },
    "papermill": {
     "duration": 0.072163,
     "end_time": "2021-03-23T20:45:41.232575",
     "exception": false,
     "start_time": "2021-03-23T20:45:41.160412",
     "status": "completed"
    },
    "tags": []
   },
   "outputs": [
    {
     "name": "stdout",
     "output_type": "stream",
     "text": [
      "Setup complete.\n"
     ]
    }
   ],
   "source": [
    "# SETUP. You don't need to worry for now about what this code does or how it works.\n",
    "from learntools.core import binder; binder.bind(globals())\n",
    "from learntools.python.ex2 import *\n",
    "print('Setup complete.')"
   ]
  },
  {
   "cell_type": "markdown",
   "metadata": {
    "papermill": {
     "duration": 0.011677,
     "end_time": "2021-03-23T20:45:41.257241",
     "exception": false,
     "start_time": "2021-03-23T20:45:41.245564",
     "status": "completed"
    },
    "tags": []
   },
   "source": [
    "# Exercises"
   ]
  },
  {
   "cell_type": "markdown",
   "metadata": {
    "papermill": {
     "duration": 0.012808,
     "end_time": "2021-03-23T20:45:41.282635",
     "exception": false,
     "start_time": "2021-03-23T20:45:41.269827",
     "status": "completed"
    },
    "tags": []
   },
   "source": [
    "## 1.\n",
    "\n",
    "Complete the body of the following function according to its docstring.\n",
    "\n",
    "HINT: Python has a built-in function `round`."
   ]
  },
  {
   "cell_type": "code",
   "execution_count": 2,
   "metadata": {
    "execution": {
     "iopub.execute_input": "2021-03-23T20:45:41.311007Z",
     "iopub.status.busy": "2021-03-23T20:45:41.310035Z",
     "iopub.status.idle": "2021-03-23T20:45:41.324348Z",
     "shell.execute_reply": "2021-03-23T20:45:41.324834Z"
    },
    "papermill": {
     "duration": 0.030173,
     "end_time": "2021-03-23T20:45:41.325010",
     "exception": false,
     "start_time": "2021-03-23T20:45:41.294837",
     "status": "completed"
    },
    "tags": []
   },
   "outputs": [
    {
     "name": "stdout",
     "output_type": "stream",
     "text": [
      "3.14\n",
      "10.0\n",
      "1.23\n"
     ]
    },
    {
     "data": {
      "application/javascript": [
       "parent.postMessage({\"jupyterEvent\": \"custom.exercise_interaction\", \"data\": {\"outcomeType\": 1, \"valueTowardsCompletion\": 0.16666666666666666, \"interactionType\": 1, \"questionType\": 2, \"questionId\": \"1_RoundFunctionProblem\", \"learnToolsVersion\": \"0.3.4\", \"failureMessage\": \"\", \"exceptionClass\": \"\", \"trace\": \"\"}}, \"*\")"
      ],
      "text/plain": [
       "<IPython.core.display.Javascript object>"
      ]
     },
     "metadata": {},
     "output_type": "display_data"
    },
    {
     "data": {
      "text/markdown": [
       "<span style=\"color:#33cc33\">Correct</span>"
      ],
      "text/plain": [
       "Correct"
      ]
     },
     "metadata": {},
     "output_type": "display_data"
    }
   ],
   "source": [
    "def round_to_two_places(num):\n",
    "    \"\"\"Return the given number rounded to two decimal places. \n",
    "    \n",
    "    >>> round_to_two_places(3.14159)\n",
    "    3.14\n",
    "    \"\"\"\n",
    "    return round(num, 2);\n",
    "\n",
    "#help(round)\n",
    "print(round_to_two_places(3.14159))\n",
    "print(round_to_two_places(9.99999))\n",
    "print(round_to_two_places(1.23456789))\n",
    "\n",
    "# Check your answer\n",
    "q1.check()"
   ]
  },
  {
   "cell_type": "code",
   "execution_count": 3,
   "metadata": {
    "execution": {
     "iopub.execute_input": "2021-03-23T20:45:41.356593Z",
     "iopub.status.busy": "2021-03-23T20:45:41.355929Z",
     "iopub.status.idle": "2021-03-23T20:45:41.358274Z",
     "shell.execute_reply": "2021-03-23T20:45:41.358733Z"
    },
    "papermill": {
     "duration": 0.020315,
     "end_time": "2021-03-23T20:45:41.358929",
     "exception": false,
     "start_time": "2021-03-23T20:45:41.338614",
     "status": "completed"
    },
    "tags": []
   },
   "outputs": [],
   "source": [
    "# Uncomment the following for a hint\n",
    "#q1.hint()\n",
    "# Or uncomment the following to peek at the solution\n",
    "#q1.solution()"
   ]
  },
  {
   "cell_type": "markdown",
   "metadata": {
    "papermill": {
     "duration": 0.013423,
     "end_time": "2021-03-23T20:45:41.386202",
     "exception": false,
     "start_time": "2021-03-23T20:45:41.372779",
     "status": "completed"
    },
    "tags": []
   },
   "source": [
    "## 2.\n",
    "The help for `round` says that `ndigits` (the second argument) may be negative.\n",
    "What do you think will happen when it is? Try some examples in the following cell?\n",
    "\n",
    "Can you think of a case where this would be useful?"
   ]
  },
  {
   "cell_type": "code",
   "execution_count": 4,
   "metadata": {
    "execution": {
     "iopub.execute_input": "2021-03-23T20:45:41.417304Z",
     "iopub.status.busy": "2021-03-23T20:45:41.416429Z",
     "iopub.status.idle": "2021-03-23T20:45:41.421320Z",
     "shell.execute_reply": "2021-03-23T20:45:41.421789Z"
    },
    "papermill": {
     "duration": 0.022111,
     "end_time": "2021-03-23T20:45:41.421985",
     "exception": false,
     "start_time": "2021-03-23T20:45:41.399874",
     "status": "completed"
    },
    "tags": []
   },
   "outputs": [
    {
     "data": {
      "text/plain": [
       "12000"
      ]
     },
     "execution_count": 4,
     "metadata": {},
     "output_type": "execute_result"
    }
   ],
   "source": [
    "round(12345, -3)"
   ]
  },
  {
   "cell_type": "code",
   "execution_count": 5,
   "metadata": {
    "execution": {
     "iopub.execute_input": "2021-03-23T20:45:41.455559Z",
     "iopub.status.busy": "2021-03-23T20:45:41.454916Z",
     "iopub.status.idle": "2021-03-23T20:45:41.460620Z",
     "shell.execute_reply": "2021-03-23T20:45:41.461237Z"
    },
    "papermill": {
     "duration": 0.024511,
     "end_time": "2021-03-23T20:45:41.461426",
     "exception": false,
     "start_time": "2021-03-23T20:45:41.436915",
     "status": "completed"
    },
    "tags": []
   },
   "outputs": [
    {
     "data": {
      "application/javascript": [
       "parent.postMessage({\"jupyterEvent\": \"custom.exercise_interaction\", \"data\": {\"interactionType\": 3, \"questionType\": 4, \"questionId\": \"2_RoundNdigitsProblem\", \"learnToolsVersion\": \"0.3.4\", \"valueTowardsCompletion\": 0.0, \"failureMessage\": \"\", \"exceptionClass\": \"\", \"trace\": \"\", \"outcomeType\": 4}}, \"*\")"
      ],
      "text/plain": [
       "<IPython.core.display.Javascript object>"
      ]
     },
     "metadata": {},
     "output_type": "display_data"
    },
    {
     "data": {
      "text/markdown": [
       "<span style=\"color:#33cc99\">Solution:</span> As you've seen, `ndigits=-1` rounds to the nearest 10, `ndigits=-2` rounds to the nearest 100 and so on. Where might this be useful? Suppose we're dealing with large numbers:\n",
       "\n",
       "> The area of Finland is 338,424 km²  \n",
       "> The area of Greenland is 2,166,086 km²\n",
       "\n",
       "We probably don't care whether it's really 338,424, or 338,425, or 338,177. All those digits of accuracy are just distracting. We can chop them off by calling `round()` with `ndigits=-3`:\n",
       "\n",
       "> The area of Finland is 338,000 km²  \n",
       "> The area of Greenland is 2,166,000 km²\n",
       "\n",
       "(We'll talk about how we would get the commas later when we talk about string formatting :))\n"
      ],
      "text/plain": [
       "Solution: As you've seen, `ndigits=-1` rounds to the nearest 10, `ndigits=-2` rounds to the nearest 100 and so on. Where might this be useful? Suppose we're dealing with large numbers:\n",
       "\n",
       "> The area of Finland is 338,424 km²  \n",
       "> The area of Greenland is 2,166,086 km²\n",
       "\n",
       "We probably don't care whether it's really 338,424, or 338,425, or 338,177. All those digits of accuracy are just distracting. We can chop them off by calling `round()` with `ndigits=-3`:\n",
       "\n",
       "> The area of Finland is 338,000 km²  \n",
       "> The area of Greenland is 2,166,000 km²\n",
       "\n",
       "(We'll talk about how we would get the commas later when we talk about string formatting :))"
      ]
     },
     "metadata": {},
     "output_type": "display_data"
    }
   ],
   "source": [
    "# Check your answer (Run this code cell to receive credit!)\n",
    "q2.solution()"
   ]
  },
  {
   "cell_type": "markdown",
   "metadata": {
    "papermill": {
     "duration": 0.014954,
     "end_time": "2021-03-23T20:45:41.491723",
     "exception": false,
     "start_time": "2021-03-23T20:45:41.476769",
     "status": "completed"
    },
    "tags": []
   },
   "source": [
    "## 3.\n",
    "\n",
    "In a previous programming problem, the candy-sharing friends Alice, Bob and Carol tried to split candies evenly. For the sake of their friendship, any candies left over would be smashed. For example, if they collectively bring home 91 candies, they'll take 30 each and smash 1.\n",
    "\n",
    "Below is a simple function that will calculate the number of candies to smash for *any* number of total candies.\n",
    "\n",
    "Modify it so that it optionally takes a second argument representing the number of friends the candies are being split between. If no second argument is provided, it should assume 3 friends, as before.\n",
    "\n",
    "Update the docstring to reflect this new behaviour."
   ]
  },
  {
   "cell_type": "code",
   "execution_count": 6,
   "metadata": {
    "execution": {
     "iopub.execute_input": "2021-03-23T20:45:41.526014Z",
     "iopub.status.busy": "2021-03-23T20:45:41.525188Z",
     "iopub.status.idle": "2021-03-23T20:45:41.540165Z",
     "shell.execute_reply": "2021-03-23T20:45:41.539452Z"
    },
    "papermill": {
     "duration": 0.033321,
     "end_time": "2021-03-23T20:45:41.540315",
     "exception": false,
     "start_time": "2021-03-23T20:45:41.506994",
     "status": "completed"
    },
    "tags": []
   },
   "outputs": [
    {
     "name": "stdout",
     "output_type": "stream",
     "text": [
      "Help on function to_smash in module __main__:\n",
      "\n",
      "to_smash(total_candies, total_friends=3)\n",
      "    Return the number of leftover candies that must be smashed after distributing\n",
      "    the given number of candies evenly between certain number of friends. \n",
      "    \n",
      "    The argument \"total_friends\" is optional, and when it is ommited, the\n",
      "    function assumes there is 3 friends.\n",
      "    \n",
      "    >>> to_smash(91)\n",
      "    1\n",
      "\n",
      "Total of candies: 91; Total of friends assumed to be 3; To smash:  1\n",
      "Total of candies: 51; Total of friends: 2; To smash:  1\n",
      "Total of candies: 123; Total of friends: 4; To smash:  3\n",
      "Total of candies: 100; Total of friends: 2; To smash:  0\n"
     ]
    },
    {
     "data": {
      "application/javascript": [
       "parent.postMessage({\"jupyterEvent\": \"custom.exercise_interaction\", \"data\": {\"outcomeType\": 1, \"valueTowardsCompletion\": 0.16666666666666666, \"interactionType\": 1, \"questionType\": 2, \"questionId\": \"3_CandySmashingFunctionProblem\", \"learnToolsVersion\": \"0.3.4\", \"failureMessage\": \"\", \"exceptionClass\": \"\", \"trace\": \"\"}}, \"*\")"
      ],
      "text/plain": [
       "<IPython.core.display.Javascript object>"
      ]
     },
     "metadata": {},
     "output_type": "display_data"
    },
    {
     "data": {
      "text/markdown": [
       "<span style=\"color:#33cc33\">Correct</span>"
      ],
      "text/plain": [
       "Correct"
      ]
     },
     "metadata": {},
     "output_type": "display_data"
    }
   ],
   "source": [
    "def to_smash(total_candies, total_friends=3):\n",
    "    \"\"\"Return the number of leftover candies that must be smashed after distributing\n",
    "    the given number of candies evenly between certain number of friends. \n",
    "    \n",
    "    The argument \"total_friends\" is optional, and when it is ommited, the\n",
    "    function assumes there is 3 friends.\n",
    "    \n",
    "    >>> to_smash(91)\n",
    "    1\n",
    "    \"\"\"\n",
    "    return total_candies % total_friends\n",
    "\n",
    "help(to_smash)\n",
    "print(\"Total of candies: 91; Total of friends assumed to be 3; To smash: \", to_smash(91))\n",
    "print(\"Total of candies: 51; Total of friends: 2; To smash: \", to_smash(51, 2))\n",
    "print(\"Total of candies: 123; Total of friends: 4; To smash: \",to_smash(123, 4))\n",
    "print(\"Total of candies: 100; Total of friends: 2; To smash: \",to_smash(100, 2))\n",
    "\n",
    "# Check your answer\n",
    "q3.check()"
   ]
  },
  {
   "cell_type": "code",
   "execution_count": 7,
   "metadata": {
    "execution": {
     "iopub.execute_input": "2021-03-23T20:45:41.578918Z",
     "iopub.status.busy": "2021-03-23T20:45:41.578212Z",
     "iopub.status.idle": "2021-03-23T20:45:41.581369Z",
     "shell.execute_reply": "2021-03-23T20:45:41.580734Z"
    },
    "papermill": {
     "duration": 0.024361,
     "end_time": "2021-03-23T20:45:41.581519",
     "exception": false,
     "start_time": "2021-03-23T20:45:41.557158",
     "status": "completed"
    },
    "tags": []
   },
   "outputs": [],
   "source": [
    "#q3.hint()"
   ]
  },
  {
   "cell_type": "code",
   "execution_count": 8,
   "metadata": {
    "execution": {
     "iopub.execute_input": "2021-03-23T20:45:41.620052Z",
     "iopub.status.busy": "2021-03-23T20:45:41.619277Z",
     "iopub.status.idle": "2021-03-23T20:45:41.621514Z",
     "shell.execute_reply": "2021-03-23T20:45:41.622202Z"
    },
    "papermill": {
     "duration": 0.024041,
     "end_time": "2021-03-23T20:45:41.622381",
     "exception": false,
     "start_time": "2021-03-23T20:45:41.598340",
     "status": "completed"
    },
    "tags": []
   },
   "outputs": [],
   "source": [
    "#q3.solution()"
   ]
  },
  {
   "cell_type": "markdown",
   "metadata": {
    "papermill": {
     "duration": 0.016691,
     "end_time": "2021-03-23T20:45:41.656401",
     "exception": false,
     "start_time": "2021-03-23T20:45:41.639710",
     "status": "completed"
    },
    "tags": []
   },
   "source": [
    "## 4. (Optional)\n",
    "\n",
    "It may not be fun, but reading and understanding error messages will be an important part of your Python career.\n",
    "\n",
    "Each code cell below contains some commented-out buggy code. For each cell...\n",
    "\n",
    "1. Read the code and predict what you think will happen when it's run.\n",
    "2. Then uncomment the code and run it to see what happens. (**Tip**: In the kernel editor, you can highlight several lines and press `ctrl`+`/` to toggle commenting.)\n",
    "3. Fix the code (so that it accomplishes its intended purpose without throwing an exception)\n",
    "\n",
    "<!-- TODO: should this be autochecked? Delta is probably pretty small. -->"
   ]
  },
  {
   "cell_type": "code",
   "execution_count": 9,
   "metadata": {
    "execution": {
     "iopub.execute_input": "2021-03-23T20:45:41.693887Z",
     "iopub.status.busy": "2021-03-23T20:45:41.693161Z",
     "iopub.status.idle": "2021-03-23T20:45:41.697980Z",
     "shell.execute_reply": "2021-03-23T20:45:41.698488Z"
    },
    "papermill": {
     "duration": 0.025359,
     "end_time": "2021-03-23T20:45:41.698666",
     "exception": false,
     "start_time": "2021-03-23T20:45:41.673307",
     "status": "completed"
    },
    "tags": []
   },
   "outputs": [
    {
     "data": {
      "text/plain": [
       "10.0"
      ]
     },
     "execution_count": 9,
     "metadata": {},
     "output_type": "execute_result"
    }
   ],
   "source": [
    "round_to_two_places(9.9999)"
   ]
  },
  {
   "cell_type": "code",
   "execution_count": 10,
   "metadata": {
    "execution": {
     "iopub.execute_input": "2021-03-23T20:45:41.737202Z",
     "iopub.status.busy": "2021-03-23T20:45:41.736482Z",
     "iopub.status.idle": "2021-03-23T20:45:41.742648Z",
     "shell.execute_reply": "2021-03-23T20:45:41.743437Z"
    },
    "papermill": {
     "duration": 0.027445,
     "end_time": "2021-03-23T20:45:41.743674",
     "exception": false,
     "start_time": "2021-03-23T20:45:41.716229",
     "status": "completed"
    },
    "tags": []
   },
   "outputs": [
    {
     "name": "stdout",
     "output_type": "stream",
     "text": [
      "x: -10 y: 5\n",
      "Smallest absolute value: 5\n"
     ]
    }
   ],
   "source": [
    "x = -10\n",
    "y = 5\n",
    "# # Which of the two variables above has the smallest absolute value?\n",
    "#smallest_abs = min(abs(x, y))\n",
    "smallest_abs = min(abs(x), abs(y))\n",
    "print(\"x:\", x, \"y:\", y)\n",
    "print(\"Smallest absolute value:\", smallest_abs)"
   ]
  },
  {
   "cell_type": "code",
   "execution_count": 11,
   "metadata": {
    "execution": {
     "iopub.execute_input": "2021-03-23T20:45:41.785285Z",
     "iopub.status.busy": "2021-03-23T20:45:41.784520Z",
     "iopub.status.idle": "2021-03-23T20:45:41.792088Z",
     "shell.execute_reply": "2021-03-23T20:45:41.791422Z"
    },
    "papermill": {
     "duration": 0.028727,
     "end_time": "2021-03-23T20:45:41.792233",
     "exception": false,
     "start_time": "2021-03-23T20:45:41.763506",
     "status": "completed"
    },
    "tags": []
   },
   "outputs": [
    {
     "name": "stdout",
     "output_type": "stream",
     "text": [
      "Valores absolutos retornados:\n",
      "5\n",
      "5\n",
      "99\n"
     ]
    }
   ],
   "source": [
    "def f(x):\n",
    "    y = abs(x)\n",
    "# return y\n",
    "    return y\n",
    "\n",
    "print(\"Valores absolutos retornados:\");\n",
    "print(f(5))\n",
    "print(f(-5))\n",
    "print(f(-99))"
   ]
  },
  {
   "cell_type": "markdown",
   "metadata": {
    "papermill": {
     "duration": 0.018579,
     "end_time": "2021-03-23T20:45:41.829480",
     "exception": false,
     "start_time": "2021-03-23T20:45:41.810901",
     "status": "completed"
    },
    "tags": []
   },
   "source": [
    "# Keep Going\n",
    "\n",
    "Nice job with the code. Next up, you'll learn about *conditionals*, which you'll need to write interesting programs. Keep going **[here](https://www.kaggle.com/colinmorris/booleans-and-conditionals)**"
   ]
  },
  {
   "cell_type": "markdown",
   "metadata": {
    "papermill": {
     "duration": 0.018073,
     "end_time": "2021-03-23T20:45:41.866255",
     "exception": false,
     "start_time": "2021-03-23T20:45:41.848182",
     "status": "completed"
    },
    "tags": []
   },
   "source": [
    "---\n",
    "\n",
    "\n",
    "\n",
    "\n",
    "*Have questions or comments? Visit the [Learn Discussion forum](https://www.kaggle.com/learn-forum/161283) to chat with other Learners.*"
   ]
  }
 ],
 "metadata": {
  "kernelspec": {
   "display_name": "Python 3",
   "language": "python",
   "name": "python3"
  },
  "language_info": {
   "codemirror_mode": {
    "name": "ipython",
    "version": 3
   },
   "file_extension": ".py",
   "mimetype": "text/x-python",
   "name": "python",
   "nbconvert_exporter": "python",
   "pygments_lexer": "ipython3",
   "version": "3.7.9"
  },
  "papermill": {
   "default_parameters": {},
   "duration": 7.683143,
   "end_time": "2021-03-23T20:45:42.496077",
   "environment_variables": {},
   "exception": null,
   "input_path": "__notebook__.ipynb",
   "output_path": "__notebook__.ipynb",
   "parameters": {},
   "start_time": "2021-03-23T20:45:34.812934",
   "version": "2.2.2"
  }
 },
 "nbformat": 4,
 "nbformat_minor": 4
}
