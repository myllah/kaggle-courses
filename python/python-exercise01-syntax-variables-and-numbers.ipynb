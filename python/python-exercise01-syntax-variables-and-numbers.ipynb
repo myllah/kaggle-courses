{
 "cells": [
  {
   "cell_type": "markdown",
   "metadata": {
    "papermill": {
     "duration": 0.019917,
     "end_time": "2021-03-23T20:37:20.586016",
     "exception": false,
     "start_time": "2021-03-23T20:37:20.566099",
     "status": "completed"
    },
    "tags": []
   },
   "source": [
    "### Python-Exercise01: Syntax, Variables, and Numbers"
   ]
  },
  {
   "cell_type": "markdown",
   "metadata": {
    "papermill": {
     "duration": 0.01852,
     "end_time": "2021-03-23T20:37:20.623078",
     "exception": false,
     "start_time": "2021-03-23T20:37:20.604558",
     "status": "completed"
    },
    "tags": []
   },
   "source": [
    "**This notebook is an exercise in the [Python](https://www.kaggle.com/learn/python) course.  You can reference the tutorial at [this link](https://www.kaggle.com/colinmorris/hello-python).**\n",
    "\n",
    "> **This notebook is the first exercise in the [Python](https://www.kaggle.com/learn/python)  course. <span style = \"padding: 10px\"> It is the exercise of the first lesson, aka \"Hello, Python\".**"
   ]
  },
  {
   "cell_type": "markdown",
   "metadata": {
    "papermill": {
     "duration": 0.019321,
     "end_time": "2021-03-23T20:37:20.660913",
     "exception": false,
     "start_time": "2021-03-23T20:37:20.641592",
     "status": "completed"
    },
    "tags": []
   },
   "source": [
    "# Exercises"
   ]
  },
  {
   "cell_type": "markdown",
   "metadata": {
    "papermill": {
     "duration": 0.018142,
     "end_time": "2021-03-23T20:37:20.697369",
     "exception": false,
     "start_time": "2021-03-23T20:37:20.679227",
     "status": "completed"
    },
    "tags": []
   },
   "source": [
    "Welcome to your first set of Python coding problems! \n",
    "\n",
    "If this is your first time using Kaggle Notebooks, welcome! \n",
    "\n",
    "Notebooks are composed of blocks (called \"cells\") of text and code. Each of these is editable, though you'll mainly be editing the code cells to answer some questions.\n",
    "\n",
    "To get started, try running the code cell below (by pressing the ► button, or clicking on the cell and pressing ctrl+enter on your keyboard)."
   ]
  },
  {
   "cell_type": "code",
   "execution_count": 1,
   "metadata": {
    "execution": {
     "iopub.execute_input": "2021-03-23T20:37:20.739822Z",
     "iopub.status.busy": "2021-03-23T20:37:20.738666Z",
     "iopub.status.idle": "2021-03-23T20:37:20.748578Z",
     "shell.execute_reply": "2021-03-23T20:37:20.749169Z"
    },
    "papermill": {
     "duration": 0.033382,
     "end_time": "2021-03-23T20:37:20.749632",
     "exception": false,
     "start_time": "2021-03-23T20:37:20.716250",
     "status": "completed"
    },
    "tags": []
   },
   "outputs": [
    {
     "name": "stdout",
     "output_type": "stream",
     "text": [
      "You've successfully run some Python code\n",
      "Congratulations!\n",
      "Hello!!\n"
     ]
    }
   ],
   "source": [
    "print(\"You've successfully run some Python code\")\n",
    "print(\"Congratulations!\")\n",
    "print(\"Hello!!\")"
   ]
  },
  {
   "cell_type": "code",
   "execution_count": 2,
   "metadata": {
    "execution": {
     "iopub.execute_input": "2021-03-23T20:37:20.796030Z",
     "iopub.status.busy": "2021-03-23T20:37:20.794984Z",
     "iopub.status.idle": "2021-03-23T20:37:20.799583Z",
     "shell.execute_reply": "2021-03-23T20:37:20.800223Z"
    },
    "papermill": {
     "duration": 0.031558,
     "end_time": "2021-03-23T20:37:20.800424",
     "exception": false,
     "start_time": "2021-03-23T20:37:20.768866",
     "status": "completed"
    },
    "tags": []
   },
   "outputs": [
    {
     "name": "stdout",
     "output_type": "stream",
     "text": [
      "this cell is above\n"
     ]
    }
   ],
   "source": [
    "print(\"this cell is above\")"
   ]
  },
  {
   "cell_type": "markdown",
   "metadata": {
    "papermill": {
     "duration": 0.018821,
     "end_time": "2021-03-23T20:37:20.840135",
     "exception": false,
     "start_time": "2021-03-23T20:37:20.821314",
     "status": "completed"
    },
    "tags": []
   },
   "source": [
    "Try adding another line of code in the cell above and re-running it. \n",
    "\n",
    "Now let's get a little fancier:  Add a new code cell by clicking on an existing code cell, hitting the escape key, and then hitting the `a` or `b` key.  The `a` key will add a cell above the current cell, and `b` adds a cell below.\n",
    "\n",
    "Great! Now you know how to use Notebooks.\n",
    "\n",
    "Each hands-on exercise starts by setting up our feedback and code checking mechanism. Run the code cell below to do that. Then you'll be ready to move on to question 0."
   ]
  },
  {
   "cell_type": "code",
   "execution_count": 3,
   "metadata": {
    "execution": {
     "iopub.execute_input": "2021-03-23T20:37:20.885586Z",
     "iopub.status.busy": "2021-03-23T20:37:20.884581Z",
     "iopub.status.idle": "2021-03-23T20:37:20.888013Z",
     "shell.execute_reply": "2021-03-23T20:37:20.888828Z"
    },
    "papermill": {
     "duration": 0.02967,
     "end_time": "2021-03-23T20:37:20.889128",
     "exception": false,
     "start_time": "2021-03-23T20:37:20.859458",
     "status": "completed"
    },
    "tags": []
   },
   "outputs": [
    {
     "name": "stdout",
     "output_type": "stream",
     "text": [
      "this cell is below\n"
     ]
    }
   ],
   "source": [
    "print(\"this cell is below\")"
   ]
  },
  {
   "cell_type": "code",
   "execution_count": 4,
   "metadata": {
    "_kg_hide-input": true,
    "_kg_hide-output": true,
    "execution": {
     "iopub.execute_input": "2021-03-23T20:37:20.937299Z",
     "iopub.status.busy": "2021-03-23T20:37:20.936264Z",
     "iopub.status.idle": "2021-03-23T20:37:21.005505Z",
     "shell.execute_reply": "2021-03-23T20:37:21.004842Z"
    },
    "papermill": {
     "duration": 0.094861,
     "end_time": "2021-03-23T20:37:21.005664",
     "exception": false,
     "start_time": "2021-03-23T20:37:20.910803",
     "status": "completed"
    },
    "tags": []
   },
   "outputs": [
    {
     "name": "stdout",
     "output_type": "stream",
     "text": [
      "Setup complete! You're ready to start question 0.\n"
     ]
    }
   ],
   "source": [
    "from learntools.core import binder; binder.bind(globals())\n",
    "from learntools.python.ex1 import *\n",
    "print(\"Setup complete! You're ready to start question 0.\")"
   ]
  },
  {
   "cell_type": "markdown",
   "metadata": {
    "papermill": {
     "duration": 0.019614,
     "end_time": "2021-03-23T20:37:21.045839",
     "exception": false,
     "start_time": "2021-03-23T20:37:21.026225",
     "status": "completed"
    },
    "tags": []
   },
   "source": [
    "## 0.\n",
    "\n",
    "*This is a silly question intended as an introduction to the format we use for hands-on exercises throughout all Kaggle courses.*\n",
    "\n",
    "**What is your favorite color? **\n",
    "\n",
    "To complete this question, create a variable called `color` in the cell below with an appropriate value. The function call `q0.check()` (which we've already provided in the cell below) will check your answer."
   ]
  },
  {
   "cell_type": "code",
   "execution_count": 5,
   "metadata": {
    "execution": {
     "iopub.execute_input": "2021-03-23T20:37:21.090740Z",
     "iopub.status.busy": "2021-03-23T20:37:21.089955Z",
     "iopub.status.idle": "2021-03-23T20:37:21.102965Z",
     "shell.execute_reply": "2021-03-23T20:37:21.103548Z"
    },
    "papermill": {
     "duration": 0.037374,
     "end_time": "2021-03-23T20:37:21.103739",
     "exception": false,
     "start_time": "2021-03-23T20:37:21.066365",
     "status": "completed"
    },
    "tags": []
   },
   "outputs": [
    {
     "data": {
      "application/javascript": [
       "parent.postMessage({\"jupyterEvent\": \"custom.exercise_interaction\", \"data\": {\"outcomeType\": 1, \"valueTowardsCompletion\": 0.25, \"interactionType\": 1, \"questionType\": 1, \"questionId\": \"0_ExerciseFormatTutorial\", \"learnToolsVersion\": \"0.3.4\", \"failureMessage\": \"\", \"exceptionClass\": \"\", \"trace\": \"\"}}, \"*\")"
      ],
      "text/plain": [
       "<IPython.core.display.Javascript object>"
      ]
     },
     "metadata": {},
     "output_type": "display_data"
    },
    {
     "data": {
      "text/markdown": [
       "<span style=\"color:#33cc33\">Correct:</span> What?! You got it right without needing a hint or anything? Drats. Well hey, you should still continue to the next step to get some practice asking for a hint and checking solutions. (Even though you obviously don't need any help here.)"
      ],
      "text/plain": [
       "Correct: What?! You got it right without needing a hint or anything? Drats. Well hey, you should still continue to the next step to get some practice asking for a hint and checking solutions. (Even though you obviously don't need any help here.)"
      ]
     },
     "metadata": {},
     "output_type": "display_data"
    },
    {
     "data": {
      "text/plain": [
       "'blue'"
      ]
     },
     "execution_count": 5,
     "metadata": {},
     "output_type": "execute_result"
    }
   ],
   "source": [
    "#color = \"sky-blue\"\n",
    "color = \"blue\"\n",
    "\n",
    "q0.check()\n",
    "color"
   ]
  },
  {
   "cell_type": "markdown",
   "metadata": {
    "papermill": {
     "duration": 0.021505,
     "end_time": "2021-03-23T20:37:21.147002",
     "exception": false,
     "start_time": "2021-03-23T20:37:21.125497",
     "status": "completed"
    },
    "tags": []
   },
   "source": [
    "Didn't get the right answer? How do you not even know your own favorite color?!\n",
    "\n",
    "Delete the `#` in the line below to make one of the lines run. You can choose between getting a hint or the full answer by choosing which line to remove the `#` from. \n",
    "\n",
    "Removing the `#` is called uncommenting, because it changes that line from a \"comment\" which Python doesn't run to code, which Python does run."
   ]
  },
  {
   "cell_type": "code",
   "execution_count": 6,
   "metadata": {
    "execution": {
     "iopub.execute_input": "2021-03-23T20:37:21.195184Z",
     "iopub.status.busy": "2021-03-23T20:37:21.194339Z",
     "iopub.status.idle": "2021-03-23T20:37:21.204193Z",
     "shell.execute_reply": "2021-03-23T20:37:21.204721Z"
    },
    "papermill": {
     "duration": 0.036275,
     "end_time": "2021-03-23T20:37:21.205130",
     "exception": false,
     "start_time": "2021-03-23T20:37:21.168855",
     "status": "completed"
    },
    "tags": []
   },
   "outputs": [
    {
     "data": {
      "application/javascript": [
       "parent.postMessage({\"jupyterEvent\": \"custom.exercise_interaction\", \"data\": {\"interactionType\": 2, \"questionType\": 1, \"questionId\": \"0_ExerciseFormatTutorial\", \"learnToolsVersion\": \"0.3.4\", \"valueTowardsCompletion\": 0.0, \"failureMessage\": \"\", \"exceptionClass\": \"\", \"trace\": \"\", \"outcomeType\": 4}}, \"*\")"
      ],
      "text/plain": [
       "<IPython.core.display.Javascript object>"
      ]
     },
     "metadata": {},
     "output_type": "display_data"
    },
    {
     "data": {
      "text/markdown": [
       "<span style=\"color:#3366cc\">Hint:</span> Your favorite color rhymes with *glue*."
      ],
      "text/plain": [
       "Hint: Your favorite color rhymes with *glue*."
      ]
     },
     "metadata": {},
     "output_type": "display_data"
    },
    {
     "data": {
      "application/javascript": [
       "parent.postMessage({\"jupyterEvent\": \"custom.exercise_interaction\", \"data\": {\"interactionType\": 3, \"questionType\": 1, \"questionId\": \"0_ExerciseFormatTutorial\", \"learnToolsVersion\": \"0.3.4\", \"valueTowardsCompletion\": 0.0, \"failureMessage\": \"\", \"exceptionClass\": \"\", \"trace\": \"\", \"outcomeType\": 4}}, \"*\")"
      ],
      "text/plain": [
       "<IPython.core.display.Javascript object>"
      ]
     },
     "metadata": {},
     "output_type": "display_data"
    },
    {
     "data": {
      "text/markdown": [
       "<span style=\"color:#33cc99\">Solution:</span> \n",
       "```python\n",
       "color = \"blue\"\n",
       "```"
      ],
      "text/plain": [
       "Solution: \n",
       "```python\n",
       "color = \"blue\"\n",
       "```"
      ]
     },
     "metadata": {},
     "output_type": "display_data"
    }
   ],
   "source": [
    "q0.hint()\n",
    "q0.solution()"
   ]
  },
  {
   "cell_type": "markdown",
   "metadata": {
    "papermill": {
     "duration": 0.022997,
     "end_time": "2021-03-23T20:37:21.252618",
     "exception": false,
     "start_time": "2021-03-23T20:37:21.229621",
     "status": "completed"
    },
    "tags": []
   },
   "source": [
    "The upcoming questions work the same way. The only thing that will change are the question numbers. For the next question, you'll call `q1.check()`, `q1.hint()`, `q1.solution()`, for question 2, you'll call `q2.check()`, and so on."
   ]
  },
  {
   "cell_type": "markdown",
   "metadata": {
    "papermill": {
     "duration": 0.022986,
     "end_time": "2021-03-23T20:37:21.299351",
     "exception": false,
     "start_time": "2021-03-23T20:37:21.276365",
     "status": "completed"
    },
    "tags": []
   },
   "source": [
    "<hr/>\n",
    "\n",
    "## 1.\n",
    "\n",
    "Complete the code below. In case it's helpful, here is the table of available arithmetic operations:\n",
    "\n",
    "\n",
    "\n",
    "| Operator     | Name           | Description                                            |\n",
    "|--------------|----------------|--------------------------------------------------------|\n",
    "| ``a + b``    | Addition       | Sum of ``a`` and ``b``                                 |\n",
    "| ``a - b``    | Subtraction    | Difference of ``a`` and ``b``                          |\n",
    "| ``a * b``    | Multiplication | Product of ``a`` and ``b``                             |\n",
    "| ``a / b``    | True division  | Quotient of ``a`` and ``b``                            |\n",
    "| ``a // b``   | Floor division | Quotient of ``a`` and ``b``, removing fractional parts |\n",
    "| ``a % b``    | Modulus        | Integer remainder after division of ``a`` by ``b``     |\n",
    "| ``a ** b``   | Exponentiation | ``a`` raised to the power of ``b``                     |\n",
    "| ``-a``       | Negation       | The negative of ``a``                                  |\n",
    "\n",
    "<span style=\"display:none\"></span>\n"
   ]
  },
  {
   "cell_type": "code",
   "execution_count": 7,
   "metadata": {
    "execution": {
     "iopub.execute_input": "2021-03-23T20:37:21.351125Z",
     "iopub.status.busy": "2021-03-23T20:37:21.350149Z",
     "iopub.status.idle": "2021-03-23T20:37:21.364176Z",
     "shell.execute_reply": "2021-03-23T20:37:21.364726Z"
    },
    "papermill": {
     "duration": 0.042015,
     "end_time": "2021-03-23T20:37:21.364936",
     "exception": false,
     "start_time": "2021-03-23T20:37:21.322921",
     "status": "completed"
    },
    "tags": []
   },
   "outputs": [
    {
     "data": {
      "application/javascript": [
       "parent.postMessage({\"jupyterEvent\": \"custom.exercise_interaction\", \"data\": {\"outcomeType\": 1, \"valueTowardsCompletion\": 0.25, \"interactionType\": 1, \"questionType\": 1, \"questionId\": \"1_CircleArea\", \"learnToolsVersion\": \"0.3.4\", \"failureMessage\": \"\", \"exceptionClass\": \"\", \"trace\": \"\"}}, \"*\")"
      ],
      "text/plain": [
       "<IPython.core.display.Javascript object>"
      ]
     },
     "metadata": {},
     "output_type": "display_data"
    },
    {
     "data": {
      "text/markdown": [
       "<span style=\"color:#33cc33\">Correct</span>"
      ],
      "text/plain": [
       "Correct"
      ]
     },
     "metadata": {},
     "output_type": "display_data"
    },
    {
     "name": "stdout",
     "output_type": "stream",
     "text": [
      "Pi:  3.14159\n",
      "Diameter:  3\n",
      "Radius:  1.5\n",
      "Area:  1.5\n"
     ]
    }
   ],
   "source": [
    "pi = 3.14159 # approximate\n",
    "diameter = 3\n",
    "\n",
    "# Create a variable called 'radius' equal to half the diameter\n",
    "radius = diameter / 2\n",
    "\n",
    "# Create a variable called 'area', using the formula for the area of a circle: pi times the radius squared\n",
    "area = pi * (radius ** 2)\n",
    "\n",
    "# Check your answer\n",
    "q1.check()\n",
    "print(\"Pi: \", pi)\n",
    "print(\"Diameter: \", diameter)\n",
    "print(\"Radius: \", radius)\n",
    "print(\"Area: \", radius)"
   ]
  },
  {
   "cell_type": "code",
   "execution_count": 8,
   "metadata": {
    "execution": {
     "iopub.execute_input": "2021-03-23T20:37:21.422367Z",
     "iopub.status.busy": "2021-03-23T20:37:21.421249Z",
     "iopub.status.idle": "2021-03-23T20:37:21.423989Z",
     "shell.execute_reply": "2021-03-23T20:37:21.424678Z"
    },
    "papermill": {
     "duration": 0.03386,
     "end_time": "2021-03-23T20:37:21.424884",
     "exception": false,
     "start_time": "2021-03-23T20:37:21.391024",
     "status": "completed"
    },
    "tags": []
   },
   "outputs": [],
   "source": [
    "# Uncomment and run the lines below if you need help.\n",
    "#q1.hint()\n",
    "#q1.solution()"
   ]
  },
  {
   "cell_type": "markdown",
   "metadata": {
    "papermill": {
     "duration": 0.02454,
     "end_time": "2021-03-23T20:37:21.474569",
     "exception": false,
     "start_time": "2021-03-23T20:37:21.450029",
     "status": "completed"
    },
    "tags": []
   },
   "source": [
    "<hr/>\n",
    "## 2.\n",
    "\n",
    "Add code to the following cell to swap variables `a` and `b` (so that `a` refers to the object previously referred to by `b` and vice versa)."
   ]
  },
  {
   "cell_type": "code",
   "execution_count": 9,
   "metadata": {
    "execution": {
     "iopub.execute_input": "2021-03-23T20:37:21.533243Z",
     "iopub.status.busy": "2021-03-23T20:37:21.532189Z",
     "iopub.status.idle": "2021-03-23T20:37:21.542017Z",
     "shell.execute_reply": "2021-03-23T20:37:21.543421Z"
    },
    "papermill": {
     "duration": 0.044104,
     "end_time": "2021-03-23T20:37:21.543736",
     "exception": false,
     "start_time": "2021-03-23T20:37:21.499632",
     "status": "completed"
    },
    "tags": []
   },
   "outputs": [
    {
     "data": {
      "application/javascript": [
       "parent.postMessage({\"jupyterEvent\": \"custom.exercise_interaction\", \"data\": {\"outcomeType\": 1, \"valueTowardsCompletion\": 0.25, \"interactionType\": 1, \"questionType\": 2, \"questionId\": \"2_VariableSwap\", \"learnToolsVersion\": \"0.3.4\", \"failureMessage\": \"\", \"exceptionClass\": \"\", \"trace\": \"\"}}, \"*\")"
      ],
      "text/plain": [
       "<IPython.core.display.Javascript object>"
      ]
     },
     "metadata": {},
     "output_type": "display_data"
    },
    {
     "data": {
      "text/markdown": [
       "<span style=\"color:#33cc33\">Correct:</span> \n",
       "\n",
       "The most straightforward solution is to use a third variable to temporarily store one of the old values. e.g.:\n",
       "\n",
       "    tmp = a\n",
       "    a = b\n",
       "    b = tmp\n",
       "\n",
       "If you've read lots of Python code, you might have seen the following trick to swap two variables in one line:\n",
       "\n",
       "    a, b = b, a\n",
       "\n",
       "We'll demystify this bit of Python magic later when we talk about *tuples*."
      ],
      "text/plain": [
       "Correct: \n",
       "\n",
       "The most straightforward solution is to use a third variable to temporarily store one of the old values. e.g.:\n",
       "\n",
       "    tmp = a\n",
       "    a = b\n",
       "    b = tmp\n",
       "\n",
       "If you've read lots of Python code, you might have seen the following trick to swap two variables in one line:\n",
       "\n",
       "    a, b = b, a\n",
       "\n",
       "We'll demystify this bit of Python magic later when we talk about *tuples*."
      ]
     },
     "metadata": {},
     "output_type": "display_data"
    },
    {
     "name": "stdout",
     "output_type": "stream",
     "text": [
      "a:  [3, 2, 1]\n",
      "b:  [1, 2, 3]\n"
     ]
    }
   ],
   "source": [
    "########### Setup code - don't touch this part ######################\n",
    "# If you're curious, these are examples of lists. We'll talk about \n",
    "# them in depth a few lessons from now. For now, just know that they're\n",
    "# yet another type of Python object, like int or float.\n",
    "a = [1, 2, 3]\n",
    "b = [3, 2, 1]\n",
    "q2.store_original_ids()\n",
    "######################################################################\n",
    "\n",
    "# Your code goes here. Swap the values to which a and b refer.\n",
    "# If you get stuck, you can always uncomment one or both of the lines in\n",
    "# the next cell for a hint, or to peek at the solution.\n",
    "c = a\n",
    "a = b\n",
    "b = c\n",
    "\n",
    "######################################################################\n",
    "\n",
    "# Check your answer\n",
    "q2.check()\n",
    "print(\"a: \", a)\n",
    "print(\"b: \", b)"
   ]
  },
  {
   "cell_type": "code",
   "execution_count": 10,
   "metadata": {
    "execution": {
     "iopub.execute_input": "2021-03-23T20:37:21.606968Z",
     "iopub.status.busy": "2021-03-23T20:37:21.606167Z",
     "iopub.status.idle": "2021-03-23T20:37:21.610749Z",
     "shell.execute_reply": "2021-03-23T20:37:21.610017Z"
    },
    "papermill": {
     "duration": 0.038213,
     "end_time": "2021-03-23T20:37:21.610945",
     "exception": false,
     "start_time": "2021-03-23T20:37:21.572732",
     "status": "completed"
    },
    "tags": []
   },
   "outputs": [],
   "source": [
    "#q2.hint()"
   ]
  },
  {
   "cell_type": "code",
   "execution_count": 11,
   "metadata": {
    "execution": {
     "iopub.execute_input": "2021-03-23T20:37:21.671851Z",
     "iopub.status.busy": "2021-03-23T20:37:21.671092Z",
     "iopub.status.idle": "2021-03-23T20:37:21.675357Z",
     "shell.execute_reply": "2021-03-23T20:37:21.674754Z"
    },
    "papermill": {
     "duration": 0.036003,
     "end_time": "2021-03-23T20:37:21.675541",
     "exception": false,
     "start_time": "2021-03-23T20:37:21.639538",
     "status": "completed"
    },
    "tags": []
   },
   "outputs": [],
   "source": [
    "#q2.solution()"
   ]
  },
  {
   "cell_type": "markdown",
   "metadata": {
    "papermill": {
     "duration": 0.026751,
     "end_time": "2021-03-23T20:37:21.729888",
     "exception": false,
     "start_time": "2021-03-23T20:37:21.703137",
     "status": "completed"
    },
    "tags": []
   },
   "source": [
    "<hr/>\n",
    "## 3.\n",
    "\n",
    "a) Add parentheses to the following expression so that it evaluates to 1."
   ]
  },
  {
   "cell_type": "code",
   "execution_count": 12,
   "metadata": {
    "execution": {
     "iopub.execute_input": "2021-03-23T20:37:21.793481Z",
     "iopub.status.busy": "2021-03-23T20:37:21.792528Z",
     "iopub.status.idle": "2021-03-23T20:37:21.798777Z",
     "shell.execute_reply": "2021-03-23T20:37:21.798144Z"
    },
    "papermill": {
     "duration": 0.041889,
     "end_time": "2021-03-23T20:37:21.798937",
     "exception": false,
     "start_time": "2021-03-23T20:37:21.757048",
     "status": "completed"
    },
    "tags": []
   },
   "outputs": [
    {
     "data": {
      "text/plain": [
       "1"
      ]
     },
     "execution_count": 12,
     "metadata": {},
     "output_type": "execute_result"
    }
   ],
   "source": [
    "(5 - 3) // 2"
   ]
  },
  {
   "cell_type": "code",
   "execution_count": 13,
   "metadata": {
    "execution": {
     "iopub.execute_input": "2021-03-23T20:37:21.859774Z",
     "iopub.status.busy": "2021-03-23T20:37:21.858815Z",
     "iopub.status.idle": "2021-03-23T20:37:21.862962Z",
     "shell.execute_reply": "2021-03-23T20:37:21.862370Z"
    },
    "papermill": {
     "duration": 0.036519,
     "end_time": "2021-03-23T20:37:21.863116",
     "exception": false,
     "start_time": "2021-03-23T20:37:21.826597",
     "status": "completed"
    },
    "tags": []
   },
   "outputs": [],
   "source": [
    "#q3.a.hint()"
   ]
  },
  {
   "cell_type": "code",
   "execution_count": 14,
   "metadata": {
    "execution": {
     "iopub.execute_input": "2021-03-23T20:37:21.925086Z",
     "iopub.status.busy": "2021-03-23T20:37:21.924355Z",
     "iopub.status.idle": "2021-03-23T20:37:21.930715Z",
     "shell.execute_reply": "2021-03-23T20:37:21.929899Z"
    },
    "papermill": {
     "duration": 0.039246,
     "end_time": "2021-03-23T20:37:21.930892",
     "exception": false,
     "start_time": "2021-03-23T20:37:21.891646",
     "status": "completed"
    },
    "tags": []
   },
   "outputs": [
    {
     "data": {
      "application/javascript": [
       "parent.postMessage({\"jupyterEvent\": \"custom.exercise_interaction\", \"data\": {\"interactionType\": 3, \"questionType\": 4, \"questionId\": \"3.1_ArithmeticParensEasy\", \"learnToolsVersion\": \"0.3.4\", \"valueTowardsCompletion\": 0.0, \"failureMessage\": \"\", \"exceptionClass\": \"\", \"trace\": \"\", \"outcomeType\": 4}}, \"*\")"
      ],
      "text/plain": [
       "<IPython.core.display.Javascript object>"
      ]
     },
     "metadata": {},
     "output_type": "display_data"
    },
    {
     "data": {
      "text/markdown": [
       "<span style=\"color:#33cc99\">Solution:</span> \n",
       "```python\n",
       "(5 - 3) // 2\n",
       "```"
      ],
      "text/plain": [
       "Solution: \n",
       "```python\n",
       "(5 - 3) // 2\n",
       "```"
      ]
     },
     "metadata": {},
     "output_type": "display_data"
    }
   ],
   "source": [
    "# Check your answer (Run this code cell to receive credit!)\n",
    "q3.a.solution()"
   ]
  },
  {
   "cell_type": "markdown",
   "metadata": {
    "papermill": {
     "duration": 0.028183,
     "end_time": "2021-03-23T20:37:21.988759",
     "exception": false,
     "start_time": "2021-03-23T20:37:21.960576",
     "status": "completed"
    },
    "tags": []
   },
   "source": [
    "<small>Questions, like this one, marked a spicy pepper are a bit harder.</small>\n",
    "\n",
    "b) <span title=\"A bit spicy\" style=\"color: darkgreen \">🌶️</span> Add parentheses to the following expression so that it evaluates to 0\n"
   ]
  },
  {
   "cell_type": "code",
   "execution_count": 15,
   "metadata": {
    "execution": {
     "iopub.execute_input": "2021-03-23T20:37:22.052259Z",
     "iopub.status.busy": "2021-03-23T20:37:22.051547Z",
     "iopub.status.idle": "2021-03-23T20:37:22.057076Z",
     "shell.execute_reply": "2021-03-23T20:37:22.056325Z"
    },
    "papermill": {
     "duration": 0.039633,
     "end_time": "2021-03-23T20:37:22.057237",
     "exception": false,
     "start_time": "2021-03-23T20:37:22.017604",
     "status": "completed"
    },
    "tags": []
   },
   "outputs": [
    {
     "data": {
      "text/plain": [
       "0"
      ]
     },
     "execution_count": 15,
     "metadata": {},
     "output_type": "execute_result"
    }
   ],
   "source": [
    "8 - (3 * 2) - (1 + 1)"
   ]
  },
  {
   "cell_type": "code",
   "execution_count": 16,
   "metadata": {
    "execution": {
     "iopub.execute_input": "2021-03-23T20:37:22.121534Z",
     "iopub.status.busy": "2021-03-23T20:37:22.120757Z",
     "iopub.status.idle": "2021-03-23T20:37:22.124596Z",
     "shell.execute_reply": "2021-03-23T20:37:22.125358Z"
    },
    "papermill": {
     "duration": 0.038837,
     "end_time": "2021-03-23T20:37:22.125618",
     "exception": false,
     "start_time": "2021-03-23T20:37:22.086781",
     "status": "completed"
    },
    "tags": []
   },
   "outputs": [],
   "source": [
    "#q3.b.hint()"
   ]
  },
  {
   "cell_type": "code",
   "execution_count": 17,
   "metadata": {
    "execution": {
     "iopub.execute_input": "2021-03-23T20:37:22.190899Z",
     "iopub.status.busy": "2021-03-23T20:37:22.189977Z",
     "iopub.status.idle": "2021-03-23T20:37:22.194985Z",
     "shell.execute_reply": "2021-03-23T20:37:22.194251Z"
    },
    "papermill": {
     "duration": 0.040253,
     "end_time": "2021-03-23T20:37:22.195147",
     "exception": false,
     "start_time": "2021-03-23T20:37:22.154894",
     "status": "completed"
    },
    "tags": []
   },
   "outputs": [],
   "source": [
    "# Check your answer (Run this code cell to receive credit!)\n",
    "#q3.b.solution()"
   ]
  },
  {
   "cell_type": "markdown",
   "metadata": {
    "papermill": {
     "duration": 0.02876,
     "end_time": "2021-03-23T20:37:22.253457",
     "exception": false,
     "start_time": "2021-03-23T20:37:22.224697",
     "status": "completed"
    },
    "tags": []
   },
   "source": [
    "<hr/>\n",
    "## 4. \n",
    "Alice, Bob and Carol have agreed to pool their Halloween candy and split it evenly among themselves.\n",
    "For the sake of their friendship, any candies left over will be smashed. For example, if they collectively\n",
    "bring home 91 candies, they'll take 30 each and smash 1.\n",
    "\n",
    "Write an arithmetic expression below to calculate how many candies they must smash for a given haul."
   ]
  },
  {
   "cell_type": "code",
   "execution_count": 18,
   "metadata": {
    "execution": {
     "iopub.execute_input": "2021-03-23T20:37:22.319823Z",
     "iopub.status.busy": "2021-03-23T20:37:22.318977Z",
     "iopub.status.idle": "2021-03-23T20:37:22.328729Z",
     "shell.execute_reply": "2021-03-23T20:37:22.327523Z"
    },
    "papermill": {
     "duration": 0.045825,
     "end_time": "2021-03-23T20:37:22.328987",
     "exception": false,
     "start_time": "2021-03-23T20:37:22.283162",
     "status": "completed"
    },
    "tags": []
   },
   "outputs": [
    {
     "data": {
      "application/javascript": [
       "parent.postMessage({\"jupyterEvent\": \"custom.exercise_interaction\", \"data\": {\"outcomeType\": 1, \"valueTowardsCompletion\": 0.25, \"interactionType\": 1, \"questionType\": 1, \"questionId\": \"4_CandySplitting\", \"learnToolsVersion\": \"0.3.4\", \"failureMessage\": \"\", \"exceptionClass\": \"\", \"trace\": \"\"}}, \"*\")"
      ],
      "text/plain": [
       "<IPython.core.display.Javascript object>"
      ]
     },
     "metadata": {},
     "output_type": "display_data"
    },
    {
     "data": {
      "text/markdown": [
       "<span style=\"color:#33cc33\">Correct</span>"
      ],
      "text/plain": [
       "Correct"
      ]
     },
     "metadata": {},
     "output_type": "display_data"
    },
    {
     "name": "stdout",
     "output_type": "stream",
     "text": [
      "to_smash:  1\n"
     ]
    }
   ],
   "source": [
    "# Variables representing the number of candies collected by alice, bob, and carol\n",
    "alice_candies = 121\n",
    "bob_candies = 77\n",
    "carol_candies = 109\n",
    "\n",
    "# Your code goes here! Replace the right-hand side of this assignment with an expression\n",
    "# involving alice_candies, bob_candies, and carol_candies\n",
    "to_smash = (alice_candies + bob_candies + carol_candies) % 3\n",
    "\n",
    "# Check your answer\n",
    "q4.check()\n",
    "print(\"to_smash: \", to_smash)"
   ]
  },
  {
   "cell_type": "code",
   "execution_count": 19,
   "metadata": {
    "execution": {
     "iopub.execute_input": "2021-03-23T20:37:22.397746Z",
     "iopub.status.busy": "2021-03-23T20:37:22.396934Z",
     "iopub.status.idle": "2021-03-23T20:37:22.401165Z",
     "shell.execute_reply": "2021-03-23T20:37:22.400414Z"
    },
    "papermill": {
     "duration": 0.040465,
     "end_time": "2021-03-23T20:37:22.401329",
     "exception": false,
     "start_time": "2021-03-23T20:37:22.360864",
     "status": "completed"
    },
    "tags": []
   },
   "outputs": [],
   "source": [
    "#q4.hint()\n",
    "#q4.solution()"
   ]
  },
  {
   "cell_type": "markdown",
   "metadata": {
    "papermill": {
     "duration": 0.031372,
     "end_time": "2021-03-23T20:37:22.464707",
     "exception": false,
     "start_time": "2021-03-23T20:37:22.433335",
     "status": "completed"
    },
    "tags": []
   },
   "source": [
    "# Keep Going\n",
    "\n",
    "Next up, you'll **[learn to write new functions and understand functions others write](https://www.kaggle.com/colinmorris/functions-and-getting-help)**. This will make you at least 10 times more productive as a Python programmer. "
   ]
  },
  {
   "cell_type": "markdown",
   "metadata": {
    "papermill": {
     "duration": 0.030845,
     "end_time": "2021-03-23T20:37:22.526512",
     "exception": false,
     "start_time": "2021-03-23T20:37:22.495667",
     "status": "completed"
    },
    "tags": []
   },
   "source": [
    "---\n",
    "\n",
    "\n",
    "\n",
    "\n",
    "*Have questions or comments? Visit the [Learn Discussion forum](https://www.kaggle.com/learn-forum/161283) to chat with other Learners.*"
   ]
  }
 ],
 "metadata": {
  "kernelspec": {
   "display_name": "Python 3",
   "language": "python",
   "name": "python3"
  },
  "language_info": {
   "codemirror_mode": {
    "name": "ipython",
    "version": 3
   },
   "file_extension": ".py",
   "mimetype": "text/x-python",
   "name": "python",
   "nbconvert_exporter": "python",
   "pygments_lexer": "ipython3",
   "version": "3.7.9"
  },
  "papermill": {
   "default_parameters": {},
   "duration": 10.437648,
   "end_time": "2021-03-23T20:37:23.170194",
   "environment_variables": {},
   "exception": null,
   "input_path": "__notebook__.ipynb",
   "output_path": "__notebook__.ipynb",
   "parameters": {},
   "start_time": "2021-03-23T20:37:12.732546",
   "version": "2.2.2"
  }
 },
 "nbformat": 4,
 "nbformat_minor": 4
}
