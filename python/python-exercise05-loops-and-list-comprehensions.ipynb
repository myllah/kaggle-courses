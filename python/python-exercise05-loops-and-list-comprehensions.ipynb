{
 "cells": [
  {
   "cell_type": "markdown",
   "metadata": {
    "papermill": {
     "duration": 0.015589,
     "end_time": "2021-03-23T22:26:53.114456",
     "exception": false,
     "start_time": "2021-03-23T22:26:53.098867",
     "status": "completed"
    },
    "tags": []
   },
   "source": [
    "### Python-Exercise05: Loops and List Comprehensions\n"
   ]
  },
  {
   "cell_type": "markdown",
   "metadata": {
    "papermill": {
     "duration": 0.013982,
     "end_time": "2021-03-23T22:26:53.142806",
     "exception": false,
     "start_time": "2021-03-23T22:26:53.128824",
     "status": "completed"
    },
    "tags": []
   },
   "source": [
    "**This notebook is an exercise in the [Python](https://www.kaggle.com/learn/python) course.  You can reference the tutorial at [this link](https://www.kaggle.com/colinmorris/loops-and-list-comprehensions).**\n",
    "\n",
    "> **This notebook is the fifth exercise in the [Python](https://www.kaggle.com/learn/python)  course. <span style = \"padding: 10px\"> It is the exercise of the fifth lesson, aka \"Loops and List Comprehensions\".**"
   ]
  },
  {
   "cell_type": "markdown",
   "metadata": {
    "papermill": {
     "duration": 0.013912,
     "end_time": "2021-03-23T22:26:53.171152",
     "exception": false,
     "start_time": "2021-03-23T22:26:53.157240",
     "status": "completed"
    },
    "tags": []
   },
   "source": [
    "# Try It Yourself\n",
    "\n",
    "With all you've learned, you can start writing much more interesting programs. See if you can solve the problems below.\n",
    "\n",
    "As always, run the setup code below before working on the questions."
   ]
  },
  {
   "cell_type": "code",
   "execution_count": 1,
   "metadata": {
    "execution": {
     "iopub.execute_input": "2021-03-23T22:26:53.205994Z",
     "iopub.status.busy": "2021-03-23T22:26:53.205321Z",
     "iopub.status.idle": "2021-03-23T22:26:53.252267Z",
     "shell.execute_reply": "2021-03-23T22:26:53.251595Z"
    },
    "papermill": {
     "duration": 0.067096,
     "end_time": "2021-03-23T22:26:53.252477",
     "exception": false,
     "start_time": "2021-03-23T22:26:53.185381",
     "status": "completed"
    },
    "tags": []
   },
   "outputs": [
    {
     "name": "stdout",
     "output_type": "stream",
     "text": [
      "Setup complete.\n"
     ]
    }
   ],
   "source": [
    "from learntools.core import binder; binder.bind(globals())\n",
    "from learntools.python.ex5 import *\n",
    "print('Setup complete.')"
   ]
  },
  {
   "cell_type": "markdown",
   "metadata": {
    "papermill": {
     "duration": 0.014344,
     "end_time": "2021-03-23T22:26:53.282240",
     "exception": false,
     "start_time": "2021-03-23T22:26:53.267896",
     "status": "completed"
    },
    "tags": []
   },
   "source": [
    "# Exercises"
   ]
  },
  {
   "cell_type": "markdown",
   "metadata": {
    "papermill": {
     "duration": 0.014524,
     "end_time": "2021-03-23T22:26:53.311412",
     "exception": false,
     "start_time": "2021-03-23T22:26:53.296888",
     "status": "completed"
    },
    "tags": []
   },
   "source": [
    "## 1.\n",
    "\n",
    "Have you ever felt debugging involved a bit of luck? The following program has a bug. Try to identify the bug and fix it."
   ]
  },
  {
   "cell_type": "code",
   "execution_count": 2,
   "metadata": {
    "execution": {
     "iopub.execute_input": "2021-03-23T22:26:53.347257Z",
     "iopub.status.busy": "2021-03-23T22:26:53.346583Z",
     "iopub.status.idle": "2021-03-23T22:26:53.350305Z",
     "shell.execute_reply": "2021-03-23T22:26:53.349758Z"
    },
    "papermill": {
     "duration": 0.024329,
     "end_time": "2021-03-23T22:26:53.350445",
     "exception": false,
     "start_time": "2021-03-23T22:26:53.326116",
     "status": "completed"
    },
    "tags": []
   },
   "outputs": [
    {
     "name": "stdout",
     "output_type": "stream",
     "text": [
      "False\n"
     ]
    }
   ],
   "source": [
    "def has_lucky_number(nums):\n",
    "    \"\"\"Return whether the given list of numbers is lucky. A lucky list contains\n",
    "    at least one number divisible by 7.\n",
    "    \"\"\"\n",
    "    for num in nums:\n",
    "        if num % 7 == 0:\n",
    "            return True\n",
    "        else:\n",
    "            return False\n",
    "        \n",
    "print(has_lucky_number([1,2,3,4,5,6,7]))"
   ]
  },
  {
   "cell_type": "markdown",
   "metadata": {
    "papermill": {
     "duration": 0.015196,
     "end_time": "2021-03-23T22:26:53.380917",
     "exception": false,
     "start_time": "2021-03-23T22:26:53.365721",
     "status": "completed"
    },
    "tags": []
   },
   "source": [
    "Try to identify the bug and fix it in the cell below:"
   ]
  },
  {
   "cell_type": "code",
   "execution_count": 3,
   "metadata": {
    "execution": {
     "iopub.execute_input": "2021-03-23T22:26:53.422597Z",
     "iopub.status.busy": "2021-03-23T22:26:53.421940Z",
     "iopub.status.idle": "2021-03-23T22:26:53.430296Z",
     "shell.execute_reply": "2021-03-23T22:26:53.429761Z"
    },
    "papermill": {
     "duration": 0.034335,
     "end_time": "2021-03-23T22:26:53.430433",
     "exception": false,
     "start_time": "2021-03-23T22:26:53.396098",
     "status": "completed"
    },
    "tags": []
   },
   "outputs": [
    {
     "name": "stdout",
     "output_type": "stream",
     "text": [
      "False\n",
      "True\n",
      "False\n",
      "True\n"
     ]
    },
    {
     "data": {
      "application/javascript": [
       "parent.postMessage({\"jupyterEvent\": \"custom.exercise_interaction\", \"data\": {\"outcomeType\": 1, \"valueTowardsCompletion\": 0.25, \"interactionType\": 1, \"questionType\": 2, \"questionId\": \"1_EarlyExitDebugging\", \"learnToolsVersion\": \"0.3.4\", \"failureMessage\": \"\", \"exceptionClass\": \"\", \"trace\": \"\"}}, \"*\")"
      ],
      "text/plain": [
       "<IPython.core.display.Javascript object>"
      ]
     },
     "metadata": {},
     "output_type": "display_data"
    },
    {
     "data": {
      "text/markdown": [
       "<span style=\"color:#33cc33\">Correct:</span> \n",
       "\n",
       "Remember that `return` causes a function to exit immediately. So our original implementation always ran for just one iteration. We can only return `False` if we've looked at every element of the list (and confirmed that none of them are lucky). Though we can return early if the answer is `True`:\n",
       "\n",
       "```python\n",
       "def has_lucky_number(nums):\n",
       "    for num in nums:\n",
       "        if num % 7 == 0:\n",
       "            return True\n",
       "    # We've exhausted the list without finding a lucky number\n",
       "    return False\n",
       "```\n",
       "\n",
       "Here's a one-line version using a list comprehension with Python's `any` function (you can read about what it does by calling `help(any)`):\n",
       "\n",
       "```python\n",
       "def has_lucky_number(nums):\n",
       "    return any([num % 7 == 0 for num in nums])\n",
       "```\n"
      ],
      "text/plain": [
       "Correct: \n",
       "\n",
       "Remember that `return` causes a function to exit immediately. So our original implementation always ran for just one iteration. We can only return `False` if we've looked at every element of the list (and confirmed that none of them are lucky). Though we can return early if the answer is `True`:\n",
       "\n",
       "```python\n",
       "def has_lucky_number(nums):\n",
       "    for num in nums:\n",
       "        if num % 7 == 0:\n",
       "            return True\n",
       "    # We've exhausted the list without finding a lucky number\n",
       "    return False\n",
       "```\n",
       "\n",
       "Here's a one-line version using a list comprehension with Python's `any` function (you can read about what it does by calling `help(any)`):\n",
       "\n",
       "```python\n",
       "def has_lucky_number(nums):\n",
       "    return any([num % 7 == 0 for num in nums])\n",
       "```"
      ]
     },
     "metadata": {},
     "output_type": "display_data"
    }
   ],
   "source": [
    "def has_lucky_number(nums):\n",
    "    \"\"\"Return whether the given list of numbers is lucky. A lucky list contains\n",
    "    at least one number divisible by 7.\n",
    "    \"\"\"\n",
    "    \n",
    "    for num in nums:\n",
    "        if num % 7 == 0:\n",
    "            return True\n",
    "    return False\n",
    "\n",
    "\n",
    "print(has_lucky_number([1, 2, 3, 4, 5, 6])) # false\n",
    "print(has_lucky_number([1, 2, 3, 4, 5, 6, 7])) # true\n",
    "print(has_lucky_number([11, 22, 33, 44])) # false\n",
    "print(has_lucky_number([7, 14, 21, 28])) # true\n",
    "\n",
    "# Check your answer\n",
    "q1.check()"
   ]
  },
  {
   "cell_type": "code",
   "execution_count": 4,
   "metadata": {
    "execution": {
     "iopub.execute_input": "2021-03-23T22:26:53.472007Z",
     "iopub.status.busy": "2021-03-23T22:26:53.471002Z",
     "iopub.status.idle": "2021-03-23T22:26:53.475883Z",
     "shell.execute_reply": "2021-03-23T22:26:53.475224Z"
    },
    "papermill": {
     "duration": 0.028651,
     "end_time": "2021-03-23T22:26:53.476040",
     "exception": false,
     "start_time": "2021-03-23T22:26:53.447389",
     "status": "completed"
    },
    "tags": []
   },
   "outputs": [
    {
     "name": "stdout",
     "output_type": "stream",
     "text": [
      "False\n",
      "True\n",
      "False\n",
      "True\n"
     ]
    }
   ],
   "source": [
    "### An alternative way ###\n",
    "def has_lucky_number(nums):\n",
    "    return any([num % 7 == 0 for num in nums])\n",
    "\n",
    "print(has_lucky_number([1, 2, 3, 4, 5, 6]))\n",
    "print(has_lucky_number([1, 2, 3, 4, 5, 6, 7]))\n",
    "print(has_lucky_number([11, 22, 33, 44]))\n",
    "print(has_lucky_number([7, 14, 21, 28]))"
   ]
  },
  {
   "cell_type": "code",
   "execution_count": 5,
   "metadata": {
    "execution": {
     "iopub.execute_input": "2021-03-23T22:26:53.516127Z",
     "iopub.status.busy": "2021-03-23T22:26:53.515278Z",
     "iopub.status.idle": "2021-03-23T22:26:53.518871Z",
     "shell.execute_reply": "2021-03-23T22:26:53.518335Z"
    },
    "papermill": {
     "duration": 0.024991,
     "end_time": "2021-03-23T22:26:53.519029",
     "exception": false,
     "start_time": "2021-03-23T22:26:53.494038",
     "status": "completed"
    },
    "tags": []
   },
   "outputs": [],
   "source": [
    "#q1.hint()\n",
    "#q1.solution()"
   ]
  },
  {
   "cell_type": "markdown",
   "metadata": {
    "papermill": {
     "duration": 0.017395,
     "end_time": "2021-03-23T22:26:53.553961",
     "exception": false,
     "start_time": "2021-03-23T22:26:53.536566",
     "status": "completed"
    },
    "tags": []
   },
   "source": [
    "## 2.\n",
    "\n",
    "### a.\n",
    "Look at the Python expression below. What do you think we'll get when we run it? When you've made your prediction, uncomment the code and run the cell to see if you were right."
   ]
  },
  {
   "cell_type": "code",
   "execution_count": 6,
   "metadata": {
    "execution": {
     "iopub.execute_input": "2021-03-23T22:26:53.593669Z",
     "iopub.status.busy": "2021-03-23T22:26:53.593033Z",
     "iopub.status.idle": "2021-03-23T22:26:53.625065Z",
     "shell.execute_reply": "2021-03-23T22:26:53.624531Z"
    },
    "papermill": {
     "duration": 0.053964,
     "end_time": "2021-03-23T22:26:53.625229",
     "exception": false,
     "start_time": "2021-03-23T22:26:53.571265",
     "status": "completed"
    },
    "tags": []
   },
   "outputs": [
    {
     "ename": "TypeError",
     "evalue": "'>' not supported between instances of 'list' and 'int'",
     "output_type": "error",
     "traceback": [
      "\u001b[0;31m---------------------------------------------------------------------------\u001b[0m",
      "\u001b[0;31mTypeError\u001b[0m                                 Traceback (most recent call last)",
      "\u001b[0;32m<ipython-input-6-6f064fcfe2b9>\u001b[0m in \u001b[0;36m<module>\u001b[0;34m\u001b[0m\n\u001b[0;32m----> 1\u001b[0;31m \u001b[0;34m[\u001b[0m\u001b[0;36m1\u001b[0m\u001b[0;34m,\u001b[0m \u001b[0;36m2\u001b[0m\u001b[0;34m,\u001b[0m \u001b[0;36m3\u001b[0m\u001b[0;34m,\u001b[0m \u001b[0;36m4\u001b[0m\u001b[0;34m]\u001b[0m \u001b[0;34m>\u001b[0m \u001b[0;36m2\u001b[0m\u001b[0;34m\u001b[0m\u001b[0;34m\u001b[0m\u001b[0m\n\u001b[0m",
      "\u001b[0;31mTypeError\u001b[0m: '>' not supported between instances of 'list' and 'int'"
     ]
    }
   ],
   "source": [
    "[1, 2, 3, 4] > 2"
   ]
  },
  {
   "cell_type": "markdown",
   "metadata": {
    "papermill": {
     "duration": 0.017617,
     "end_time": "2021-03-23T22:26:53.661131",
     "exception": false,
     "start_time": "2021-03-23T22:26:53.643514",
     "status": "completed"
    },
    "tags": []
   },
   "source": [
    "### b\n",
    "R and Python have some libraries (like numpy and pandas) compare each element of the list to 2 (i.e. do an 'element-wise' comparison) and give us a list of booleans like `[False, False, True, True]`. \n",
    "\n",
    "Implement a function that reproduces this behaviour, returning a list of booleans corresponding to whether the corresponding element is greater than n.\n"
   ]
  },
  {
   "cell_type": "code",
   "execution_count": 7,
   "metadata": {
    "execution": {
     "iopub.execute_input": "2021-03-23T22:26:53.704049Z",
     "iopub.status.busy": "2021-03-23T22:26:53.703087Z",
     "iopub.status.idle": "2021-03-23T22:26:53.711359Z",
     "shell.execute_reply": "2021-03-23T22:26:53.711877Z"
    },
    "papermill": {
     "duration": 0.033013,
     "end_time": "2021-03-23T22:26:53.712071",
     "exception": false,
     "start_time": "2021-03-23T22:26:53.679058",
     "status": "completed"
    },
    "tags": []
   },
   "outputs": [
    {
     "name": "stdout",
     "output_type": "stream",
     "text": [
      "[False, False, True, True]\n",
      "[False, False, False, False]\n"
     ]
    },
    {
     "data": {
      "application/javascript": [
       "parent.postMessage({\"jupyterEvent\": \"custom.exercise_interaction\", \"data\": {\"outcomeType\": 1, \"valueTowardsCompletion\": 0.25, \"interactionType\": 1, \"questionType\": 2, \"questionId\": \"2_ElementWiseComparison\", \"learnToolsVersion\": \"0.3.4\", \"failureMessage\": \"\", \"exceptionClass\": \"\", \"trace\": \"\"}}, \"*\")"
      ],
      "text/plain": [
       "<IPython.core.display.Javascript object>"
      ]
     },
     "metadata": {},
     "output_type": "display_data"
    },
    {
     "data": {
      "text/markdown": [
       "<span style=\"color:#33cc33\">Correct:</span> \n",
       "\n",
       "Here's one solution:\n",
       "```python\n",
       "def elementwise_greater_than(L, thresh):\n",
       "    res = []\n",
       "    for ele in L:\n",
       "        res.append(ele > thresh)\n",
       "    return res\n",
       "```\n",
       "\n",
       "And here's the list comprehension version:\n",
       "```python\n",
       "def elementwise_greater_than(L, thresh):\n",
       "    return [ele > thresh for ele in L]\n",
       "```\n"
      ],
      "text/plain": [
       "Correct: \n",
       "\n",
       "Here's one solution:\n",
       "```python\n",
       "def elementwise_greater_than(L, thresh):\n",
       "    res = []\n",
       "    for ele in L:\n",
       "        res.append(ele > thresh)\n",
       "    return res\n",
       "```\n",
       "\n",
       "And here's the list comprehension version:\n",
       "```python\n",
       "def elementwise_greater_than(L, thresh):\n",
       "    return [ele > thresh for ele in L]\n",
       "```"
      ]
     },
     "metadata": {},
     "output_type": "display_data"
    }
   ],
   "source": [
    "def elementwise_greater_than(L, thresh):\n",
    "    \"\"\"Return a list with the same length as L, where the value at index i is \n",
    "    True if L[i] is greater than thresh, and False otherwise.\n",
    "    \n",
    "    >>> elementwise_greater_than([1, 2, 3, 4], 2)\n",
    "    [False, False, True, True]\n",
    "    \"\"\"\n",
    "\n",
    "    return [l > thresh for l in L]\n",
    "\n",
    "### An alternative way - Opening ###\n",
    "#    r = []\n",
    "#    for l in L:\n",
    "#        if l > thresh:\n",
    "#            r.append(True)\n",
    "#        else:\n",
    "#            r.append(False)\n",
    "#    return r\n",
    "### An alternative way - Closing ###\n",
    "\n",
    "print(elementwise_greater_than([1, 2, 3, 4], 2))\n",
    "print(elementwise_greater_than([1, 1, 1, 1], 2))\n",
    "\n",
    "# Check your answer\n",
    "q2.check()"
   ]
  },
  {
   "cell_type": "code",
   "execution_count": 8,
   "metadata": {
    "execution": {
     "iopub.execute_input": "2021-03-23T22:26:53.755834Z",
     "iopub.status.busy": "2021-03-23T22:26:53.754925Z",
     "iopub.status.idle": "2021-03-23T22:26:53.758357Z",
     "shell.execute_reply": "2021-03-23T22:26:53.757745Z"
    },
    "papermill": {
     "duration": 0.026861,
     "end_time": "2021-03-23T22:26:53.758503",
     "exception": false,
     "start_time": "2021-03-23T22:26:53.731642",
     "status": "completed"
    },
    "tags": []
   },
   "outputs": [],
   "source": [
    "#q2.solution()"
   ]
  },
  {
   "cell_type": "markdown",
   "metadata": {
    "papermill": {
     "duration": 0.019711,
     "end_time": "2021-03-23T22:26:53.798208",
     "exception": false,
     "start_time": "2021-03-23T22:26:53.778497",
     "status": "completed"
    },
    "tags": []
   },
   "source": [
    "## 3.\n",
    "\n",
    "Complete the body of the function below according to its docstring."
   ]
  },
  {
   "cell_type": "code",
   "execution_count": 9,
   "metadata": {
    "execution": {
     "iopub.execute_input": "2021-03-23T22:26:53.846870Z",
     "iopub.status.busy": "2021-03-23T22:26:53.846124Z",
     "iopub.status.idle": "2021-03-23T22:26:53.854409Z",
     "shell.execute_reply": "2021-03-23T22:26:53.853853Z"
    },
    "papermill": {
     "duration": 0.036329,
     "end_time": "2021-03-23T22:26:53.854554",
     "exception": false,
     "start_time": "2021-03-23T22:26:53.818225",
     "status": "completed"
    },
    "tags": []
   },
   "outputs": [
    {
     "name": "stdout",
     "output_type": "stream",
     "text": [
      "True\n",
      "False\n",
      "False\n",
      "True\n"
     ]
    },
    {
     "data": {
      "application/javascript": [
       "parent.postMessage({\"jupyterEvent\": \"custom.exercise_interaction\", \"data\": {\"outcomeType\": 1, \"valueTowardsCompletion\": 0.25, \"interactionType\": 1, \"questionType\": 2, \"questionId\": \"3_BoringMenu\", \"learnToolsVersion\": \"0.3.4\", \"failureMessage\": \"\", \"exceptionClass\": \"\", \"trace\": \"\"}}, \"*\")"
      ],
      "text/plain": [
       "<IPython.core.display.Javascript object>"
      ]
     },
     "metadata": {},
     "output_type": "display_data"
    },
    {
     "data": {
      "text/markdown": [
       "<span style=\"color:#33cc33\">Correct:</span> \n",
       "\n",
       "\n",
       "\n",
       "```python\n",
       "def menu_is_boring(meals):\n",
       "    # Iterate over all indices of the list, except the last one\n",
       "    for i in range(len(meals)-1):\n",
       "        if meals[i] == meals[i+1]:\n",
       "            return True\n",
       "    return False\n",
       "```\n",
       "\n",
       "The key to our solution is the call to `range`. `range(len(meals))` would give us all the indices of `meals`. If we had used that range, the last iteration of the loop would be comparing the last element to the element after it, which is... `IndexError`! `range(len(meals)-1)` gives us all the indices except the index of the last element.\n",
       "\n",
       "But don't we need to check if `meals` is empty? Turns out that `range(0) == range(-1)` - they're both empty. So if `meals` has length 0 or 1, we just won't do any iterations of our for loop.\n"
      ],
      "text/plain": [
       "Correct: \n",
       "\n",
       "\n",
       "\n",
       "```python\n",
       "def menu_is_boring(meals):\n",
       "    # Iterate over all indices of the list, except the last one\n",
       "    for i in range(len(meals)-1):\n",
       "        if meals[i] == meals[i+1]:\n",
       "            return True\n",
       "    return False\n",
       "```\n",
       "\n",
       "The key to our solution is the call to `range`. `range(len(meals))` would give us all the indices of `meals`. If we had used that range, the last iteration of the loop would be comparing the last element to the element after it, which is... `IndexError`! `range(len(meals)-1)` gives us all the indices except the index of the last element.\n",
       "\n",
       "But don't we need to check if `meals` is empty? Turns out that `range(0) == range(-1)` - they're both empty. So if `meals` has length 0 or 1, we just won't do any iterations of our for loop."
      ]
     },
     "metadata": {},
     "output_type": "display_data"
    }
   ],
   "source": [
    "def menu_is_boring(meals):\n",
    "    \"\"\"Given a list of meals served over some period of time, return True if the\n",
    "    same meal has ever been served two days in a row, and False otherwise.\n",
    "    \n",
    "    >>> m = ['pasta', 'pasta', 'pizza']\n",
    "    >>> print(menu_is_boring(m))\n",
    "    True\n",
    "    ### It was served pasta two days in a row ###\n",
    "    \"\"\"\n",
    "    \n",
    "    for i in range(len(meals)-1):\n",
    "        if meals[i] == meals[i+1]:\n",
    "            return True\n",
    "    return False\n",
    "\n",
    "### An alternative way - Opening ###\n",
    "#    i = 0\n",
    "#    while i < (len(meals) - 1):\n",
    "#        if meals[i] == meals[i+1]:\n",
    "#            return True\n",
    "#        i += 1\n",
    "#    return False\n",
    "### An alternative way - Closing ###\n",
    "\n",
    "m = ['a', 'b', 'b']\n",
    "print(menu_is_boring(m))\n",
    "m = ['Spam', 'Eggs', 'Bacon', 'Spam']\n",
    "print(menu_is_boring(m))\n",
    "m = ['Spam', 'Eggs']\n",
    "print(menu_is_boring(m))\n",
    "m = ['pasta', 'pasta', 'pizza']\n",
    "print(menu_is_boring(m))\n",
    "\n",
    "# Check your answer\n",
    "q3.check()"
   ]
  },
  {
   "cell_type": "code",
   "execution_count": 10,
   "metadata": {
    "execution": {
     "iopub.execute_input": "2021-03-23T22:26:53.901884Z",
     "iopub.status.busy": "2021-03-23T22:26:53.901191Z",
     "iopub.status.idle": "2021-03-23T22:26:53.904150Z",
     "shell.execute_reply": "2021-03-23T22:26:53.903634Z"
    },
    "papermill": {
     "duration": 0.028646,
     "end_time": "2021-03-23T22:26:53.904328",
     "exception": false,
     "start_time": "2021-03-23T22:26:53.875682",
     "status": "completed"
    },
    "tags": []
   },
   "outputs": [],
   "source": [
    "#q3.hint()\n",
    "#q3.solution()"
   ]
  },
  {
   "cell_type": "markdown",
   "metadata": {
    "papermill": {
     "duration": 0.020995,
     "end_time": "2021-03-23T22:26:53.946479",
     "exception": false,
     "start_time": "2021-03-23T22:26:53.925484",
     "status": "completed"
    },
    "tags": []
   },
   "source": [
    "## 4. <span title=\"A bit spicy\" style=\"color: darkgreen \">🌶️</span>\n",
    "\n",
    "Next to the Blackjack table, the Python Challenge Casino has a slot machine. You can get a result from the slot machine by calling `play_slot_machine()`. The number it returns is your winnings in dollars. Usually it returns 0.  But sometimes you'll get lucky and get a big payday. Try running it below:"
   ]
  },
  {
   "cell_type": "code",
   "execution_count": 11,
   "metadata": {
    "execution": {
     "iopub.execute_input": "2021-03-23T22:26:53.993537Z",
     "iopub.status.busy": "2021-03-23T22:26:53.992820Z",
     "iopub.status.idle": "2021-03-23T22:26:53.995872Z",
     "shell.execute_reply": "2021-03-23T22:26:53.996392Z"
    },
    "papermill": {
     "duration": 0.028922,
     "end_time": "2021-03-23T22:26:53.996563",
     "exception": false,
     "start_time": "2021-03-23T22:26:53.967641",
     "status": "completed"
    },
    "tags": []
   },
   "outputs": [
    {
     "data": {
      "text/plain": [
       "1.5"
      ]
     },
     "execution_count": 11,
     "metadata": {},
     "output_type": "execute_result"
    }
   ],
   "source": [
    "play_slot_machine()"
   ]
  },
  {
   "cell_type": "markdown",
   "metadata": {
    "papermill": {
     "duration": 0.022401,
     "end_time": "2021-03-23T22:26:54.040573",
     "exception": false,
     "start_time": "2021-03-23T22:26:54.018172",
     "status": "completed"
    },
    "tags": []
   },
   "source": [
    "By the way, did we mention that each play costs $1? Don't worry, we'll send you the bill later.\n",
    "\n",
    "On average, how much money can you expect to gain (or lose) every time you play the machine?  The casino keeps it a secret, but you can estimate the average value of each pull using a technique called the **Monte Carlo method**. To estimate the average outcome, we simulate the scenario many times, and return the average result.\n",
    "\n",
    "Complete the following function to calculate the average value per play of the slot machine."
   ]
  },
  {
   "cell_type": "code",
   "execution_count": 12,
   "metadata": {
    "execution": {
     "iopub.execute_input": "2021-03-23T22:26:54.087899Z",
     "iopub.status.busy": "2021-03-23T22:26:54.087197Z",
     "iopub.status.idle": "2021-03-23T22:27:49.020469Z",
     "shell.execute_reply": "2021-03-23T22:27:49.021000Z"
    },
    "papermill": {
     "duration": 54.958959,
     "end_time": "2021-03-23T22:27:49.021191",
     "exception": false,
     "start_time": "2021-03-23T22:26:54.062232",
     "status": "completed"
    },
    "tags": []
   },
   "outputs": [
    {
     "name": "stdout",
     "output_type": "stream",
     "text": [
      "-0.0585\n",
      "-0.10245\n",
      "0.02702\n",
      "0.034001\n",
      "0.02705145\n",
      "The next one is the most accurate and may take a while, just a second...\n",
      "0.02551911\n",
      "Have a nice day\n"
     ]
    }
   ],
   "source": [
    "def estimate_average_slot_payout(n_runs):\n",
    "    \"\"\"Run the slot machine n_runs times and return the average net profit per run.\n",
    "    Example calls (note that return value is nondeterministic!):\n",
    "    >>> estimate_average_slot_payout(1)\n",
    "    -1\n",
    "    >>> estimate_average_slot_payout(1)\n",
    "    0.5\n",
    "    \"\"\"\n",
    "    \n",
    "    play = []\n",
    "    i = 0\n",
    "    while i < n_runs:\n",
    "        play.append(play_slot_machine())\n",
    "        i += 1\n",
    "    \n",
    "    soma = sum(play)\n",
    "    \n",
    "    return (soma - n_runs) / n_runs\n",
    "    \n",
    "print(estimate_average_slot_payout(1000))\n",
    "print(estimate_average_slot_payout(10000))\n",
    "print(estimate_average_slot_payout(100000))\n",
    "print(estimate_average_slot_payout(1000000))\n",
    "print(estimate_average_slot_payout(10000000))\n",
    "print(\"The next one is the most accurate and may take a while, just a second...\")\n",
    "print(estimate_average_slot_payout(100000000))\n",
    "print(\"Have a nice day\")"
   ]
  },
  {
   "cell_type": "markdown",
   "metadata": {
    "papermill": {
     "duration": 0.023656,
     "end_time": "2021-03-23T22:27:49.067750",
     "exception": false,
     "start_time": "2021-03-23T22:27:49.044094",
     "status": "completed"
    },
    "tags": []
   },
   "source": [
    "When you think you know the expected value per spin, run the code cell below to view the solution and get credit for answering the question."
   ]
  },
  {
   "cell_type": "code",
   "execution_count": 13,
   "metadata": {
    "execution": {
     "iopub.execute_input": "2021-03-23T22:27:49.117154Z",
     "iopub.status.busy": "2021-03-23T22:27:49.116503Z",
     "iopub.status.idle": "2021-03-23T22:27:49.123947Z",
     "shell.execute_reply": "2021-03-23T22:27:49.123263Z"
    },
    "papermill": {
     "duration": 0.033218,
     "end_time": "2021-03-23T22:27:49.124102",
     "exception": false,
     "start_time": "2021-03-23T22:27:49.090884",
     "status": "completed"
    },
    "tags": []
   },
   "outputs": [
    {
     "data": {
      "application/javascript": [
       "parent.postMessage({\"jupyterEvent\": \"custom.exercise_interaction\", \"data\": {\"interactionType\": 3, \"questionType\": 4, \"questionId\": \"4_ExpectedSlotsPayout\", \"learnToolsVersion\": \"0.3.4\", \"valueTowardsCompletion\": 0.0, \"failureMessage\": \"\", \"exceptionClass\": \"\", \"trace\": \"\", \"outcomeType\": 4}}, \"*\")"
      ],
      "text/plain": [
       "<IPython.core.display.Javascript object>"
      ]
     },
     "metadata": {},
     "output_type": "display_data"
    },
    {
     "data": {
      "text/markdown": [
       "<span style=\"color:#33cc99\">Solution:</span> The exact expected value of one pull of the slot machine is 0.025 - i.e. a little more than 2 cents. See? Not every game in the Python Challenge Casino is rigged against the player!\n",
       "\n",
       "Because of the high variance of the outcome (there are some very rare high payout results that significantly affect the average) you might need to run your function with a very high value of `n_runs` to get a stable answer close to the true expectation.\n",
       "\n",
       "If your answer is way higher than 0.025, then maybe you forgot to account for the $1 cost per play?"
      ],
      "text/plain": [
       "Solution: The exact expected value of one pull of the slot machine is 0.025 - i.e. a little more than 2 cents. See? Not every game in the Python Challenge Casino is rigged against the player!\n",
       "\n",
       "Because of the high variance of the outcome (there are some very rare high payout results that significantly affect the average) you might need to run your function with a very high value of `n_runs` to get a stable answer close to the true expectation.\n",
       "\n",
       "If your answer is way higher than 0.025, then maybe you forgot to account for the $1 cost per play?"
      ]
     },
     "metadata": {},
     "output_type": "display_data"
    }
   ],
   "source": [
    "# Check your answer (Run this code cell to receive credit!)\n",
    "q4.solution()"
   ]
  },
  {
   "cell_type": "markdown",
   "metadata": {
    "papermill": {
     "duration": 0.023688,
     "end_time": "2021-03-23T22:27:49.171874",
     "exception": false,
     "start_time": "2021-03-23T22:27:49.148186",
     "status": "completed"
    },
    "tags": []
   },
   "source": [
    "# Keep Going\n",
    "\n",
    "Many programmers report that dictionaries are their favorite data structure. You'll get to **[learn about them](https://www.kaggle.com/colinmorris/strings-and-dictionaries)** (as well as strings) in the next lesson."
   ]
  },
  {
   "cell_type": "markdown",
   "metadata": {
    "papermill": {
     "duration": 0.023653,
     "end_time": "2021-03-23T22:27:49.219754",
     "exception": false,
     "start_time": "2021-03-23T22:27:49.196101",
     "status": "completed"
    },
    "tags": []
   },
   "source": [
    "---\n",
    "\n",
    "\n",
    "\n",
    "\n",
    "*Have questions or comments? Visit the [Learn Discussion forum](https://www.kaggle.com/learn-forum/161283) to chat with other Learners.*"
   ]
  }
 ],
 "metadata": {
  "kernelspec": {
   "display_name": "Python 3",
   "language": "python",
   "name": "python3"
  },
  "language_info": {
   "codemirror_mode": {
    "name": "ipython",
    "version": 3
   },
   "file_extension": ".py",
   "mimetype": "text/x-python",
   "name": "python",
   "nbconvert_exporter": "python",
   "pygments_lexer": "ipython3",
   "version": "3.7.9"
  },
  "papermill": {
   "default_parameters": {},
   "duration": 62.755175,
   "end_time": "2021-03-23T22:27:49.854901",
   "environment_variables": {},
   "exception": null,
   "input_path": "__notebook__.ipynb",
   "output_path": "__notebook__.ipynb",
   "parameters": {},
   "start_time": "2021-03-23T22:26:47.099726",
   "version": "2.2.2"
  }
 },
 "nbformat": 4,
 "nbformat_minor": 4
}
