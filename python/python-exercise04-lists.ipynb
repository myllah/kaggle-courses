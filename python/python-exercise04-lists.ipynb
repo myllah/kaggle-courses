{
 "cells": [
  {
   "cell_type": "markdown",
   "metadata": {
    "papermill": {
     "duration": 0.013482,
     "end_time": "2021-03-23T22:20:06.178857",
     "exception": false,
     "start_time": "2021-03-23T22:20:06.165375",
     "status": "completed"
    },
    "tags": []
   },
   "source": [
    "### Python-Exercise04: Lists"
   ]
  },
  {
   "cell_type": "markdown",
   "metadata": {
    "papermill": {
     "duration": 0.011601,
     "end_time": "2021-03-23T22:20:06.202729",
     "exception": false,
     "start_time": "2021-03-23T22:20:06.191128",
     "status": "completed"
    },
    "tags": []
   },
   "source": [
    "**This notebook is an exercise in the [Python](https://www.kaggle.com/learn/python) course.  You can reference the tutorial at [this link](https://www.kaggle.com/colinmorris/lists).**\n",
    "\n",
    "> **This notebook is the fourth exercise in the [Python](https://www.kaggle.com/learn/python)  course. <span style = \"padding: 10px\"> It is the exercise of the fourth lesson, aka \"Lists\".**"
   ]
  },
  {
   "cell_type": "markdown",
   "metadata": {
    "papermill": {
     "duration": 0.011885,
     "end_time": "2021-03-23T22:20:06.226642",
     "exception": false,
     "start_time": "2021-03-23T22:20:06.214757",
     "status": "completed"
    },
    "tags": []
   },
   "source": [
    "# Try It Yourself\n",
    "\n",
    "Things get more interesting with lists. See if you can solve the questions below. Remember to run the following cell first."
   ]
  },
  {
   "cell_type": "code",
   "execution_count": 1,
   "metadata": {
    "execution": {
     "iopub.execute_input": "2021-03-23T22:20:06.255019Z",
     "iopub.status.busy": "2021-03-23T22:20:06.254139Z",
     "iopub.status.idle": "2021-03-23T22:20:06.316063Z",
     "shell.execute_reply": "2021-03-23T22:20:06.316846Z"
    },
    "papermill": {
     "duration": 0.078663,
     "end_time": "2021-03-23T22:20:06.317345",
     "exception": false,
     "start_time": "2021-03-23T22:20:06.238682",
     "status": "completed"
    },
    "tags": []
   },
   "outputs": [
    {
     "name": "stdout",
     "output_type": "stream",
     "text": [
      "Setup complete.\n"
     ]
    }
   ],
   "source": [
    "from learntools.core import binder; binder.bind(globals())\n",
    "from learntools.python.ex4 import *\n",
    "print('Setup complete.')"
   ]
  },
  {
   "cell_type": "markdown",
   "metadata": {
    "papermill": {
     "duration": 0.012214,
     "end_time": "2021-03-23T22:20:06.343241",
     "exception": false,
     "start_time": "2021-03-23T22:20:06.331027",
     "status": "completed"
    },
    "tags": []
   },
   "source": [
    "# Exercises"
   ]
  },
  {
   "cell_type": "markdown",
   "metadata": {
    "papermill": {
     "duration": 0.014012,
     "end_time": "2021-03-23T22:20:06.371368",
     "exception": false,
     "start_time": "2021-03-23T22:20:06.357356",
     "status": "completed"
    },
    "tags": []
   },
   "source": [
    "## 1.\n",
    "\n",
    "Complete the function below according to its docstring."
   ]
  },
  {
   "cell_type": "code",
   "execution_count": 2,
   "metadata": {
    "execution": {
     "iopub.execute_input": "2021-03-23T22:20:06.410951Z",
     "iopub.status.busy": "2021-03-23T22:20:06.409574Z",
     "iopub.status.idle": "2021-03-23T22:20:06.419130Z",
     "shell.execute_reply": "2021-03-23T22:20:06.418357Z"
    },
    "papermill": {
     "duration": 0.033493,
     "end_time": "2021-03-23T22:20:06.419309",
     "exception": false,
     "start_time": "2021-03-23T22:20:06.385816",
     "status": "completed"
    },
    "tags": []
   },
   "outputs": [
    {
     "name": "stdout",
     "output_type": "stream",
     "text": [
      "O segundo da lista é b\n",
      "O segundo da lista é None\n"
     ]
    },
    {
     "data": {
      "application/javascript": [
       "parent.postMessage({\"jupyterEvent\": \"custom.exercise_interaction\", \"data\": {\"outcomeType\": 1, \"valueTowardsCompletion\": 0.2, \"interactionType\": 1, \"questionType\": 2, \"questionId\": \"1_SelectSecondItem\", \"learnToolsVersion\": \"0.3.4\", \"failureMessage\": \"\", \"exceptionClass\": \"\", \"trace\": \"\"}}, \"*\")"
      ],
      "text/plain": [
       "<IPython.core.display.Javascript object>"
      ]
     },
     "metadata": {},
     "output_type": "display_data"
    },
    {
     "data": {
      "text/markdown": [
       "<span style=\"color:#33cc33\">Correct</span>"
      ],
      "text/plain": [
       "Correct"
      ]
     },
     "metadata": {},
     "output_type": "display_data"
    }
   ],
   "source": [
    "def select_second(L):\n",
    "    \"\"\"Return the second element of the given list. If the list has no second\n",
    "    element, return None.\n",
    "    \"\"\"\n",
    "    \n",
    "    if len(L) > 2:\n",
    "        return L[1]\n",
    "    else:\n",
    "        return None\n",
    "\n",
    "# Testing examples\n",
    "lista = ['a', 'b', 'c', 'd', 'e']\n",
    "print(\"O segundo da lista é\", select_second(lista))\n",
    "lista = ['a']\n",
    "print(\"O segundo da lista é\", select_second(lista))\n",
    "\n",
    "# Check your answer\n",
    "q1.check()"
   ]
  },
  {
   "cell_type": "code",
   "execution_count": 3,
   "metadata": {
    "collapsed": true,
    "execution": {
     "iopub.execute_input": "2021-03-23T22:20:06.453396Z",
     "iopub.status.busy": "2021-03-23T22:20:06.452631Z",
     "iopub.status.idle": "2021-03-23T22:20:06.456591Z",
     "shell.execute_reply": "2021-03-23T22:20:06.456012Z"
    },
    "papermill": {
     "duration": 0.023126,
     "end_time": "2021-03-23T22:20:06.456756",
     "exception": false,
     "start_time": "2021-03-23T22:20:06.433630",
     "status": "completed"
    },
    "tags": []
   },
   "outputs": [],
   "source": [
    "#q1.hint()\n",
    "#q1.solution()"
   ]
  },
  {
   "cell_type": "markdown",
   "metadata": {
    "papermill": {
     "duration": 0.014629,
     "end_time": "2021-03-23T22:20:06.485577",
     "exception": false,
     "start_time": "2021-03-23T22:20:06.470948",
     "status": "completed"
    },
    "tags": []
   },
   "source": [
    "## 2.\n",
    "\n",
    "You are analyzing sports teams.  Members of each team are stored in a list. The Coach is the first name in the list, the captain is the second name in the list, and other players are listed after that. \n",
    "These lists are stored in another list, which starts with the best team and proceeds through the list to the worst team last.  Complete the function below to select the **captain** of the worst team."
   ]
  },
  {
   "cell_type": "code",
   "execution_count": 4,
   "metadata": {
    "execution": {
     "iopub.execute_input": "2021-03-23T22:20:06.523230Z",
     "iopub.status.busy": "2021-03-23T22:20:06.522078Z",
     "iopub.status.idle": "2021-03-23T22:20:06.529801Z",
     "shell.execute_reply": "2021-03-23T22:20:06.529164Z"
    },
    "papermill": {
     "duration": 0.030171,
     "end_time": "2021-03-23T22:20:06.530001",
     "exception": false,
     "start_time": "2021-03-23T22:20:06.499830",
     "status": "completed"
    },
    "tags": []
   },
   "outputs": [
    {
     "name": "stdout",
     "output_type": "stream",
     "text": [
      "captain3\n"
     ]
    },
    {
     "data": {
      "application/javascript": [
       "parent.postMessage({\"jupyterEvent\": \"custom.exercise_interaction\", \"data\": {\"outcomeType\": 1, \"valueTowardsCompletion\": 0.2, \"interactionType\": 1, \"questionType\": 2, \"questionId\": \"2_LosingTeamCaptain\", \"learnToolsVersion\": \"0.3.4\", \"failureMessage\": \"\", \"exceptionClass\": \"\", \"trace\": \"\"}}, \"*\")"
      ],
      "text/plain": [
       "<IPython.core.display.Javascript object>"
      ]
     },
     "metadata": {},
     "output_type": "display_data"
    },
    {
     "data": {
      "text/markdown": [
       "<span style=\"color:#33cc33\">Correct</span>"
      ],
      "text/plain": [
       "Correct"
      ]
     },
     "metadata": {},
     "output_type": "display_data"
    }
   ],
   "source": [
    "def losing_team_captain(teams):\n",
    "    \"\"\"Given a list of teams, where each team is a list of names, return the 2nd player (captain)\n",
    "    from the last listed team\n",
    "    \"\"\"\n",
    "    return teams[-1][1]\n",
    "\n",
    "# Testing examples\n",
    "t = [['coach1', 'captain1', 'member1', 'member1', 'member1'],\n",
    "    ['coach2', 'captain2', 'member2', 'member2', 'member2'],\n",
    "    ['coach3', 'captain3', 'member3', 'member3', 'member3']]\n",
    "print(losing_team_captain(t))\n",
    "\n",
    "# Check your answer\n",
    "q2.check()"
   ]
  },
  {
   "cell_type": "code",
   "execution_count": 5,
   "metadata": {
    "collapsed": true,
    "execution": {
     "iopub.execute_input": "2021-03-23T22:20:06.567743Z",
     "iopub.status.busy": "2021-03-23T22:20:06.567062Z",
     "iopub.status.idle": "2021-03-23T22:20:06.571164Z",
     "shell.execute_reply": "2021-03-23T22:20:06.570581Z"
    },
    "papermill": {
     "duration": 0.023846,
     "end_time": "2021-03-23T22:20:06.571319",
     "exception": false,
     "start_time": "2021-03-23T22:20:06.547473",
     "status": "completed"
    },
    "tags": []
   },
   "outputs": [],
   "source": [
    "#q2.hint()\n",
    "#q2.solution()"
   ]
  },
  {
   "cell_type": "markdown",
   "metadata": {
    "papermill": {
     "duration": 0.015927,
     "end_time": "2021-03-23T22:20:06.605761",
     "exception": false,
     "start_time": "2021-03-23T22:20:06.589834",
     "status": "completed"
    },
    "tags": []
   },
   "source": [
    "## 3.\n",
    "\n",
    "The next iteration of Mario Kart will feature an extra-infuriating new item, the *Purple Shell*. When used, it warps the last place racer into first place and the first place racer into last place. Complete the function below to implement the Purple Shell's effect."
   ]
  },
  {
   "cell_type": "code",
   "execution_count": 6,
   "metadata": {
    "execution": {
     "iopub.execute_input": "2021-03-23T22:20:06.646031Z",
     "iopub.status.busy": "2021-03-23T22:20:06.644890Z",
     "iopub.status.idle": "2021-03-23T22:20:06.653235Z",
     "shell.execute_reply": "2021-03-23T22:20:06.653714Z"
    },
    "papermill": {
     "duration": 0.032382,
     "end_time": "2021-03-23T22:20:06.653918",
     "exception": false,
     "start_time": "2021-03-23T22:20:06.621536",
     "status": "completed"
    },
    "tags": []
   },
   "outputs": [
    {
     "name": "stdout",
     "output_type": "stream",
     "text": [
      "['Luigi', 'Bowser', 'Mario']\n"
     ]
    },
    {
     "data": {
      "application/javascript": [
       "parent.postMessage({\"jupyterEvent\": \"custom.exercise_interaction\", \"data\": {\"outcomeType\": 1, \"valueTowardsCompletion\": 0.2, \"interactionType\": 1, \"questionType\": 2, \"questionId\": \"3_PurpleShell\", \"learnToolsVersion\": \"0.3.4\", \"failureMessage\": \"\", \"exceptionClass\": \"\", \"trace\": \"\"}}, \"*\")"
      ],
      "text/plain": [
       "<IPython.core.display.Javascript object>"
      ]
     },
     "metadata": {},
     "output_type": "display_data"
    },
    {
     "data": {
      "text/markdown": [
       "<span style=\"color:#33cc33\">Correct</span>"
      ],
      "text/plain": [
       "Correct"
      ]
     },
     "metadata": {},
     "output_type": "display_data"
    }
   ],
   "source": [
    "def purple_shell(racers):\n",
    "    \"\"\"Given a list of racers, set the first place racer (at the front of the list) to last\n",
    "    place and vice versa.\n",
    "    \n",
    "    >>> r = [\"Mario\", \"Bowser\", \"Luigi\"]\n",
    "    >>> purple_shell(r)\n",
    "    >>> r\n",
    "    [\"Luigi\", \"Bowser\", \"Mario\"]\n",
    "    \"\"\"\n",
    "    \n",
    "    racers[0], racers[-1] = racers[-1], racers[0]\n",
    "    \n",
    "    ### An alternative way ###\n",
    "    #aux = racers[0]\n",
    "    #racers[0] = racers[-1]\n",
    "    #racers[-1] = aux\n",
    "    \n",
    "\n",
    "# Testing examples\n",
    "r = [\"Mario\", \"Bowser\", \"Luigi\"]\n",
    "purple_shell(r)\n",
    "print(r)\n",
    "\n",
    "# Check your answer\n",
    "q3.check()"
   ]
  },
  {
   "cell_type": "code",
   "execution_count": 7,
   "metadata": {
    "execution": {
     "iopub.execute_input": "2021-03-23T22:20:06.693337Z",
     "iopub.status.busy": "2021-03-23T22:20:06.692633Z",
     "iopub.status.idle": "2021-03-23T22:20:06.697556Z",
     "shell.execute_reply": "2021-03-23T22:20:06.696777Z"
    },
    "papermill": {
     "duration": 0.026585,
     "end_time": "2021-03-23T22:20:06.697720",
     "exception": false,
     "start_time": "2021-03-23T22:20:06.671135",
     "status": "completed"
    },
    "tags": []
   },
   "outputs": [],
   "source": [
    "#q3.hint()\n",
    "#q3.solution()"
   ]
  },
  {
   "cell_type": "markdown",
   "metadata": {
    "papermill": {
     "duration": 0.017153,
     "end_time": "2021-03-23T22:20:06.732324",
     "exception": false,
     "start_time": "2021-03-23T22:20:06.715171",
     "status": "completed"
    },
    "tags": []
   },
   "source": [
    "## 4.\n",
    "\n",
    "What are the lengths of the following lists? Fill in the variable `lengths` with your predictions. (Try to make a prediction for each list *without* just calling `len()` on it.)"
   ]
  },
  {
   "cell_type": "code",
   "execution_count": 8,
   "metadata": {
    "execution": {
     "iopub.execute_input": "2021-03-23T22:20:06.775783Z",
     "iopub.status.busy": "2021-03-23T22:20:06.774927Z",
     "iopub.status.idle": "2021-03-23T22:20:06.782757Z",
     "shell.execute_reply": "2021-03-23T22:20:06.781756Z"
    },
    "papermill": {
     "duration": 0.033358,
     "end_time": "2021-03-23T22:20:06.782924",
     "exception": false,
     "start_time": "2021-03-23T22:20:06.749566",
     "status": "completed"
    },
    "tags": []
   },
   "outputs": [
    {
     "name": "stdout",
     "output_type": "stream",
     "text": [
      "3, 2, 0, 2\n"
     ]
    },
    {
     "data": {
      "application/javascript": [
       "parent.postMessage({\"jupyterEvent\": \"custom.exercise_interaction\", \"data\": {\"outcomeType\": 1, \"valueTowardsCompletion\": 0.2, \"interactionType\": 1, \"questionType\": 1, \"questionId\": \"4_UnderstandLen\", \"learnToolsVersion\": \"0.3.4\", \"failureMessage\": \"\", \"exceptionClass\": \"\", \"trace\": \"\"}}, \"*\")"
      ],
      "text/plain": [
       "<IPython.core.display.Javascript object>"
      ]
     },
     "metadata": {},
     "output_type": "display_data"
    },
    {
     "data": {
      "text/markdown": [
       "<span style=\"color:#33cc33\">Correct:</span> \n",
       "\n",
       "\n",
       "- a: There are three items in this list. Nothing tricky yet.\n",
       "- b: The list `[2, 3]` counts as a single item. It has one item before it. So we have 2 items in the list\n",
       "- c: The empty list has 0 items\n",
       "- d: The expression is the same as the list `[2, 3]`, which has length 2."
      ],
      "text/plain": [
       "Correct: \n",
       "\n",
       "\n",
       "- a: There are three items in this list. Nothing tricky yet.\n",
       "- b: The list `[2, 3]` counts as a single item. It has one item before it. So we have 2 items in the list\n",
       "- c: The empty list has 0 items\n",
       "- d: The expression is the same as the list `[2, 3]`, which has length 2."
      ]
     },
     "metadata": {},
     "output_type": "display_data"
    }
   ],
   "source": [
    "a = [1, 2, 3]\n",
    "b = [1, [2, 3]]\n",
    "c = []\n",
    "d = [1, 2, 3][1:]\n",
    "\n",
    "# Put your predictions in the list below. Lengths should contain 4 numbers, the\n",
    "# first being the length of a, the second being the length of b and so on.\n",
    "lengths = [3, 2, 0, 2]\n",
    "print(len(a), len(b), len(c), len(d), sep=\", \")\n",
    "\n",
    "# Check your answer\n",
    "q4.check()"
   ]
  },
  {
   "cell_type": "code",
   "execution_count": 9,
   "metadata": {
    "execution": {
     "iopub.execute_input": "2021-03-23T22:20:06.826277Z",
     "iopub.status.busy": "2021-03-23T22:20:06.825452Z",
     "iopub.status.idle": "2021-03-23T22:20:06.828760Z",
     "shell.execute_reply": "2021-03-23T22:20:06.828123Z"
    },
    "papermill": {
     "duration": 0.02709,
     "end_time": "2021-03-23T22:20:06.828922",
     "exception": false,
     "start_time": "2021-03-23T22:20:06.801832",
     "status": "completed"
    },
    "tags": []
   },
   "outputs": [],
   "source": [
    "# line below provides some explanation\n",
    "#q4.solution()"
   ]
  },
  {
   "cell_type": "markdown",
   "metadata": {
    "papermill": {
     "duration": 0.018503,
     "end_time": "2021-03-23T22:20:06.866577",
     "exception": false,
     "start_time": "2021-03-23T22:20:06.848074",
     "status": "completed"
    },
    "tags": []
   },
   "source": [
    "## 5. <span title=\"A bit spicy\" style=\"color: darkgreen \">🌶️</span>\n",
    "\n",
    "We're using lists to record people who attended our party and what order they arrived in. For example, the following list represents a party with 7 guests, in which Adela showed up first and Ford was the last to arrive:\n",
    "\n",
    "    party_attendees = ['Adela', 'Fleda', 'Owen', 'May', 'Mona', 'Gilbert', 'Ford']\n",
    "\n",
    "A guest is considered 'fashionably late' if they arrived after at least half of the party's guests. However, they must not be the very last guest (that's taking it too far). In the above example, Mona and Gilbert are the only guests who were fashionably late.\n",
    "\n",
    "Complete the function below which takes a list of party attendees as well as a person, and tells us whether that person is fashionably late."
   ]
  },
  {
   "cell_type": "code",
   "execution_count": 10,
   "metadata": {
    "execution": {
     "iopub.execute_input": "2021-03-23T22:20:06.914704Z",
     "iopub.status.busy": "2021-03-23T22:20:06.913776Z",
     "iopub.status.idle": "2021-03-23T22:20:06.921454Z",
     "shell.execute_reply": "2021-03-23T22:20:06.921989Z"
    },
    "papermill": {
     "duration": 0.036492,
     "end_time": "2021-03-23T22:20:06.922185",
     "exception": false,
     "start_time": "2021-03-23T22:20:06.885693",
     "status": "completed"
    },
    "tags": []
   },
   "outputs": [
    {
     "name": "stdout",
     "output_type": "stream",
     "text": [
      "False\n",
      "True\n",
      "True\n",
      "False\n"
     ]
    },
    {
     "data": {
      "application/javascript": [
       "parent.postMessage({\"jupyterEvent\": \"custom.exercise_interaction\", \"data\": {\"outcomeType\": 1, \"valueTowardsCompletion\": 0.2, \"interactionType\": 1, \"questionType\": 2, \"questionId\": \"5_FashionablyLate\", \"learnToolsVersion\": \"0.3.4\", \"failureMessage\": \"\", \"exceptionClass\": \"\", \"trace\": \"\"}}, \"*\")"
      ],
      "text/plain": [
       "<IPython.core.display.Javascript object>"
      ]
     },
     "metadata": {},
     "output_type": "display_data"
    },
    {
     "data": {
      "text/markdown": [
       "<span style=\"color:#33cc33\">Correct</span>"
      ],
      "text/plain": [
       "Correct"
      ]
     },
     "metadata": {},
     "output_type": "display_data"
    }
   ],
   "source": [
    "def fashionably_late(arrivals, name):\n",
    "    \"\"\"Given an ordered list of arrivals to the party and a name, return whether the guest with that\n",
    "    name was fashionably late.\n",
    "    \"\"\"\n",
    "    place = arrivals.index(name)\n",
    "    \n",
    "### An alternative way\n",
    "#    if (place >= (len(arrivals) / 2)) and (place != (len(arrivals) - 1)):\n",
    "#        return True\n",
    "#    else:\n",
    "#        return False\n",
    "\n",
    "    return place >= len(arrivals) / 2 and place != len(arrivals) - 1\n",
    "\n",
    "#Testing example\n",
    "party_attendees = ['Adela', 'Fleda', 'Owen', 'May', 'Mona', 'Gilbert', 'Ford']\n",
    "print(fashionably_late(party_attendees, 'May')) # false\n",
    "print(fashionably_late(party_attendees, 'Mona')) # true\n",
    "print(fashionably_late(party_attendees, 'Gilbert')) # true\n",
    "print(fashionably_late(party_attendees, 'Ford')) # false\n",
    "\n",
    "# Check your answer\n",
    "q5.check()"
   ]
  },
  {
   "cell_type": "code",
   "execution_count": 11,
   "metadata": {
    "execution": {
     "iopub.execute_input": "2021-03-23T22:20:06.971431Z",
     "iopub.status.busy": "2021-03-23T22:20:06.970318Z",
     "iopub.status.idle": "2021-03-23T22:20:06.977790Z",
     "shell.execute_reply": "2021-03-23T22:20:06.977175Z"
    },
    "papermill": {
     "duration": 0.0345,
     "end_time": "2021-03-23T22:20:06.977939",
     "exception": false,
     "start_time": "2021-03-23T22:20:06.943439",
     "status": "completed"
    },
    "tags": []
   },
   "outputs": [
    {
     "data": {
      "application/javascript": [
       "parent.postMessage({\"jupyterEvent\": \"custom.exercise_interaction\", \"data\": {\"interactionType\": 2, \"questionType\": 2, \"questionId\": \"5_FashionablyLate\", \"learnToolsVersion\": \"0.3.4\", \"valueTowardsCompletion\": 0.0, \"failureMessage\": \"\", \"exceptionClass\": \"\", \"trace\": \"\", \"outcomeType\": 4}}, \"*\")"
      ],
      "text/plain": [
       "<IPython.core.display.Javascript object>"
      ]
     },
     "metadata": {},
     "output_type": "display_data"
    },
    {
     "data": {
      "text/markdown": [
       "<span style=\"color:#3366cc\">Hint:</span> Use the index method to find when the person arrived. Check whether that is a fashionably late spot given the list length (`len`). Think about 0-indexing"
      ],
      "text/plain": [
       "Hint: Use the index method to find when the person arrived. Check whether that is a fashionably late spot given the list length (`len`). Think about 0-indexing"
      ]
     },
     "metadata": {},
     "output_type": "display_data"
    }
   ],
   "source": [
    "q5.hint()\n",
    "#q5.solution()"
   ]
  },
  {
   "cell_type": "markdown",
   "metadata": {
    "papermill": {
     "duration": 0.021251,
     "end_time": "2021-03-23T22:20:07.020684",
     "exception": false,
     "start_time": "2021-03-23T22:20:06.999433",
     "status": "completed"
    },
    "tags": []
   },
   "source": [
    "# Keep Going\n",
    "\n",
    "That's it for lists and tuples! Now you have the baseline knowledge to **[learn about loops](https://www.kaggle.com/colinmorris/loops-and-list-comprehensions)**, which is where lists and tuples get really interesting. "
   ]
  },
  {
   "cell_type": "markdown",
   "metadata": {
    "papermill": {
     "duration": 0.020907,
     "end_time": "2021-03-23T22:20:07.063584",
     "exception": false,
     "start_time": "2021-03-23T22:20:07.042677",
     "status": "completed"
    },
    "tags": []
   },
   "source": [
    "---\n",
    "\n",
    "\n",
    "\n",
    "\n",
    "*Have questions or comments? Visit the [Learn Discussion forum](https://www.kaggle.com/learn-forum/161283) to chat with other Learners.*"
   ]
  }
 ],
 "metadata": {
  "kernelspec": {
   "display_name": "Python 3",
   "language": "python",
   "name": "python3"
  },
  "language_info": {
   "codemirror_mode": {
    "name": "ipython",
    "version": 3
   },
   "file_extension": ".py",
   "mimetype": "text/x-python",
   "name": "python",
   "nbconvert_exporter": "python",
   "pygments_lexer": "ipython3",
   "version": "3.7.9"
  },
  "papermill": {
   "default_parameters": {},
   "duration": 8.87975,
   "end_time": "2021-03-23T22:20:07.897321",
   "environment_variables": {},
   "exception": null,
   "input_path": "__notebook__.ipynb",
   "output_path": "__notebook__.ipynb",
   "parameters": {},
   "start_time": "2021-03-23T22:19:59.017571",
   "version": "2.2.2"
  }
 },
 "nbformat": 4,
 "nbformat_minor": 4
}
