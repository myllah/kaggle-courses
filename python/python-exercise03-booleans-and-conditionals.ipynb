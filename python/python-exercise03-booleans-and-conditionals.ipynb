{
 "cells": [
  {
   "cell_type": "markdown",
   "metadata": {
    "papermill": {
     "duration": 0.017939,
     "end_time": "2021-03-23T21:02:49.863410",
     "exception": false,
     "start_time": "2021-03-23T21:02:49.845471",
     "status": "completed"
    },
    "tags": []
   },
   "source": [
    "### Python-Exercise03: Booleans and Conditionals\n"
   ]
  },
  {
   "cell_type": "markdown",
   "metadata": {
    "papermill": {
     "duration": 0.019292,
     "end_time": "2021-03-23T21:02:49.899558",
     "exception": false,
     "start_time": "2021-03-23T21:02:49.880266",
     "status": "completed"
    },
    "tags": []
   },
   "source": [
    "**This notebook is an exercise in the [Python](https://www.kaggle.com/learn/python) course.  You can reference the tutorial at [this link](https://www.kaggle.com/colinmorris/booleans-and-conditionals).**\n",
    "\n",
    "> **This notebook is the third exercise in the [Python](https://www.kaggle.com/learn/python)  course. <span style = \"padding: 10px\"> It is the exercise of the third lesson, aka \"Booleans and Conditionals\".**"
   ]
  },
  {
   "cell_type": "markdown",
   "metadata": {
    "papermill": {
     "duration": 0.016782,
     "end_time": "2021-03-23T21:02:49.934136",
     "exception": false,
     "start_time": "2021-03-23T21:02:49.917354",
     "status": "completed"
    },
    "tags": []
   },
   "source": [
    "# Try It Yourself\n",
    "\n",
    "Think you are ready to use Booleans and Conditionals? Try it yourself and find out.\n",
    "\n",
    "To get started, **run the setup code below** before writing your own code (and if you leave this notebook and come back later, don't forget to run the setup code again)."
   ]
  },
  {
   "cell_type": "code",
   "execution_count": 1,
   "metadata": {
    "execution": {
     "iopub.execute_input": "2021-03-23T21:02:49.974700Z",
     "iopub.status.busy": "2021-03-23T21:02:49.973911Z",
     "iopub.status.idle": "2021-03-23T21:02:50.032072Z",
     "shell.execute_reply": "2021-03-23T21:02:50.032671Z"
    },
    "papermill": {
     "duration": 0.0809,
     "end_time": "2021-03-23T21:02:50.032992",
     "exception": false,
     "start_time": "2021-03-23T21:02:49.952092",
     "status": "completed"
    },
    "tags": []
   },
   "outputs": [
    {
     "name": "stdout",
     "output_type": "stream",
     "text": [
      "Setup complete.\n"
     ]
    }
   ],
   "source": [
    "from learntools.core import binder; binder.bind(globals())\n",
    "from learntools.python.ex3 import *\n",
    "print('Setup complete.')"
   ]
  },
  {
   "cell_type": "markdown",
   "metadata": {
    "papermill": {
     "duration": 0.016844,
     "end_time": "2021-03-23T21:02:50.068982",
     "exception": false,
     "start_time": "2021-03-23T21:02:50.052138",
     "status": "completed"
    },
    "tags": []
   },
   "source": [
    "# Exercises"
   ]
  },
  {
   "cell_type": "markdown",
   "metadata": {
    "papermill": {
     "duration": 0.016805,
     "end_time": "2021-03-23T21:02:50.102626",
     "exception": false,
     "start_time": "2021-03-23T21:02:50.085821",
     "status": "completed"
    },
    "tags": []
   },
   "source": [
    "## 1.\n",
    "\n",
    "Many programming languages have [`sign`](https://en.wikipedia.org/wiki/Sign_function) available as a built-in function. Python doesn't, but we can define our own!\n",
    "\n",
    "In the cell below, define a function called `sign` which takes a numerical argument and returns -1 if it's negative, 1 if it's positive, and 0 if it's 0."
   ]
  },
  {
   "cell_type": "code",
   "execution_count": 2,
   "metadata": {
    "execution": {
     "iopub.execute_input": "2021-03-23T21:02:50.145774Z",
     "iopub.status.busy": "2021-03-23T21:02:50.145049Z",
     "iopub.status.idle": "2021-03-23T21:02:50.156234Z",
     "shell.execute_reply": "2021-03-23T21:02:50.155655Z"
    },
    "papermill": {
     "duration": 0.03544,
     "end_time": "2021-03-23T21:02:50.156370",
     "exception": false,
     "start_time": "2021-03-23T21:02:50.120930",
     "status": "completed"
    },
    "tags": []
   },
   "outputs": [
    {
     "name": "stdout",
     "output_type": "stream",
     "text": [
      "returns values: (-1 if it's negative, 1 if it's positive, and 0 if it's 0.)\n",
      "1:  1\n",
      "-1:  -1\n",
      "0:  0\n",
      "-4:  -1\n",
      "99:  1\n",
      "-88:  -1\n"
     ]
    },
    {
     "data": {
      "application/javascript": [
       "parent.postMessage({\"jupyterEvent\": \"custom.exercise_interaction\", \"data\": {\"outcomeType\": 1, \"valueTowardsCompletion\": 0.2, \"interactionType\": 1, \"questionType\": 2, \"questionId\": \"1_SignFunctionProblem\", \"learnToolsVersion\": \"0.3.4\", \"failureMessage\": \"\", \"exceptionClass\": \"\", \"trace\": \"\"}}, \"*\")"
      ],
      "text/plain": [
       "<IPython.core.display.Javascript object>"
      ]
     },
     "metadata": {},
     "output_type": "display_data"
    },
    {
     "data": {
      "text/markdown": [
       "<span style=\"color:#33cc33\">Correct</span>"
      ],
      "text/plain": [
       "Correct"
      ]
     },
     "metadata": {},
     "output_type": "display_data"
    }
   ],
   "source": [
    "# Your code goes here. Define a function called 'sign'\n",
    "def sign(num):\n",
    "    if num < 0:\n",
    "        return -1\n",
    "    elif num > 0:\n",
    "        return 1\n",
    "    elif num == 0:\n",
    "        return 0\n",
    "print(\"returns values: (-1 if it's negative, 1 if it's positive, and 0 if it's 0.)\")\n",
    "print(\"1: \", sign(1))\n",
    "print(\"-1: \", sign(-1))\n",
    "print(\"0: \", sign(0))\n",
    "print(\"-4: \", sign(-4))\n",
    "print(\"99: \", sign(99))\n",
    "print(\"-88: \", sign(-88))\n",
    "\n",
    "# Check your answer\n",
    "q1.check()"
   ]
  },
  {
   "cell_type": "code",
   "execution_count": 3,
   "metadata": {
    "execution": {
     "iopub.execute_input": "2021-03-23T21:02:50.199298Z",
     "iopub.status.busy": "2021-03-23T21:02:50.198206Z",
     "iopub.status.idle": "2021-03-23T21:02:50.205106Z",
     "shell.execute_reply": "2021-03-23T21:02:50.204359Z"
    },
    "papermill": {
     "duration": 0.030633,
     "end_time": "2021-03-23T21:02:50.205260",
     "exception": false,
     "start_time": "2021-03-23T21:02:50.174627",
     "status": "completed"
    },
    "tags": []
   },
   "outputs": [
    {
     "data": {
      "application/javascript": [
       "parent.postMessage({\"jupyterEvent\": \"custom.exercise_interaction\", \"data\": {\"interactionType\": 3, \"questionType\": 2, \"questionId\": \"1_SignFunctionProblem\", \"learnToolsVersion\": \"0.3.4\", \"valueTowardsCompletion\": 0.0, \"failureMessage\": \"\", \"exceptionClass\": \"\", \"trace\": \"\", \"outcomeType\": 4}}, \"*\")"
      ],
      "text/plain": [
       "<IPython.core.display.Javascript object>"
      ]
     },
     "metadata": {},
     "output_type": "display_data"
    },
    {
     "data": {
      "text/markdown": [
       "<span style=\"color:#33cc99\">Solution:</span> \n",
       "```python\n",
       "def sign(x):\n",
       "    if x > 0:\n",
       "        return 1\n",
       "    elif x < 0:\n",
       "        return -1\n",
       "    else:\n",
       "        return 0\n",
       "```"
      ],
      "text/plain": [
       "Solution: \n",
       "```python\n",
       "def sign(x):\n",
       "    if x > 0:\n",
       "        return 1\n",
       "    elif x < 0:\n",
       "        return -1\n",
       "    else:\n",
       "        return 0\n",
       "```"
      ]
     },
     "metadata": {},
     "output_type": "display_data"
    }
   ],
   "source": [
    "q1.solution()"
   ]
  },
  {
   "cell_type": "markdown",
   "metadata": {
    "papermill": {
     "duration": 0.019598,
     "end_time": "2021-03-23T21:02:50.244039",
     "exception": false,
     "start_time": "2021-03-23T21:02:50.224441",
     "status": "completed"
    },
    "tags": []
   },
   "source": [
    "## 2.\n",
    "\n",
    "We've decided to add \"logging\" to our `to_smash` function from the previous exercise."
   ]
  },
  {
   "cell_type": "code",
   "execution_count": 4,
   "metadata": {
    "execution": {
     "iopub.execute_input": "2021-03-23T21:02:50.290038Z",
     "iopub.status.busy": "2021-03-23T21:02:50.289122Z",
     "iopub.status.idle": "2021-03-23T21:02:50.292781Z",
     "shell.execute_reply": "2021-03-23T21:02:50.293234Z"
    },
    "papermill": {
     "duration": 0.029002,
     "end_time": "2021-03-23T21:02:50.293402",
     "exception": false,
     "start_time": "2021-03-23T21:02:50.264400",
     "status": "completed"
    },
    "tags": []
   },
   "outputs": [
    {
     "name": "stdout",
     "output_type": "stream",
     "text": [
      "Splitting 91 candies\n",
      "To smash:  1\n"
     ]
    }
   ],
   "source": [
    "def to_smash(total_candies):\n",
    "    \"\"\"Return the number of leftover candies that must be smashed after distributing\n",
    "    the given number of candies evenly between 3 friends.\n",
    "    \n",
    "    >>> to_smash(91)\n",
    "    1\n",
    "    \"\"\"\n",
    "    print(\"Splitting\", total_candies, \"candies\")\n",
    "    return total_candies % 3\n",
    "\n",
    "print(\"To smash: \", to_smash(91))"
   ]
  },
  {
   "cell_type": "markdown",
   "metadata": {
    "papermill": {
     "duration": 0.019138,
     "end_time": "2021-03-23T21:02:50.332842",
     "exception": false,
     "start_time": "2021-03-23T21:02:50.313704",
     "status": "completed"
    },
    "tags": []
   },
   "source": [
    "What happens if we call it with `total_candies = 1`?"
   ]
  },
  {
   "cell_type": "code",
   "execution_count": 5,
   "metadata": {
    "execution": {
     "iopub.execute_input": "2021-03-23T21:02:50.377497Z",
     "iopub.status.busy": "2021-03-23T21:02:50.376697Z",
     "iopub.status.idle": "2021-03-23T21:02:50.380870Z",
     "shell.execute_reply": "2021-03-23T21:02:50.380304Z"
    },
    "papermill": {
     "duration": 0.028501,
     "end_time": "2021-03-23T21:02:50.381017",
     "exception": false,
     "start_time": "2021-03-23T21:02:50.352516",
     "status": "completed"
    },
    "tags": []
   },
   "outputs": [
    {
     "name": "stdout",
     "output_type": "stream",
     "text": [
      "Splitting 1 candies\n",
      "To smash:  1\n"
     ]
    }
   ],
   "source": [
    "print(\"To smash: \", to_smash(1))"
   ]
  },
  {
   "cell_type": "markdown",
   "metadata": {
    "papermill": {
     "duration": 0.019816,
     "end_time": "2021-03-23T21:02:50.420561",
     "exception": false,
     "start_time": "2021-03-23T21:02:50.400745",
     "status": "completed"
    },
    "tags": []
   },
   "source": [
    "That isn't great grammar!\n",
    "\n",
    "Modify the definition in the cell below to correct the grammar of our print statement. (If there's only one candy, we should use the singular \"candy\" instead of the plural \"candies\")"
   ]
  },
  {
   "cell_type": "code",
   "execution_count": 6,
   "metadata": {
    "execution": {
     "iopub.execute_input": "2021-03-23T21:02:50.466324Z",
     "iopub.status.busy": "2021-03-23T21:02:50.465662Z",
     "iopub.status.idle": "2021-03-23T21:02:50.469467Z",
     "shell.execute_reply": "2021-03-23T21:02:50.470912Z"
    },
    "papermill": {
     "duration": 0.030621,
     "end_time": "2021-03-23T21:02:50.471094",
     "exception": false,
     "start_time": "2021-03-23T21:02:50.440473",
     "status": "completed"
    },
    "tags": []
   },
   "outputs": [
    {
     "name": "stdout",
     "output_type": "stream",
     "text": [
      "Splitting 91 candies\n",
      "To smash: 1\n",
      "Splitting 1 candy\n",
      "To smash: 1\n"
     ]
    }
   ],
   "source": [
    "def to_smash(total_candies):\n",
    "    \"\"\"Return the number of leftover candies that must be smashed after distributing\n",
    "    the given number of candies evenly between 3 friends.\n",
    "    \n",
    "    >>> to_smash(91)\n",
    "    1\n",
    "    \"\"\"\n",
    "    \n",
    "    if total_candies == 1:\n",
    "        print(\"Splitting\", total_candies, \"candy\")\n",
    "    else: \n",
    "        print(\"Splitting\", total_candies, \"candies\")\n",
    "        \n",
    "    return total_candies % 3\n",
    "\n",
    "print(\"To smash:\", to_smash(91))\n",
    "print(\"To smash:\", to_smash(1))"
   ]
  },
  {
   "cell_type": "code",
   "execution_count": 7,
   "metadata": {
    "execution": {
     "iopub.execute_input": "2021-03-23T21:02:50.516312Z",
     "iopub.status.busy": "2021-03-23T21:02:50.515754Z",
     "iopub.status.idle": "2021-03-23T21:02:50.521040Z",
     "shell.execute_reply": "2021-03-23T21:02:50.520424Z"
    },
    "papermill": {
     "duration": 0.029499,
     "end_time": "2021-03-23T21:02:50.521176",
     "exception": false,
     "start_time": "2021-03-23T21:02:50.491677",
     "status": "completed"
    },
    "tags": []
   },
   "outputs": [
    {
     "data": {
      "application/javascript": [
       "parent.postMessage({\"jupyterEvent\": \"custom.exercise_interaction\", \"data\": {\"interactionType\": 3, \"questionType\": 4, \"questionId\": \"2_PluralizationProblem\", \"learnToolsVersion\": \"0.3.4\", \"valueTowardsCompletion\": 0.0, \"failureMessage\": \"\", \"exceptionClass\": \"\", \"trace\": \"\", \"outcomeType\": 4}}, \"*\")"
      ],
      "text/plain": [
       "<IPython.core.display.Javascript object>"
      ]
     },
     "metadata": {},
     "output_type": "display_data"
    },
    {
     "data": {
      "text/markdown": [
       "<span style=\"color:#33cc99\">Solution:</span> A straightforward (and totally fine) solution is to replace the original `print` call with:\n",
       "\n",
       "```python\n",
       "if total_candies == 1:\n",
       "    print(\"Splitting 1 candy\")\n",
       "else:\n",
       "    print(\"Splitting\", total_candies, \"candies\")\n",
       "```\n",
       "\n",
       "Here's a slightly more succinct solution using a conditional expression:\n",
       "\n",
       "```python\n",
       "print(\"Splitting\", total_candies, \"candy\" if total_candies == 1 else \"candies\")\n",
       "```"
      ],
      "text/plain": [
       "Solution: A straightforward (and totally fine) solution is to replace the original `print` call with:\n",
       "\n",
       "```python\n",
       "if total_candies == 1:\n",
       "    print(\"Splitting 1 candy\")\n",
       "else:\n",
       "    print(\"Splitting\", total_candies, \"candies\")\n",
       "```\n",
       "\n",
       "Here's a slightly more succinct solution using a conditional expression:\n",
       "\n",
       "```python\n",
       "print(\"Splitting\", total_candies, \"candy\" if total_candies == 1 else \"candies\")\n",
       "```"
      ]
     },
     "metadata": {},
     "output_type": "display_data"
    }
   ],
   "source": [
    "# Check your answer (Run this code cell to receive credit!)\n",
    "q2.solution()"
   ]
  },
  {
   "cell_type": "markdown",
   "metadata": {
    "papermill": {
     "duration": 0.020824,
     "end_time": "2021-03-23T21:02:50.563171",
     "exception": false,
     "start_time": "2021-03-23T21:02:50.542347",
     "status": "completed"
    },
    "tags": []
   },
   "source": [
    "## 3. <span title=\"A bit spicy\" style=\"color: darkgreen \">🌶️</span>\n",
    "\n",
    "In the main lesson we talked about deciding whether we're prepared for the weather. I said that I'm safe from today's weather if...\n",
    "- I have an umbrella...\n",
    "- or if the rain isn't too heavy and I have a hood...\n",
    "- otherwise, I'm still fine unless it's raining *and* it's a workday\n",
    "\n",
    "The function below uses our first attempt at turning this logic into a Python expression. I claimed that there was a bug in that code. Can you find it?\n",
    "\n",
    "To prove that `prepared_for_weather` is buggy, come up with a set of inputs where either:\n",
    "- the function returns `False` (but should have returned `True`), or\n",
    "- the function returned `True` (but should have returned `False`).\n",
    "\n",
    "To get credit for completing this question, your code should return a <font color='#33cc33'>Correct</font> result."
   ]
  },
  {
   "cell_type": "code",
   "execution_count": 8,
   "metadata": {
    "execution": {
     "iopub.execute_input": "2021-03-23T21:02:50.613799Z",
     "iopub.status.busy": "2021-03-23T21:02:50.613047Z",
     "iopub.status.idle": "2021-03-23T21:02:50.620040Z",
     "shell.execute_reply": "2021-03-23T21:02:50.619441Z"
    },
    "papermill": {
     "duration": 0.03531,
     "end_time": "2021-03-23T21:02:50.620305",
     "exception": false,
     "start_time": "2021-03-23T21:02:50.584995",
     "status": "completed"
    },
    "tags": []
   },
   "outputs": [
    {
     "name": "stdout",
     "output_type": "stream",
     "text": [
      "False\n",
      "Should have returned True\n"
     ]
    },
    {
     "data": {
      "application/javascript": [
       "parent.postMessage({\"jupyterEvent\": \"custom.exercise_interaction\", \"data\": {\"outcomeType\": 1, \"valueTowardsCompletion\": 0.2, \"interactionType\": 1, \"questionType\": 1, \"questionId\": \"3_WeatherDebug\", \"learnToolsVersion\": \"0.3.4\", \"failureMessage\": \"\", \"exceptionClass\": \"\", \"trace\": \"\"}}, \"*\")"
      ],
      "text/plain": [
       "<IPython.core.display.Javascript object>"
      ]
     },
     "metadata": {},
     "output_type": "display_data"
    },
    {
     "data": {
      "text/markdown": [
       "<span style=\"color:#33cc33\">Correct:</span> \n",
       "\n",
       "One example of a failing test case is:\n",
       "\n",
       "```python\n",
       "have_umbrella = False\n",
       "rain_level = 0.0\n",
       "have_hood = False\n",
       "is_workday = False\n",
       "```\n",
       "\n",
       "Clearly we're prepared for the weather in this case. It's not raining. Not only that, it's not a workday, so we don't even need to leave the house! But our function will return False on these inputs.\n",
       "\n",
       "The key problem is that Python implictly parenthesizes the last part as:\n",
       "\n",
       "```python\n",
       "(not (rain_level > 0)) and is_workday\n",
       "```\n",
       "\n",
       "Whereas what we were trying to express would look more like:\n",
       "\n",
       "```python\n",
       "not (rain_level > 0 and is_workday)\n",
       "```\n"
      ],
      "text/plain": [
       "Correct: \n",
       "\n",
       "One example of a failing test case is:\n",
       "\n",
       "```python\n",
       "have_umbrella = False\n",
       "rain_level = 0.0\n",
       "have_hood = False\n",
       "is_workday = False\n",
       "```\n",
       "\n",
       "Clearly we're prepared for the weather in this case. It's not raining. Not only that, it's not a workday, so we don't even need to leave the house! But our function will return False on these inputs.\n",
       "\n",
       "The key problem is that Python implictly parenthesizes the last part as:\n",
       "\n",
       "```python\n",
       "(not (rain_level > 0)) and is_workday\n",
       "```\n",
       "\n",
       "Whereas what we were trying to express would look more like:\n",
       "\n",
       "```python\n",
       "not (rain_level > 0 and is_workday)\n",
       "```"
      ]
     },
     "metadata": {},
     "output_type": "display_data"
    }
   ],
   "source": [
    "def prepared_for_weather(have_umbrella, rain_level, have_hood, is_workday):\n",
    "    # Don't change this code. Our goal is just to find the bug, not fix it!\n",
    "    return have_umbrella or rain_level < 5 and have_hood or not rain_level > 0 and is_workday\n",
    "\n",
    "def prepared_correto(have_umbrella, rain_level, have_hood, is_workday):\n",
    "    # Don't change this code. Our goal is just to find the bug, not fix it!\n",
    "    return have_umbrella or ((rain_level < 5) and have_hood) or (not ((rain_level > 0) and is_workday))\n",
    "\n",
    "# Change the values of these inputs so they represent a case where prepared_for_weather\n",
    "# returns the wrong answer.\n",
    "have_umbrella = False\n",
    "rain_level = 7.0\n",
    "have_hood = True\n",
    "is_workday = False\n",
    "\n",
    "\n",
    "# Check what the function returns given the current values of the variables above\n",
    "actual = prepared_for_weather(have_umbrella, rain_level, have_hood, is_workday)\n",
    "print(actual)\n",
    "\n",
    "correto = prepared_correto(have_umbrella, rain_level, have_hood, is_workday)\n",
    "print(\"Should have returned\", correto)\n",
    "\n",
    "# Check your answer\n",
    "q3.check()"
   ]
  },
  {
   "cell_type": "code",
   "execution_count": 9,
   "metadata": {
    "execution": {
     "iopub.execute_input": "2021-03-23T21:02:50.670387Z",
     "iopub.status.busy": "2021-03-23T21:02:50.669763Z",
     "iopub.status.idle": "2021-03-23T21:02:50.672814Z",
     "shell.execute_reply": "2021-03-23T21:02:50.673256Z"
    },
    "papermill": {
     "duration": 0.030454,
     "end_time": "2021-03-23T21:02:50.673425",
     "exception": false,
     "start_time": "2021-03-23T21:02:50.642971",
     "status": "completed"
    },
    "tags": []
   },
   "outputs": [],
   "source": [
    "#q3.hint()\n",
    "#q3.solution()"
   ]
  },
  {
   "cell_type": "markdown",
   "metadata": {
    "papermill": {
     "duration": 0.022268,
     "end_time": "2021-03-23T21:02:50.719515",
     "exception": false,
     "start_time": "2021-03-23T21:02:50.697247",
     "status": "completed"
    },
    "tags": []
   },
   "source": [
    "## 4.\n",
    "\n",
    "The function `is_negative` below is implemented correctly - it returns True if the given number is negative and False otherwise.\n",
    "\n",
    "However, it's more verbose than it needs to be. We can actually reduce the number of lines of code in this function by *75%* while keeping the same behaviour. \n",
    "\n",
    "See if you can come up with an equivalent body that uses just **one line** of code, and put it in the function `concise_is_negative`. (HINT: you don't even need Python's ternary syntax)"
   ]
  },
  {
   "cell_type": "code",
   "execution_count": 10,
   "metadata": {
    "execution": {
     "iopub.execute_input": "2021-03-23T21:02:50.771404Z",
     "iopub.status.busy": "2021-03-23T21:02:50.770822Z",
     "iopub.status.idle": "2021-03-23T21:02:50.781007Z",
     "shell.execute_reply": "2021-03-23T21:02:50.781681Z"
    },
    "papermill": {
     "duration": 0.03893,
     "end_time": "2021-03-23T21:02:50.781904",
     "exception": false,
     "start_time": "2021-03-23T21:02:50.742974",
     "status": "completed"
    },
    "tags": []
   },
   "outputs": [
    {
     "name": "stdout",
     "output_type": "stream",
     "text": [
      "1 is negative?  False\n",
      "-5 is negative?  True\n",
      "0 is negative?  False\n",
      "-67 is negative?  True\n"
     ]
    },
    {
     "data": {
      "application/javascript": [
       "parent.postMessage({\"jupyterEvent\": \"custom.exercise_interaction\", \"data\": {\"outcomeType\": 1, \"valueTowardsCompletion\": 0.2, \"interactionType\": 1, \"questionType\": 2, \"questionId\": \"4_ConciseIsNegative\", \"learnToolsVersion\": \"0.3.4\", \"failureMessage\": \"\", \"exceptionClass\": \"\", \"trace\": \"\"}}, \"*\")"
      ],
      "text/plain": [
       "<IPython.core.display.Javascript object>"
      ]
     },
     "metadata": {},
     "output_type": "display_data"
    },
    {
     "data": {
      "text/markdown": [
       "<span style=\"color:#33cc33\">Correct</span>"
      ],
      "text/plain": [
       "Correct"
      ]
     },
     "metadata": {},
     "output_type": "display_data"
    }
   ],
   "source": [
    "def is_negative(number):\n",
    "    if number < 0:\n",
    "        return True\n",
    "    else:\n",
    "        return False\n",
    "\n",
    "def concise_is_negative(number):\n",
    "    return True if number < 0 else False\n",
    "\n",
    "print(\"1 is negative? \", concise_is_negative(1))\n",
    "print(\"-5 is negative? \", concise_is_negative(-5))\n",
    "print(\"0 is negative? \", concise_is_negative(0))\n",
    "print(\"-67 is negative? \", concise_is_negative(-67))\n",
    "\n",
    "# Check your answer\n",
    "q4.check()"
   ]
  },
  {
   "cell_type": "code",
   "execution_count": 11,
   "metadata": {
    "execution": {
     "iopub.execute_input": "2021-03-23T21:02:50.833513Z",
     "iopub.status.busy": "2021-03-23T21:02:50.832773Z",
     "iopub.status.idle": "2021-03-23T21:02:50.841314Z",
     "shell.execute_reply": "2021-03-23T21:02:50.840434Z"
    },
    "papermill": {
     "duration": 0.034605,
     "end_time": "2021-03-23T21:02:50.841465",
     "exception": false,
     "start_time": "2021-03-23T21:02:50.806860",
     "status": "completed"
    },
    "tags": []
   },
   "outputs": [
    {
     "data": {
      "application/javascript": [
       "parent.postMessage({\"jupyterEvent\": \"custom.exercise_interaction\", \"data\": {\"interactionType\": 2, \"questionType\": 2, \"questionId\": \"4_ConciseIsNegative\", \"learnToolsVersion\": \"0.3.4\", \"valueTowardsCompletion\": 0.0, \"failureMessage\": \"\", \"exceptionClass\": \"\", \"trace\": \"\", \"outcomeType\": 4}}, \"*\")"
      ],
      "text/plain": [
       "<IPython.core.display.Javascript object>"
      ]
     },
     "metadata": {},
     "output_type": "display_data"
    },
    {
     "data": {
      "text/markdown": [
       "<span style=\"color:#3366cc\">Hint:</span> If the value of the expression `number < 0` is `True`, then we return `True`. If it's `False`, then we return `False`..."
      ],
      "text/plain": [
       "Hint: If the value of the expression `number < 0` is `True`, then we return `True`. If it's `False`, then we return `False`..."
      ]
     },
     "metadata": {},
     "output_type": "display_data"
    }
   ],
   "source": [
    "q4.hint()\n",
    "#q4.solution()"
   ]
  },
  {
   "cell_type": "markdown",
   "metadata": {
    "papermill": {
     "duration": 0.023717,
     "end_time": "2021-03-23T21:02:50.891709",
     "exception": false,
     "start_time": "2021-03-23T21:02:50.867992",
     "status": "completed"
    },
    "tags": []
   },
   "source": [
    "## 5.\n",
    "\n",
    "The boolean variables `ketchup`, `mustard` and `onion` represent whether a customer wants a particular topping on their hot dog. We want to implement a number of boolean functions that correspond to some yes-or-no questions about the customer's order. For example:"
   ]
  },
  {
   "cell_type": "code",
   "execution_count": 12,
   "metadata": {
    "execution": {
     "iopub.execute_input": "2021-03-23T21:02:50.950010Z",
     "iopub.status.busy": "2021-03-23T21:02:50.949401Z",
     "iopub.status.idle": "2021-03-23T21:02:50.952170Z",
     "shell.execute_reply": "2021-03-23T21:02:50.952774Z"
    },
    "papermill": {
     "duration": 0.034925,
     "end_time": "2021-03-23T21:02:50.953012",
     "exception": false,
     "start_time": "2021-03-23T21:02:50.918087",
     "status": "completed"
    },
    "tags": []
   },
   "outputs": [
    {
     "name": "stdout",
     "output_type": "stream",
     "text": [
      "onionless? False\n",
      "onionless? True\n"
     ]
    }
   ],
   "source": [
    "def onionless(ketchup, mustard, onion):\n",
    "    \"\"\"Return whether the customer doesn't want onions.\n",
    "    \"\"\"\n",
    "    return not onion\n",
    "\n",
    "print(\"onionless?\", onionless(True, False, True))\n",
    "print(\"onionless?\", onionless(True, False, False))"
   ]
  },
  {
   "cell_type": "markdown",
   "metadata": {
    "papermill": {
     "duration": 0.025063,
     "end_time": "2021-03-23T21:02:51.006212",
     "exception": false,
     "start_time": "2021-03-23T21:02:50.981149",
     "status": "completed"
    },
    "tags": []
   },
   "source": [
    "For each of the remaining functions, fill in the body to match the English description in the docstring. "
   ]
  },
  {
   "cell_type": "code",
   "execution_count": 13,
   "metadata": {
    "execution": {
     "iopub.execute_input": "2021-03-23T21:02:51.063420Z",
     "iopub.status.busy": "2021-03-23T21:02:51.062794Z",
     "iopub.status.idle": "2021-03-23T21:02:51.072480Z",
     "shell.execute_reply": "2021-03-23T21:02:51.073158Z"
    },
    "papermill": {
     "duration": 0.0405,
     "end_time": "2021-03-23T21:02:51.073386",
     "exception": false,
     "start_time": "2021-03-23T21:02:51.032886",
     "status": "completed"
    },
    "tags": []
   },
   "outputs": [
    {
     "data": {
      "application/javascript": [
       "parent.postMessage({\"jupyterEvent\": \"custom.exercise_interaction\", \"data\": {\"outcomeType\": 1, \"valueTowardsCompletion\": 0.2, \"interactionType\": 1, \"questionType\": 2, \"questionId\": \"5.1_AllToppings\", \"learnToolsVersion\": \"0.3.4\", \"failureMessage\": \"\", \"exceptionClass\": \"\", \"trace\": \"\"}}, \"*\")"
      ],
      "text/plain": [
       "<IPython.core.display.Javascript object>"
      ]
     },
     "metadata": {},
     "output_type": "display_data"
    },
    {
     "data": {
      "text/markdown": [
       "<span style=\"color:#33cc33\">Correct</span>"
      ],
      "text/plain": [
       "Correct"
      ]
     },
     "metadata": {},
     "output_type": "display_data"
    },
    {
     "name": "stdout",
     "output_type": "stream",
     "text": [
      "wants_all_toppings? False\n",
      "wants_all_toppings? False\n",
      "wants_all_toppings? False\n",
      "wants_all_toppings? True\n"
     ]
    }
   ],
   "source": [
    "def wants_all_toppings(ketchup, mustard, onion):\n",
    "    \"\"\"Return whether the customer wants \"the works\" (all 3 toppings)\n",
    "    \"\"\"\n",
    "    return ketchup and mustard and onion\n",
    "\n",
    "# Check your answer\n",
    "q5.a.check()\n",
    "\n",
    "print(\"wants_all_toppings?\", wants_all_toppings(True, False, True))\n",
    "print(\"wants_all_toppings?\", wants_all_toppings(True, False, False))\n",
    "print(\"wants_all_toppings?\", wants_all_toppings(False, False, False))\n",
    "print(\"wants_all_toppings?\", wants_all_toppings(True, True, True))"
   ]
  },
  {
   "cell_type": "code",
   "execution_count": 14,
   "metadata": {
    "execution": {
     "iopub.execute_input": "2021-03-23T21:02:51.133894Z",
     "iopub.status.busy": "2021-03-23T21:02:51.133273Z",
     "iopub.status.idle": "2021-03-23T21:02:51.143558Z",
     "shell.execute_reply": "2021-03-23T21:02:51.144069Z"
    },
    "papermill": {
     "duration": 0.040887,
     "end_time": "2021-03-23T21:02:51.144242",
     "exception": false,
     "start_time": "2021-03-23T21:02:51.103355",
     "status": "completed"
    },
    "tags": []
   },
   "outputs": [
    {
     "data": {
      "application/javascript": [
       "parent.postMessage({\"jupyterEvent\": \"custom.exercise_interaction\", \"data\": {\"interactionType\": 2, \"questionType\": 2, \"questionId\": \"5.1_AllToppings\", \"learnToolsVersion\": \"0.3.4\", \"valueTowardsCompletion\": 0.0, \"failureMessage\": \"\", \"exceptionClass\": \"\", \"trace\": \"\", \"outcomeType\": 4}}, \"*\")"
      ],
      "text/plain": [
       "<IPython.core.display.Javascript object>"
      ]
     },
     "metadata": {},
     "output_type": "display_data"
    },
    {
     "data": {
      "text/markdown": [
       "<span style=\"color:#3366cc\">Hint:</span> You'll need to use the `and` operator."
      ],
      "text/plain": [
       "Hint: You'll need to use the `and` operator."
      ]
     },
     "metadata": {},
     "output_type": "display_data"
    },
    {
     "data": {
      "application/javascript": [
       "parent.postMessage({\"jupyterEvent\": \"custom.exercise_interaction\", \"data\": {\"interactionType\": 3, \"questionType\": 2, \"questionId\": \"5.1_AllToppings\", \"learnToolsVersion\": \"0.3.4\", \"valueTowardsCompletion\": 0.0, \"failureMessage\": \"\", \"exceptionClass\": \"\", \"trace\": \"\", \"outcomeType\": 4}}, \"*\")"
      ],
      "text/plain": [
       "<IPython.core.display.Javascript object>"
      ]
     },
     "metadata": {},
     "output_type": "display_data"
    },
    {
     "data": {
      "text/markdown": [
       "<span style=\"color:#33cc99\">Solution:</span> \n",
       "```python\n",
       "return ketchup and mustard and onion\n",
       "```"
      ],
      "text/plain": [
       "Solution: \n",
       "```python\n",
       "return ketchup and mustard and onion\n",
       "```"
      ]
     },
     "metadata": {},
     "output_type": "display_data"
    }
   ],
   "source": [
    "q5.a.hint()\n",
    "q5.a.solution()"
   ]
  },
  {
   "cell_type": "code",
   "execution_count": 15,
   "metadata": {
    "execution": {
     "iopub.execute_input": "2021-03-23T21:02:51.203460Z",
     "iopub.status.busy": "2021-03-23T21:02:51.202593Z",
     "iopub.status.idle": "2021-03-23T21:02:51.212594Z",
     "shell.execute_reply": "2021-03-23T21:02:51.213262Z"
    },
    "papermill": {
     "duration": 0.041071,
     "end_time": "2021-03-23T21:02:51.213482",
     "exception": false,
     "start_time": "2021-03-23T21:02:51.172411",
     "status": "completed"
    },
    "tags": []
   },
   "outputs": [
    {
     "data": {
      "application/javascript": [
       "parent.postMessage({\"jupyterEvent\": \"custom.exercise_interaction\", \"data\": {\"outcomeType\": 1, \"valueTowardsCompletion\": 0.2, \"interactionType\": 1, \"questionType\": 2, \"questionId\": \"5.2_PlainDog\", \"learnToolsVersion\": \"0.3.4\", \"failureMessage\": \"\", \"exceptionClass\": \"\", \"trace\": \"\"}}, \"*\")"
      ],
      "text/plain": [
       "<IPython.core.display.Javascript object>"
      ]
     },
     "metadata": {},
     "output_type": "display_data"
    },
    {
     "data": {
      "text/markdown": [
       "<span style=\"color:#33cc33\">Correct:</span> \n",
       "\n",
       "One solution looks like:\n",
       "```python\n",
       "return not ketchup and not mustard and not onion\n",
       "```\n",
       "\n",
       "We can also [\"factor out\" the nots](https://en.wikipedia.org/wiki/De_Morgan%27s_laws) to get:\n",
       "\n",
       "```python\n",
       "return not (ketchup or mustard or onion)\n",
       "```"
      ],
      "text/plain": [
       "Correct: \n",
       "\n",
       "One solution looks like:\n",
       "```python\n",
       "return not ketchup and not mustard and not onion\n",
       "```\n",
       "\n",
       "We can also [\"factor out\" the nots](https://en.wikipedia.org/wiki/De_Morgan%27s_laws) to get:\n",
       "\n",
       "```python\n",
       "return not (ketchup or mustard or onion)\n",
       "```"
      ]
     },
     "metadata": {},
     "output_type": "display_data"
    },
    {
     "name": "stdout",
     "output_type": "stream",
     "text": [
      "wants_plain_hotdog? False\n",
      "wants_plain_hotdog? False\n",
      "wants_plain_hotdog? True\n",
      "wants_plain_hotdog? False\n"
     ]
    }
   ],
   "source": [
    "def wants_plain_hotdog(ketchup, mustard, onion):\n",
    "    \"\"\"Return whether the customer wants a plain hot dog with no toppings.\n",
    "    \"\"\"\n",
    "    return (not ketchup) and (not mustard) and (not onion)\n",
    "\n",
    "# Check your answer\n",
    "q5.b.check()\n",
    "\n",
    "print(\"wants_plain_hotdog?\", wants_plain_hotdog(True, False, True))\n",
    "print(\"wants_plain_hotdog?\", wants_plain_hotdog(True, False, False))\n",
    "print(\"wants_plain_hotdog?\", wants_plain_hotdog(False, False, False))\n",
    "print(\"wants_plain_hotdog?\", wants_plain_hotdog(True, True, True))"
   ]
  },
  {
   "cell_type": "code",
   "execution_count": 16,
   "metadata": {
    "execution": {
     "iopub.execute_input": "2021-03-23T21:02:51.276445Z",
     "iopub.status.busy": "2021-03-23T21:02:51.275847Z",
     "iopub.status.idle": "2021-03-23T21:02:51.279200Z",
     "shell.execute_reply": "2021-03-23T21:02:51.279678Z"
    },
    "papermill": {
     "duration": 0.035994,
     "end_time": "2021-03-23T21:02:51.279853",
     "exception": false,
     "start_time": "2021-03-23T21:02:51.243859",
     "status": "completed"
    },
    "tags": []
   },
   "outputs": [],
   "source": [
    "#q5.b.hint()\n",
    "#q5.b.solution()"
   ]
  },
  {
   "cell_type": "code",
   "execution_count": 17,
   "metadata": {
    "execution": {
     "iopub.execute_input": "2021-03-23T21:02:51.342145Z",
     "iopub.status.busy": "2021-03-23T21:02:51.341511Z",
     "iopub.status.idle": "2021-03-23T21:02:51.353134Z",
     "shell.execute_reply": "2021-03-23T21:02:51.352136Z"
    },
    "papermill": {
     "duration": 0.042886,
     "end_time": "2021-03-23T21:02:51.353344",
     "exception": false,
     "start_time": "2021-03-23T21:02:51.310458",
     "status": "completed"
    },
    "tags": []
   },
   "outputs": [
    {
     "data": {
      "application/javascript": [
       "parent.postMessage({\"jupyterEvent\": \"custom.exercise_interaction\", \"data\": {\"outcomeType\": 1, \"valueTowardsCompletion\": 0.2, \"interactionType\": 1, \"questionType\": 2, \"questionId\": \"5.3_OneSauce\", \"learnToolsVersion\": \"0.3.4\", \"failureMessage\": \"\", \"exceptionClass\": \"\", \"trace\": \"\"}}, \"*\")"
      ],
      "text/plain": [
       "<IPython.core.display.Javascript object>"
      ]
     },
     "metadata": {},
     "output_type": "display_data"
    },
    {
     "data": {
      "text/markdown": [
       "<span style=\"color:#33cc33\">Correct</span>"
      ],
      "text/plain": [
       "Correct"
      ]
     },
     "metadata": {},
     "output_type": "display_data"
    },
    {
     "name": "stdout",
     "output_type": "stream",
     "text": [
      "exactly_one_sauce? True\n",
      "exactly_one_sauce? True\n",
      "exactly_one_sauce? False\n",
      "exactly_one_sauce? False\n"
     ]
    }
   ],
   "source": [
    "def exactly_one_sauce(ketchup, mustard, onion):\n",
    "    \"\"\"Return whether the customer wants either ketchup or mustard, but not both.\n",
    "    (You may be familiar with this operation under the name \"exclusive or\")\n",
    "    \"\"\"\n",
    "    return (ketchup or mustard) and not (ketchup and mustard)\n",
    "    #return (ketchup and not mustard) or (mustard and not ketchup )\n",
    "\n",
    "\n",
    "# Check your answer\n",
    "q5.c.check()\n",
    "\n",
    "print(\"exactly_one_sauce?\", exactly_one_sauce(True, False, True))\n",
    "print(\"exactly_one_sauce?\", exactly_one_sauce(True, False, False))\n",
    "print(\"exactly_one_sauce?\", exactly_one_sauce(False, False, False))\n",
    "print(\"exactly_one_sauce?\", exactly_one_sauce(True, True, True))"
   ]
  },
  {
   "cell_type": "code",
   "execution_count": 18,
   "metadata": {
    "execution": {
     "iopub.execute_input": "2021-03-23T21:02:51.419059Z",
     "iopub.status.busy": "2021-03-23T21:02:51.418140Z",
     "iopub.status.idle": "2021-03-23T21:02:51.423067Z",
     "shell.execute_reply": "2021-03-23T21:02:51.422427Z"
    },
    "papermill": {
     "duration": 0.038334,
     "end_time": "2021-03-23T21:02:51.423206",
     "exception": false,
     "start_time": "2021-03-23T21:02:51.384872",
     "status": "completed"
    },
    "tags": []
   },
   "outputs": [],
   "source": [
    "#q5.c.hint()\n",
    "#q5.c.solution()"
   ]
  },
  {
   "cell_type": "markdown",
   "metadata": {
    "papermill": {
     "duration": 0.030149,
     "end_time": "2021-03-23T21:02:51.484754",
     "exception": false,
     "start_time": "2021-03-23T21:02:51.454605",
     "status": "completed"
    },
    "tags": []
   },
   "source": [
    "## 6. <span title=\"A bit spicy\" style=\"color: darkgreen \">🌶️</span>\n",
    "\n",
    "We’ve seen that calling `bool()` on an integer returns `False` if it’s equal to 0 and `True` otherwise. What happens if we call `int()` on a bool? Try it out in the notebook cell below.\n",
    "\n",
    "Can you take advantage of this to write a succinct function that corresponds to the English sentence \"does the customer want exactly one topping?\"?"
   ]
  },
  {
   "cell_type": "code",
   "execution_count": 19,
   "metadata": {
    "execution": {
     "iopub.execute_input": "2021-03-23T21:02:51.551696Z",
     "iopub.status.busy": "2021-03-23T21:02:51.551100Z",
     "iopub.status.idle": "2021-03-23T21:02:51.561956Z",
     "shell.execute_reply": "2021-03-23T21:02:51.561364Z"
    },
    "papermill": {
     "duration": 0.044288,
     "end_time": "2021-03-23T21:02:51.562094",
     "exception": false,
     "start_time": "2021-03-23T21:02:51.517806",
     "status": "completed"
    },
    "tags": []
   },
   "outputs": [
    {
     "name": "stdout",
     "output_type": "stream",
     "text": [
      "exactly_one_sauce? True\n",
      "exactly_one_sauce? False\n",
      "exactly_one_sauce? False\n",
      "exactly_one_sauce? False\n"
     ]
    },
    {
     "data": {
      "application/javascript": [
       "parent.postMessage({\"jupyterEvent\": \"custom.exercise_interaction\", \"data\": {\"outcomeType\": 1, \"valueTowardsCompletion\": 0.2, \"interactionType\": 1, \"questionType\": 2, \"questionId\": \"6_OneTopping\", \"learnToolsVersion\": \"0.3.4\", \"failureMessage\": \"\", \"exceptionClass\": \"\", \"trace\": \"\"}}, \"*\")"
      ],
      "text/plain": [
       "<IPython.core.display.Javascript object>"
      ]
     },
     "metadata": {},
     "output_type": "display_data"
    },
    {
     "data": {
      "text/markdown": [
       "<span style=\"color:#33cc33\">Correct:</span> \n",
       "\n",
       "This condition would be pretty complicated to express using just `and`, `or` and `not`, but using boolean-to-integer conversion gives us this short solution:\n",
       "```python\n",
       "return (int(ketchup) + int(mustard) + int(onion)) == 1\n",
       "```\n",
       "\n",
       "Fun fact: we don't technically need to call `int` on the arguments. Just by doing addition with booleans, Python implicitly does the integer conversion. So we could also write...\n",
       "\n",
       "```python\n",
       "return (ketchup + mustard + onion) == 1\n",
       "```"
      ],
      "text/plain": [
       "Correct: \n",
       "\n",
       "This condition would be pretty complicated to express using just `and`, `or` and `not`, but using boolean-to-integer conversion gives us this short solution:\n",
       "```python\n",
       "return (int(ketchup) + int(mustard) + int(onion)) == 1\n",
       "```\n",
       "\n",
       "Fun fact: we don't technically need to call `int` on the arguments. Just by doing addition with booleans, Python implicitly does the integer conversion. So we could also write...\n",
       "\n",
       "```python\n",
       "return (ketchup + mustard + onion) == 1\n",
       "```"
      ]
     },
     "metadata": {},
     "output_type": "display_data"
    }
   ],
   "source": [
    "def exactly_one_topping(ketchup, mustard, onion):\n",
    "    \"\"\"Return whether the customer wants exactly one of the three available toppings\n",
    "    on their hot dog.\n",
    "    \"\"\"\n",
    "    #return (ketchup and (not mustard) and (not onion)) or ((not ketchup) and mustard and (not onion)) or ((not ketchup) and (not mustard) and onion)\n",
    "    return ketchup + mustard + onion == 1\n",
    "\n",
    "print(\"exactly_one_sauce?\", exactly_one_topping(1,0,0))\n",
    "print(\"exactly_one_sauce?\", exactly_one_topping(1,1,0))\n",
    "print(\"exactly_one_sauce?\", exactly_one_topping(1,1,1))\n",
    "print(\"exactly_one_sauce?\", exactly_one_topping(0,0,0))\n",
    "\n",
    "# Check your answer\n",
    "q6.check()"
   ]
  },
  {
   "cell_type": "code",
   "execution_count": 20,
   "metadata": {
    "execution": {
     "iopub.execute_input": "2021-03-23T21:02:51.628941Z",
     "iopub.status.busy": "2021-03-23T21:02:51.628331Z",
     "iopub.status.idle": "2021-03-23T21:02:51.630958Z",
     "shell.execute_reply": "2021-03-23T21:02:51.631516Z"
    },
    "papermill": {
     "duration": 0.03857,
     "end_time": "2021-03-23T21:02:51.631716",
     "exception": false,
     "start_time": "2021-03-23T21:02:51.593146",
     "status": "completed"
    },
    "tags": []
   },
   "outputs": [],
   "source": [
    "#q6.hint()\n",
    "#q6.solution()"
   ]
  },
  {
   "cell_type": "markdown",
   "metadata": {
    "papermill": {
     "duration": 0.033522,
     "end_time": "2021-03-23T21:02:51.696471",
     "exception": false,
     "start_time": "2021-03-23T21:02:51.662949",
     "status": "completed"
    },
    "tags": []
   },
   "source": [
    "## 7. <span title=\"A bit spicy\" style=\"color: darkgreen \">🌶️</span> (Optional)\n",
    "\n",
    "In this problem we'll be working with a simplified version of [blackjack](https://en.wikipedia.org/wiki/Blackjack) (aka twenty-one). In this version there is one player (who you'll control) and a dealer. Play proceeds as follows:\n",
    "\n",
    "- The player is dealt two face-up cards. The dealer is dealt one face-up card.\n",
    "- The player may ask to be dealt another card ('hit') as many times as they wish. If the sum of their cards exceeds 21, they lose the round immediately.\n",
    "- The dealer then deals additional cards to himself until either:\n",
    "    - the sum of the dealer's cards exceeds 21, in which case the player wins the round\n",
    "    - the sum of the dealer's cards is greater than or equal to 17. If the player's total is greater than the dealer's, the player wins. Otherwise, the dealer wins (even in case of a tie).\n",
    "    \n",
    "When calculating the sum of cards, Jack, Queen, and King count for 10. Aces can count as 1 or 11 (when referring to a player's \"total\" above, we mean the largest total that can be made without exceeding 21. So e.g. A+8 = 19, A+8+8 = 17)\n",
    "\n",
    "For this problem, you'll write a function representing the player's decision-making strategy in this game. We've provided a very unintelligent implementation below:"
   ]
  },
  {
   "cell_type": "code",
   "execution_count": 21,
   "metadata": {
    "execution": {
     "iopub.execute_input": "2021-03-23T21:02:51.766254Z",
     "iopub.status.busy": "2021-03-23T21:02:51.765568Z",
     "iopub.status.idle": "2021-03-23T21:02:51.770206Z",
     "shell.execute_reply": "2021-03-23T21:02:51.769610Z"
    },
    "papermill": {
     "duration": 0.04233,
     "end_time": "2021-03-23T21:02:51.770361",
     "exception": false,
     "start_time": "2021-03-23T21:02:51.728031",
     "status": "completed"
    },
    "tags": []
   },
   "outputs": [],
   "source": [
    "def should_hit(dealer_total, player_total, player_low_aces, player_high_aces):\n",
    "    \"\"\"Return True if the player should hit (request another card) given the current game\n",
    "    state, or False if the player should stay.\n",
    "    When calculating a hand's total value, we count aces as \"high\" (with value 11) if doing so\n",
    "    doesn't bring the total above 21, otherwise we count them as low (with value 1). \n",
    "    For example, if the player's hand is {A, A, A, 7}, we will count it as 11 + 1 + 1 + 7,\n",
    "    and therefore set player_total=20, player_low_aces=2, player_high_aces=1.\n",
    "    \"\"\"\n",
    "    return False"
   ]
  },
  {
   "cell_type": "markdown",
   "metadata": {
    "papermill": {
     "duration": 0.032698,
     "end_time": "2021-03-23T21:02:51.836033",
     "exception": false,
     "start_time": "2021-03-23T21:02:51.803335",
     "status": "completed"
    },
    "tags": []
   },
   "source": [
    "This very conservative agent *always* sticks with the hand of two cards that they're dealt.\n",
    "\n",
    "We'll be simulating games between your player agent and our own dealer agent by calling your function.\n",
    "\n",
    "Try running the function below to see an example of a simulated game:"
   ]
  },
  {
   "cell_type": "code",
   "execution_count": 22,
   "metadata": {
    "execution": {
     "iopub.execute_input": "2021-03-23T21:02:51.904515Z",
     "iopub.status.busy": "2021-03-23T21:02:51.903931Z",
     "iopub.status.idle": "2021-03-23T21:02:51.908395Z",
     "shell.execute_reply": "2021-03-23T21:02:51.907959Z"
    },
    "papermill": {
     "duration": 0.040576,
     "end_time": "2021-03-23T21:02:51.908535",
     "exception": false,
     "start_time": "2021-03-23T21:02:51.867959",
     "status": "completed"
    },
    "tags": []
   },
   "outputs": [
    {
     "name": "stdout",
     "output_type": "stream",
     "text": [
      "Player starts with 5 and J (total = 15)\n",
      "Dealer starts with A\n",
      "\n",
      "__Player's turn__\n",
      "Player stays\n",
      "\n",
      "__Dealer's turn__\n",
      "Dealer hits and receives 7. (total = 18)\n",
      "Dealer stands.\n",
      "Dealer wins. 18 >= 15\n"
     ]
    }
   ],
   "source": [
    "q7.simulate_one_game()"
   ]
  },
  {
   "cell_type": "markdown",
   "metadata": {
    "papermill": {
     "duration": 0.032991,
     "end_time": "2021-03-23T21:02:51.975196",
     "exception": false,
     "start_time": "2021-03-23T21:02:51.942205",
     "status": "completed"
    },
    "tags": []
   },
   "source": [
    "The real test of your agent's mettle is their average win rate over many games. Try calling the function below to simulate 50000 games of blackjack (it may take a couple seconds):"
   ]
  },
  {
   "cell_type": "code",
   "execution_count": 23,
   "metadata": {
    "execution": {
     "iopub.execute_input": "2021-03-23T21:02:52.051853Z",
     "iopub.status.busy": "2021-03-23T21:02:52.051204Z",
     "iopub.status.idle": "2021-03-23T21:02:53.330966Z",
     "shell.execute_reply": "2021-03-23T21:02:53.330301Z"
    },
    "papermill": {
     "duration": 1.323061,
     "end_time": "2021-03-23T21:02:53.331124",
     "exception": false,
     "start_time": "2021-03-23T21:02:52.008063",
     "status": "completed"
    },
    "tags": []
   },
   "outputs": [
    {
     "name": "stdout",
     "output_type": "stream",
     "text": [
      "Player won 19136 out of 50000 games (win rate = 38.3%)\n"
     ]
    }
   ],
   "source": [
    "q7.simulate(n_games=50000)"
   ]
  },
  {
   "cell_type": "markdown",
   "metadata": {
    "papermill": {
     "duration": 0.034853,
     "end_time": "2021-03-23T21:02:53.401044",
     "exception": false,
     "start_time": "2021-03-23T21:02:53.366191",
     "status": "completed"
    },
    "tags": []
   },
   "source": [
    "Our dumb agent that completely ignores the game state still manages to win shockingly often!\n",
    "\n",
    "Try adding some more smarts to the `should_hit` function and see how it affects the results."
   ]
  },
  {
   "cell_type": "code",
   "execution_count": 24,
   "metadata": {
    "execution": {
     "iopub.execute_input": "2021-03-23T21:02:53.510307Z",
     "iopub.status.busy": "2021-03-23T21:02:53.504916Z",
     "iopub.status.idle": "2021-03-23T21:02:54.871620Z",
     "shell.execute_reply": "2021-03-23T21:02:54.871142Z"
    },
    "papermill": {
     "duration": 1.438219,
     "end_time": "2021-03-23T21:02:54.871799",
     "exception": false,
     "start_time": "2021-03-23T21:02:53.433580",
     "status": "completed"
    },
    "tags": []
   },
   "outputs": [
    {
     "name": "stdout",
     "output_type": "stream",
     "text": [
      "Player won 20630 out of 50000 games (win rate = 41.3%)\n"
     ]
    }
   ],
   "source": [
    "def should_hit(dealer_total, player_total, player_low_aces, player_high_aces):\n",
    "    \"\"\"Return True if the player should hit (request another card) given the current game\n",
    "    state, or False if the player should stay.\n",
    "    When calculating a hand's total value, we count aces as \"high\" (with value 11) if doing so\n",
    "    doesn't bring the total above 21, otherwise we count them as low (with value 1). \n",
    "    For example, if the player's hand is {A, A, A, 7}, we will count it as 11 + 1 + 1 + 7,\n",
    "    and therefore set player_total=20, player_low_aces=2, player_high_aces=1.\n",
    "    \"\"\"\n",
    "    a = True\n",
    "    if player_total > 13:\n",
    "        a = False\n",
    "        \n",
    "    if ((player_low_aces + player_high_aces) == 0) and (player_total < 15):\n",
    "        return True\n",
    "    elif a == False: \n",
    "        return False\n",
    "    else:\n",
    "        return True\n",
    "\n",
    "q7.simulate(n_games=50000)"
   ]
  },
  {
   "cell_type": "markdown",
   "metadata": {
    "papermill": {
     "duration": 0.032154,
     "end_time": "2021-03-23T21:02:54.937440",
     "exception": false,
     "start_time": "2021-03-23T21:02:54.905286",
     "status": "completed"
    },
    "tags": []
   },
   "source": [
    "# Keep Going\n",
    "\n",
    "Learn about **[lists and tuples](https://www.kaggle.com/colinmorris/lists)** to handle multiple items of data in a systematic way."
   ]
  },
  {
   "cell_type": "markdown",
   "metadata": {
    "papermill": {
     "duration": 0.037655,
     "end_time": "2021-03-23T21:02:55.007384",
     "exception": false,
     "start_time": "2021-03-23T21:02:54.969729",
     "status": "completed"
    },
    "tags": []
   },
   "source": [
    "---\n",
    "\n",
    "\n",
    "\n",
    "\n",
    "*Have questions or comments? Visit the [Learn Discussion forum](https://www.kaggle.com/learn-forum/161283) to chat with other Learners.*"
   ]
  }
 ],
 "metadata": {
  "kernelspec": {
   "display_name": "Python 3",
   "language": "python",
   "name": "python3"
  },
  "language_info": {
   "codemirror_mode": {
    "name": "ipython",
    "version": 3
   },
   "file_extension": ".py",
   "mimetype": "text/x-python",
   "name": "python",
   "nbconvert_exporter": "python",
   "pygments_lexer": "ipython3",
   "version": "3.7.9"
  },
  "papermill": {
   "default_parameters": {},
   "duration": 11.845542,
   "end_time": "2021-03-23T21:02:55.657279",
   "environment_variables": {},
   "exception": null,
   "input_path": "__notebook__.ipynb",
   "output_path": "__notebook__.ipynb",
   "parameters": {},
   "start_time": "2021-03-23T21:02:43.811737",
   "version": "2.2.2"
  }
 },
 "nbformat": 4,
 "nbformat_minor": 4
}
