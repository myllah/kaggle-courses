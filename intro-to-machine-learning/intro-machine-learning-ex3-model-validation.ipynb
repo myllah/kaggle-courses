{
 "cells": [
  {
   "cell_type": "markdown",
   "metadata": {
    "papermill": {
     "duration": 0.009516,
     "end_time": "2021-03-31T13:02:44.012349",
     "exception": false,
     "start_time": "2021-03-31T13:02:44.002833",
     "status": "completed"
    },
    "tags": []
   },
   "source": [
    "### Intro-to-Machine-Learning-Exercise03: Model Validation"
   ]
  },
  {
   "cell_type": "markdown",
   "metadata": {
    "papermill": {
     "duration": 0.007841,
     "end_time": "2021-03-31T13:02:44.028552",
     "exception": false,
     "start_time": "2021-03-31T13:02:44.020711",
     "status": "completed"
    },
    "tags": []
   },
   "source": [
    "**This notebook is an exercise in the [Intro to Machine Learning](https://www.kaggle.com/learn/intro-to-machine-learning \"Intro to Machine Learning\") course.  You can reference the tutorial at [this link](https://www.kaggle.com/dansbecker/model-validation \"Tutorial - Model Validation\").**\n",
    "\n",
    "> **This notebook is the third exercise in the [Intro to Machine Learning](https://www.kaggle.com/learn/intro-to-machine-learning \"Intro to Machine Learning\") course. <span style = \"padding: 10px\"> It is the exercise of the fourth lesson, aka [Model Validation](https://www.kaggle.com/dansbecker/model-validation \"Tutorial - Model Validation\").**"
   ]
  },
  {
   "cell_type": "markdown",
   "metadata": {
    "papermill": {
     "duration": 0.007738,
     "end_time": "2021-03-31T13:02:44.044387",
     "exception": false,
     "start_time": "2021-03-31T13:02:44.036649",
     "status": "completed"
    },
    "tags": []
   },
   "source": [
    "## Recap\n",
    "You've built a model. In this exercise you will test how good your model is.\n",
    "\n",
    "Run the cell below to set up your coding environment where the previous exercise left off."
   ]
  },
  {
   "cell_type": "code",
   "execution_count": 1,
   "metadata": {
    "execution": {
     "iopub.execute_input": "2021-03-31T13:02:44.068179Z",
     "iopub.status.busy": "2021-03-31T13:02:44.067536Z",
     "iopub.status.idle": "2021-03-31T13:02:45.478526Z",
     "shell.execute_reply": "2021-03-31T13:02:45.479069Z"
    },
    "papermill": {
     "duration": 1.426727,
     "end_time": "2021-03-31T13:02:45.479395",
     "exception": false,
     "start_time": "2021-03-31T13:02:44.052668",
     "status": "completed"
    },
    "tags": []
   },
   "outputs": [
    {
     "name": "stdout",
     "output_type": "stream",
     "text": [
      "First in-sample predictions: [208500. 181500. 223500. 140000. 250000.]\n",
      "Actual target values for those homes: [208500, 181500, 223500, 140000, 250000]\n",
      "Setup Complete\n"
     ]
    }
   ],
   "source": [
    "# Code you have previously used to load data\n",
    "import pandas as pd\n",
    "from sklearn.tree import DecisionTreeRegressor\n",
    "\n",
    "# Path of the file to read\n",
    "iowa_file_path = '../input/home-data-for-ml-course/train.csv'\n",
    "\n",
    "home_data = pd.read_csv(iowa_file_path)\n",
    "y = home_data.SalePrice\n",
    "feature_columns = ['LotArea', 'YearBuilt', '1stFlrSF', '2ndFlrSF', 'FullBath', 'BedroomAbvGr', 'TotRmsAbvGrd']\n",
    "X = home_data[feature_columns]\n",
    "\n",
    "# Specify Model\n",
    "iowa_model = DecisionTreeRegressor()\n",
    "# Fit Model\n",
    "iowa_model.fit(X, y)\n",
    "\n",
    "print(\"First in-sample predictions:\", iowa_model.predict(X.head()))\n",
    "print(\"Actual target values for those homes:\", y.head().tolist())\n",
    "\n",
    "# Set up code checking\n",
    "from learntools.core import binder\n",
    "binder.bind(globals())\n",
    "from learntools.machine_learning.ex4 import *\n",
    "print(\"Setup Complete\")"
   ]
  },
  {
   "cell_type": "markdown",
   "metadata": {
    "papermill": {
     "duration": 0.008313,
     "end_time": "2021-03-31T13:02:45.497023",
     "exception": false,
     "start_time": "2021-03-31T13:02:45.488710",
     "status": "completed"
    },
    "tags": []
   },
   "source": [
    "# Exercises\n",
    "\n",
    "## Step 1: Split Your Data\n",
    "Use the `train_test_split` function to split up your data.\n",
    "\n",
    "Give it the argument `random_state=1` so the `check` functions know what to expect when verifying your code.\n",
    "\n",
    "Recall, your features are loaded in the DataFrame **X** and your target is loaded in **y**.\n"
   ]
  },
  {
   "cell_type": "code",
   "execution_count": 2,
   "metadata": {
    "execution": {
     "iopub.execute_input": "2021-03-31T13:02:45.519779Z",
     "iopub.status.busy": "2021-03-31T13:02:45.519101Z",
     "iopub.status.idle": "2021-03-31T13:02:45.542865Z",
     "shell.execute_reply": "2021-03-31T13:02:45.543285Z"
    },
    "papermill": {
     "duration": 0.037861,
     "end_time": "2021-03-31T13:02:45.543479",
     "exception": false,
     "start_time": "2021-03-31T13:02:45.505618",
     "status": "completed"
    },
    "tags": []
   },
   "outputs": [
    {
     "data": {
      "application/javascript": [
       "parent.postMessage({\"jupyterEvent\": \"custom.exercise_interaction\", \"data\": {\"outcomeType\": 1, \"valueTowardsCompletion\": 0.25, \"interactionType\": 1, \"questionType\": 2, \"questionId\": \"1_SplitData\", \"learnToolsVersion\": \"0.3.4\", \"failureMessage\": \"\", \"exceptionClass\": \"\", \"trace\": \"\"}}, \"*\")"
      ],
      "text/plain": [
       "<IPython.core.display.Javascript object>"
      ]
     },
     "metadata": {},
     "output_type": "display_data"
    },
    {
     "data": {
      "text/markdown": [
       "<span style=\"color:#33cc33\">Correct</span>"
      ],
      "text/plain": [
       "Correct"
      ]
     },
     "metadata": {},
     "output_type": "display_data"
    }
   ],
   "source": [
    "# Import the train_test_split function and uncomment\n",
    "from sklearn.model_selection import train_test_split\n",
    "\n",
    "# fill in and uncomment\n",
    "train_X, val_X, train_y, val_y = train_test_split(X, y, random_state=1)\n",
    "\n",
    "# Check your answer\n",
    "step_1.check()"
   ]
  },
  {
   "cell_type": "code",
   "execution_count": 3,
   "metadata": {
    "execution": {
     "iopub.execute_input": "2021-03-31T13:02:45.565398Z",
     "iopub.status.busy": "2021-03-31T13:02:45.564855Z",
     "iopub.status.idle": "2021-03-31T13:02:45.567855Z",
     "shell.execute_reply": "2021-03-31T13:02:45.568285Z"
    },
    "papermill": {
     "duration": 0.015321,
     "end_time": "2021-03-31T13:02:45.568455",
     "exception": false,
     "start_time": "2021-03-31T13:02:45.553134",
     "status": "completed"
    },
    "tags": []
   },
   "outputs": [],
   "source": [
    "# The lines below will show you a hint or the solution.\n",
    "#step_1.hint() \n",
    "#step_1.solution()\n"
   ]
  },
  {
   "cell_type": "markdown",
   "metadata": {
    "papermill": {
     "duration": 0.009466,
     "end_time": "2021-03-31T13:02:45.587536",
     "exception": false,
     "start_time": "2021-03-31T13:02:45.578070",
     "status": "completed"
    },
    "tags": []
   },
   "source": [
    "## Step 2: Specify and Fit the Model\n",
    "\n",
    "Create a `DecisionTreeRegressor` model and fit it to the relevant data.\n",
    "Set `random_state` to 1 again when creating the model."
   ]
  },
  {
   "cell_type": "code",
   "execution_count": 4,
   "metadata": {
    "execution": {
     "iopub.execute_input": "2021-03-31T13:02:45.609503Z",
     "iopub.status.busy": "2021-03-31T13:02:45.608936Z",
     "iopub.status.idle": "2021-03-31T13:02:45.636750Z",
     "shell.execute_reply": "2021-03-31T13:02:45.636258Z"
    },
    "papermill": {
     "duration": 0.039789,
     "end_time": "2021-03-31T13:02:45.636890",
     "exception": false,
     "start_time": "2021-03-31T13:02:45.597101",
     "status": "completed"
    },
    "tags": []
   },
   "outputs": [
    {
     "name": "stdout",
     "output_type": "stream",
     "text": [
      "[186500. 184000. 130000.  92000. 164500. 220000. 335000. 144152. 215000.\n",
      " 262000.]\n",
      "[186500. 184000. 130000.  92000. 164500. 220000. 335000. 144152. 215000.\n",
      " 262000.]\n"
     ]
    },
    {
     "data": {
      "application/javascript": [
       "parent.postMessage({\"jupyterEvent\": \"custom.exercise_interaction\", \"data\": {\"outcomeType\": 1, \"valueTowardsCompletion\": 0.25, \"interactionType\": 1, \"questionType\": 2, \"questionId\": \"2_FitModelWithTrain\", \"learnToolsVersion\": \"0.3.4\", \"failureMessage\": \"\", \"exceptionClass\": \"\", \"trace\": \"\"}}, \"*\")"
      ],
      "text/plain": [
       "<IPython.core.display.Javascript object>"
      ]
     },
     "metadata": {},
     "output_type": "display_data"
    },
    {
     "data": {
      "text/markdown": [
       "<span style=\"color:#33cc33\">Correct</span>"
      ],
      "text/plain": [
       "Correct"
      ]
     },
     "metadata": {},
     "output_type": "display_data"
    }
   ],
   "source": [
    "# You imported DecisionTreeRegressor in your last exercise\n",
    "# and that code has been copied to the setup code above. So, no need to\n",
    "# import it again\n",
    "\n",
    "# Specify the model\n",
    "iowa_model = DecisionTreeRegressor(random_state=1)\n",
    "\n",
    "# Fit iowa_model with the training data.\n",
    "iowa_model.fit(train_X, train_y)\n",
    "\n",
    "# Check your answer\n",
    "step_2.check()"
   ]
  },
  {
   "cell_type": "code",
   "execution_count": 5,
   "metadata": {
    "execution": {
     "iopub.execute_input": "2021-03-31T13:02:45.662964Z",
     "iopub.status.busy": "2021-03-31T13:02:45.662097Z",
     "iopub.status.idle": "2021-03-31T13:02:45.665228Z",
     "shell.execute_reply": "2021-03-31T13:02:45.665675Z"
    },
    "papermill": {
     "duration": 0.017769,
     "end_time": "2021-03-31T13:02:45.665828",
     "exception": false,
     "start_time": "2021-03-31T13:02:45.648059",
     "status": "completed"
    },
    "tags": []
   },
   "outputs": [],
   "source": [
    "#step_2.hint()\n",
    "#step_2.solution()"
   ]
  },
  {
   "cell_type": "markdown",
   "metadata": {
    "papermill": {
     "duration": 0.012458,
     "end_time": "2021-03-31T13:02:45.689452",
     "exception": false,
     "start_time": "2021-03-31T13:02:45.676994",
     "status": "completed"
    },
    "tags": []
   },
   "source": [
    "## Step 3: Make Predictions with Validation data\n"
   ]
  },
  {
   "cell_type": "code",
   "execution_count": 6,
   "metadata": {
    "execution": {
     "iopub.execute_input": "2021-03-31T13:02:45.715702Z",
     "iopub.status.busy": "2021-03-31T13:02:45.714796Z",
     "iopub.status.idle": "2021-03-31T13:02:45.728000Z",
     "shell.execute_reply": "2021-03-31T13:02:45.728407Z"
    },
    "papermill": {
     "duration": 0.027689,
     "end_time": "2021-03-31T13:02:45.728576",
     "exception": false,
     "start_time": "2021-03-31T13:02:45.700887",
     "status": "completed"
    },
    "tags": []
   },
   "outputs": [
    {
     "data": {
      "application/javascript": [
       "parent.postMessage({\"jupyterEvent\": \"custom.exercise_interaction\", \"data\": {\"outcomeType\": 1, \"valueTowardsCompletion\": 0.25, \"interactionType\": 1, \"questionType\": 2, \"questionId\": \"3_ValPreds\", \"learnToolsVersion\": \"0.3.4\", \"failureMessage\": \"\", \"exceptionClass\": \"\", \"trace\": \"\"}}, \"*\")"
      ],
      "text/plain": [
       "<IPython.core.display.Javascript object>"
      ]
     },
     "metadata": {},
     "output_type": "display_data"
    },
    {
     "data": {
      "text/markdown": [
       "<span style=\"color:#33cc33\">Correct</span>"
      ],
      "text/plain": [
       "Correct"
      ]
     },
     "metadata": {},
     "output_type": "display_data"
    },
    {
     "name": "stdout",
     "output_type": "stream",
     "text": [
      "First 10 val_predictions:\n",
      "[186500. 184000. 130000.  92000. 164500. 220000. 335000. 144152. 215000.\n",
      " 262000.]\n"
     ]
    }
   ],
   "source": [
    "# Predict with all validation observations\n",
    "val_predictions = iowa_model.predict(val_X)\n",
    "\n",
    "# Check your answer\n",
    "step_3.check()\n",
    "\n",
    "print(\"First 10 val_predictions:\")\n",
    "print(val_predictions[:10])"
   ]
  },
  {
   "cell_type": "code",
   "execution_count": 7,
   "metadata": {
    "execution": {
     "iopub.execute_input": "2021-03-31T13:02:45.756728Z",
     "iopub.status.busy": "2021-03-31T13:02:45.756102Z",
     "iopub.status.idle": "2021-03-31T13:02:45.758176Z",
     "shell.execute_reply": "2021-03-31T13:02:45.758676Z"
    },
    "papermill": {
     "duration": 0.018155,
     "end_time": "2021-03-31T13:02:45.758851",
     "exception": false,
     "start_time": "2021-03-31T13:02:45.740696",
     "status": "completed"
    },
    "tags": []
   },
   "outputs": [],
   "source": [
    "#step_3.hint()\n",
    "#step_3.solution()"
   ]
  },
  {
   "cell_type": "markdown",
   "metadata": {
    "papermill": {
     "duration": 0.012022,
     "end_time": "2021-03-31T13:02:45.783132",
     "exception": false,
     "start_time": "2021-03-31T13:02:45.771110",
     "status": "completed"
    },
    "tags": []
   },
   "source": [
    "Inspect your predictions and actual values from validation data."
   ]
  },
  {
   "cell_type": "code",
   "execution_count": 8,
   "metadata": {
    "execution": {
     "iopub.execute_input": "2021-03-31T13:02:45.811292Z",
     "iopub.status.busy": "2021-03-31T13:02:45.810730Z",
     "iopub.status.idle": "2021-03-31T13:02:45.817578Z",
     "shell.execute_reply": "2021-03-31T13:02:45.818002Z"
    },
    "papermill": {
     "duration": 0.022218,
     "end_time": "2021-03-31T13:02:45.818157",
     "exception": false,
     "start_time": "2021-03-31T13:02:45.795939",
     "status": "completed"
    },
    "tags": []
   },
   "outputs": [
    {
     "name": "stdout",
     "output_type": "stream",
     "text": [
      "First 5 validation predictions: [186500. 184000. 130000.  92000. 164500.]\n",
      "First 5 actual prices from validation data: [231500, 179500, 122000, 84500, 142000]\n"
     ]
    }
   ],
   "source": [
    "# print the top few validation predictions\n",
    "# print('First 5 validation predictions:', val_predictions[:5])\n",
    "print(\"First 5 validation predictions:\", iowa_model.predict(val_X.head()))\n",
    "\n",
    "# print the top few actual prices from validation data\n",
    "print(\"First 5 actual prices from validation data:\", val_y.head().tolist())"
   ]
  },
  {
   "cell_type": "markdown",
   "metadata": {
    "papermill": {
     "duration": 0.01241,
     "end_time": "2021-03-31T13:02:45.843188",
     "exception": false,
     "start_time": "2021-03-31T13:02:45.830778",
     "status": "completed"
    },
    "tags": []
   },
   "source": [
    "What do you notice that is different from what you saw with in-sample predictions (which are printed after the top code cell in this page).\n",
    "\n",
    "Do you remember why validation predictions differ from in-sample (or training) predictions? This is an important idea from the last lesson.\n",
    "\n",
    "## Step 4: Calculate the Mean Absolute Error in Validation Data\n"
   ]
  },
  {
   "cell_type": "code",
   "execution_count": 9,
   "metadata": {
    "execution": {
     "iopub.execute_input": "2021-03-31T13:02:45.871403Z",
     "iopub.status.busy": "2021-03-31T13:02:45.870841Z",
     "iopub.status.idle": "2021-03-31T13:02:45.879669Z",
     "shell.execute_reply": "2021-03-31T13:02:45.879080Z"
    },
    "papermill": {
     "duration": 0.02386,
     "end_time": "2021-03-31T13:02:45.879802",
     "exception": false,
     "start_time": "2021-03-31T13:02:45.855942",
     "status": "completed"
    },
    "tags": []
   },
   "outputs": [
    {
     "name": "stdout",
     "output_type": "stream",
     "text": [
      "29652.931506849316\n"
     ]
    },
    {
     "data": {
      "application/javascript": [
       "parent.postMessage({\"jupyterEvent\": \"custom.exercise_interaction\", \"data\": {\"outcomeType\": 1, \"valueTowardsCompletion\": 0.25, \"interactionType\": 1, \"questionType\": 1, \"questionId\": \"4_MAE\", \"learnToolsVersion\": \"0.3.4\", \"failureMessage\": \"\", \"exceptionClass\": \"\", \"trace\": \"\"}}, \"*\")"
      ],
      "text/plain": [
       "<IPython.core.display.Javascript object>"
      ]
     },
     "metadata": {},
     "output_type": "display_data"
    },
    {
     "data": {
      "text/markdown": [
       "<span style=\"color:#33cc33\">Correct</span>"
      ],
      "text/plain": [
       "Correct"
      ]
     },
     "metadata": {},
     "output_type": "display_data"
    }
   ],
   "source": [
    "from sklearn.metrics import mean_absolute_error\n",
    "val_mae = mean_absolute_error(val_y, val_predictions)\n",
    "\n",
    "# uncomment following line to see the validation_mae\n",
    "print(val_mae)\n",
    "\n",
    "# Check your answer\n",
    "step_4.check()"
   ]
  },
  {
   "cell_type": "code",
   "execution_count": 10,
   "metadata": {
    "execution": {
     "iopub.execute_input": "2021-03-31T13:02:45.911288Z",
     "iopub.status.busy": "2021-03-31T13:02:45.910570Z",
     "iopub.status.idle": "2021-03-31T13:02:45.913138Z",
     "shell.execute_reply": "2021-03-31T13:02:45.912686Z"
    },
    "papermill": {
     "duration": 0.019846,
     "end_time": "2021-03-31T13:02:45.913260",
     "exception": false,
     "start_time": "2021-03-31T13:02:45.893414",
     "status": "completed"
    },
    "tags": []
   },
   "outputs": [],
   "source": [
    "# step_4.hint()\n",
    "# step_4.solution()"
   ]
  },
  {
   "cell_type": "markdown",
   "metadata": {
    "papermill": {
     "duration": 0.013448,
     "end_time": "2021-03-31T13:02:45.940466",
     "exception": false,
     "start_time": "2021-03-31T13:02:45.927018",
     "status": "completed"
    },
    "tags": []
   },
   "source": [
    "Is that MAE good?  There isn't a general rule for what values are good that applies across applications. But you'll see how to use (and improve) this number in the next step.\n",
    "\n",
    "# Keep Going\n",
    "\n",
    "You are ready for **[Underfitting and Overfitting](https://www.kaggle.com/dansbecker/underfitting-and-overfitting).**\n"
   ]
  },
  {
   "cell_type": "markdown",
   "metadata": {
    "papermill": {
     "duration": 0.013399,
     "end_time": "2021-03-31T13:02:45.967585",
     "exception": false,
     "start_time": "2021-03-31T13:02:45.954186",
     "status": "completed"
    },
    "tags": []
   },
   "source": [
    "---\n",
    "\n",
    "\n",
    "\n",
    "\n",
    "*Have questions or comments? Visit the [Learn Discussion forum](https://www.kaggle.com/learn-forum/161285) to chat with other Learners.*"
   ]
  }
 ],
 "metadata": {
  "kernelspec": {
   "display_name": "Python 3",
   "language": "python",
   "name": "python3"
  },
  "language_info": {
   "codemirror_mode": {
    "name": "ipython",
    "version": 3
   },
   "file_extension": ".py",
   "mimetype": "text/x-python",
   "name": "python",
   "nbconvert_exporter": "python",
   "pygments_lexer": "ipython3",
   "version": "3.7.9"
  },
  "papermill": {
   "default_parameters": {},
   "duration": 8.856698,
   "end_time": "2021-03-31T13:02:47.543317",
   "environment_variables": {},
   "exception": null,
   "input_path": "__notebook__.ipynb",
   "output_path": "__notebook__.ipynb",
   "parameters": {},
   "start_time": "2021-03-31T13:02:38.686619",
   "version": "2.2.2"
  }
 },
 "nbformat": 4,
 "nbformat_minor": 4
}
