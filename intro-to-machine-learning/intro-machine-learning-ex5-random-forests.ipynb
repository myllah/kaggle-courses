{
 "cells": [
  {
   "cell_type": "markdown",
   "id": "failing-drawing",
   "metadata": {
    "papermill": {
     "duration": 0.007737,
     "end_time": "2021-04-14T02:55:24.957305",
     "exception": false,
     "start_time": "2021-04-14T02:55:24.949568",
     "status": "completed"
    },
    "tags": []
   },
   "source": [
    "### Intro-to-Machine-Learning-Exercise05: Random Forests"
   ]
  },
  {
   "cell_type": "markdown",
   "id": "white-gentleman",
   "metadata": {
    "papermill": {
     "duration": 0.007201,
     "end_time": "2021-04-14T02:55:24.971720",
     "exception": false,
     "start_time": "2021-04-14T02:55:24.964519",
     "status": "completed"
    },
    "tags": []
   },
   "source": [
    "**This notebook is an exercise in the [Intro to Machine Learning](https://www.kaggle.com/learn/intro-to-machine-learning \"Intro to Machine Learning\") course.  You can reference the tutorial at [this link](https://www.kaggle.com/dansbecker/random-forests \"Tutorial - Random Forests\").**\n",
    "\n",
    "> **This notebook is the fifth exercise in the [Intro to Machine Learning](https://www.kaggle.com/learn/intro-to-machine-learning \"Intro to Machine Learning\") course. <span style = \"padding: 10px\"> It is the exercise of the sixth lesson, aka [Random Forests](https://www.kaggle.com/dansbecker/random-forests \"Tutorial - Random Forests\").**"
   ]
  },
  {
   "cell_type": "markdown",
   "id": "sealed-present",
   "metadata": {
    "papermill": {
     "duration": 0.006351,
     "end_time": "2021-04-14T02:55:24.984817",
     "exception": false,
     "start_time": "2021-04-14T02:55:24.978466",
     "status": "completed"
    },
    "tags": []
   },
   "source": [
    "## Recap\n",
    "Here's the code you've written so far."
   ]
  },
  {
   "cell_type": "code",
   "execution_count": 1,
   "id": "durable-mixture",
   "metadata": {
    "execution": {
     "iopub.execute_input": "2021-04-14T02:55:25.008630Z",
     "iopub.status.busy": "2021-04-14T02:55:25.007924Z",
     "iopub.status.idle": "2021-04-14T02:55:26.651067Z",
     "shell.execute_reply": "2021-04-14T02:55:26.650349Z"
    },
    "papermill": {
     "duration": 1.65969,
     "end_time": "2021-04-14T02:55:26.651236",
     "exception": false,
     "start_time": "2021-04-14T02:55:24.991546",
     "status": "completed"
    },
    "tags": []
   },
   "outputs": [
    {
     "name": "stdout",
     "output_type": "stream",
     "text": [
      "Validation MAE when not specifying max_leaf_nodes: 29,653\n",
      "Validation MAE for best value of max_leaf_nodes: 27,283\n",
      "\n",
      "Setup complete\n"
     ]
    }
   ],
   "source": [
    "# Code you have previously used to load data\n",
    "import pandas as pd\n",
    "from sklearn.metrics import mean_absolute_error\n",
    "from sklearn.model_selection import train_test_split\n",
    "from sklearn.tree import DecisionTreeRegressor\n",
    "\n",
    "\n",
    "# Path of the file to read\n",
    "iowa_file_path = '../input/home-data-for-ml-course/train.csv'\n",
    "\n",
    "home_data = pd.read_csv(iowa_file_path)\n",
    "# Create target object and call it y\n",
    "y = home_data.SalePrice\n",
    "# Create X\n",
    "features = ['LotArea', 'YearBuilt', '1stFlrSF', '2ndFlrSF', 'FullBath', 'BedroomAbvGr', 'TotRmsAbvGrd']\n",
    "X = home_data[features]\n",
    "\n",
    "# Split into validation and training data\n",
    "train_X, val_X, train_y, val_y = train_test_split(X, y, random_state=1)\n",
    "\n",
    "# Specify Model\n",
    "iowa_model = DecisionTreeRegressor(random_state=1)\n",
    "# Fit Model\n",
    "iowa_model.fit(train_X, train_y)\n",
    "\n",
    "# Make validation predictions and calculate mean absolute error\n",
    "val_predictions = iowa_model.predict(val_X)\n",
    "val_mae = mean_absolute_error(val_predictions, val_y)\n",
    "print(\"Validation MAE when not specifying max_leaf_nodes: {:,.0f}\".format(val_mae))\n",
    "\n",
    "# Using best value for max_leaf_nodes\n",
    "iowa_model = DecisionTreeRegressor(max_leaf_nodes=100, random_state=1)\n",
    "iowa_model.fit(train_X, train_y)\n",
    "val_predictions = iowa_model.predict(val_X)\n",
    "val_mae = mean_absolute_error(val_predictions, val_y)\n",
    "print(\"Validation MAE for best value of max_leaf_nodes: {:,.0f}\".format(val_mae))\n",
    "\n",
    "\n",
    "# Set up code checking\n",
    "from learntools.core import binder\n",
    "binder.bind(globals())\n",
    "from learntools.machine_learning.ex6 import *\n",
    "print(\"\\nSetup complete\")"
   ]
  },
  {
   "cell_type": "markdown",
   "id": "cleared-think",
   "metadata": {
    "papermill": {
     "duration": 0.007049,
     "end_time": "2021-04-14T02:55:26.666438",
     "exception": false,
     "start_time": "2021-04-14T02:55:26.659389",
     "status": "completed"
    },
    "tags": []
   },
   "source": [
    "# Exercises\n",
    "Data science isn't always this easy. But replacing the decision tree with a Random Forest is going to be an easy win."
   ]
  },
  {
   "cell_type": "markdown",
   "id": "latin-parking",
   "metadata": {
    "papermill": {
     "duration": 0.006923,
     "end_time": "2021-04-14T02:55:26.680634",
     "exception": false,
     "start_time": "2021-04-14T02:55:26.673711",
     "status": "completed"
    },
    "tags": []
   },
   "source": [
    "## Step 1: Use a Random Forest"
   ]
  },
  {
   "cell_type": "code",
   "execution_count": 2,
   "id": "pretty-method",
   "metadata": {
    "execution": {
     "iopub.execute_input": "2021-04-14T02:55:26.701567Z",
     "iopub.status.busy": "2021-04-14T02:55:26.700816Z",
     "iopub.status.idle": "2021-04-14T02:55:27.266079Z",
     "shell.execute_reply": "2021-04-14T02:55:27.265538Z"
    },
    "papermill": {
     "duration": 0.578192,
     "end_time": "2021-04-14T02:55:27.266234",
     "exception": false,
     "start_time": "2021-04-14T02:55:26.688042",
     "status": "completed"
    },
    "tags": []
   },
   "outputs": [
    {
     "name": "stdout",
     "output_type": "stream",
     "text": [
      "Validation MAE for Random Forest Model: 21857.15912981083\n"
     ]
    },
    {
     "data": {
      "application/javascript": [
       "parent.postMessage({\"jupyterEvent\": \"custom.exercise_interaction\", \"data\": {\"outcomeType\": 1, \"valueTowardsCompletion\": 1.0, \"interactionType\": 1, \"questionType\": 2, \"questionId\": \"1_CheckRfScore\", \"learnToolsVersion\": \"0.3.4\", \"failureMessage\": \"\", \"exceptionClass\": \"\", \"trace\": \"\"}}, \"*\")"
      ],
      "text/plain": [
       "<IPython.core.display.Javascript object>"
      ]
     },
     "metadata": {},
     "output_type": "display_data"
    },
    {
     "data": {
      "text/markdown": [
       "<span style=\"color:#33cc33\">Correct</span>"
      ],
      "text/plain": [
       "Correct"
      ]
     },
     "metadata": {},
     "output_type": "display_data"
    }
   ],
   "source": [
    "from sklearn.ensemble import RandomForestRegressor\n",
    "\n",
    "# Define the model. Set random_state to 1\n",
    "rf_model = RandomForestRegressor(random_state=1)\n",
    "\n",
    "# fit your model\n",
    "rf_model.fit(train_X, train_y)\n",
    "\n",
    "# Calculate the mean absolute error of your Random Forest model on the validation data\n",
    "rf_val_mae = mean_absolute_error(val_y, rf_model.predict(val_X))\n",
    "\n",
    "print(\"Validation MAE for Random Forest Model: {}\".format(rf_val_mae))\n",
    "\n",
    "# Check your answer\n",
    "step_1.check()"
   ]
  },
  {
   "cell_type": "code",
   "execution_count": 3,
   "id": "dress-average",
   "metadata": {
    "execution": {
     "iopub.execute_input": "2021-04-14T02:55:27.289153Z",
     "iopub.status.busy": "2021-04-14T02:55:27.288060Z",
     "iopub.status.idle": "2021-04-14T02:55:27.295597Z",
     "shell.execute_reply": "2021-04-14T02:55:27.296091Z"
    },
    "papermill": {
     "duration": 0.021276,
     "end_time": "2021-04-14T02:55:27.296277",
     "exception": false,
     "start_time": "2021-04-14T02:55:27.275001",
     "status": "completed"
    },
    "tags": []
   },
   "outputs": [
    {
     "data": {
      "application/javascript": [
       "parent.postMessage({\"jupyterEvent\": \"custom.exercise_interaction\", \"data\": {\"interactionType\": 2, \"questionType\": 2, \"questionId\": \"1_CheckRfScore\", \"learnToolsVersion\": \"0.3.4\", \"valueTowardsCompletion\": 0.0, \"failureMessage\": \"\", \"exceptionClass\": \"\", \"trace\": \"\", \"outcomeType\": 4}}, \"*\")"
      ],
      "text/plain": [
       "<IPython.core.display.Javascript object>"
      ]
     },
     "metadata": {},
     "output_type": "display_data"
    },
    {
     "data": {
      "text/markdown": [
       "<span style=\"color:#3366cc\">Hint:</span> Review the code above with a DecisionTreeRegressor. Use the RandomForestRegressor instead"
      ],
      "text/plain": [
       "Hint: Review the code above with a DecisionTreeRegressor. Use the RandomForestRegressor instead"
      ]
     },
     "metadata": {},
     "output_type": "display_data"
    }
   ],
   "source": [
    "# The lines below will show you a hint or the solution.\n",
    "step_1.hint() \n",
    "#step_1.solution()\n"
   ]
  },
  {
   "cell_type": "markdown",
   "id": "certain-healthcare",
   "metadata": {
    "papermill": {
     "duration": 0.009482,
     "end_time": "2021-04-14T02:55:27.315801",
     "exception": false,
     "start_time": "2021-04-14T02:55:27.306319",
     "status": "completed"
    },
    "tags": []
   },
   "source": [
    "So far, you have followed specific instructions at each step of your project. This helped learn key ideas and build your first model, but now you know enough to try things on your own. \n",
    "\n",
    "Machine Learning competitions are a great way to try your own ideas and learn more as you independently navigate a machine learning project. \n",
    "\n",
    "# Keep Going\n",
    "\n",
    "You are ready for **[Machine Learning Competitions](https://www.kaggle.com/alexisbcook/machine-learning-competitions).**\n"
   ]
  },
  {
   "cell_type": "markdown",
   "id": "interior-essay",
   "metadata": {
    "papermill": {
     "duration": 0.009398,
     "end_time": "2021-04-14T02:55:27.335080",
     "exception": false,
     "start_time": "2021-04-14T02:55:27.325682",
     "status": "completed"
    },
    "tags": []
   },
   "source": [
    "---\n",
    "\n",
    "\n",
    "\n",
    "\n",
    "*Have questions or comments? Visit the [Learn Discussion forum](https://www.kaggle.com/learn-forum/161285) to chat with other Learners.*"
   ]
  }
 ],
 "metadata": {
  "kernelspec": {
   "display_name": "Python 3",
   "language": "python",
   "name": "python3"
  },
  "language_info": {
   "codemirror_mode": {
    "name": "ipython",
    "version": 3
   },
   "file_extension": ".py",
   "mimetype": "text/x-python",
   "name": "python",
   "nbconvert_exporter": "python",
   "pygments_lexer": "ipython3",
   "version": "3.7.9"
  },
  "papermill": {
   "default_parameters": {},
   "duration": 9.911497,
   "end_time": "2021-04-14T02:55:28.057258",
   "environment_variables": {},
   "exception": null,
   "input_path": "__notebook__.ipynb",
   "output_path": "__notebook__.ipynb",
   "parameters": {},
   "start_time": "2021-04-14T02:55:18.145761",
   "version": "2.3.2"
  }
 },
 "nbformat": 4,
 "nbformat_minor": 5
}
