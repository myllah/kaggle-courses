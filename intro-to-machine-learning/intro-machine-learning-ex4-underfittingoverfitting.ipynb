{
 "cells": [
  {
   "cell_type": "markdown",
   "id": "vocational-large",
   "metadata": {
    "papermill": {
     "duration": 0.010671,
     "end_time": "2021-04-13T20:39:21.903193",
     "exception": false,
     "start_time": "2021-04-13T20:39:21.892522",
     "status": "completed"
    },
    "tags": []
   },
   "source": [
    "### Intro-to-Machine-Learning-Exercise04: Underfitting and Overfitting"
   ]
  },
  {
   "cell_type": "markdown",
   "id": "sound-mechanism",
   "metadata": {
    "papermill": {
     "duration": 0.009329,
     "end_time": "2021-04-13T20:39:21.922344",
     "exception": false,
     "start_time": "2021-04-13T20:39:21.913015",
     "status": "completed"
    },
    "tags": []
   },
   "source": [
    "**This notebook is an exercise in the [Intro to Machine Learning](https://www.kaggle.com/learn/intro-to-machine-learning \"Intro to Machine Learning\") course.  You can reference the tutorial at [this link](https://www.kaggle.com/dansbecker/underfitting-and-overfitting \"Tutorial - Underfitting and Overfitting\").**\n",
    "\n",
    "> **This notebook is the fourth exercise in the [Intro to Machine Learning](https://www.kaggle.com/learn/intro-to-machine-learning \"Intro to Machine Learning\") course. <span style = \"padding: 10px\"> It is the exercise of the fifth lesson, aka [Underfitting and Overfitting](https://www.kaggle.com/dansbecker/underfitting-and-overfitting \"Tutorial - Underfitting and Overfitting\").**"
   ]
  },
  {
   "cell_type": "markdown",
   "id": "dying-purchase",
   "metadata": {
    "papermill": {
     "duration": 0.009184,
     "end_time": "2021-04-13T20:39:21.941573",
     "exception": false,
     "start_time": "2021-04-13T20:39:21.932389",
     "status": "completed"
    },
    "tags": []
   },
   "source": [
    "## Recap\n",
    "You've built your first model, and now it's time to optimize the size of the tree to make better predictions. Run this cell to set up your coding environment where the previous step left off."
   ]
  },
  {
   "cell_type": "code",
   "execution_count": 1,
   "id": "wireless-worthy",
   "metadata": {
    "execution": {
     "iopub.execute_input": "2021-04-13T20:39:21.971018Z",
     "iopub.status.busy": "2021-04-13T20:39:21.970414Z",
     "iopub.status.idle": "2021-04-13T20:39:23.270201Z",
     "shell.execute_reply": "2021-04-13T20:39:23.271150Z"
    },
    "papermill": {
     "duration": 1.320439,
     "end_time": "2021-04-13T20:39:23.271522",
     "exception": false,
     "start_time": "2021-04-13T20:39:21.951083",
     "status": "completed"
    },
    "tags": []
   },
   "outputs": [
    {
     "name": "stdout",
     "output_type": "stream",
     "text": [
      "Validation MAE: 29,653\n",
      "\n",
      "Setup complete\n"
     ]
    }
   ],
   "source": [
    "# Code you have previously used to load data\n",
    "import pandas as pd\n",
    "import numpy as np\n",
    "from sklearn.metrics import mean_absolute_error\n",
    "from sklearn.model_selection import train_test_split\n",
    "from sklearn.tree import DecisionTreeRegressor\n",
    "\n",
    "\n",
    "# Path of the file to read\n",
    "iowa_file_path = '../input/home-data-for-ml-course/train.csv'\n",
    "home_data = pd.read_csv(iowa_file_path)\n",
    "\n",
    "# Create target object and call it y\n",
    "y = home_data.SalePrice\n",
    "\n",
    "# Create X\n",
    "features = ['LotArea', 'YearBuilt', '1stFlrSF', '2ndFlrSF', 'FullBath', 'BedroomAbvGr', 'TotRmsAbvGrd']\n",
    "X = home_data[features]\n",
    "\n",
    "# Split into validation and training data\n",
    "train_X, val_X, train_y, val_y = train_test_split(X, y, random_state=1)\n",
    "\n",
    "# Specify Model\n",
    "iowa_model = DecisionTreeRegressor(random_state=1)\n",
    "# Fit Model\n",
    "iowa_model.fit(train_X, train_y)\n",
    "\n",
    "# Make validation predictions and calculate mean absolute error\n",
    "val_predictions = iowa_model.predict(val_X)\n",
    "val_mae = mean_absolute_error(val_predictions, val_y)\n",
    "print(\"Validation MAE: {:,.0f}\".format(val_mae))\n",
    "\n",
    "# Set up code checking\n",
    "from learntools.core import binder\n",
    "binder.bind(globals())\n",
    "from learntools.machine_learning.ex5 import *\n",
    "print(\"\\nSetup complete\")"
   ]
  },
  {
   "cell_type": "markdown",
   "id": "awful-lightweight",
   "metadata": {
    "papermill": {
     "duration": 0.009842,
     "end_time": "2021-04-13T20:39:23.292905",
     "exception": false,
     "start_time": "2021-04-13T20:39:23.283063",
     "status": "completed"
    },
    "tags": []
   },
   "source": [
    "# Exercises\n",
    "You could write the function `get_mae` yourself. For now, we'll supply it. This is the same function you read about in the previous lesson. Just run the cell below."
   ]
  },
  {
   "cell_type": "code",
   "execution_count": 2,
   "id": "extra-thread",
   "metadata": {
    "execution": {
     "iopub.execute_input": "2021-04-13T20:39:23.316617Z",
     "iopub.status.busy": "2021-04-13T20:39:23.315701Z",
     "iopub.status.idle": "2021-04-13T20:39:23.320770Z",
     "shell.execute_reply": "2021-04-13T20:39:23.321193Z"
    },
    "papermill": {
     "duration": 0.01846,
     "end_time": "2021-04-13T20:39:23.321382",
     "exception": false,
     "start_time": "2021-04-13T20:39:23.302922",
     "status": "completed"
    },
    "tags": []
   },
   "outputs": [],
   "source": [
    "def get_mae(max_leaf_nodes, train_X, val_X, train_y, val_y):\n",
    "    model = DecisionTreeRegressor(max_leaf_nodes=max_leaf_nodes, random_state=0)\n",
    "    model.fit(train_X, train_y)\n",
    "    preds_val = model.predict(val_X)\n",
    "    mae = mean_absolute_error(val_y, preds_val)\n",
    "    return(mae)"
   ]
  },
  {
   "cell_type": "markdown",
   "id": "naval-richards",
   "metadata": {
    "papermill": {
     "duration": 0.009678,
     "end_time": "2021-04-13T20:39:23.341062",
     "exception": false,
     "start_time": "2021-04-13T20:39:23.331384",
     "status": "completed"
    },
    "tags": []
   },
   "source": [
    "## Step 1: Compare Different Tree Sizes\n",
    "Write a loop that tries the following values for *max_leaf_nodes* from a set of possible values.\n",
    "\n",
    "Call the *get_mae* function on each value of max_leaf_nodes. Store the output in some way that allows you to select the value of `max_leaf_nodes` that gives the most accurate model on your data."
   ]
  },
  {
   "cell_type": "code",
   "execution_count": 3,
   "id": "egyptian-september",
   "metadata": {
    "execution": {
     "iopub.execute_input": "2021-04-13T20:39:23.364115Z",
     "iopub.status.busy": "2021-04-13T20:39:23.363239Z",
     "iopub.status.idle": "2021-04-13T20:39:23.418399Z",
     "shell.execute_reply": "2021-04-13T20:39:23.417764Z"
    },
    "papermill": {
     "duration": 0.067665,
     "end_time": "2021-04-13T20:39:23.418559",
     "exception": false,
     "start_time": "2021-04-13T20:39:23.350894",
     "status": "completed"
    },
    "tags": []
   },
   "outputs": [
    {
     "name": "stdout",
     "output_type": "stream",
     "text": [
      "mae_values: {5: 35044.51299744237, 25: 29016.41319191076, 50: 27405.930473214907, 100: 27282.50803885739, 250: 27893.822225701646, 500: 29454.18598068598}\n",
      "best_tree_size: 100\n"
     ]
    },
    {
     "data": {
      "application/javascript": [
       "parent.postMessage({\"jupyterEvent\": \"custom.exercise_interaction\", \"data\": {\"outcomeType\": 1, \"valueTowardsCompletion\": 0.5, \"interactionType\": 1, \"questionType\": 1, \"questionId\": \"1_BestTreeSize\", \"learnToolsVersion\": \"0.3.4\", \"failureMessage\": \"\", \"exceptionClass\": \"\", \"trace\": \"\"}}, \"*\")"
      ],
      "text/plain": [
       "<IPython.core.display.Javascript object>"
      ]
     },
     "metadata": {},
     "output_type": "display_data"
    },
    {
     "data": {
      "text/markdown": [
       "<span style=\"color:#33cc33\">Correct</span>"
      ],
      "text/plain": [
       "Correct"
      ]
     },
     "metadata": {},
     "output_type": "display_data"
    }
   ],
   "source": [
    "candidate_max_leaf_nodes = [5, 25, 50, 100, 250, 500]\n",
    "# Write loop to find the ideal tree size from candidate_max_leaf_nodes\n",
    "mae_values = {max_leaf_nodes: get_mae(max_leaf_nodes, train_X, val_X, train_y, val_y) for max_leaf_nodes in candidate_max_leaf_nodes}\n",
    "\n",
    "# Store the best value of max_leaf_nodes (it will be either 5, 25, 50, 100, 250 or 500)\n",
    "best_tree_size = min(mae_values, key=mae_values.get)\n",
    "\n",
    "print('mae_values:', mae_values)\n",
    "print('best_tree_size:', best_tree_size)\n",
    "# Check your answer\n",
    "step_1.check()"
   ]
  },
  {
   "cell_type": "code",
   "execution_count": 4,
   "id": "sealed-syndication",
   "metadata": {
    "execution": {
     "iopub.execute_input": "2021-04-13T20:39:23.451356Z",
     "iopub.status.busy": "2021-04-13T20:39:23.450427Z",
     "iopub.status.idle": "2021-04-13T20:39:23.498170Z",
     "shell.execute_reply": "2021-04-13T20:39:23.498684Z"
    },
    "papermill": {
     "duration": 0.068125,
     "end_time": "2021-04-13T20:39:23.498861",
     "exception": false,
     "start_time": "2021-04-13T20:39:23.430736",
     "status": "completed"
    },
    "tags": []
   },
   "outputs": [
    {
     "name": "stdout",
     "output_type": "stream",
     "text": [
      "mae_values: [35044.51299744237, 29016.41319191076, 27405.930473214907, 27282.50803885739, 27893.822225701646, 29454.18598068598]\n",
      "best_tree_size: 100\n"
     ]
    },
    {
     "data": {
      "application/javascript": [
       "parent.postMessage({\"jupyterEvent\": \"custom.exercise_interaction\", \"data\": {\"outcomeType\": 1, \"valueTowardsCompletion\": 0.5, \"interactionType\": 1, \"questionType\": 1, \"questionId\": \"1_BestTreeSize\", \"learnToolsVersion\": \"0.3.4\", \"failureMessage\": \"\", \"exceptionClass\": \"\", \"trace\": \"\"}}, \"*\")"
      ],
      "text/plain": [
       "<IPython.core.display.Javascript object>"
      ]
     },
     "metadata": {},
     "output_type": "display_data"
    },
    {
     "data": {
      "text/markdown": [
       "<span style=\"color:#33cc33\">Correct</span>"
      ],
      "text/plain": [
       "Correct"
      ]
     },
     "metadata": {},
     "output_type": "display_data"
    }
   ],
   "source": [
    "### An Alternative Way ###\n",
    "candidate_max_leaf_nodes = [5, 25, 50, 100, 250, 500]\n",
    "### Write loop to find the ideal tree size from candidate_max_leaf_nodes\n",
    "mae_values = []\n",
    "for max_leaf_nodes in candidate_max_leaf_nodes:\n",
    "    mae_values.append(get_mae(max_leaf_nodes, train_X, val_X, train_y, val_y))\n",
    "    \n",
    "# Store the best value of max_leaf_nodes (it will be either 5, 25, 50, 100, 250 or 500)\n",
    "best_tree_size = candidate_max_leaf_nodes[np.argmin(mae_values, axis=0)]\n",
    "\n",
    "print('mae_values:', mae_values)\n",
    "print('best_tree_size:', best_tree_size)\n",
    "\n",
    "# Check your answer\n",
    "step_1.check()"
   ]
  },
  {
   "cell_type": "code",
   "execution_count": 5,
   "id": "cardiovascular-mailman",
   "metadata": {
    "execution": {
     "iopub.execute_input": "2021-04-13T20:39:23.531102Z",
     "iopub.status.busy": "2021-04-13T20:39:23.530127Z",
     "iopub.status.idle": "2021-04-13T20:39:23.536024Z",
     "shell.execute_reply": "2021-04-13T20:39:23.535418Z"
    },
    "papermill": {
     "duration": 0.024334,
     "end_time": "2021-04-13T20:39:23.536154",
     "exception": false,
     "start_time": "2021-04-13T20:39:23.511820",
     "status": "completed"
    },
    "tags": []
   },
   "outputs": [
    {
     "data": {
      "application/javascript": [
       "parent.postMessage({\"jupyterEvent\": \"custom.exercise_interaction\", \"data\": {\"interactionType\": 2, \"questionType\": 1, \"questionId\": \"1_BestTreeSize\", \"learnToolsVersion\": \"0.3.4\", \"valueTowardsCompletion\": 0.0, \"failureMessage\": \"\", \"exceptionClass\": \"\", \"trace\": \"\", \"outcomeType\": 4}}, \"*\")"
      ],
      "text/plain": [
       "<IPython.core.display.Javascript object>"
      ]
     },
     "metadata": {},
     "output_type": "display_data"
    },
    {
     "data": {
      "text/markdown": [
       "<span style=\"color:#3366cc\">Hint:</span> You will call get_mae in the loop. You'll need to map the names of your data structure to the names in get_mae"
      ],
      "text/plain": [
       "Hint: You will call get_mae in the loop. You'll need to map the names of your data structure to the names in get_mae"
      ]
     },
     "metadata": {},
     "output_type": "display_data"
    }
   ],
   "source": [
    "# The lines below will show you a hint or the solution.\n",
    "step_1.hint() \n",
    "#step_1.solution()"
   ]
  },
  {
   "cell_type": "markdown",
   "id": "south-peoples",
   "metadata": {
    "papermill": {
     "duration": 0.014006,
     "end_time": "2021-04-13T20:39:23.564577",
     "exception": false,
     "start_time": "2021-04-13T20:39:23.550571",
     "status": "completed"
    },
    "tags": []
   },
   "source": [
    "## Step 2: Fit Model Using All Data\n",
    "You know the best tree size. If you were going to deploy this model in practice, you would make it even more accurate by using all of the data and keeping that tree size.  That is, you don't need to hold out the validation data now that you've made all your modeling decisions."
   ]
  },
  {
   "cell_type": "code",
   "execution_count": 6,
   "id": "aging-emission",
   "metadata": {
    "execution": {
     "iopub.execute_input": "2021-04-13T20:39:23.601601Z",
     "iopub.status.busy": "2021-04-13T20:39:23.600690Z",
     "iopub.status.idle": "2021-04-13T20:39:23.617199Z",
     "shell.execute_reply": "2021-04-13T20:39:23.616689Z"
    },
    "papermill": {
     "duration": 0.038595,
     "end_time": "2021-04-13T20:39:23.617373",
     "exception": false,
     "start_time": "2021-04-13T20:39:23.578778",
     "status": "completed"
    },
    "tags": []
   },
   "outputs": [
    {
     "name": "stdout",
     "output_type": "stream",
     "text": [
      "The predictions are: [209133.65384615 146415.0075188  209133.65384615 ... 238763.63636364\n",
      " 130629.         146415.0075188 ]\n"
     ]
    },
    {
     "data": {
      "application/javascript": [
       "parent.postMessage({\"jupyterEvent\": \"custom.exercise_interaction\", \"data\": {\"outcomeType\": 1, \"valueTowardsCompletion\": 0.5, \"interactionType\": 1, \"questionType\": 2, \"questionId\": \"2_FitModelWithAllData\", \"learnToolsVersion\": \"0.3.4\", \"failureMessage\": \"\", \"exceptionClass\": \"\", \"trace\": \"\"}}, \"*\")"
      ],
      "text/plain": [
       "<IPython.core.display.Javascript object>"
      ]
     },
     "metadata": {},
     "output_type": "display_data"
    },
    {
     "data": {
      "text/markdown": [
       "<span style=\"color:#33cc33\">Correct</span>"
      ],
      "text/plain": [
       "Correct"
      ]
     },
     "metadata": {},
     "output_type": "display_data"
    }
   ],
   "source": [
    "# Fill in argument to make optimal size and uncomment\n",
    "final_model = DecisionTreeRegressor(max_leaf_nodes=best_tree_size, random_state=1)\n",
    "\n",
    "# Fit the final model and uncomment the next two lines\n",
    "final_model.fit(X, y)\n",
    "\n",
    "predictions = final_model.predict(X)\n",
    "print(\"The predictions are:\", predictions)\n",
    "\n",
    "# Check your answer\n",
    "step_2.check()"
   ]
  },
  {
   "cell_type": "code",
   "execution_count": 7,
   "id": "directed-policy",
   "metadata": {
    "execution": {
     "iopub.execute_input": "2021-04-13T20:39:23.651866Z",
     "iopub.status.busy": "2021-04-13T20:39:23.651323Z",
     "iopub.status.idle": "2021-04-13T20:39:23.655583Z",
     "shell.execute_reply": "2021-04-13T20:39:23.656114Z"
    },
    "papermill": {
     "duration": 0.023683,
     "end_time": "2021-04-13T20:39:23.656281",
     "exception": false,
     "start_time": "2021-04-13T20:39:23.632598",
     "status": "completed"
    },
    "tags": []
   },
   "outputs": [
    {
     "data": {
      "application/javascript": [
       "parent.postMessage({\"jupyterEvent\": \"custom.exercise_interaction\", \"data\": {\"interactionType\": 2, \"questionType\": 2, \"questionId\": \"2_FitModelWithAllData\", \"learnToolsVersion\": \"0.3.4\", \"valueTowardsCompletion\": 0.0, \"failureMessage\": \"\", \"exceptionClass\": \"\", \"trace\": \"\", \"outcomeType\": 4}}, \"*\")"
      ],
      "text/plain": [
       "<IPython.core.display.Javascript object>"
      ]
     },
     "metadata": {},
     "output_type": "display_data"
    },
    {
     "data": {
      "text/markdown": [
       "<span style=\"color:#3366cc\">Hint:</span> Fit with the ideal value of max_leaf_nodes. In the fit step, use all of the data in the dataset"
      ],
      "text/plain": [
       "Hint: Fit with the ideal value of max_leaf_nodes. In the fit step, use all of the data in the dataset"
      ]
     },
     "metadata": {},
     "output_type": "display_data"
    }
   ],
   "source": [
    "step_2.hint()\n",
    "#step_2.solution()"
   ]
  },
  {
   "cell_type": "markdown",
   "id": "destroyed-spread",
   "metadata": {
    "papermill": {
     "duration": 0.016533,
     "end_time": "2021-04-13T20:39:23.688993",
     "exception": false,
     "start_time": "2021-04-13T20:39:23.672460",
     "status": "completed"
    },
    "tags": []
   },
   "source": [
    "You've tuned this model and improved your results. But we are still using Decision Tree models, which are not very sophisticated by modern machine learning standards. In the next step you will learn to use Random Forests to improve your models even more.\n",
    "\n",
    "# Keep Going\n",
    "\n",
    "You are ready for **[Random Forests](https://www.kaggle.com/dansbecker/random-forests).**\n"
   ]
  },
  {
   "cell_type": "markdown",
   "id": "obvious-begin",
   "metadata": {
    "papermill": {
     "duration": 0.015997,
     "end_time": "2021-04-13T20:39:23.721619",
     "exception": false,
     "start_time": "2021-04-13T20:39:23.705622",
     "status": "completed"
    },
    "tags": []
   },
   "source": [
    "---\n",
    "\n",
    "\n",
    "\n",
    "\n",
    "*Have questions or comments? Visit the [Learn Discussion forum](https://www.kaggle.com/learn-forum/161285) to chat with other Learners.*"
   ]
  }
 ],
 "metadata": {
  "kernelspec": {
   "display_name": "Python 3",
   "language": "python",
   "name": "python3"
  },
  "language_info": {
   "codemirror_mode": {
    "name": "ipython",
    "version": 3
   },
   "file_extension": ".py",
   "mimetype": "text/x-python",
   "name": "python",
   "nbconvert_exporter": "python",
   "pygments_lexer": "ipython3",
   "version": "3.7.9"
  },
  "papermill": {
   "default_parameters": {},
   "duration": 8.24083,
   "end_time": "2021-04-13T20:39:24.346194",
   "environment_variables": {},
   "exception": null,
   "input_path": "__notebook__.ipynb",
   "output_path": "__notebook__.ipynb",
   "parameters": {},
   "start_time": "2021-04-13T20:39:16.105364",
   "version": "2.3.2"
  }
 },
 "nbformat": 4,
 "nbformat_minor": 5
}
